{
 "cells": [
  {
   "cell_type": "code",
   "execution_count": 209,
   "id": "8e1c0d1d-0fd8-4861-9b05-bdf8d3ab7a15",
   "metadata": {
    "execution": {
     "iopub.execute_input": "2022-05-03T08:36:43.839445Z",
     "iopub.status.busy": "2022-05-03T08:36:43.835197Z",
     "iopub.status.idle": "2022-05-03T08:36:43.898829Z",
     "shell.execute_reply": "2022-05-03T08:36:43.897898Z",
     "shell.execute_reply.started": "2022-05-03T08:36:43.839362Z"
    },
    "tags": []
   },
   "outputs": [],
   "source": [
    "import pickle\n",
    "import pandas as pd\n",
    "from sklearn.decomposition import PCA\n",
    "from sklearn.metrics import mean_squared_error as mse\n",
    "\n",
    "from matplotlib import cm\n",
    "import matplotlib.pyplot as plt\n",
    "import numpy as np\n",
    "\n",
    "from tqdm.notebook import tqdm\n",
    "\n",
    "import torch\n",
    "import torch.nn as nn\n",
    "import torch.optim as optim"
   ]
  },
  {
   "cell_type": "code",
   "execution_count": 8,
   "id": "9e9f7f4f-23da-4a54-ae07-016160c67fe1",
   "metadata": {
    "execution": {
     "iopub.execute_input": "2022-04-29T22:10:38.900987Z",
     "iopub.status.busy": "2022-04-29T22:10:38.900754Z",
     "iopub.status.idle": "2022-04-29T22:10:49.673565Z",
     "shell.execute_reply": "2022-04-29T22:10:49.672569Z",
     "shell.execute_reply.started": "2022-04-29T22:10:38.900962Z"
    },
    "tags": []
   },
   "outputs": [],
   "source": [
    "with open('train_data.pkl', 'rb') as f:\n",
    "    test_data = pickle.load(f)\n",
    "\n",
    "with open('val_data.pkl', 'rb') as f:\n",
    "    val_data = pickle.load(f)\n",
    "\n",
    "with open('test_data.pkl', 'rb') as f:\n",
    "    train_data = pickle.load(f)"
   ]
  },
  {
   "cell_type": "code",
   "execution_count": 26,
   "id": "2b496876-da7e-4598-aedd-3472ac90b74b",
   "metadata": {
    "execution": {
     "iopub.execute_input": "2022-04-30T19:58:02.346230Z",
     "iopub.status.busy": "2022-04-30T19:58:02.345158Z",
     "iopub.status.idle": "2022-04-30T19:58:02.351487Z",
     "shell.execute_reply": "2022-04-30T19:58:02.350423Z",
     "shell.execute_reply.started": "2022-04-30T19:58:02.346178Z"
    },
    "tags": []
   },
   "outputs": [],
   "source": [
    "N_COMPONENTS = 3\n",
    "INPUT_STEP = 10\n",
    "OUTPUT_STEP = 1"
   ]
  },
  {
   "cell_type": "markdown",
   "id": "87c52e69-6586-424b-bdd8-48d51e871851",
   "metadata": {},
   "source": [
    "## PCA"
   ]
  },
  {
   "cell_type": "markdown",
   "id": "855250af-8236-4816-9651-482018d4e55a",
   "metadata": {},
   "source": [
    "### Try with multiple frame"
   ]
  },
  {
   "cell_type": "code",
   "execution_count": 3,
   "id": "c270a151-6da9-4858-ae46-6fffff688e1b",
   "metadata": {
    "execution": {
     "iopub.execute_input": "2022-04-29T22:10:11.484557Z",
     "iopub.status.busy": "2022-04-29T22:10:11.484257Z",
     "iopub.status.idle": "2022-04-29T22:10:11.488834Z",
     "shell.execute_reply": "2022-04-29T22:10:11.487506Z",
     "shell.execute_reply.started": "2022-04-29T22:10:11.484517Z"
    },
    "tags": []
   },
   "outputs": [],
   "source": [
    "pca = PCA(n_components=N_COMPONENTS)"
   ]
  },
  {
   "cell_type": "code",
   "execution_count": 10,
   "id": "c113ece4-29b8-4296-9425-afeb663c7214",
   "metadata": {
    "execution": {
     "iopub.execute_input": "2022-04-29T22:23:34.378510Z",
     "iopub.status.busy": "2022-04-29T22:23:34.378187Z",
     "iopub.status.idle": "2022-04-29T22:23:41.723263Z",
     "shell.execute_reply": "2022-04-29T22:23:41.722361Z",
     "shell.execute_reply.started": "2022-04-29T22:23:34.378477Z"
    },
    "tags": []
   },
   "outputs": [
    {
     "data": {
      "text/plain": [
       "PCA(n_components=3)"
      ]
     },
     "execution_count": 10,
     "metadata": {},
     "output_type": "execute_result"
    }
   ],
   "source": [
    "pca.fit(train_data)"
   ]
  },
  {
   "cell_type": "code",
   "execution_count": 11,
   "id": "45820507-9c1d-444a-8542-7047087b28f4",
   "metadata": {
    "execution": {
     "iopub.execute_input": "2022-04-29T22:23:41.725502Z",
     "iopub.status.busy": "2022-04-29T22:23:41.725066Z",
     "iopub.status.idle": "2022-04-29T22:23:41.737691Z",
     "shell.execute_reply": "2022-04-29T22:23:41.736619Z",
     "shell.execute_reply.started": "2022-04-29T22:23:41.725466Z"
    },
    "tags": []
   },
   "outputs": [
    {
     "data": {
      "text/plain": [
       "array([[ 0.08543325,  0.08543325,  0.08543323,  0.08543324,  0.08543325,\n",
       "         0.08543325,  0.08543324,  0.08543325,  0.08543325,  0.08543324,\n",
       "         0.08543324,  0.08543325,  0.08543325,  0.08543324,  0.08543325,\n",
       "         0.08543325,  0.08543326,  0.08543323,  0.08543326,  0.08543324,\n",
       "         0.08543325,  0.08543322,  0.08543325,  0.08543326,  0.08543324,\n",
       "         0.08543324,  0.08543324,  0.08543326,  0.08543324,  0.08543324,\n",
       "         0.08543325,  0.08543325,  0.08543324,  0.08543323,  0.08543325,\n",
       "         0.08543325,  0.08543323,  0.08543324,  0.08543325,  0.08543324,\n",
       "         0.08543324,  0.08543325,  0.08543326,  0.08543325,  0.08543324,\n",
       "         0.08543325,  0.08543326,  0.08543324,  0.08543323,  0.08543324,\n",
       "         0.08543326,  0.08543322,  0.08543325,  0.08543324,  0.08543326,\n",
       "         0.08543322,  0.08543325,  0.08543324,  0.08543325,  0.08543323,\n",
       "         0.08543325,  0.08543325,  0.08543325,  0.08543323,  0.08543325,\n",
       "         0.08543325,  0.08543323,  0.08543324,  0.08543325,  0.08543325,\n",
       "         0.08543324,  0.08543324,  0.08543326,  0.08543324,  0.08543324,\n",
       "         0.08543323,  0.08543325,  0.08543325,  0.08543324,  0.08543325,\n",
       "         0.08543326,  0.08543325,  0.08543324,  0.08543326,  0.08543326,\n",
       "         0.08543323,  0.08543325,  0.08543324,  0.08543326,  0.08543323,\n",
       "         0.08543325,  0.08543323,  0.08543325,  0.08543322,  0.08543326,\n",
       "         0.08543325,  0.08543326,  0.08543323,  0.08543326,  0.08543325,\n",
       "         0.08543324,  0.08543324,  0.08543325,  0.08543324,  0.08543324,\n",
       "         0.08543322,  0.08543326,  0.08543324,  0.08543324,  0.08543323,\n",
       "         0.08543326,  0.08543324,  0.08543324,  0.08543324,  0.08543326,\n",
       "         0.08543324,  0.08543325,  0.08543324,  0.08543326,  0.08543323,\n",
       "         0.08543325,  0.08543324,  0.08543327,  0.08543323,  0.08543326,\n",
       "         0.08543325,  0.08543327,  0.08543322,  0.08543326,  0.08543323,\n",
       "         0.08543326,  0.08543322,  0.08543326,  0.08543324,  0.08543326,\n",
       "         0.08543323,  0.00768045,  0.08543334],\n",
       "       [ 0.11056361, -0.04157783,  0.09137554, -0.0176397 ,  0.08441635,\n",
       "         0.09284028, -0.08039606,  0.011045  , -0.14897366, -0.07562896,\n",
       "        -0.10639678, -0.04279382,  0.0679788 , -0.04771662,  0.10785958,\n",
       "        -0.01179537,  0.11979786,  0.07753181,  0.06132378,  0.05539996,\n",
       "        -0.12554169, -0.09639453, -0.13785474, -0.01937778, -0.03014306,\n",
       "        -0.09167627,  0.07461427, -0.04465252,  0.1117256 ,  0.04352788,\n",
       "         0.10492958,  0.08881064, -0.04688003,  0.01243057, -0.1151299 ,\n",
       "        -0.01134786, -0.1319371 , -0.11877324,  0.00659121, -0.12773302,\n",
       "         0.10243353,  0.02447377,  0.12110325,  0.09560685,  0.05767638,\n",
       "         0.11265798, -0.0515597 ,  0.05394684, -0.14584474, -0.10917057,\n",
       "        -0.05652131, -0.15169024,  0.06501734, -0.09427248,  0.11488784,\n",
       "        -0.00705698,  0.08681803,  0.10621235,  0.01105419,  0.1022517 ,\n",
       "        -0.05622392, -0.0134833 , -0.0835155 , -0.15177886,  0.01817739,\n",
       "        -0.12817718,  0.05569659, -0.08373353,  0.09510491,  0.09404619,\n",
       "         0.04898121,  0.11901953,  0.00066069,  0.06510897, -0.08347216,\n",
       "        -0.1171686 , -0.02460072, -0.13380102,  0.010825  , -0.11360391,\n",
       "         0.06986912,  0.01506521,  0.06265815,  0.12266795,  0.06556054,\n",
       "         0.09277239, -0.01774645, -0.0007029 ,  0.02264381, -0.12026046,\n",
       "        -0.01780879, -0.15903248, -0.01424009, -0.13506059,  0.07957188,\n",
       "         0.10307207,  0.07123384,  0.10377111,  0.03887741,  0.10280112,\n",
       "         0.0107987 , -0.00079333,  0.0190247 , -0.1512138 , -0.06386865,\n",
       "        -0.15921452,  0.03893846, -0.01483136,  0.02993668,  0.06440691,\n",
       "         0.00483968,  0.11202245,  0.03457011,  0.10022537,  0.0769255 ,\n",
       "        -0.09606595,  0.03489304, -0.15755457,  0.00251092, -0.12869119,\n",
       "         0.01814154,  0.03816999, -0.00067962,  0.09960755,  0.04348481,\n",
       "         0.11949573,  0.1001724 , -0.02890869,  0.08183121, -0.15068871,\n",
       "         0.02912032, -0.15519515, -0.01301535, -0.06826158, -0.0403069 ,\n",
       "         0.07256178, -0.00168552,  0.00356202],\n",
       "       [ 0.10276842, -0.09390467,  0.07427223, -0.10791634,  0.01979169,\n",
       "         0.04205186, -0.04539486, -0.1037121 ,  0.13580229, -0.05099176,\n",
       "         0.00728366, -0.09123035, -0.02476002, -0.08586328,  0.09151423,\n",
       "        -0.110606  ,  0.13575625,  0.05868521, -0.03875199, -0.04374114,\n",
       "         0.07545523, -0.0144191 ,  0.10118889, -0.10117939, -0.10471385,\n",
       "        -0.02387562, -0.0058652 , -0.08091924,  0.12687786, -0.05218592,\n",
       "         0.08145909,  0.02850096, -0.08860573, -0.08629229,  0.05344725,\n",
       "        -0.11079432,  0.07300591,  0.0384563 , -0.10470093,  0.0634967 ,\n",
       "         0.10260589, -0.09303831,  0.14639633,  0.05509641, -0.01252218,\n",
       "         0.10927476, -0.0819104 , -0.0218331 ,  0.11335272,  0.01974168,\n",
       "        -0.06339408,  0.13112394, -0.02741352, -0.01356433,  0.11377514,\n",
       "        -0.07467335,  0.02319144,  0.0944755 , -0.10674005,  0.1055645 ,\n",
       "        -0.07955539, -0.10193769, -0.03963858,  0.13304588, -0.09481624,\n",
       "         0.08387028, -0.00668529, -0.03583936,  0.05353262,  0.04378145,\n",
       "        -0.02908039,  0.13909214, -0.10682538, -0.02681286, -0.0378509 ,\n",
       "         0.03599584, -0.10204584,  0.092535  , -0.08152122,  0.04221485,\n",
       "        -0.01050674, -0.09864465,  0.01146101,  0.1495697 , -0.02149218,\n",
       "         0.06434837, -0.10504494, -0.10466051, -0.08604425,  0.03939974,\n",
       "        -0.10946713,  0.16300748, -0.10728121,  0.07914691,  0.00489957,\n",
       "         0.07820711, -0.01817932,  0.10548935, -0.07387662,  0.07589089,\n",
       "        -0.0946671 , -0.08946668, -0.09599665,  0.14319336, -0.07059794,\n",
       "         0.16117751, -0.07234784, -0.10523519, -0.06640853,  0.00147543,\n",
       "        -0.10604261,  0.10607362, -0.05100854,  0.07164775, -0.00281321,\n",
       "        -0.00433506, -0.05582836,  0.15995536, -0.10547263,  0.06348333,\n",
       "        -0.07546695, -0.07010746, -0.09998502,  0.09403934, -0.06043273,\n",
       "         0.13793493,  0.06485324, -0.07870799,  0.01346677,  0.13419149,\n",
       "        -0.08511295,  0.14406536, -0.10479205, -0.05105018, -0.08648424,\n",
       "         0.03145205,  0.01522699,  0.12740137]])"
      ]
     },
     "execution_count": 11,
     "metadata": {},
     "output_type": "execute_result"
    }
   ],
   "source": [
    "pca.components_"
   ]
  },
  {
   "cell_type": "code",
   "execution_count": 12,
   "id": "57346984-cb55-4000-8abd-c7d1737f4ae1",
   "metadata": {
    "execution": {
     "iopub.execute_input": "2022-04-29T22:23:41.741224Z",
     "iopub.status.busy": "2022-04-29T22:23:41.740927Z",
     "iopub.status.idle": "2022-04-29T22:23:41.746856Z",
     "shell.execute_reply": "2022-04-29T22:23:41.745761Z",
     "shell.execute_reply.started": "2022-04-29T22:23:41.741195Z"
    },
    "tags": []
   },
   "outputs": [
    {
     "data": {
      "text/plain": [
       "array([8.27107338e+05, 1.36517215e-05, 4.00563914e-06])"
      ]
     },
     "execution_count": 12,
     "metadata": {},
     "output_type": "execute_result"
    }
   ],
   "source": [
    "pca.explained_variance_"
   ]
  },
  {
   "cell_type": "markdown",
   "id": "4f592706-2296-493e-9f56-342372c4fdf8",
   "metadata": {
    "execution": {
     "iopub.execute_input": "2022-02-13T16:00:53.051072Z",
     "iopub.status.busy": "2022-02-13T16:00:53.049904Z",
     "iopub.status.idle": "2022-02-13T16:00:53.055498Z",
     "shell.execute_reply": "2022-02-13T16:00:53.054439Z",
     "shell.execute_reply.started": "2022-02-13T16:00:53.051028Z"
    },
    "tags": []
   },
   "source": [
    "## Reconstructing the original data\n",
    "Since we have the eigenvalues and eigenvectors of the covariance matrix of the pressure data (PCA), we can reconstruct the original data."
   ]
  },
  {
   "cell_type": "code",
   "execution_count": 13,
   "id": "266e93be-c12d-4980-aaae-c0d89d36c119",
   "metadata": {
    "execution": {
     "iopub.execute_input": "2022-04-29T22:48:37.524339Z",
     "iopub.status.busy": "2022-04-29T22:48:37.523868Z",
     "iopub.status.idle": "2022-04-29T22:48:38.655215Z",
     "shell.execute_reply": "2022-04-29T22:48:38.653938Z",
     "shell.execute_reply.started": "2022-04-29T22:48:37.524291Z"
    },
    "tags": []
   },
   "outputs": [],
   "source": [
    "transformed_data = pca.transform(train_data)"
   ]
  },
  {
   "cell_type": "code",
   "execution_count": 14,
   "id": "0edd4b13-1e3f-4924-a630-f665ee898076",
   "metadata": {
    "execution": {
     "iopub.execute_input": "2022-04-29T22:48:38.755953Z",
     "iopub.status.busy": "2022-04-29T22:48:38.755619Z",
     "iopub.status.idle": "2022-04-29T22:48:40.756076Z",
     "shell.execute_reply": "2022-04-29T22:48:40.755194Z",
     "shell.execute_reply.started": "2022-04-29T22:48:38.755919Z"
    },
    "tags": []
   },
   "outputs": [],
   "source": [
    "reconstructed_sklearn = pca.inverse_transform(transformed_data)"
   ]
  },
  {
   "cell_type": "code",
   "execution_count": 16,
   "id": "e24371ad-c1ad-429c-ae96-3db65a6110f5",
   "metadata": {
    "execution": {
     "iopub.execute_input": "2022-04-29T22:48:57.052028Z",
     "iopub.status.busy": "2022-04-29T22:48:57.050475Z",
     "iopub.status.idle": "2022-04-29T22:49:00.406614Z",
     "shell.execute_reply": "2022-04-29T22:49:00.406087Z",
     "shell.execute_reply.started": "2022-04-29T22:48:57.051959Z"
    },
    "tags": []
   },
   "outputs": [
    {
     "data": {
      "text/plain": [
       "0.00028923178488159633"
      ]
     },
     "execution_count": 16,
     "metadata": {},
     "output_type": "execute_result"
    }
   ],
   "source": [
    "mse(reconstructed_sklearn, train_data, squared=False)"
   ]
  },
  {
   "cell_type": "markdown",
   "id": "dfcb5e5b-d63d-448e-a5ac-dff68b825ef8",
   "metadata": {},
   "source": [
    "## Learning based on transformed data"
   ]
  },
  {
   "cell_type": "code",
   "execution_count": 105,
   "id": "ecad95f5-3ed2-4396-86f7-54117331c808",
   "metadata": {
    "execution": {
     "iopub.execute_input": "2022-05-01T14:50:01.336481Z",
     "iopub.status.busy": "2022-05-01T14:50:01.336122Z",
     "iopub.status.idle": "2022-05-01T14:50:01.406475Z",
     "shell.execute_reply": "2022-05-01T14:50:01.405724Z",
     "shell.execute_reply.started": "2022-05-01T14:50:01.336447Z"
    },
    "tags": []
   },
   "outputs": [],
   "source": [
    "transformed_data = torch.Tensor(transformed_data.T)"
   ]
  },
  {
   "cell_type": "code",
   "execution_count": 135,
   "id": "291ab3ff-64ce-4db0-9078-2ab003c463d3",
   "metadata": {
    "execution": {
     "iopub.execute_input": "2022-05-01T15:41:55.175900Z",
     "iopub.status.busy": "2022-05-01T15:41:55.171343Z",
     "iopub.status.idle": "2022-05-01T15:41:55.211215Z",
     "shell.execute_reply": "2022-05-01T15:41:55.209965Z",
     "shell.execute_reply.started": "2022-05-01T15:41:55.175820Z"
    },
    "tags": []
   },
   "outputs": [],
   "source": [
    "# Training\n",
    "# 1 2 3 -> 4\n",
    "# 2 3 4 -> 5\n",
    "# Testing\n",
    "# 3 4 5 -> (6) todo mse of this step\n",
    "# 4 5 (6) -> (7) todo mse of this step\n",
    "# 5 (6) (7) -> (8) todo mse of this step\n",
    "# todo 5 is seen, so performance may be benefited from this"
   ]
  },
  {
   "cell_type": "code",
   "execution_count": 110,
   "id": "1b84ff23-566d-4eaf-8505-9e2fe097a86f",
   "metadata": {
    "execution": {
     "iopub.execute_input": "2022-05-01T14:51:53.530331Z",
     "iopub.status.busy": "2022-05-01T14:51:53.530015Z",
     "iopub.status.idle": "2022-05-01T14:51:53.535491Z",
     "shell.execute_reply": "2022-05-01T14:51:53.534353Z",
     "shell.execute_reply.started": "2022-05-01T14:51:53.530283Z"
    },
    "tags": []
   },
   "outputs": [],
   "source": [
    "srcs = transformed_data.unfold(1, INPUT_STEP, 1)"
   ]
  },
  {
   "cell_type": "code",
   "execution_count": 156,
   "id": "89cf6808-1672-4dbe-8cfe-bd7586cdbeb3",
   "metadata": {
    "execution": {
     "iopub.execute_input": "2022-05-01T18:16:55.888762Z",
     "iopub.status.busy": "2022-05-01T18:16:55.888457Z",
     "iopub.status.idle": "2022-05-01T18:16:55.895053Z",
     "shell.execute_reply": "2022-05-01T18:16:55.892928Z",
     "shell.execute_reply.started": "2022-05-01T18:16:55.888729Z"
    },
    "tags": []
   },
   "outputs": [],
   "source": [
    "tgts = transformed_data[:, INPUT_STEP:]"
   ]
  },
  {
   "cell_type": "code",
   "execution_count": 148,
   "id": "5fc12556-c667-4ab3-87a8-2261f28f430f",
   "metadata": {
    "execution": {
     "iopub.execute_input": "2022-05-01T18:15:34.050713Z",
     "iopub.status.busy": "2022-05-01T18:15:34.050446Z",
     "iopub.status.idle": "2022-05-01T18:15:34.057714Z",
     "shell.execute_reply": "2022-05-01T18:15:34.056243Z",
     "shell.execute_reply.started": "2022-05-01T18:15:34.050683Z"
    },
    "tags": []
   },
   "outputs": [
    {
     "data": {
      "text/plain": [
       "torch.Size([984912, 10])"
      ]
     },
     "execution_count": 148,
     "metadata": {},
     "output_type": "execute_result"
    }
   ],
   "source": [
    "srcs[0].shape"
   ]
  },
  {
   "cell_type": "code",
   "execution_count": 157,
   "id": "b84d7c9b-4d91-42ab-aa6e-b98abb986e6d",
   "metadata": {
    "execution": {
     "iopub.execute_input": "2022-05-01T18:16:58.727608Z",
     "iopub.status.busy": "2022-05-01T18:16:58.727266Z",
     "iopub.status.idle": "2022-05-01T18:16:58.738679Z",
     "shell.execute_reply": "2022-05-01T18:16:58.736377Z",
     "shell.execute_reply.started": "2022-05-01T18:16:58.727572Z"
    },
    "tags": []
   },
   "outputs": [
    {
     "data": {
      "text/plain": [
       "torch.Size([3, 984911])"
      ]
     },
     "execution_count": 157,
     "metadata": {},
     "output_type": "execute_result"
    }
   ],
   "source": [
    "tgts.shape"
   ]
  },
  {
   "cell_type": "code",
   "execution_count": 150,
   "id": "b23d5a1d-0957-46db-aaa9-2c0ec046c301",
   "metadata": {
    "execution": {
     "iopub.execute_input": "2022-05-01T18:15:36.291446Z",
     "iopub.status.busy": "2022-05-01T18:15:36.291097Z",
     "iopub.status.idle": "2022-05-01T18:15:36.302728Z",
     "shell.execute_reply": "2022-05-01T18:15:36.301420Z",
     "shell.execute_reply.started": "2022-05-01T18:15:36.291406Z"
    },
    "tags": []
   },
   "outputs": [
    {
     "data": {
      "text/plain": [
       "tensor([[-1003.5660,   -33.3699,  1431.9847,  ...,   901.2780,    27.1452,\n",
       "         -1398.3889],\n",
       "        [  -33.3699,  1431.9847, -1027.7018,  ...,    27.1452, -1398.3889,\n",
       "           281.4958],\n",
       "        [ 1431.9847, -1027.7018,   792.4210,  ..., -1398.3889,   281.4958,\n",
       "          1157.5013],\n",
       "        ...,\n",
       "        [  -96.8112, -1341.9706, -1127.2883,  ...,  -115.4223, -1476.8699,\n",
       "          -367.7948],\n",
       "        [-1341.9706, -1127.2883,   878.6872,  ..., -1476.8699,  -367.7948,\n",
       "          -231.1852],\n",
       "        [-1127.2883,   878.6872,   806.2330,  ...,  -367.7948,  -231.1852,\n",
       "         -1049.1104]])"
      ]
     },
     "execution_count": 150,
     "metadata": {},
     "output_type": "execute_result"
    }
   ],
   "source": [
    "srcs[0]"
   ]
  },
  {
   "cell_type": "code",
   "execution_count": 129,
   "id": "a8d0df71-87b9-4fb8-b66b-37dfdf8d58e6",
   "metadata": {
    "execution": {
     "iopub.execute_input": "2022-05-01T15:24:09.814974Z",
     "iopub.status.busy": "2022-05-01T15:24:09.814688Z",
     "iopub.status.idle": "2022-05-01T15:24:09.824167Z",
     "shell.execute_reply": "2022-05-01T15:24:09.822881Z",
     "shell.execute_reply.started": "2022-05-01T15:24:09.814941Z"
    },
    "tags": []
   },
   "outputs": [
    {
     "data": {
      "text/plain": [
       "(tensor([[-1.0036e+03, -3.3370e+01,  1.4320e+03, -1.0277e+03,  7.9242e+02,\n",
       "          -3.4004e+02, -7.5217e+02,  9.0128e+02,  2.7145e+01, -1.3984e+03],\n",
       "         [-5.5365e-04, -6.0106e-04, -6.7077e-04, -5.5244e-04, -6.4014e-04,\n",
       "          -5.8555e-04, -5.6565e-04, -6.4527e-04, -6.0434e-04, -5.3453e-04],\n",
       "         [-2.8339e-05,  2.0457e-06,  3.0842e-05, -2.9358e-05,  1.6483e-05,\n",
       "          -1.2228e-05, -2.2981e-05,  1.8214e-05,  6.9045e-06, -3.9138e-05]]),\n",
       " tensor([ 2.8150e+02, -6.1572e-04,  5.4138e-06]))"
      ]
     },
     "execution_count": 129,
     "metadata": {},
     "output_type": "execute_result"
    }
   ],
   "source": [
    "srcs[:, 0, :], tgts[:, 0]"
   ]
  },
  {
   "cell_type": "code",
   "execution_count": 130,
   "id": "d2868fa5-70ae-4871-bd11-134ba75b198f",
   "metadata": {
    "execution": {
     "iopub.execute_input": "2022-05-01T15:24:14.179059Z",
     "iopub.status.busy": "2022-05-01T15:24:14.178683Z",
     "iopub.status.idle": "2022-05-01T15:24:14.189119Z",
     "shell.execute_reply": "2022-05-01T15:24:14.187700Z",
     "shell.execute_reply.started": "2022-05-01T15:24:14.179018Z"
    },
    "tags": []
   },
   "outputs": [
    {
     "data": {
      "text/plain": [
       "(tensor([[-3.3370e+01,  1.4320e+03, -1.0277e+03,  7.9242e+02, -3.4004e+02,\n",
       "          -7.5217e+02,  9.0128e+02,  2.7145e+01, -1.3984e+03,  2.8150e+02],\n",
       "         [-6.0106e-04, -6.7077e-04, -5.5244e-04, -6.4014e-04, -5.8555e-04,\n",
       "          -5.6565e-04, -6.4527e-04, -6.0434e-04, -5.3453e-04, -6.1572e-04],\n",
       "         [ 2.0457e-06,  3.0842e-05, -2.9358e-05,  1.6483e-05, -1.2228e-05,\n",
       "          -2.2981e-05,  1.8214e-05,  6.9045e-06, -3.9138e-05,  5.4138e-06]]),\n",
       " tensor([ 1.1575e+03, -6.5779e-04,  2.6151e-05]))"
      ]
     },
     "execution_count": 130,
     "metadata": {},
     "output_type": "execute_result"
    }
   ],
   "source": [
    "srcs[:, 1, :], tgts[:, 1]"
   ]
  },
  {
   "cell_type": "code",
   "execution_count": 186,
   "id": "1f608e75-7c08-441f-9532-91b2eda284e0",
   "metadata": {
    "execution": {
     "iopub.execute_input": "2022-05-01T19:21:46.432150Z",
     "iopub.status.busy": "2022-05-01T19:21:46.431838Z",
     "iopub.status.idle": "2022-05-01T19:21:46.444280Z",
     "shell.execute_reply": "2022-05-01T19:21:46.443001Z",
     "shell.execute_reply.started": "2022-05-01T19:21:46.432116Z"
    },
    "tags": []
   },
   "outputs": [],
   "source": [
    "def train(model):\n",
    "    model.train()\n",
    "    loss = nn.MSELoss()\n",
    "    optimizer = optim.Adam(model.parameters(), lr=1e-10)\n",
    "    for epoch in range(3):  # loop over the dataset multiple times\n",
    "        for i in tqdm(range(srcs.shape[1]//100)):\n",
    "            optimizer.zero_grad()\n",
    "            running_loss = 0.0\n",
    "\n",
    "            src = srcs[:,i,:]\n",
    "            tgt = torch.unsqueeze(tgts[:,i], dim=0)\n",
    "\n",
    "            outputs, _ = model(src)\n",
    "            l = loss(outputs, tgt)\n",
    "            l.backward()\n",
    "            optimizer.step()\n",
    "\n",
    "            # print statistics\n",
    "            running_loss += l\n",
    "        print(f'[{epoch + 1}] loss: {running_loss / 2000:}')\n",
    "    return model  "
   ]
  },
  {
   "cell_type": "markdown",
   "id": "7a35607c-0012-4904-a8b4-1cda34bd91c7",
   "metadata": {
    "execution": {
     "iopub.execute_input": "2022-02-26T14:27:26.010466Z",
     "iopub.status.busy": "2022-02-26T14:27:26.008818Z",
     "iopub.status.idle": "2022-02-26T14:27:26.017085Z",
     "shell.execute_reply": "2022-02-26T14:27:26.014688Z",
     "shell.execute_reply.started": "2022-02-26T14:27:26.010413Z"
    },
    "tags": []
   },
   "source": [
    "### LSTM"
   ]
  },
  {
   "cell_type": "code",
   "execution_count": 187,
   "id": "9992697c-fd26-4c78-906d-a727e53f5fb6",
   "metadata": {
    "execution": {
     "iopub.execute_input": "2022-05-01T19:21:49.131634Z",
     "iopub.status.busy": "2022-05-01T19:21:49.131366Z",
     "iopub.status.idle": "2022-05-01T19:22:28.106103Z",
     "shell.execute_reply": "2022-05-01T19:22:28.105201Z",
     "shell.execute_reply.started": "2022-05-01T19:21:49.131605Z"
    },
    "tags": []
   },
   "outputs": [
    {
     "data": {
      "application/vnd.jupyter.widget-view+json": {
       "model_id": "45eb7b8c9376416ea0c6b0c992e00a07",
       "version_major": 2,
       "version_minor": 0
      },
      "text/plain": [
       "  0%|          | 0/9849 [00:00<?, ?it/s]"
      ]
     },
     "metadata": {},
     "output_type": "display_data"
    },
    {
     "name": "stdout",
     "output_type": "stream",
     "text": [
      "[1] loss: 334.6110534667969\n"
     ]
    },
    {
     "data": {
      "application/vnd.jupyter.widget-view+json": {
       "model_id": "30800afa1ef0489e84cdb209145d9b1e",
       "version_major": 2,
       "version_minor": 0
      },
      "text/plain": [
       "  0%|          | 0/9849 [00:00<?, ?it/s]"
      ]
     },
     "metadata": {},
     "output_type": "display_data"
    },
    {
     "name": "stdout",
     "output_type": "stream",
     "text": [
      "[2] loss: 334.6110534667969\n"
     ]
    },
    {
     "data": {
      "application/vnd.jupyter.widget-view+json": {
       "model_id": "755c1f6880eb46408a9367369e885eb0",
       "version_major": 2,
       "version_minor": 0
      },
      "text/plain": [
       "  0%|          | 0/9849 [00:00<?, ?it/s]"
      ]
     },
     "metadata": {},
     "output_type": "display_data"
    },
    {
     "name": "stdout",
     "output_type": "stream",
     "text": [
      "[3] loss: 334.6110534667969\n"
     ]
    }
   ],
   "source": [
    "lstm = nn.LSTM(INPUT_STEP, OUTPUT_STEP, 2)\n",
    "lstm = train(lstm)"
   ]
  },
  {
   "cell_type": "code",
   "execution_count": 28,
   "id": "8ee56898-5aeb-4714-bc11-888dac0641c7",
   "metadata": {
    "execution": {
     "iopub.execute_input": "2022-03-08T13:30:48.871557Z",
     "iopub.status.busy": "2022-03-08T13:30:48.871138Z",
     "iopub.status.idle": "2022-03-08T13:30:48.884166Z",
     "shell.execute_reply": "2022-03-08T13:30:48.882638Z",
     "shell.execute_reply.started": "2022-03-08T13:30:48.871521Z"
    },
    "tags": []
   },
   "outputs": [
    {
     "name": "stdout",
     "output_type": "stream",
     "text": [
      "(5, 3)\n",
      "torch.Size([1, 3, 1])\n",
      "(6, 3)\n",
      "torch.Size([1, 3, 1])\n",
      "(7, 3)\n",
      "torch.Size([1, 3, 1])\n"
     ]
    }
   ],
   "source": [
    "lstm.eval()\n",
    "lstm_eval = transformed_data.copy()\n",
    "for i in range(4, p_data.shape[1]-1):\n",
    "    print(lstm_eval.shape)\n",
    "    predict, _ = lstm(torch.unsqueeze(torch.FloatTensor(lstm_eval[-2-INPUT_STEP:-2]), 0))                               \n",
    "    print(predict.shape)\n",
    "    lstm_eval = np.append(lstm_eval, predict.squeeze(2).detach().numpy(), axis=0)  # append prediction "
   ]
  },
  {
   "cell_type": "code",
   "execution_count": 29,
   "id": "ed79eb72-a0b0-49c8-9a68-796d0e757a4b",
   "metadata": {
    "execution": {
     "iopub.execute_input": "2022-03-08T13:30:48.886884Z",
     "iopub.status.busy": "2022-03-08T13:30:48.886127Z",
     "iopub.status.idle": "2022-03-08T13:30:50.458627Z",
     "shell.execute_reply": "2022-03-08T13:30:50.457792Z",
     "shell.execute_reply.started": "2022-03-08T13:30:48.886815Z"
    },
    "tags": []
   },
   "outputs": [
    {
     "name": "stdout",
     "output_type": "stream",
     "text": [
      "0.004563250385318567\n"
     ]
    }
   ],
   "source": [
    "reconstruct(lstm_eval)"
   ]
  },
  {
   "cell_type": "markdown",
   "id": "97d52acf-980e-402a-85a0-b72b5fddbcb3",
   "metadata": {},
   "source": [
    "### Transformer"
   ]
  },
  {
   "cell_type": "markdown",
   "id": "d922182e-aa1c-42b7-8f65-164eddf3c6a0",
   "metadata": {},
   "source": [
    "We will learn based on this transformed data"
   ]
  },
  {
   "cell_type": "code",
   "execution_count": 32,
   "id": "bbd1a75d-5568-497c-827e-8cd4794ae1d9",
   "metadata": {
    "execution": {
     "iopub.execute_input": "2022-03-08T13:30:50.479071Z",
     "iopub.status.busy": "2022-03-08T13:30:50.478589Z",
     "iopub.status.idle": "2022-03-08T13:30:50.514787Z",
     "shell.execute_reply": "2022-03-08T13:30:50.513557Z",
     "shell.execute_reply.started": "2022-03-08T13:30:50.479034Z"
    },
    "tags": []
   },
   "outputs": [],
   "source": [
    "reconstructed_sklearn = pca.inverse_transform(np.random.random((10,3)))"
   ]
  },
  {
   "cell_type": "code",
   "execution_count": 33,
   "id": "e4c6e3d3-fff2-4eba-8702-985b9cd049e9",
   "metadata": {
    "execution": {
     "iopub.execute_input": "2022-03-08T13:30:50.516468Z",
     "iopub.status.busy": "2022-03-08T13:30:50.516186Z",
     "iopub.status.idle": "2022-03-08T13:30:50.523068Z",
     "shell.execute_reply": "2022-03-08T13:30:50.521969Z",
     "shell.execute_reply.started": "2022-03-08T13:30:50.516429Z"
    },
    "tags": []
   },
   "outputs": [
    {
     "data": {
      "text/plain": [
       "((10, 272551), (5, 272551))"
      ]
     },
     "execution_count": 33,
     "metadata": {},
     "output_type": "execute_result"
    }
   ],
   "source": [
    "reconstructed_sklearn.shape, p_learn.shape"
   ]
  },
  {
   "cell_type": "code",
   "execution_count": 190,
   "id": "b305ffcd-f110-41b2-ae16-ec836490b414",
   "metadata": {
    "execution": {
     "iopub.execute_input": "2022-05-01T19:23:26.967312Z",
     "iopub.status.busy": "2022-05-01T19:23:26.967016Z",
     "iopub.status.idle": "2022-05-01T19:23:26.977540Z",
     "shell.execute_reply": "2022-05-01T19:23:26.975987Z",
     "shell.execute_reply.started": "2022-05-01T19:23:26.967280Z"
    },
    "tags": []
   },
   "outputs": [],
   "source": [
    "device = torch.device(\"cuda\" if torch.cuda.is_available() else \"cpu\")"
   ]
  },
  {
   "cell_type": "code",
   "execution_count": 210,
   "id": "b7f049e8-c76a-44d7-b116-37716d4af645",
   "metadata": {
    "execution": {
     "iopub.execute_input": "2022-05-03T08:37:48.878278Z",
     "iopub.status.busy": "2022-05-03T08:37:48.877991Z",
     "iopub.status.idle": "2022-05-03T08:37:49.104906Z",
     "shell.execute_reply": "2022-05-03T08:37:49.103651Z",
     "shell.execute_reply.started": "2022-05-03T08:37:48.878245Z"
    },
    "tags": []
   },
   "outputs": [],
   "source": [
    "loss = nn.MSELoss()\n",
    "transformer_model = nn.Transformer(nhead=N_COMPONENTS, num_encoder_layers=32,   # d_model divisible by nhead\n",
    "                                   d_model=N_COMPONENTS, batch_first=True).to(device)\n",
    "optimizer = optim.Adam(transformer_model.parameters(), lr=0.0001)"
   ]
  },
  {
   "cell_type": "code",
   "execution_count": 211,
   "id": "c95eb565-ed0c-48b1-9659-db40a6609667",
   "metadata": {
    "execution": {
     "iopub.execute_input": "2022-05-03T08:37:51.371220Z",
     "iopub.status.busy": "2022-05-03T08:37:51.370875Z",
     "iopub.status.idle": "2022-05-03T08:37:51.382660Z",
     "shell.execute_reply": "2022-05-03T08:37:51.381160Z",
     "shell.execute_reply.started": "2022-05-03T08:37:51.371181Z"
    },
    "tags": []
   },
   "outputs": [],
   "source": [
    "def train_tf(model):\n",
    "    model.train()\n",
    "    loss = nn.MSELoss()\n",
    "    optimizer = optim.Adam(model.parameters(), lr=1e-8)\n",
    "    for epoch in range(3):  # loop over the dataset multiple times\n",
    "        for i in tqdm(range(srcs.shape[1]//100)):\n",
    "            optimizer.zero_grad()\n",
    "            running_loss = 0.0\n",
    "\n",
    "            src = srcs[:,i,:].T\n",
    "            tgt = torch.unsqueeze(tgts[:,i], dim=0)\n",
    "            outputs = model(src, tgt)\n",
    "            l = loss(outputs, tgt)\n",
    "            l.backward()\n",
    "            optimizer.step()\n",
    "\n",
    "            # print statistics\n",
    "            running_loss += l\n",
    "        print(f'[{epoch + 1}] loss: {running_loss / 2000:}')\n",
    "    return model  "
   ]
  },
  {
   "cell_type": "code",
   "execution_count": null,
   "id": "9fde9e67-b8ca-488c-85eb-0dab20b06c3f",
   "metadata": {
    "execution": {
     "iopub.execute_input": "2022-05-03T08:37:54.627642Z",
     "iopub.status.busy": "2022-05-03T08:37:54.627307Z"
    },
    "tags": []
   },
   "outputs": [
    {
     "data": {
      "application/vnd.jupyter.widget-view+json": {
       "model_id": "414a0d265c5b4c5aad86c6aba68da5c8",
       "version_major": 2,
       "version_minor": 0
      },
      "text/plain": [
       "  0%|          | 0/9849 [00:00<?, ?it/s]"
      ]
     },
     "metadata": {},
     "output_type": "display_data"
    },
    {
     "name": "stdout",
     "output_type": "stream",
     "text": [
      "[1] loss: 334.14703369140625\n"
     ]
    },
    {
     "data": {
      "application/vnd.jupyter.widget-view+json": {
       "model_id": "efd7cab171744b44b9845905b3e6a694",
       "version_major": 2,
       "version_minor": 0
      },
      "text/plain": [
       "  0%|          | 0/9849 [00:00<?, ?it/s]"
      ]
     },
     "metadata": {},
     "output_type": "display_data"
    }
   ],
   "source": [
    "transformer_model = train_tf(transformer_model)"
   ]
  },
  {
   "cell_type": "markdown",
   "id": "093f8a50-5a09-4712-a938-344a0b93781e",
   "metadata": {},
   "source": [
    "## Reconstruct "
   ]
  },
  {
   "cell_type": "code",
   "execution_count": 37,
   "id": "8cf39dc1-b047-4d40-a547-d4d73cd885cd",
   "metadata": {
    "execution": {
     "iopub.execute_input": "2022-03-08T13:30:50.586599Z",
     "iopub.status.busy": "2022-03-08T13:30:50.586304Z",
     "iopub.status.idle": "2022-03-08T13:30:50.592874Z",
     "shell.execute_reply": "2022-03-08T13:30:50.591711Z",
     "shell.execute_reply.started": "2022-03-08T13:30:50.586568Z"
    },
    "tags": []
   },
   "outputs": [
    {
     "data": {
      "text/plain": [
       "pandas.core.frame.DataFrame"
      ]
     },
     "execution_count": 37,
     "metadata": {},
     "output_type": "execute_result"
    }
   ],
   "source": [
    "type(p_data)"
   ]
  },
  {
   "cell_type": "code",
   "execution_count": 38,
   "id": "d533a267-0305-4371-a723-d0a1c7b632af",
   "metadata": {
    "execution": {
     "iopub.execute_input": "2022-03-08T13:30:50.594637Z",
     "iopub.status.busy": "2022-03-08T13:30:50.594294Z",
     "iopub.status.idle": "2022-03-08T13:30:50.601595Z",
     "shell.execute_reply": "2022-03-08T13:30:50.600652Z",
     "shell.execute_reply.started": "2022-03-08T13:30:50.594597Z"
    },
    "tags": []
   },
   "outputs": [
    {
     "data": {
      "text/plain": [
       "(5, 3)"
      ]
     },
     "execution_count": 38,
     "metadata": {},
     "output_type": "execute_result"
    }
   ],
   "source": [
    "transformed_data.shape"
   ]
  },
  {
   "cell_type": "code",
   "execution_count": 39,
   "id": "c066ac37-9111-4e41-980d-9861d418da57",
   "metadata": {
    "execution": {
     "iopub.execute_input": "2022-03-08T13:30:50.603428Z",
     "iopub.status.busy": "2022-03-08T13:30:50.603096Z",
     "iopub.status.idle": "2022-03-08T13:30:50.645692Z",
     "shell.execute_reply": "2022-03-08T13:30:50.644935Z",
     "shell.execute_reply.started": "2022-03-08T13:30:50.603370Z"
    },
    "tags": []
   },
   "outputs": [
    {
     "name": "stdout",
     "output_type": "stream",
     "text": [
      "(5, 3)\n",
      "torch.Size([1, 1, 3])\n",
      "(6, 3)\n",
      "torch.Size([1, 1, 3])\n",
      "(7, 3)\n",
      "torch.Size([1, 1, 3])\n"
     ]
    }
   ],
   "source": [
    "transformer_model.eval()\n",
    "transformer_eval = transformed_data.copy()\n",
    "for i in range(4, p_data.shape[1]-1):\n",
    "    print(transformer_eval.shape)\n",
    "    predict = transformer_model(torch.unsqueeze(torch.FloatTensor(transformer_eval[-2-INPUT_STEP:-2]), 0),  # INPUT_STEP steps before\n",
    "                               torch.unsqueeze(torch.FloatTensor(transformer_eval[-1:]), 0))\n",
    "    print(predict.shape)\n",
    "    transformer_eval = np.append(transformer_eval, predict[0].detach().numpy(), axis=0)  # append prediction and "
   ]
  },
  {
   "cell_type": "code",
   "execution_count": 40,
   "id": "86032518-f88d-4826-955a-0bdcb777affe",
   "metadata": {
    "execution": {
     "iopub.execute_input": "2022-03-08T13:30:50.647306Z",
     "iopub.status.busy": "2022-03-08T13:30:50.646920Z",
     "iopub.status.idle": "2022-03-08T13:30:50.653337Z",
     "shell.execute_reply": "2022-03-08T13:30:50.652337Z",
     "shell.execute_reply.started": "2022-03-08T13:30:50.647265Z"
    },
    "tags": []
   },
   "outputs": [
    {
     "data": {
      "text/plain": [
       "(8, 3)"
      ]
     },
     "execution_count": 40,
     "metadata": {},
     "output_type": "execute_result"
    }
   ],
   "source": [
    "transformer_eval.shape"
   ]
  },
  {
   "cell_type": "code",
   "execution_count": 41,
   "id": "8bc5a28b-f84b-4119-a564-d0a48d39dbb1",
   "metadata": {
    "execution": {
     "iopub.execute_input": "2022-03-08T13:30:50.655601Z",
     "iopub.status.busy": "2022-03-08T13:30:50.655319Z",
     "iopub.status.idle": "2022-03-08T13:30:52.254135Z",
     "shell.execute_reply": "2022-03-08T13:30:52.253145Z",
     "shell.execute_reply.started": "2022-03-08T13:30:50.655571Z"
    },
    "tags": []
   },
   "outputs": [
    {
     "name": "stdout",
     "output_type": "stream",
     "text": [
      "0.006454510468586365\n"
     ]
    }
   ],
   "source": [
    "reconstruct(transformer_eval)"
   ]
  },
  {
   "cell_type": "markdown",
   "id": "6d9ed1b3-c2a4-4ed3-a4fb-d7c58224bb97",
   "metadata": {},
   "source": [
    "todo\n",
    "\n",
    "10s\n",
    "10.1s\n",
    "10.2s\n",
    "\n",
    "a common algo to reduce dim, pca. \n",
    "- look at robustness for prediction further in time.\n",
    "    - how to get more data simscale. Horizon 8 hours, train 6h, predict 2h. First step 10 mins\n",
    "        - Increase data slowly, see the limit of ML methods\n",
    "        - Tradition ML (lstm, transformers) will have problem. How long can we predict using this?\n",
    "            - Change ML approach maybe to operator inference"
   ]
  }
 ],
 "metadata": {
  "kernelspec": {
   "display_name": "Python 3",
   "language": "python",
   "name": "python3"
  },
  "language_info": {
   "codemirror_mode": {
    "name": "ipython",
    "version": 3
   },
   "file_extension": ".py",
   "mimetype": "text/x-python",
   "name": "python",
   "nbconvert_exporter": "python",
   "pygments_lexer": "ipython3",
   "version": "3.7.9"
  }
 },
 "nbformat": 4,
 "nbformat_minor": 5
}
