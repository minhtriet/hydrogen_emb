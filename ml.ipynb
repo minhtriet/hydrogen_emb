{
 "cells": [
  {
   "cell_type": "code",
   "execution_count": 1,
   "id": "8e1c0d1d-0fd8-4861-9b05-bdf8d3ab7a15",
   "metadata": {
    "tags": []
   },
   "outputs": [],
   "source": [
    "import pickle\n",
    "import pandas as pd\n",
    "from sklearn.decomposition import PCA\n",
    "from sklearn.metrics import mean_squared_error as mse\n",
    "from torch.utils.data import DataLoader\n",
    "from matplotlib import cm\n",
    "import matplotlib.pyplot as plt\n",
    "import numpy as np\n",
    "\n",
    "from tqdm.notebook import tqdm\n",
    "\n",
    "import torch\n",
    "import torch.nn as nn\n",
    "import torch.nn.functional as F\n",
    "import torch.optim as optim"
   ]
  },
  {
   "cell_type": "code",
   "execution_count": 2,
   "id": "236631e0-905a-42f8-8dc7-72e0acd5cd72",
   "metadata": {},
   "outputs": [],
   "source": [
    "device = torch.device(\"cuda\" if torch.cuda.is_available() else \"cpu\")"
   ]
  },
  {
   "cell_type": "code",
   "execution_count": 3,
   "id": "9e9f7f4f-23da-4a54-ae07-016160c67fe1",
   "metadata": {
    "tags": []
   },
   "outputs": [],
   "source": [
    "with open('train_data.pkl', 'rb') as f:\n",
    "    train_data = pickle.load(f)\n",
    "\n",
    "with open('val_data.pkl', 'rb') as f:\n",
    "    val_data = pickle.load(f)\n",
    "\n",
    "with open('test_data.pkl', 'rb') as f:\n",
    "    test_data = pickle.load(f)"
   ]
  },
  {
   "cell_type": "code",
   "execution_count": 63,
   "id": "2b496876-da7e-4598-aedd-3472ac90b74b",
   "metadata": {
    "tags": []
   },
   "outputs": [],
   "source": [
    "N_COMPONENTS = 3\n",
    "INPUT_STEP = 10\n",
    "OUTPUT_STEP = 1\n",
    "BATCH_SIZE = 8"
   ]
  },
  {
   "cell_type": "markdown",
   "id": "87c52e69-6586-424b-bdd8-48d51e871851",
   "metadata": {},
   "source": [
    "## PCA"
   ]
  },
  {
   "cell_type": "markdown",
   "id": "855250af-8236-4816-9651-482018d4e55a",
   "metadata": {},
   "source": [
    "### Try with multiple frame"
   ]
  },
  {
   "cell_type": "code",
   "execution_count": 5,
   "id": "c270a151-6da9-4858-ae46-6fffff688e1b",
   "metadata": {
    "tags": []
   },
   "outputs": [],
   "source": [
    "pca = PCA(n_components=N_COMPONENTS)"
   ]
  },
  {
   "cell_type": "code",
   "execution_count": 6,
   "id": "c113ece4-29b8-4296-9425-afeb663c7214",
   "metadata": {
    "tags": []
   },
   "outputs": [
    {
     "data": {
      "text/plain": [
       "PCA(n_components=3)"
      ]
     },
     "execution_count": 6,
     "metadata": {},
     "output_type": "execute_result"
    }
   ],
   "source": [
    "pca.fit(train_data)"
   ]
  },
  {
   "cell_type": "code",
   "execution_count": 7,
   "id": "45820507-9c1d-444a-8542-7047087b28f4",
   "metadata": {
    "tags": []
   },
   "outputs": [
    {
     "data": {
      "text/plain": [
       "array([[ 0.22228766,  0.14876979,  0.10380687,  0.08584069,  0.07661014,\n",
       "         0.07090557,  0.06700337,  0.0643168 ,  0.06277027,  0.06241932,\n",
       "         0.06316392,  0.06451598,  0.06605107,  0.06751989,  0.06881513,\n",
       "         0.06991322,  0.07082615,  0.07157469,  0.07218154,  0.07266664,\n",
       "         0.07304902,  0.07334518,  0.07357087,  0.07373892,  0.07386177,\n",
       "         0.07394961,  0.07401102,  0.07405275,  0.07408023,  0.07409766,\n",
       "         0.07410806,  0.07411363,  0.07411634,  0.07411711,  0.07411706,\n",
       "         0.07411669,  0.07411649,  0.07411653,  0.07411701,  0.07411797,\n",
       "         0.07411934,  0.07412097,  0.07412291,  0.07412504,  0.07412734,\n",
       "         0.07412976,  0.07413223,  0.07413475,  0.07413721,  0.07413968,\n",
       "         0.07414198,  0.0741442 ,  0.07414646,  0.07414856,  0.07415058,\n",
       "         0.07415237,  0.07415421,  0.07415588,  0.07415759,  0.07415919,\n",
       "         0.07416074,  0.07416213,  0.07416352,  0.07416479,  0.07416597,\n",
       "         0.07416706,  0.07416813,  0.07416912,  0.07417006,  0.07417089,\n",
       "         0.07417174,  0.07417251,  0.07417323,  0.07417392,  0.07417459,\n",
       "         0.0741752 ,  0.07417578,  0.07417631,  0.07417686,  0.07417736,\n",
       "         0.07417781,  0.07417824,  0.07417869,  0.07417912,  0.0741795 ,\n",
       "         0.07417986,  0.07418019,  0.07418048,  0.07418081,  0.07418108,\n",
       "         0.07418138,  0.07418161,  0.0741819 ,  0.0741821 ,  0.07418235,\n",
       "         0.07418251,  0.07418271,  0.0741829 ,  0.07418307,  0.07418322,\n",
       "         0.07418337,  0.0741835 ,  0.07418365,  0.07418373,  0.07418388,\n",
       "         0.07418398,  0.07418411,  0.07418419,  0.07418436,  0.07418448,\n",
       "         0.07418457,  0.07418462,  0.0741847 ,  0.07418476,  0.07418482,\n",
       "         0.07418489,  0.07418492,  0.07418492,  0.07418495,  0.07418499,\n",
       "         0.07418505,  0.0741851 ,  0.07418515,  0.07418521,  0.07418525,\n",
       "         0.07418525,  0.07418528,  0.07418528,  0.07418532,  0.07418529,\n",
       "         0.07418534,  0.07418536,  0.0741854 ,  0.07418539,  0.07418543,\n",
       "         0.07418545,  0.07418548,  0.07418548,  0.07418551,  0.07418552,\n",
       "         0.07418553,  0.07418552,  0.07418554,  0.07418555,  0.07418555,\n",
       "         0.07418554,  0.07418556,  0.07418555,  0.07418556,  0.07418555,\n",
       "         0.07418557,  0.07418558,  0.07418558,  0.07418557,  0.07418558,\n",
       "         0.07418559,  0.0741856 ,  0.07418559,  0.07418561,  0.07418563,\n",
       "         0.07418563,  0.07418563,  0.07418563,  0.07418565,  0.07418564,\n",
       "         0.07418565,  0.07418565,  0.07418566,  0.07418566,  0.07418566,\n",
       "         0.07418568,  0.07418568],\n",
       "       [-0.5576794 , -0.41010145, -0.27127052, -0.21511834, -0.18996007,\n",
       "        -0.17779773, -0.17315299, -0.17337739, -0.17276038, -0.16562098,\n",
       "        -0.15027971, -0.13092142, -0.1104363 , -0.09005689, -0.07076039,\n",
       "        -0.05307818, -0.03714997, -0.02312008, -0.01118824, -0.00125866,\n",
       "         0.00684972,  0.01330554,  0.01831053,  0.02209414,  0.02494926,\n",
       "         0.02698704,  0.0283589 ,  0.02925081,  0.02979333,  0.03009109,\n",
       "         0.03021793,  0.03021662,  0.03013135,  0.02999061,  0.02983814,\n",
       "         0.02967966,  0.02953742,  0.02943301,  0.02936106,  0.02931026,\n",
       "         0.02928368,  0.02927161,  0.02929352,  0.02931374,  0.02935207,\n",
       "         0.02940524,  0.02947793,  0.02954466,  0.02961007,  0.02969878,\n",
       "         0.02977592,  0.02984816,  0.02993292,  0.03003224,  0.03011012,\n",
       "         0.0301748 ,  0.03024854,  0.03033577,  0.0304036 ,  0.03047002,\n",
       "         0.03054678,  0.03062295,  0.03069401,  0.03075037,  0.03082061,\n",
       "         0.03088509,  0.03094257,  0.03099055,  0.03105525,  0.03110484,\n",
       "         0.03114245,  0.03118872,  0.03124284,  0.03128426,  0.03132127,\n",
       "         0.03135797,  0.03141179,  0.03143651,  0.03147143,  0.03149554,\n",
       "         0.0315471 ,  0.03155949,  0.03159159,  0.03162669,  0.03166839,\n",
       "         0.03168453,  0.03170139,  0.03173118,  0.03175342,  0.03176937,\n",
       "         0.03178454,  0.03181765,  0.03183255,  0.03184588,  0.0318611 ,\n",
       "         0.03188695,  0.03189602,  0.03190415,  0.03192043,  0.03193753,\n",
       "         0.03194212,  0.03194589,  0.03196412,  0.03197758,  0.03197724,\n",
       "         0.03198319,  0.03199506,  0.03200694,  0.03201048,  0.03202221,\n",
       "         0.03203803,  0.0320402 ,  0.03203519,  0.03204067,  0.03205634,\n",
       "         0.0320507 ,  0.03205019,  0.03204931,  0.03206501,  0.03205743,\n",
       "         0.03206101,  0.03206744,  0.03207827,  0.03207369,  0.03206859,\n",
       "         0.03208398,  0.03208097,  0.03208152,  0.03207485,  0.03209398,\n",
       "         0.03208571,  0.03208731,  0.0320819 ,  0.03209622,  0.03209105,\n",
       "         0.03208762,  0.03209244,  0.032102  ,  0.03209771,  0.032092  ,\n",
       "         0.03209861,  0.03210423,  0.03209402,  0.03209642,  0.03210073,\n",
       "         0.03210693,  0.03209724,  0.03209881,  0.03210677,  0.0321038 ,\n",
       "         0.03209822,  0.0321004 ,  0.03209403,  0.03211155,  0.03210075,\n",
       "         0.03210253,  0.03209899,  0.03211473,  0.03210153,  0.03210271,\n",
       "         0.03210374,  0.03210936,  0.03210445,  0.03210014,  0.03211061,\n",
       "         0.03210984,  0.03210649,  0.03210128,  0.03211485,  0.03210867,\n",
       "         0.03210215,  0.03210177],\n",
       "       [-0.41351776, -0.32629955, -0.13985168, -0.01722924,  0.07377161,\n",
       "         0.14982883,  0.21578394,  0.26969565,  0.305337  ,  0.31716056,\n",
       "         0.30433182,  0.27641878,  0.24262532,  0.20798424,  0.17505588,\n",
       "         0.14490765,  0.11786977,  0.09405596,  0.07362579,  0.05650013,\n",
       "         0.04241191,  0.03102412,  0.02197967,  0.01493171,  0.00957166,\n",
       "         0.00558498,  0.00273119,  0.00071608, -0.00065434, -0.00157777,\n",
       "        -0.00214443, -0.00244114, -0.00253963, -0.00253931, -0.00248499,\n",
       "        -0.00240443, -0.00231659, -0.00224354, -0.0022049 , -0.00218502,\n",
       "        -0.0022033 , -0.00222084, -0.00228396, -0.0023444 , -0.00243242,\n",
       "        -0.00253293, -0.00265214, -0.00277188, -0.00287462, -0.00301168,\n",
       "        -0.00312934, -0.00325952, -0.00336428, -0.00349277, -0.00359395,\n",
       "        -0.0036956 , -0.00378216, -0.00390674, -0.0039905 , -0.00409271,\n",
       "        -0.00418076, -0.00427758, -0.00434896, -0.00442105, -0.00450956,\n",
       "        -0.00457912, -0.0046503 , -0.0047062 , -0.00477397, -0.00483003,\n",
       "        -0.00488823, -0.00493168, -0.00499588, -0.00503895, -0.00509572,\n",
       "        -0.00512549, -0.00518896, -0.00520854, -0.00526266, -0.00528029,\n",
       "        -0.00535073, -0.00535828, -0.00540118, -0.00541911, -0.00546685,\n",
       "        -0.0054858 , -0.00551292, -0.00554426, -0.00557257, -0.00559711,\n",
       "        -0.00560862, -0.00564867, -0.00565463, -0.00567235, -0.00568697,\n",
       "        -0.00571916, -0.00572881, -0.00574277, -0.00575858, -0.00578559,\n",
       "        -0.0057889 , -0.00579623, -0.00581729, -0.00583646, -0.0058416 ,\n",
       "        -0.00585376, -0.00586588, -0.00588132, -0.00588306, -0.00590086,\n",
       "        -0.00591617, -0.00592106, -0.00592068, -0.00592796, -0.00594677,\n",
       "        -0.00594407, -0.00594552, -0.00594387, -0.00596116, -0.00595421,\n",
       "        -0.00595779, -0.0059659 , -0.00597587, -0.00598052, -0.00597133,\n",
       "        -0.00599283, -0.00598296, -0.00599358, -0.00597558, -0.00600426,\n",
       "        -0.00598452, -0.00600222, -0.00598785, -0.00601378, -0.00600128,\n",
       "        -0.00600727, -0.00600543, -0.00602102, -0.00601424, -0.0060142 ,\n",
       "        -0.00601743, -0.00602489, -0.00601511, -0.00601914, -0.0060212 ,\n",
       "        -0.00602757, -0.00601911, -0.00601911, -0.00602911, -0.00602264,\n",
       "        -0.00602213, -0.00602493, -0.00601262, -0.00603692, -0.0060191 ,\n",
       "        -0.0060299 , -0.00601888, -0.00604393, -0.00602237, -0.00603674,\n",
       "        -0.00602699, -0.00604229, -0.00603008, -0.00603289, -0.00603812,\n",
       "        -0.0060403 , -0.00603681, -0.00603225, -0.00604672, -0.0060385 ,\n",
       "        -0.00603745, -0.00603734]])"
      ]
     },
     "execution_count": 7,
     "metadata": {},
     "output_type": "execute_result"
    }
   ],
   "source": [
    "pca.components_"
   ]
  },
  {
   "cell_type": "code",
   "execution_count": 25,
   "id": "57346984-cb55-4000-8abd-c7d1737f4ae1",
   "metadata": {
    "tags": []
   },
   "outputs": [
    {
     "data": {
      "text/plain": [
       "array([1.09692232e+06, 2.74428237e+00, 1.57192404e+00])"
      ]
     },
     "execution_count": 25,
     "metadata": {},
     "output_type": "execute_result"
    }
   ],
   "source": [
    "pca.explained_variance_"
   ]
  },
  {
   "cell_type": "markdown",
   "id": "4f592706-2296-493e-9f56-342372c4fdf8",
   "metadata": {
    "execution": {
     "iopub.execute_input": "2022-02-13T16:00:53.051072Z",
     "iopub.status.busy": "2022-02-13T16:00:53.049904Z",
     "iopub.status.idle": "2022-02-13T16:00:53.055498Z",
     "shell.execute_reply": "2022-02-13T16:00:53.054439Z",
     "shell.execute_reply.started": "2022-02-13T16:00:53.051028Z"
    },
    "tags": []
   },
   "source": [
    "## Reconstructing the original data\n",
    "Since we have the eigenvalues and eigenvectors of the covariance matrix of the pressure data (PCA), we can reconstruct the original data."
   ]
  },
  {
   "cell_type": "code",
   "execution_count": 44,
   "id": "266e93be-c12d-4980-aaae-c0d89d36c119",
   "metadata": {
    "tags": []
   },
   "outputs": [],
   "source": [
    "transformed_data = pca.transform(train_data)"
   ]
  },
  {
   "cell_type": "code",
   "execution_count": 45,
   "id": "0edd4b13-1e3f-4924-a630-f665ee898076",
   "metadata": {
    "tags": []
   },
   "outputs": [],
   "source": [
    "reconstructed_sklearn = pca.inverse_transform(transformed_data)"
   ]
  },
  {
   "cell_type": "code",
   "execution_count": 46,
   "id": "e24371ad-c1ad-429c-ae96-3db65a6110f5",
   "metadata": {
    "tags": []
   },
   "outputs": [
    {
     "data": {
      "text/plain": [
       "0.012500153987806075"
      ]
     },
     "execution_count": 46,
     "metadata": {},
     "output_type": "execute_result"
    }
   ],
   "source": [
    "mse(reconstructed_sklearn, train_data, squared=False)"
   ]
  },
  {
   "cell_type": "markdown",
   "id": "dfcb5e5b-d63d-448e-a5ac-dff68b825ef8",
   "metadata": {},
   "source": [
    "## Create dataset"
   ]
  },
  {
   "cell_type": "code",
   "execution_count": null,
   "id": "bd43c65a-0b57-4a35-87aa-c8205ea98ba8",
   "metadata": {},
   "outputs": [],
   "source": [
    "class HEDataset(Dataset):\n",
    "    def __init__(timeframes):\n",
    "        # standardizing data\n",
    "        print(timeframes.mean(0))\n",
    "        self.std = timeframes.std(0)\n",
    "        transformed_data = timeframes/std\n",
    "        self.srcs = transformed_data.unfold(0, INPUT_STEP, 1)\n",
    "        self.tgts = torch.unsqueeze(transformed_data[INPUT_STEP:], 2)\n",
    "        step = 10020\n",
    "        assert torch.equal(self.srcs[step, :, -1].detach().unsqueeze(1), self.tgts[step-1, :, :].detach())\n",
    "        print(self.srcs.shape, self.tgts.shape)\n",
    "\n",
    "    def __getitem__(self, idx):\n",
    "        src = self.srcs[idx, :, :]\n",
    "        tgt = self.tgts[idx, :, :]\n",
    "        return src, tgt\n",
    "    \n",
    "    def __len__(self):\n",
    "        return self.srcs.shape(0)"
   ]
  },
  {
   "cell_type": "code",
   "execution_count": 47,
   "id": "ecad95f5-3ed2-4396-86f7-54117331c808",
   "metadata": {
    "tags": []
   },
   "outputs": [],
   "source": [
    "transformed_data = torch.Tensor(transformed_data).to(device)"
   ]
  },
  {
   "cell_type": "code",
   "execution_count": 48,
   "id": "07fea291-af13-4560-8ce7-64a192c9d618",
   "metadata": {},
   "outputs": [
    {
     "data": {
      "text/plain": [
       "torch.Size([984921, 3])"
      ]
     },
     "execution_count": 48,
     "metadata": {},
     "output_type": "execute_result"
    }
   ],
   "source": [
    "transformed_data.shape"
   ]
  },
  {
   "cell_type": "code",
   "execution_count": 49,
   "id": "291ab3ff-64ce-4db0-9078-2ab003c463d3",
   "metadata": {
    "tags": []
   },
   "outputs": [],
   "source": [
    "# Training\n",
    "# 1 2 3 -> 4\n",
    "# 2 3 4 -> 5\n",
    "# Testing\n",
    "# 3 4 5 -> (6) todo mse of this step\n",
    "# 4 5 (6) -> (7) todo mse of this step\n",
    "# 5 (6) (7) -> (8) todo mse of this step\n",
    "# todo 5 is seen, so performance may be benefited from this"
   ]
  },
  {
   "cell_type": "code",
   "execution_count": 50,
   "id": "159cbe4f-b0ad-40d9-9918-ae9441103b01",
   "metadata": {},
   "outputs": [
    {
     "name": "stdout",
     "output_type": "stream",
     "text": [
      "tensor([0., 0., 0.], device='cuda:0')\n"
     ]
    }
   ],
   "source": [
    "training_data = HEDataset"
   ]
  },
  {
   "cell_type": "code",
   "execution_count": 51,
   "id": "1b84ff23-566d-4eaf-8505-9e2fe097a86f",
   "metadata": {
    "tags": []
   },
   "outputs": [
    {
     "data": {
      "text/plain": [
       "torch.Size([984912, 3, 10])"
      ]
     },
     "execution_count": 51,
     "metadata": {},
     "output_type": "execute_result"
    }
   ],
   "source": []
  },
  {
   "cell_type": "code",
   "execution_count": 52,
   "id": "89cf6808-1672-4dbe-8cfe-bd7586cdbeb3",
   "metadata": {
    "tags": []
   },
   "outputs": [],
   "source": [
    "tgts = transformed_data[INPUT_STEP:]"
   ]
  },
  {
   "cell_type": "code",
   "execution_count": 54,
   "id": "b84d7c9b-4d91-42ab-aa6e-b98abb986e6d",
   "metadata": {
    "tags": []
   },
   "outputs": [
    {
     "data": {
      "text/plain": [
       "torch.Size([984911, 3, 1])"
      ]
     },
     "execution_count": 54,
     "metadata": {},
     "output_type": "execute_result"
    }
   ],
   "source": []
  },
  {
   "cell_type": "code",
   "execution_count": 55,
   "id": "19509c49-320b-4774-b53f-1c494c064d12",
   "metadata": {},
   "outputs": [],
   "source": []
  },
  {
   "cell_type": "code",
   "execution_count": 70,
   "id": "d2868fa5-70ae-4871-bd11-134ba75b198f",
   "metadata": {
    "tags": []
   },
   "outputs": [
    {
     "data": {
      "text/plain": [
       "(tensor([[-0.0365,  1.5777, -1.1298,  0.8703, -0.3738, -0.8268,  0.9902,  0.0297,\n",
       "          -1.5376,  0.3096],\n",
       "         [-0.3521, -4.5794, -0.2453,  1.4905, -0.2080, -0.4197,  1.1899,  0.1261,\n",
       "           0.2413, -0.1793],\n",
       "         [-0.4027, -0.4468,  0.0340, -0.1474, -0.1838, -0.0961, -0.3438, -0.2225,\n",
       "           0.4665, -0.4017]], device='cuda:0'),\n",
       " tensor([[ 1.2723],\n",
       "         [ 0.6815],\n",
       "         [-0.5560]], device='cuda:0'))"
      ]
     },
     "execution_count": 70,
     "metadata": {},
     "output_type": "execute_result"
    }
   ],
   "source": [
    "srcs[1, :, :], tgts[1, :, :]"
   ]
  },
  {
   "cell_type": "code",
   "execution_count": 66,
   "id": "318673bc-65ef-485d-b205-c2f1927afe89",
   "metadata": {},
   "outputs": [],
   "source": [
    "dataloader = DataLoader(srcs[:5000,:,:], batch_size=BATCH_SIZE, shuffle=False)"
   ]
  },
  {
   "cell_type": "code",
   "execution_count": 67,
   "id": "1f608e75-7c08-441f-9532-91b2eda284e0",
   "metadata": {
    "tags": []
   },
   "outputs": [],
   "source": [
    "def train(model):\n",
    "    model.train()\n",
    "    loss = nn.MSELoss()\n",
    "    optimizer = optim.Adam(model.parameters(), lr=1e-5)\n",
    "    for epoch in range(3):  # loop over the dataset multiple times\n",
    "        running_loss = 0.0\n",
    "        for i, src in enumerate(tqdm(dataloader)):\n",
    "            import pdb; pdb.set_trace()\n",
    "            optimizer.zero_grad()\n",
    "            tgt = torch.unsqueeze(tgts[i], dim=0)\n",
    "            outputs, _ = model(src)\n",
    "            l = loss(outputs, tgt)\n",
    "            l.backward()\n",
    "            optimizer.step()\n",
    "            # print statistics\n",
    "            running_loss += l\n",
    "        print(f'[{epoch + 1}] loss: {mean(running_loss)}')\n",
    "    return model  "
   ]
  },
  {
   "cell_type": "markdown",
   "id": "7a35607c-0012-4904-a8b4-1cda34bd91c7",
   "metadata": {
    "execution": {
     "iopub.execute_input": "2022-02-26T14:27:26.010466Z",
     "iopub.status.busy": "2022-02-26T14:27:26.008818Z",
     "iopub.status.idle": "2022-02-26T14:27:26.017085Z",
     "shell.execute_reply": "2022-02-26T14:27:26.014688Z",
     "shell.execute_reply.started": "2022-02-26T14:27:26.010413Z"
    },
    "tags": []
   },
   "source": [
    "### LSTM"
   ]
  },
  {
   "cell_type": "code",
   "execution_count": 68,
   "id": "fa512dfc-a738-4e1f-bcf1-a5412573c52c",
   "metadata": {},
   "outputs": [
    {
     "data": {
      "application/vnd.jupyter.widget-view+json": {
       "model_id": "d5e53e532e3b4d7ca0339f9fdc8f1751",
       "version_major": 2,
       "version_minor": 0
      },
      "text/plain": [
       "  0%|          | 0/625 [00:00<?, ?it/s]"
      ]
     },
     "metadata": {},
     "output_type": "display_data"
    },
    {
     "name": "stdout",
     "output_type": "stream",
     "text": [
      "> \u001b[0;32m/tmp/ipykernel_20347/3655936383.py\u001b[0m(9)\u001b[0;36mtrain\u001b[0;34m()\u001b[0m\n",
      "\u001b[0;32m      7 \u001b[0;31m        \u001b[0;32mfor\u001b[0m \u001b[0mi\u001b[0m\u001b[0;34m,\u001b[0m \u001b[0msrc\u001b[0m \u001b[0;32min\u001b[0m \u001b[0menumerate\u001b[0m\u001b[0;34m(\u001b[0m\u001b[0mtqdm\u001b[0m\u001b[0;34m(\u001b[0m\u001b[0mdataloader\u001b[0m\u001b[0;34m)\u001b[0m\u001b[0;34m)\u001b[0m\u001b[0;34m:\u001b[0m\u001b[0;34m\u001b[0m\u001b[0;34m\u001b[0m\u001b[0m\n",
      "\u001b[0m\u001b[0;32m      8 \u001b[0;31m            \u001b[0;32mimport\u001b[0m \u001b[0mpdb\u001b[0m\u001b[0;34m;\u001b[0m \u001b[0mpdb\u001b[0m\u001b[0;34m.\u001b[0m\u001b[0mset_trace\u001b[0m\u001b[0;34m(\u001b[0m\u001b[0;34m)\u001b[0m\u001b[0;34m\u001b[0m\u001b[0;34m\u001b[0m\u001b[0m\n",
      "\u001b[0m\u001b[0;32m----> 9 \u001b[0;31m            \u001b[0moptimizer\u001b[0m\u001b[0;34m.\u001b[0m\u001b[0mzero_grad\u001b[0m\u001b[0;34m(\u001b[0m\u001b[0;34m)\u001b[0m\u001b[0;34m\u001b[0m\u001b[0;34m\u001b[0m\u001b[0m\n",
      "\u001b[0m\u001b[0;32m     10 \u001b[0;31m            \u001b[0mtgt\u001b[0m \u001b[0;34m=\u001b[0m \u001b[0mtorch\u001b[0m\u001b[0;34m.\u001b[0m\u001b[0munsqueeze\u001b[0m\u001b[0;34m(\u001b[0m\u001b[0mtgts\u001b[0m\u001b[0;34m[\u001b[0m\u001b[0mi\u001b[0m\u001b[0;34m]\u001b[0m\u001b[0;34m,\u001b[0m \u001b[0mdim\u001b[0m\u001b[0;34m=\u001b[0m\u001b[0;36m0\u001b[0m\u001b[0;34m)\u001b[0m\u001b[0;34m\u001b[0m\u001b[0;34m\u001b[0m\u001b[0m\n",
      "\u001b[0m\u001b[0;32m     11 \u001b[0;31m            \u001b[0moutputs\u001b[0m\u001b[0;34m,\u001b[0m \u001b[0m_\u001b[0m \u001b[0;34m=\u001b[0m \u001b[0mmodel\u001b[0m\u001b[0;34m(\u001b[0m\u001b[0msrc\u001b[0m\u001b[0;34m)\u001b[0m\u001b[0;34m\u001b[0m\u001b[0;34m\u001b[0m\u001b[0m\n",
      "\u001b[0m\n"
     ]
    },
    {
     "name": "stdin",
     "output_type": "stream",
     "text": [
      "ipdb>  i\n"
     ]
    },
    {
     "name": "stdout",
     "output_type": "stream",
     "text": [
      "0\n"
     ]
    },
    {
     "name": "stdin",
     "output_type": "stream",
     "text": [
      "ipdb>  src\n"
     ]
    },
    {
     "name": "stdout",
     "output_type": "stream",
     "text": [
      "tensor([[[-1.1033, -0.0365,  1.5777, -1.1298,  0.8703, -0.3738, -0.8268,\n",
      "           0.9902,  0.0297, -1.5376],\n",
      "         [-0.2368, -0.3521, -4.5794, -0.2453,  1.4905, -0.2080, -0.4197,\n",
      "           1.1899,  0.1261,  0.2413],\n",
      "         [ 0.0427, -0.4027, -0.4468,  0.0340, -0.1474, -0.1838, -0.0961,\n",
      "          -0.3438, -0.2225,  0.4665]],\n",
      "\n",
      "        [[-0.0365,  1.5777, -1.1298,  0.8703, -0.3738, -0.8268,  0.9902,\n",
      "           0.0297, -1.5376,  0.3096],\n",
      "         [-0.3521, -4.5794, -0.2453,  1.4905, -0.2080, -0.4197,  1.1899,\n",
      "           0.1261,  0.2413, -0.1793],\n",
      "         [-0.4027, -0.4468,  0.0340, -0.1474, -0.1838, -0.0961, -0.3438,\n",
      "          -0.2225,  0.4665, -0.4017]],\n",
      "\n",
      "        [[ 1.5777, -1.1298,  0.8703, -0.3738, -0.8268,  0.9902,  0.0297,\n",
      "          -1.5376,  0.3096,  1.2723],\n",
      "         [-4.5794, -0.2453,  1.4905, -0.2080, -0.4197,  1.1899,  0.1261,\n",
      "           0.2413, -0.1793,  0.6815],\n",
      "         [-0.4468,  0.0340, -0.1474, -0.1838, -0.0961, -0.3438, -0.2225,\n",
      "           0.4665, -0.4017, -0.5560]],\n",
      "\n",
      "        [[-1.1298,  0.8703, -0.3738, -0.8268,  0.9902,  0.0297, -1.5376,\n",
      "           0.3096,  1.2723,  1.1004],\n",
      "         [-0.2453,  1.4905, -0.2080, -0.4197,  1.1899,  0.1261,  0.2413,\n",
      "          -0.1793,  0.6815,  1.0066],\n",
      "         [ 0.0340, -0.1474, -0.1838, -0.0961, -0.3438, -0.2225,  0.4665,\n",
      "          -0.4017, -0.5560, -0.4464]],\n",
      "\n",
      "        [[ 0.8703, -0.3738, -0.8268,  0.9902,  0.0297, -1.5376,  0.3096,\n",
      "           1.2723,  1.1004, -0.3338],\n",
      "         [ 1.4905, -0.2080, -0.4197,  1.1899,  0.1261,  0.2413, -0.1793,\n",
      "           0.6815,  1.0066, -0.1073],\n",
      "         [-0.1474, -0.1838, -0.0961, -0.3438, -0.2225,  0.4665, -0.4017,\n",
      "          -0.5560, -0.4464, -0.0780]],\n",
      "\n",
      "        [[-0.3738, -0.8268,  0.9902,  0.0297, -1.5376,  0.3096,  1.2723,\n",
      "           1.1004, -0.3338,  1.0112],\n",
      "         [-0.2080, -0.4197,  1.1899,  0.1261,  0.2413, -0.1793,  0.6815,\n",
      "           1.0066, -0.1073,  0.9787],\n",
      "         [-0.1838, -0.0961, -0.3438, -0.2225,  0.4665, -0.4017, -0.5560,\n",
      "          -0.4464, -0.0780, -0.5417]],\n",
      "\n",
      "        [[-0.8268,  0.9902,  0.0297, -1.5376,  0.3096,  1.2723,  1.1004,\n",
      "          -0.3338,  1.0112,  0.9715],\n",
      "         [-0.4197,  1.1899,  0.1261,  0.2413, -0.1793,  0.6815,  1.0066,\n",
      "          -0.1073,  0.9787,  1.2094],\n",
      "         [-0.0961, -0.3438, -0.2225,  0.4665, -0.4017, -0.5560, -0.4464,\n",
      "          -0.0780, -0.5417, -0.2789]],\n",
      "\n",
      "        [[ 0.9902,  0.0297, -1.5376,  0.3096,  1.2723,  1.1004, -0.3338,\n",
      "           1.0112,  0.9715, -1.5553],\n",
      "         [ 1.1899,  0.1261,  0.2413, -0.1793,  0.6815,  1.0066, -0.1073,\n",
      "           0.9787,  1.2094,  0.1506],\n",
      "         [-0.3438, -0.2225,  0.4665, -0.4017, -0.5560, -0.4464, -0.0780,\n",
      "          -0.5417, -0.2789,  0.4083]]], device='cuda:0')\n"
     ]
    },
    {
     "name": "stdin",
     "output_type": "stream",
     "text": [
      "ipdb>  q\n"
     ]
    },
    {
     "ename": "BdbQuit",
     "evalue": "",
     "output_type": "error",
     "traceback": [
      "\u001b[0;31m---------------------------------------------------------------------------\u001b[0m",
      "\u001b[0;31mBdbQuit\u001b[0m                                   Traceback (most recent call last)",
      "\u001b[0;32m/tmp/ipykernel_20347/3967602320.py\u001b[0m in \u001b[0;36m<module>\u001b[0;34m\u001b[0m\n\u001b[1;32m      1\u001b[0m \u001b[0mlstm\u001b[0m \u001b[0;34m=\u001b[0m \u001b[0mnn\u001b[0m\u001b[0;34m.\u001b[0m\u001b[0mLSTM\u001b[0m\u001b[0;34m(\u001b[0m\u001b[0mINPUT_STEP\u001b[0m\u001b[0;34m,\u001b[0m \u001b[0mOUTPUT_STEP\u001b[0m\u001b[0;34m,\u001b[0m \u001b[0;36m8\u001b[0m\u001b[0;34m,\u001b[0m \u001b[0mbatch_first\u001b[0m\u001b[0;34m=\u001b[0m\u001b[0;32mTrue\u001b[0m\u001b[0;34m)\u001b[0m\u001b[0;34m.\u001b[0m\u001b[0mto\u001b[0m\u001b[0;34m(\u001b[0m\u001b[0mdevice\u001b[0m\u001b[0;34m)\u001b[0m\u001b[0;34m\u001b[0m\u001b[0;34m\u001b[0m\u001b[0m\n\u001b[0;32m----> 2\u001b[0;31m \u001b[0mlstm\u001b[0m \u001b[0;34m=\u001b[0m \u001b[0mtrain\u001b[0m\u001b[0;34m(\u001b[0m\u001b[0mlstm\u001b[0m\u001b[0;34m)\u001b[0m\u001b[0;34m\u001b[0m\u001b[0;34m\u001b[0m\u001b[0m\n\u001b[0m",
      "\u001b[0;32m/tmp/ipykernel_20347/3655936383.py\u001b[0m in \u001b[0;36mtrain\u001b[0;34m(model)\u001b[0m\n\u001b[1;32m      7\u001b[0m         \u001b[0;32mfor\u001b[0m \u001b[0mi\u001b[0m\u001b[0;34m,\u001b[0m \u001b[0msrc\u001b[0m \u001b[0;32min\u001b[0m \u001b[0menumerate\u001b[0m\u001b[0;34m(\u001b[0m\u001b[0mtqdm\u001b[0m\u001b[0;34m(\u001b[0m\u001b[0mdataloader\u001b[0m\u001b[0;34m)\u001b[0m\u001b[0;34m)\u001b[0m\u001b[0;34m:\u001b[0m\u001b[0;34m\u001b[0m\u001b[0;34m\u001b[0m\u001b[0m\n\u001b[1;32m      8\u001b[0m             \u001b[0;32mimport\u001b[0m \u001b[0mpdb\u001b[0m\u001b[0;34m;\u001b[0m \u001b[0mpdb\u001b[0m\u001b[0;34m.\u001b[0m\u001b[0mset_trace\u001b[0m\u001b[0;34m(\u001b[0m\u001b[0;34m)\u001b[0m\u001b[0;34m\u001b[0m\u001b[0;34m\u001b[0m\u001b[0m\n\u001b[0;32m----> 9\u001b[0;31m             \u001b[0moptimizer\u001b[0m\u001b[0;34m.\u001b[0m\u001b[0mzero_grad\u001b[0m\u001b[0;34m(\u001b[0m\u001b[0;34m)\u001b[0m\u001b[0;34m\u001b[0m\u001b[0;34m\u001b[0m\u001b[0m\n\u001b[0m\u001b[1;32m     10\u001b[0m             \u001b[0mtgt\u001b[0m \u001b[0;34m=\u001b[0m \u001b[0mtorch\u001b[0m\u001b[0;34m.\u001b[0m\u001b[0munsqueeze\u001b[0m\u001b[0;34m(\u001b[0m\u001b[0mtgts\u001b[0m\u001b[0;34m[\u001b[0m\u001b[0mi\u001b[0m\u001b[0;34m]\u001b[0m\u001b[0;34m,\u001b[0m \u001b[0mdim\u001b[0m\u001b[0;34m=\u001b[0m\u001b[0;36m0\u001b[0m\u001b[0;34m)\u001b[0m\u001b[0;34m\u001b[0m\u001b[0;34m\u001b[0m\u001b[0m\n\u001b[1;32m     11\u001b[0m             \u001b[0moutputs\u001b[0m\u001b[0;34m,\u001b[0m \u001b[0m_\u001b[0m \u001b[0;34m=\u001b[0m \u001b[0mmodel\u001b[0m\u001b[0;34m(\u001b[0m\u001b[0msrc\u001b[0m\u001b[0;34m)\u001b[0m\u001b[0;34m\u001b[0m\u001b[0;34m\u001b[0m\u001b[0m\n",
      "\u001b[0;32m/tmp/ipykernel_20347/3655936383.py\u001b[0m in \u001b[0;36mtrain\u001b[0;34m(model)\u001b[0m\n\u001b[1;32m      7\u001b[0m         \u001b[0;32mfor\u001b[0m \u001b[0mi\u001b[0m\u001b[0;34m,\u001b[0m \u001b[0msrc\u001b[0m \u001b[0;32min\u001b[0m \u001b[0menumerate\u001b[0m\u001b[0;34m(\u001b[0m\u001b[0mtqdm\u001b[0m\u001b[0;34m(\u001b[0m\u001b[0mdataloader\u001b[0m\u001b[0;34m)\u001b[0m\u001b[0;34m)\u001b[0m\u001b[0;34m:\u001b[0m\u001b[0;34m\u001b[0m\u001b[0;34m\u001b[0m\u001b[0m\n\u001b[1;32m      8\u001b[0m             \u001b[0;32mimport\u001b[0m \u001b[0mpdb\u001b[0m\u001b[0;34m;\u001b[0m \u001b[0mpdb\u001b[0m\u001b[0;34m.\u001b[0m\u001b[0mset_trace\u001b[0m\u001b[0;34m(\u001b[0m\u001b[0;34m)\u001b[0m\u001b[0;34m\u001b[0m\u001b[0;34m\u001b[0m\u001b[0m\n\u001b[0;32m----> 9\u001b[0;31m             \u001b[0moptimizer\u001b[0m\u001b[0;34m.\u001b[0m\u001b[0mzero_grad\u001b[0m\u001b[0;34m(\u001b[0m\u001b[0;34m)\u001b[0m\u001b[0;34m\u001b[0m\u001b[0;34m\u001b[0m\u001b[0m\n\u001b[0m\u001b[1;32m     10\u001b[0m             \u001b[0mtgt\u001b[0m \u001b[0;34m=\u001b[0m \u001b[0mtorch\u001b[0m\u001b[0;34m.\u001b[0m\u001b[0munsqueeze\u001b[0m\u001b[0;34m(\u001b[0m\u001b[0mtgts\u001b[0m\u001b[0;34m[\u001b[0m\u001b[0mi\u001b[0m\u001b[0;34m]\u001b[0m\u001b[0;34m,\u001b[0m \u001b[0mdim\u001b[0m\u001b[0;34m=\u001b[0m\u001b[0;36m0\u001b[0m\u001b[0;34m)\u001b[0m\u001b[0;34m\u001b[0m\u001b[0;34m\u001b[0m\u001b[0m\n\u001b[1;32m     11\u001b[0m             \u001b[0moutputs\u001b[0m\u001b[0;34m,\u001b[0m \u001b[0m_\u001b[0m \u001b[0;34m=\u001b[0m \u001b[0mmodel\u001b[0m\u001b[0;34m(\u001b[0m\u001b[0msrc\u001b[0m\u001b[0;34m)\u001b[0m\u001b[0;34m\u001b[0m\u001b[0;34m\u001b[0m\u001b[0m\n",
      "\u001b[0;32m~/miniconda3/envs/chem/lib/python3.7/bdb.py\u001b[0m in \u001b[0;36mtrace_dispatch\u001b[0;34m(self, frame, event, arg)\u001b[0m\n\u001b[1;32m     86\u001b[0m             \u001b[0;32mreturn\u001b[0m \u001b[0;31m# None\u001b[0m\u001b[0;34m\u001b[0m\u001b[0;34m\u001b[0m\u001b[0m\n\u001b[1;32m     87\u001b[0m         \u001b[0;32mif\u001b[0m \u001b[0mevent\u001b[0m \u001b[0;34m==\u001b[0m \u001b[0;34m'line'\u001b[0m\u001b[0;34m:\u001b[0m\u001b[0;34m\u001b[0m\u001b[0;34m\u001b[0m\u001b[0m\n\u001b[0;32m---> 88\u001b[0;31m             \u001b[0;32mreturn\u001b[0m \u001b[0mself\u001b[0m\u001b[0;34m.\u001b[0m\u001b[0mdispatch_line\u001b[0m\u001b[0;34m(\u001b[0m\u001b[0mframe\u001b[0m\u001b[0;34m)\u001b[0m\u001b[0;34m\u001b[0m\u001b[0;34m\u001b[0m\u001b[0m\n\u001b[0m\u001b[1;32m     89\u001b[0m         \u001b[0;32mif\u001b[0m \u001b[0mevent\u001b[0m \u001b[0;34m==\u001b[0m \u001b[0;34m'call'\u001b[0m\u001b[0;34m:\u001b[0m\u001b[0;34m\u001b[0m\u001b[0;34m\u001b[0m\u001b[0m\n\u001b[1;32m     90\u001b[0m             \u001b[0;32mreturn\u001b[0m \u001b[0mself\u001b[0m\u001b[0;34m.\u001b[0m\u001b[0mdispatch_call\u001b[0m\u001b[0;34m(\u001b[0m\u001b[0mframe\u001b[0m\u001b[0;34m,\u001b[0m \u001b[0marg\u001b[0m\u001b[0;34m)\u001b[0m\u001b[0;34m\u001b[0m\u001b[0;34m\u001b[0m\u001b[0m\n",
      "\u001b[0;32m~/miniconda3/envs/chem/lib/python3.7/bdb.py\u001b[0m in \u001b[0;36mdispatch_line\u001b[0;34m(self, frame)\u001b[0m\n\u001b[1;32m    111\u001b[0m         \u001b[0;32mif\u001b[0m \u001b[0mself\u001b[0m\u001b[0;34m.\u001b[0m\u001b[0mstop_here\u001b[0m\u001b[0;34m(\u001b[0m\u001b[0mframe\u001b[0m\u001b[0;34m)\u001b[0m \u001b[0;32mor\u001b[0m \u001b[0mself\u001b[0m\u001b[0;34m.\u001b[0m\u001b[0mbreak_here\u001b[0m\u001b[0;34m(\u001b[0m\u001b[0mframe\u001b[0m\u001b[0;34m)\u001b[0m\u001b[0;34m:\u001b[0m\u001b[0;34m\u001b[0m\u001b[0;34m\u001b[0m\u001b[0m\n\u001b[1;32m    112\u001b[0m             \u001b[0mself\u001b[0m\u001b[0;34m.\u001b[0m\u001b[0muser_line\u001b[0m\u001b[0;34m(\u001b[0m\u001b[0mframe\u001b[0m\u001b[0;34m)\u001b[0m\u001b[0;34m\u001b[0m\u001b[0;34m\u001b[0m\u001b[0m\n\u001b[0;32m--> 113\u001b[0;31m             \u001b[0;32mif\u001b[0m \u001b[0mself\u001b[0m\u001b[0;34m.\u001b[0m\u001b[0mquitting\u001b[0m\u001b[0;34m:\u001b[0m \u001b[0;32mraise\u001b[0m \u001b[0mBdbQuit\u001b[0m\u001b[0;34m\u001b[0m\u001b[0;34m\u001b[0m\u001b[0m\n\u001b[0m\u001b[1;32m    114\u001b[0m         \u001b[0;32mreturn\u001b[0m \u001b[0mself\u001b[0m\u001b[0;34m.\u001b[0m\u001b[0mtrace_dispatch\u001b[0m\u001b[0;34m\u001b[0m\u001b[0;34m\u001b[0m\u001b[0m\n\u001b[1;32m    115\u001b[0m \u001b[0;34m\u001b[0m\u001b[0m\n",
      "\u001b[0;31mBdbQuit\u001b[0m: "
     ]
    }
   ],
   "source": [
    "lstm = nn.LSTM(INPUT_STEP, OUTPUT_STEP, 8, batch_first=True).to(device)\n",
    "lstm = train(lstm)"
   ]
  },
  {
   "cell_type": "code",
   "execution_count": null,
   "id": "fed8fb66-300c-46d4-ab39-b560cc834da3",
   "metadata": {},
   "outputs": [],
   "source": [
    "lstm = nn.LSTM(INPUT_STEP, OUTPUT_STEP, 2).to(device)\n",
    "lstm = train(lstm)"
   ]
  },
  {
   "cell_type": "code",
   "execution_count": null,
   "id": "9992697c-fd26-4c78-906d-a727e53f5fb6",
   "metadata": {
    "tags": []
   },
   "outputs": [],
   "source": [
    "lstm = nn.LSTM(INPUT_STEP, OUTPUT_STEP, 2).to(device)\n",
    "lstm = train(lstm)"
   ]
  },
  {
   "cell_type": "code",
   "execution_count": null,
   "id": "8ee56898-5aeb-4714-bc11-888dac0641c7",
   "metadata": {
    "tags": []
   },
   "outputs": [],
   "source": [
    "lstm.eval()\n",
    "lstm_eval = transformed_data.copy()\n",
    "for i in range(4, p_data.shape[1]-1):\n",
    "    print(lstm_eval.shape)\n",
    "    predict, _ = lstm(torch.unsqueeze(torch.FloatTensor(lstm_eval[-2-INPUT_STEP:-2]), 0))                               \n",
    "    print(predict.shape)\n",
    "    lstm_eval = np.append(lstm_eval, predict.squeeze(2).detach().numpy(), axis=0)  # append prediction "
   ]
  },
  {
   "cell_type": "code",
   "execution_count": null,
   "id": "ed79eb72-a0b0-49c8-9a68-796d0e757a4b",
   "metadata": {
    "tags": []
   },
   "outputs": [],
   "source": [
    "reconstruct(lstm_eval)"
   ]
  },
  {
   "cell_type": "markdown",
   "id": "97d52acf-980e-402a-85a0-b72b5fddbcb3",
   "metadata": {},
   "source": [
    "### Transformer"
   ]
  },
  {
   "cell_type": "markdown",
   "id": "d922182e-aa1c-42b7-8f65-164eddf3c6a0",
   "metadata": {},
   "source": [
    "We will learn based on this transformed data"
   ]
  },
  {
   "cell_type": "code",
   "execution_count": null,
   "id": "bbd1a75d-5568-497c-827e-8cd4794ae1d9",
   "metadata": {
    "tags": []
   },
   "outputs": [],
   "source": [
    "reconstructed_sklearn = pca.inverse_transform(np.random.random((10,3)))"
   ]
  },
  {
   "cell_type": "code",
   "execution_count": null,
   "id": "e4c6e3d3-fff2-4eba-8702-985b9cd049e9",
   "metadata": {
    "tags": []
   },
   "outputs": [],
   "source": [
    "reconstructed_sklearn.shape, p_learn.shape"
   ]
  },
  {
   "cell_type": "code",
   "execution_count": null,
   "id": "b7f049e8-c76a-44d7-b116-37716d4af645",
   "metadata": {
    "tags": []
   },
   "outputs": [],
   "source": [
    "loss = nn.MSELoss()\n",
    "transformer_model = nn.Transformer(nhead=N_COMPONENTS, num_encoder_layers=32,   # d_model divisible by nhead\n",
    "                                   d_model=N_COMPONENTS, batch_first=True).to(device)\n",
    "optimizer = optim.Adam(transformer_model.parameters(), lr=0.0001)"
   ]
  },
  {
   "cell_type": "code",
   "execution_count": null,
   "id": "c95eb565-ed0c-48b1-9659-db40a6609667",
   "metadata": {
    "tags": []
   },
   "outputs": [],
   "source": [
    "def train_tf(model):\n",
    "    model.train()\n",
    "    loss = nn.MSELoss()\n",
    "    optimizer = optim.Adam(model.parameters(), lr=1e-8)\n",
    "    for epoch in range(3):  # loop over the dataset multiple times\n",
    "        for i in tqdm(range(srcs.shape[1]//100)):\n",
    "            optimizer.zero_grad()\n",
    "            running_loss = 0.0\n",
    "\n",
    "            src = srcs[:,i,:].T\n",
    "            tgt = torch.unsqueeze(tgts[:,i], dim=0)\n",
    "            outputs = model(src, tgt)\n",
    "            l = loss(outputs, tgt)\n",
    "            l.backward()\n",
    "            optimizer.step()\n",
    "\n",
    "            # print statistics\n",
    "            running_loss += l\n",
    "        print(f'[{epoch + 1}] loss: {running_loss / 2000:}')\n",
    "    return model  "
   ]
  },
  {
   "cell_type": "code",
   "execution_count": null,
   "id": "9fde9e67-b8ca-488c-85eb-0dab20b06c3f",
   "metadata": {
    "tags": []
   },
   "outputs": [],
   "source": [
    "transformer_model = train_tf(transformer_model)"
   ]
  },
  {
   "cell_type": "markdown",
   "id": "093f8a50-5a09-4712-a938-344a0b93781e",
   "metadata": {},
   "source": [
    "## Reconstruct "
   ]
  },
  {
   "cell_type": "code",
   "execution_count": null,
   "id": "8cf39dc1-b047-4d40-a547-d4d73cd885cd",
   "metadata": {
    "tags": []
   },
   "outputs": [],
   "source": [
    "type(p_data)"
   ]
  },
  {
   "cell_type": "code",
   "execution_count": null,
   "id": "d533a267-0305-4371-a723-d0a1c7b632af",
   "metadata": {
    "tags": []
   },
   "outputs": [],
   "source": [
    "transformed_data.shape"
   ]
  },
  {
   "cell_type": "code",
   "execution_count": null,
   "id": "c066ac37-9111-4e41-980d-9861d418da57",
   "metadata": {
    "tags": []
   },
   "outputs": [],
   "source": [
    "transformer_model.eval()\n",
    "transformer_eval = transformed_data.copy()\n",
    "for i in range(4, p_data.shape[1]-1):\n",
    "    print(transformer_eval.shape)\n",
    "    predict = transformer_model(torch.unsqueeze(torch.FloatTensor(transformer_eval[-2-INPUT_STEP:-2]), 0),  # INPUT_STEP steps before\n",
    "                               torch.unsqueeze(torch.FloatTensor(transformer_eval[-1:]), 0))\n",
    "    print(predict.shape)\n",
    "    transformer_eval = np.append(transformer_eval, predict[0].detach().numpy(), axis=0)  # append prediction and "
   ]
  },
  {
   "cell_type": "code",
   "execution_count": null,
   "id": "86032518-f88d-4826-955a-0bdcb777affe",
   "metadata": {
    "tags": []
   },
   "outputs": [],
   "source": [
    "transformer_eval.shape"
   ]
  },
  {
   "cell_type": "code",
   "execution_count": null,
   "id": "8bc5a28b-f84b-4119-a564-d0a48d39dbb1",
   "metadata": {
    "tags": []
   },
   "outputs": [],
   "source": [
    "reconstruct(transformer_eval)"
   ]
  },
  {
   "cell_type": "markdown",
   "id": "6d9ed1b3-c2a4-4ed3-a4fb-d7c58224bb97",
   "metadata": {},
   "source": [
    "todo\n",
    "\n",
    "10s\n",
    "10.1s\n",
    "10.2s\n",
    "\n",
    "a common algo to reduce dim, pca. \n",
    "- look at robustness for prediction further in time.\n",
    "    - how to get more data simscale. Horizon 8 hours, train 6h, predict 2h. First step 10 mins\n",
    "        - Increase data slowly, see the limit of ML methods\n",
    "        - Tradition ML (lstm, transformers) will have problem. How long can we predict using this?\n",
    "            - Change ML approach maybe to operator inference"
   ]
  }
 ],
 "metadata": {
  "kernelspec": {
   "display_name": "Python 3 (ipykernel)",
   "language": "python",
   "name": "python3"
  },
  "language_info": {
   "codemirror_mode": {
    "name": "ipython",
    "version": 3
   },
   "file_extension": ".py",
   "mimetype": "text/x-python",
   "name": "python",
   "nbconvert_exporter": "python",
   "pygments_lexer": "ipython3",
   "version": "3.7.13"
  }
 },
 "nbformat": 4,
 "nbformat_minor": 5
}
