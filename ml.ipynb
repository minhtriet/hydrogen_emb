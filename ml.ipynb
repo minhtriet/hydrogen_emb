{
 "cells": [
  {
   "cell_type": "code",
   "execution_count": 1,
   "id": "8e1c0d1d-0fd8-4861-9b05-bdf8d3ab7a15",
   "metadata": {
    "tags": []
   },
   "outputs": [],
   "source": [
    "import pickle\n",
    "import pandas as pd\n",
    "from sklearn.decomposition import PCA\n",
    "from sklearn.metrics import mean_squared_error as mse\n",
    "from torch.utils.data import DataLoader\n",
    "from matplotlib import cm\n",
    "import matplotlib.pyplot as plt\n",
    "import numpy as np\n",
    "\n",
    "from tqdm.notebook import tqdm\n",
    "\n",
    "import torch\n",
    "import torch.nn as nn\n",
    "import torch.nn.functional as F\n",
    "import torch.optim as optim"
   ]
  },
  {
   "cell_type": "code",
   "execution_count": 2,
   "id": "df95df6b-0cf8-45e6-b880-d5cefdd7bd82",
   "metadata": {},
   "outputs": [],
   "source": [
    "%matplotlib inline"
   ]
  },
  {
   "cell_type": "code",
   "execution_count": 3,
   "id": "236631e0-905a-42f8-8dc7-72e0acd5cd72",
   "metadata": {},
   "outputs": [],
   "source": [
    "device = torch.device(\"cuda\" if torch.cuda.is_available() else \"cpu\")"
   ]
  },
  {
   "cell_type": "code",
   "execution_count": 4,
   "id": "9e9f7f4f-23da-4a54-ae07-016160c67fe1",
   "metadata": {
    "tags": []
   },
   "outputs": [],
   "source": [
    "with open('train_data.pkl', 'rb') as f:\n",
    "    train_data = pickle.load(f)\n",
    "\n",
    "with open('val_data.pkl', 'rb') as f:\n",
    "    val_data = pickle.load(f)\n",
    "\n",
    "with open('test_data.pkl', 'rb') as f:\n",
    "    test_data = pickle.load(f)"
   ]
  },
  {
   "cell_type": "code",
   "execution_count": 5,
   "id": "2b496876-da7e-4598-aedd-3472ac90b74b",
   "metadata": {
    "tags": []
   },
   "outputs": [],
   "source": [
    "N_COMPONENTS = 3\n",
    "INPUT_STEP = 10\n",
    "OUTPUT_STEP = 1\n",
    "BATCH_SIZE = 8"
   ]
  },
  {
   "cell_type": "markdown",
   "id": "dfcb5e5b-d63d-448e-a5ac-dff68b825ef8",
   "metadata": {},
   "source": [
    "## Create dataset"
   ]
  },
  {
   "cell_type": "code",
   "execution_count": 6,
   "id": "bd43c65a-0b57-4a35-87aa-c8205ea98ba8",
   "metadata": {},
   "outputs": [],
   "source": [
    "from torch.utils.data import Dataset\n",
    "\n",
    "class HEDataset(Dataset):\n",
    "    def __init__(self, data, pca=None, mean=None, std=None):\n",
    "        print(\"Reduce dim\")\n",
    "        if not pca:\n",
    "            pca = PCA(n_components=N_COMPONENTS)\n",
    "            pca.fit(data)\n",
    "            print(pca.explained_variance_)\n",
    "        self.pca = pca\n",
    "        transformed_data = pca.transform(data)\n",
    "        timeframes = torch.Tensor(transformed_data)\n",
    "        \n",
    "        print(\"Data norm\")\n",
    "        if mean is None:\n",
    "            mean = timeframes.mean(0)\n",
    "        self.mean = mean\n",
    "        print(self.mean)\n",
    "        if std is None:\n",
    "            std = timeframes.std(0)\n",
    "        self.std = std\n",
    "        transformed_data = timeframes - self.mean\n",
    "        transformed_data = transformed_data / self.std\n",
    "        self.original = transformed_data # todo debug only\n",
    "        print(\"Unfold data into blocks\")\n",
    "        self.srcs = transformed_data[:-1].unfold(0, INPUT_STEP, 1).to(device)   # leave the last one for the last tgts\n",
    "        self.tgts = torch.unsqueeze(transformed_data[INPUT_STEP:], 2).to(device)\n",
    "        assert self.srcs.shape[0] == self.tgts.shape[0]\n",
    "        step = self.srcs.shape[0] // 2\n",
    "        assert torch.equal(self.srcs[step, :, -1].detach().unsqueeze(1), self.tgts[step-1, :, :].detach())\n",
    "        print(self.srcs.shape, self.tgts.shape)\n",
    "\n",
    "    def __getitem__(self, idx):\n",
    "        src = self.srcs[idx, :, :]\n",
    "        tgt = self.tgts[idx, :, :]\n",
    "        return src, tgt\n",
    "    \n",
    "    def __len__(self):\n",
    "        return self.srcs.shape[0]"
   ]
  },
  {
   "cell_type": "code",
   "execution_count": 7,
   "id": "ecad95f5-3ed2-4396-86f7-54117331c808",
   "metadata": {
    "tags": []
   },
   "outputs": [],
   "source": [
    "# transformed_data = torch.Tensor(transformed_data).to(device)"
   ]
  },
  {
   "cell_type": "code",
   "execution_count": 8,
   "id": "07fea291-af13-4560-8ce7-64a192c9d618",
   "metadata": {},
   "outputs": [],
   "source": [
    "# transformed_data.shape"
   ]
  },
  {
   "cell_type": "code",
   "execution_count": 9,
   "id": "291ab3ff-64ce-4db0-9078-2ab003c463d3",
   "metadata": {
    "tags": []
   },
   "outputs": [],
   "source": [
    "# Training\n",
    "# 1 2 3 -> 4\n",
    "# 2 3 4 -> 5\n",
    "# Testing\n",
    "# 3 4 5 -> (6) todo mse of this step\n",
    "# 4 5 (6) -> (7) todo mse of this step\n",
    "# 5 (6) (7) -> (8) todo mse of this step\n",
    "# todo 5 is seen, so performance may be benefited from this"
   ]
  },
  {
   "cell_type": "code",
   "execution_count": 10,
   "id": "fea17333-9b52-417a-95c9-8353a353bc2f",
   "metadata": {},
   "outputs": [
    {
     "data": {
      "text/plain": [
       "array([[133.81 ,  88.55 ,  61.88 , ...,  44.483,  44.483,  44.483],\n",
       "       [382.26 , 255.15 , 178.11 , ..., 127.37 , 127.37 , 127.37 ],\n",
       "       [762.26 , 509.43 , 355.46 , ..., 252.56 , 252.56 , 252.56 ],\n",
       "       ...,\n",
       "       [296.03 , 197.63 , 138.   , ...,  98.799,  98.799,  98.799],\n",
       "       [331.21 , 221.17 , 154.41 , ..., 110.47 , 110.47 , 110.47 ],\n",
       "       [121.58 ,  80.613,  56.355, ...,  40.592,  40.592,  40.592]])"
      ]
     },
     "execution_count": 10,
     "metadata": {},
     "output_type": "execute_result"
    }
   ],
   "source": [
    "train_data"
   ]
  },
  {
   "cell_type": "code",
   "execution_count": 11,
   "id": "159cbe4f-b0ad-40d9-9918-ae9441103b01",
   "metadata": {},
   "outputs": [
    {
     "name": "stdout",
     "output_type": "stream",
     "text": [
      "Reduce dim\n",
      "[1.10035800e+06 2.67009012e+00 1.49567762e+00]\n",
      "Data norm\n",
      "tensor([-2.1191e-05,  6.7003e-09, -1.8680e-08])\n",
      "Unfold data into blocks\n",
      "torch.Size([4990, 3, 10]) torch.Size([4990, 3, 1])\n"
     ]
    }
   ],
   "source": [
    "training_dataset = HEDataset(train_data[:5000])"
   ]
  },
  {
   "cell_type": "code",
   "execution_count": 12,
   "id": "70f1ade9-f26b-4e29-a125-3911c0564c95",
   "metadata": {},
   "outputs": [
    {
     "data": {
      "text/plain": [
       "<AxesSubplot:ylabel='Count'>"
      ]
     },
     "execution_count": 12,
     "metadata": {},
     "output_type": "execute_result"
    },
    {
     "data": {
      "image/png": "[encoded data removed]",
      "text/plain": [
       "<Figure size 432x288 with 1 Axes>"
      ]
     },
     "metadata": {
      "needs_background": "light"
     },
     "output_type": "display_data"
    }
   ],
   "source": [
    "import seaborn as sns\n",
    "_ = training_dataset.original.cpu().numpy()\n",
    "sns.histplot(_.flatten())"
   ]
  },
  {
   "cell_type": "code",
   "execution_count": 13,
   "id": "b22914df-4937-4957-aa4b-6e5a57507977",
   "metadata": {},
   "outputs": [
    {
     "name": "stdout",
     "output_type": "stream",
     "text": [
      "Reduce dim\n",
      "Data norm\n",
      "tensor([-2.1191e-05,  6.7003e-09, -1.8680e-08])\n",
      "Unfold data into blocks\n",
      "torch.Size([1990, 3, 10]) torch.Size([1990, 3, 1])\n"
     ]
    }
   ],
   "source": [
    "validation_dataset = HEDataset(train_data[5000:7000], training_dataset.pca, training_dataset.mean, training_dataset.std)\n",
    "# validation_dataset = HEDataset(val_data, training_dataset.pca, training_dataset.mean, training_dataset.std)"
   ]
  },
  {
   "cell_type": "code",
   "execution_count": 14,
   "id": "318673bc-65ef-485d-b205-c2f1927afe89",
   "metadata": {},
   "outputs": [],
   "source": [
    "dataloader = DataLoader(training_dataset, batch_size=BATCH_SIZE, shuffle=False)"
   ]
  },
  {
   "cell_type": "code",
   "execution_count": 15,
   "id": "4c6632e2-5c60-4ee8-9370-b8a0c70e628a",
   "metadata": {},
   "outputs": [],
   "source": [
    "dataloader_val = DataLoader(validation_dataset, batch_size=1, shuffle=False)"
   ]
  },
  {
   "cell_type": "code",
   "execution_count": 16,
   "id": "1f608e75-7c08-441f-9532-91b2eda284e0",
   "metadata": {
    "tags": []
   },
   "outputs": [],
   "source": [
    "def train(model):\n",
    "    loss = nn.MSELoss()\n",
    "    optimizer = optim.Adam(model.parameters(), lr=1e-1)\n",
    "    for epoch in range(7):  # loop over the dataset multiple times\n",
    "        model.train()\n",
    "        running_loss = 0.0\n",
    "        for data in tqdm(dataloader, \"Train\"):\n",
    "            optimizer.zero_grad()\n",
    "            src, tgt = data \n",
    "            outputs, _ = model(src)\n",
    "            l = loss(outputs, tgt)\n",
    "            l.backward()\n",
    "            optimizer.step()\n",
    "            # print statistics\n",
    "            running_loss += l\n",
    "        print(f'[{epoch + 1}] loss: {running_loss/len(dataloader)}')\n",
    "        model.eval()\n",
    "        with torch.no_grad():\n",
    "            val_loss = 0\n",
    "            for data in tqdm(dataloader_val, \"Val\"):\n",
    "                src, tgt = data\n",
    "                outputs, _ = model(src)\n",
    "                l = loss(outputs, tgt)\n",
    "                running_loss += l\n",
    "            print(f'[{epoch + 1}] Val loss: {running_loss/len(dataloader_val)}') \n",
    "    return model  "
   ]
  },
  {
   "cell_type": "markdown",
   "id": "7a35607c-0012-4904-a8b4-1cda34bd91c7",
   "metadata": {
    "execution": {
     "iopub.execute_input": "2022-02-26T14:27:26.010466Z",
     "iopub.status.busy": "2022-02-26T14:27:26.008818Z",
     "iopub.status.idle": "2022-02-26T14:27:26.017085Z",
     "shell.execute_reply": "2022-02-26T14:27:26.014688Z",
     "shell.execute_reply.started": "2022-02-26T14:27:26.010413Z"
    },
    "tags": []
   },
   "source": [
    "### LSTM"
   ]
  },
  {
   "cell_type": "code",
   "execution_count": 17,
   "id": "fa512dfc-a738-4e1f-bcf1-a5412573c52c",
   "metadata": {},
   "outputs": [
    {
     "data": {
      "application/vnd.jupyter.widget-view+json": {
       "model_id": "078d759ed67f4e9d9405be811b06d1f6",
       "version_major": 2,
       "version_minor": 0
      },
      "text/plain": [
       "Train:   0%|          | 0/624 [00:00<?, ?it/s]"
      ]
     },
     "metadata": {},
     "output_type": "display_data"
    },
    {
     "name": "stdout",
     "output_type": "stream",
     "text": [
      "[1] loss: 1.0014554262161255\n"
     ]
    },
    {
     "data": {
      "application/vnd.jupyter.widget-view+json": {
       "model_id": "1aee571dda5a482f8918584c00bde5f1",
       "version_major": 2,
       "version_minor": 0
      },
      "text/plain": [
       "Val:   0%|          | 0/1990 [00:00<?, ?it/s]"
      ]
     },
     "metadata": {},
     "output_type": "display_data"
    },
    {
     "name": "stdout",
     "output_type": "stream",
     "text": [
      "[1] Val loss: 1.372548222541809\n"
     ]
    },
    {
     "data": {
      "application/vnd.jupyter.widget-view+json": {
       "model_id": "1fc1b5f276824a349f7cc62f75aa84bc",
       "version_major": 2,
       "version_minor": 0
      },
      "text/plain": [
       "Train:   0%|          | 0/624 [00:00<?, ?it/s]"
      ]
     },
     "metadata": {},
     "output_type": "display_data"
    },
    {
     "name": "stdout",
     "output_type": "stream",
     "text": [
      "[2] loss: 1.0000848770141602\n"
     ]
    },
    {
     "data": {
      "application/vnd.jupyter.widget-view+json": {
       "model_id": "127100fc03424aa6a232c44d6c1eff36",
       "version_major": 2,
       "version_minor": 0
      },
      "text/plain": [
       "Val:   0%|          | 0/1990 [00:00<?, ?it/s]"
      ]
     },
     "metadata": {},
     "output_type": "display_data"
    },
    {
     "name": "stdout",
     "output_type": "stream",
     "text": [
      "[2] Val loss: 1.3721033334732056\n"
     ]
    },
    {
     "data": {
      "application/vnd.jupyter.widget-view+json": {
       "model_id": "0f591d0ff0a44ef28494244e3afb069c",
       "version_major": 2,
       "version_minor": 0
      },
      "text/plain": [
       "Train:   0%|          | 0/624 [00:00<?, ?it/s]"
      ]
     },
     "metadata": {},
     "output_type": "display_data"
    },
    {
     "name": "stdout",
     "output_type": "stream",
     "text": [
      "[3] loss: 1.000082015991211\n"
     ]
    },
    {
     "data": {
      "application/vnd.jupyter.widget-view+json": {
       "model_id": "603a7f425d6a4a869e9094ce7c4bd671",
       "version_major": 2,
       "version_minor": 0
      },
      "text/plain": [
       "Val:   0%|          | 0/1990 [00:00<?, ?it/s]"
      ]
     },
     "metadata": {},
     "output_type": "display_data"
    },
    {
     "name": "stdout",
     "output_type": "stream",
     "text": [
      "[3] Val loss: 1.3720958232879639\n"
     ]
    },
    {
     "data": {
      "application/vnd.jupyter.widget-view+json": {
       "model_id": "328e9462654e4d3cb5484ca0526cab0d",
       "version_major": 2,
       "version_minor": 0
      },
      "text/plain": [
       "Train:   0%|          | 0/624 [00:00<?, ?it/s]"
      ]
     },
     "metadata": {},
     "output_type": "display_data"
    },
    {
     "name": "stdout",
     "output_type": "stream",
     "text": [
      "[4] loss: 1.0000816583633423\n"
     ]
    },
    {
     "data": {
      "application/vnd.jupyter.widget-view+json": {
       "model_id": "f3c91f6e211941c58a6cc7dddb652ff8",
       "version_major": 2,
       "version_minor": 0
      },
      "text/plain": [
       "Val:   0%|          | 0/1990 [00:00<?, ?it/s]"
      ]
     },
     "metadata": {},
     "output_type": "display_data"
    },
    {
     "name": "stdout",
     "output_type": "stream",
     "text": [
      "[4] Val loss: 1.3720906972885132\n"
     ]
    },
    {
     "data": {
      "application/vnd.jupyter.widget-view+json": {
       "model_id": "0c02190f05824094a060b5230b94c1e2",
       "version_major": 2,
       "version_minor": 0
      },
      "text/plain": [
       "Train:   0%|          | 0/624 [00:00<?, ?it/s]"
      ]
     },
     "metadata": {},
     "output_type": "display_data"
    },
    {
     "name": "stdout",
     "output_type": "stream",
     "text": [
      "[5] loss: 1.0000805854797363\n"
     ]
    },
    {
     "data": {
      "application/vnd.jupyter.widget-view+json": {
       "model_id": "d8ed210274bb4df088009898e9dc4b40",
       "version_major": 2,
       "version_minor": 0
      },
      "text/plain": [
       "Val:   0%|          | 0/1990 [00:00<?, ?it/s]"
      ]
     },
     "metadata": {},
     "output_type": "display_data"
    },
    {
     "name": "stdout",
     "output_type": "stream",
     "text": [
      "[5] Val loss: 1.3720892667770386\n"
     ]
    },
    {
     "data": {
      "application/vnd.jupyter.widget-view+json": {
       "model_id": "081275ef9b604b219b85e71527f945fb",
       "version_major": 2,
       "version_minor": 0
      },
      "text/plain": [
       "Train:   0%|          | 0/624 [00:00<?, ?it/s]"
      ]
     },
     "metadata": {},
     "output_type": "display_data"
    },
    {
     "name": "stdout",
     "output_type": "stream",
     "text": [
      "[6] loss: 1.0000810623168945\n"
     ]
    },
    {
     "data": {
      "application/vnd.jupyter.widget-view+json": {
       "model_id": "944de26100a24f6bb97a9e853f9d9494",
       "version_major": 2,
       "version_minor": 0
      },
      "text/plain": [
       "Val:   0%|          | 0/1990 [00:00<?, ?it/s]"
      ]
     },
     "metadata": {},
     "output_type": "display_data"
    },
    {
     "name": "stdout",
     "output_type": "stream",
     "text": [
      "[6] Val loss: 1.3720875978469849\n"
     ]
    },
    {
     "data": {
      "application/vnd.jupyter.widget-view+json": {
       "model_id": "5f1a6b038b1945109184f136af76cdc3",
       "version_major": 2,
       "version_minor": 0
      },
      "text/plain": [
       "Train:   0%|          | 0/624 [00:00<?, ?it/s]"
      ]
     },
     "metadata": {},
     "output_type": "display_data"
    },
    {
     "name": "stdout",
     "output_type": "stream",
     "text": [
      "[7] loss: 1.0000807046890259\n"
     ]
    },
    {
     "data": {
      "application/vnd.jupyter.widget-view+json": {
       "model_id": "c33bf6da1f87455aa220085c34abc77e",
       "version_major": 2,
       "version_minor": 0
      },
      "text/plain": [
       "Val:   0%|          | 0/1990 [00:00<?, ?it/s]"
      ]
     },
     "metadata": {},
     "output_type": "display_data"
    },
    {
     "name": "stdout",
     "output_type": "stream",
     "text": [
      "[7] Val loss: 1.3720874786376953\n"
     ]
    }
   ],
   "source": [
    "lstm = nn.LSTM(INPUT_STEP, OUTPUT_STEP, 8, batch_first=True).to(device)\n",
    "lstm = train(lstm)"
   ]
  },
  {
   "cell_type": "code",
   "execution_count": 18,
   "id": "ed79eb72-a0b0-49c8-9a68-796d0e757a4b",
   "metadata": {
    "tags": []
   },
   "outputs": [],
   "source": [
    "def predict_reconstruct_data(pca, mean, std, model, dataloader):\n",
    "    outputs = []    \n",
    "    model.eval()\n",
    "    with torch.no_grad():\n",
    "        for _, data in list(enumerate(tqdm(dataloader, \"Predict\"))):  # enumerate to reset the dataloader\n",
    "            src, _ = data\n",
    "            if type(model) == torch.nn.modules.rnn.LSTM:\n",
    "                output, _ = model(src)                \n",
    "            else:\n",
    "                output = model(src)            \n",
    "            outputs.append(output.reshape(N_COMPONENTS))\n",
    "        # Unnormalized the data\n",
    "        outputs = torch.stack(outputs, dim=0)\n",
    "        outputs = outputs * std.to(device)\n",
    "        outputs = outputs + mean.to(device)\n",
    "        reconstructed_sklearn = pca.inverse_transform(outputs.cpu().numpy())\n",
    "        return reconstructed_sklearn"
   ]
  },
  {
   "cell_type": "code",
   "execution_count": 19,
   "id": "d71ced2f-66c7-475d-b04a-b87939602f81",
   "metadata": {},
   "outputs": [
    {
     "data": {
      "application/vnd.jupyter.widget-view+json": {
       "model_id": "1a1deac42b6d4a61a7f89c8cf1744f35",
       "version_major": 2,
       "version_minor": 0
      },
      "text/plain": [
       "Predict:   0%|          | 0/1990 [00:00<?, ?it/s]"
      ]
     },
     "metadata": {},
     "output_type": "display_data"
    }
   ],
   "source": [
    "reconstruct_lstm = predict_reconstruct_data(training_dataset.pca, training_dataset.mean, training_dataset.std, lstm, dataloader_val)"
   ]
  },
  {
   "cell_type": "code",
   "execution_count": 20,
   "id": "a232dd85-d5ee-4fa1-bce5-5a571de66fa3",
   "metadata": {},
   "outputs": [],
   "source": [
    "def evaluate_reconstructed(receive, expected):\n",
    "    print(f\"Receive shape: {receive.shape}. Expected shape: {expected.shape}\")\n",
    "    return mse(receive, expected)"
   ]
  },
  {
   "cell_type": "code",
   "execution_count": 21,
   "id": "c15d2cfc-514b-4752-bc60-28e3917f8717",
   "metadata": {},
   "outputs": [
    {
     "data": {
      "text/plain": [
       "6323.864398371921"
      ]
     },
     "execution_count": 21,
     "metadata": {},
     "output_type": "execute_result"
    }
   ],
   "source": [
    "mse(reconstruct_lstm, train_data[5000+INPUT_STEP:7000])"
   ]
  },
  {
   "cell_type": "markdown",
   "id": "97d52acf-980e-402a-85a0-b72b5fddbcb3",
   "metadata": {},
   "source": [
    "### Transformer"
   ]
  },
  {
   "cell_type": "code",
   "execution_count": 26,
   "id": "b7f049e8-c76a-44d7-b116-37716d4af645",
   "metadata": {
    "tags": []
   },
   "outputs": [],
   "source": [
    "loss = nn.MSELoss()\n",
    "#transformer_model = nn.Transformer(nhead=N_COMPONENTS, num_encoder_layers=32,   # d_model divisible by nhead\n",
    "#                                   d_model=N_COMPONENTS, batch_first=True).to(device)\n",
    "transformer_model = nn.Transformer(nhead=N_COMPONENTS, num_encoder_layers=32,   # d_model divisible by nhead\n",
    "                                   d_model=N_COMPONENTS).to(device)\n",
    "optimizer = optim.Adam(transformer_model.parameters(), lr=0.0001)"
   ]
  },
  {
   "cell_type": "code",
   "execution_count": 27,
   "id": "c95eb565-ed0c-48b1-9659-db40a6609667",
   "metadata": {
    "tags": []
   },
   "outputs": [],
   "source": [
    "def train_tf(model):\n",
    "    model.train()\n",
    "    loss = nn.MSELoss()\n",
    "    optimizer = optim.Adam(model.parameters(), lr=1e-8)\n",
    "    for epoch in range(3):  # loop over the dataset multiple times\n",
    "        for i in tqdm(range(srcs.shape[1]//100)):\n",
    "            optimizer.zero_grad()\n",
    "            running_loss = 0.0\n",
    "\n",
    "            src = srcs[:,i,:].T\n",
    "            tgt = torch.unsqueeze(tgts[:,i], dim=0)\n",
    "            outputs = model(src, tgt)\n",
    "            l = loss(outputs, tgt)\n",
    "            l.backward()\n",
    "            optimizer.step()\n",
    "\n",
    "            # print statistics\n",
    "            running_loss += l\n",
    "        print(f'[{epoch + 1}] loss: {running_loss / 2000:}')\n",
    "    return model  "
   ]
  },
  {
   "cell_type": "code",
   "execution_count": 28,
   "id": "9fde9e67-b8ca-488c-85eb-0dab20b06c3f",
   "metadata": {
    "tags": []
   },
   "outputs": [
    {
     "ename": "NameError",
     "evalue": "name 'srcs' is not defined",
     "output_type": "error",
     "traceback": [
      "\u001b[0;31m---------------------------------------------------------------------------\u001b[0m",
      "\u001b[0;31mNameError\u001b[0m                                 Traceback (most recent call last)",
      "\u001b[0;32m/datadrive/minh/ipykernel_1933/3190729371.py\u001b[0m in \u001b[0;36m<module>\u001b[0;34m\u001b[0m\n\u001b[0;32m----> 1\u001b[0;31m \u001b[0mtransformer_model\u001b[0m \u001b[0;34m=\u001b[0m \u001b[0mtrain_tf\u001b[0m\u001b[0;34m(\u001b[0m\u001b[0mtransformer_model\u001b[0m\u001b[0;34m)\u001b[0m\u001b[0;34m\u001b[0m\u001b[0;34m\u001b[0m\u001b[0m\n\u001b[0m",
      "\u001b[0;32m/datadrive/minh/ipykernel_1933/1487823757.py\u001b[0m in \u001b[0;36mtrain_tf\u001b[0;34m(model)\u001b[0m\n\u001b[1;32m      4\u001b[0m     \u001b[0moptimizer\u001b[0m \u001b[0;34m=\u001b[0m \u001b[0moptim\u001b[0m\u001b[0;34m.\u001b[0m\u001b[0mAdam\u001b[0m\u001b[0;34m(\u001b[0m\u001b[0mmodel\u001b[0m\u001b[0;34m.\u001b[0m\u001b[0mparameters\u001b[0m\u001b[0;34m(\u001b[0m\u001b[0;34m)\u001b[0m\u001b[0;34m,\u001b[0m \u001b[0mlr\u001b[0m\u001b[0;34m=\u001b[0m\u001b[0;36m1e-8\u001b[0m\u001b[0;34m)\u001b[0m\u001b[0;34m\u001b[0m\u001b[0;34m\u001b[0m\u001b[0m\n\u001b[1;32m      5\u001b[0m     \u001b[0;32mfor\u001b[0m \u001b[0mepoch\u001b[0m \u001b[0;32min\u001b[0m \u001b[0mrange\u001b[0m\u001b[0;34m(\u001b[0m\u001b[0;36m3\u001b[0m\u001b[0;34m)\u001b[0m\u001b[0;34m:\u001b[0m  \u001b[0;31m# loop over the dataset multiple times\u001b[0m\u001b[0;34m\u001b[0m\u001b[0;34m\u001b[0m\u001b[0m\n\u001b[0;32m----> 6\u001b[0;31m         \u001b[0;32mfor\u001b[0m \u001b[0mi\u001b[0m \u001b[0;32min\u001b[0m \u001b[0mtqdm\u001b[0m\u001b[0;34m(\u001b[0m\u001b[0mrange\u001b[0m\u001b[0;34m(\u001b[0m\u001b[0msrcs\u001b[0m\u001b[0;34m.\u001b[0m\u001b[0mshape\u001b[0m\u001b[0;34m[\u001b[0m\u001b[0;36m1\u001b[0m\u001b[0;34m]\u001b[0m\u001b[0;34m//\u001b[0m\u001b[0;36m100\u001b[0m\u001b[0;34m)\u001b[0m\u001b[0;34m)\u001b[0m\u001b[0;34m:\u001b[0m\u001b[0;34m\u001b[0m\u001b[0;34m\u001b[0m\u001b[0m\n\u001b[0m\u001b[1;32m      7\u001b[0m             \u001b[0moptimizer\u001b[0m\u001b[0;34m.\u001b[0m\u001b[0mzero_grad\u001b[0m\u001b[0;34m(\u001b[0m\u001b[0;34m)\u001b[0m\u001b[0;34m\u001b[0m\u001b[0;34m\u001b[0m\u001b[0m\n\u001b[1;32m      8\u001b[0m             \u001b[0mrunning_loss\u001b[0m \u001b[0;34m=\u001b[0m \u001b[0;36m0.0\u001b[0m\u001b[0;34m\u001b[0m\u001b[0;34m\u001b[0m\u001b[0m\n",
      "\u001b[0;31mNameError\u001b[0m: name 'srcs' is not defined"
     ]
    }
   ],
   "source": [
    "transformer_model = train_tf(transformer_model)"
   ]
  },
  {
   "cell_type": "markdown",
   "id": "093f8a50-5a09-4712-a938-344a0b93781e",
   "metadata": {},
   "source": [
    "## Reconstruct "
   ]
  },
  {
   "cell_type": "code",
   "execution_count": null,
   "id": "8cf39dc1-b047-4d40-a547-d4d73cd885cd",
   "metadata": {
    "tags": []
   },
   "outputs": [],
   "source": [
    "type(p_data)"
   ]
  },
  {
   "cell_type": "code",
   "execution_count": null,
   "id": "d533a267-0305-4371-a723-d0a1c7b632af",
   "metadata": {
    "tags": []
   },
   "outputs": [],
   "source": [
    "transformed_data.shape"
   ]
  },
  {
   "cell_type": "code",
   "execution_count": null,
   "id": "c066ac37-9111-4e41-980d-9861d418da57",
   "metadata": {
    "tags": []
   },
   "outputs": [],
   "source": [
    "transformer_model.eval()\n",
    "transformer_eval = transformed_data.copy()\n",
    "for i in range(4, p_data.shape[1]-1):\n",
    "    print(transformer_eval.shape)\n",
    "    predict = transformer_model(torch.unsqueeze(torch.FloatTensor(transformer_eval[-2-INPUT_STEP:-2]), 0),  # INPUT_STEP steps before\n",
    "                               torch.unsqueeze(torch.FloatTensor(transformer_eval[-1:]), 0))\n",
    "    print(predict.shape)\n",
    "    transformer_eval = np.append(transformer_eval, predict[0].detach().numpy(), axis=0)  # append prediction and "
   ]
  },
  {
   "cell_type": "code",
   "execution_count": null,
   "id": "86032518-f88d-4826-955a-0bdcb777affe",
   "metadata": {
    "tags": []
   },
   "outputs": [],
   "source": [
    "transformer_eval.shape"
   ]
  },
  {
   "cell_type": "code",
   "execution_count": null,
   "id": "8bc5a28b-f84b-4119-a564-d0a48d39dbb1",
   "metadata": {
    "tags": []
   },
   "outputs": [],
   "source": [
    "reconstruct(transformer_eval)"
   ]
  },
  {
   "cell_type": "markdown",
   "id": "6d9ed1b3-c2a4-4ed3-a4fb-d7c58224bb97",
   "metadata": {},
   "source": [
    "todo\n",
    "\n",
    "10s\n",
    "10.1s\n",
    "10.2s\n",
    "\n",
    "a common algo to reduce dim, pca. \n",
    "- look at robustness for prediction further in time.\n",
    "    - how to get more data simscale. Horizon 8 hours, train 6h, predict 2h. First step 10 mins\n",
    "        - Increase data slowly, see the limit of ML methods\n",
    "        - Tradition ML (lstm, transformers) will have problem. How long can we predict using this?\n",
    "            - Change ML approach maybe to operator inference"
   ]
  }
 ],
 "metadata": {
  "kernelspec": {
   "display_name": "Python 3 (ipykernel)",
   "language": "python",
   "name": "python3"
  },
  "language_info": {
   "codemirror_mode": {
    "name": "ipython",
    "version": 3
   },
   "file_extension": ".py",
   "mimetype": "text/x-python",
   "name": "python",
   "nbconvert_exporter": "python",
   "pygments_lexer": "ipython3",
   "version": "3.7.13"
  }
 },
 "nbformat": 4,
 "nbformat_minor": 5
}
