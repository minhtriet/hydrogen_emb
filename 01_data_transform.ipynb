{
 "cells": [
  {
   "cell_type": "markdown",
   "id": "e94bb81a-1c46-4545-bea3-2fe6b6032b75",
   "metadata": {},
   "source": [
    "This notebook with transform the output of Paraview into something feedable to ML"
   ]
  },
  {
   "cell_type": "code",
   "execution_count": 1,
   "id": "08a16d58-85e1-40bc-ae5e-bd735e10c6d4",
   "metadata": {
    "execution": {
     "iopub.execute_input": "2022-06-23T20:36:22.585997Z",
     "iopub.status.busy": "2022-06-23T20:36:22.585560Z",
     "iopub.status.idle": "2022-06-23T20:36:25.493576Z",
     "shell.execute_reply": "2022-06-23T20:36:25.492726Z",
     "shell.execute_reply.started": "2022-06-23T20:36:22.585904Z"
    },
    "tags": []
   },
   "outputs": [],
   "source": [
    "import pickle\n",
    "\n",
    "import pandas as pd\n",
    "\n",
    "import numpy as np\n",
    "\n",
    "from tqdm.notebook import tqdm"
   ]
  },
  {
   "cell_type": "code",
   "execution_count": 2,
   "id": "6fb23918-5f12-4db7-922c-59c0f977c968",
   "metadata": {
    "execution": {
     "iopub.execute_input": "2022-06-23T20:36:25.495395Z",
     "iopub.status.busy": "2022-06-23T20:36:25.495115Z",
     "iopub.status.idle": "2022-06-23T20:36:25.499496Z",
     "shell.execute_reply": "2022-06-23T20:36:25.498296Z",
     "shell.execute_reply.started": "2022-06-23T20:36:25.495366Z"
    },
    "tags": []
   },
   "outputs": [],
   "source": [
    "from pathlib import PurePath"
   ]
  },
  {
   "cell_type": "code",
   "execution_count": 3,
   "id": "c106c356-6072-4252-8a22-ce640070f0ad",
   "metadata": {
    "execution": {
     "iopub.execute_input": "2022-06-23T20:36:25.502105Z",
     "iopub.status.busy": "2022-06-23T20:36:25.501877Z",
     "iopub.status.idle": "2022-06-23T20:36:25.506046Z",
     "shell.execute_reply": "2022-06-23T20:36:25.504945Z",
     "shell.execute_reply.started": "2022-06-23T20:36:25.502080Z"
    },
    "tags": []
   },
   "outputs": [],
   "source": [
    "NUM_FRAMES = 999   # number of timestep. Before was 9! 344!"
   ]
  },
  {
   "cell_type": "markdown",
   "id": "3c4d9873-2166-44f4-a351-04598731ae6d",
   "metadata": {},
   "source": [
    "Our simulation managed to create `NUM_FRAMES` in csv forms"
   ]
  },
  {
   "cell_type": "code",
   "execution_count": 4,
   "id": "4840ba9f-559d-4568-bd8f-717dd579f18e",
   "metadata": {
    "execution": {
     "iopub.execute_input": "2022-06-23T20:36:25.509043Z",
     "iopub.status.busy": "2022-06-23T20:36:25.508635Z",
     "iopub.status.idle": "2022-06-23T20:36:25.519223Z",
     "shell.execute_reply": "2022-06-23T20:36:25.518064Z",
     "shell.execute_reply.started": "2022-06-23T20:36:25.508993Z"
    },
    "tags": []
   },
   "outputs": [],
   "source": [
    "data_paths = [PurePath(\"new_data\", f\"data_{i}.csv\") for i in range(0,NUM_FRAMES)]"
   ]
  },
  {
   "cell_type": "code",
   "execution_count": 5,
   "id": "9fbd1e92-7626-4f88-a334-e38526d7b56a",
   "metadata": {
    "execution": {
     "iopub.execute_input": "2022-06-23T20:36:25.521144Z",
     "iopub.status.busy": "2022-06-23T20:36:25.520725Z",
     "iopub.status.idle": "2022-06-23T20:36:25.591856Z",
     "shell.execute_reply": "2022-06-23T20:36:25.591202Z",
     "shell.execute_reply.started": "2022-06-23T20:36:25.521111Z"
    },
    "tags": []
   },
   "outputs": [
    {
     "data": {
      "text/html": [
       "<div>\n",
       "<style scoped>\n",
       "    .dataframe tbody tr th:only-of-type {\n",
       "        vertical-align: middle;\n",
       "    }\n",
       "\n",
       "    .dataframe tbody tr th {\n",
       "        vertical-align: top;\n",
       "    }\n",
       "\n",
       "    .dataframe thead th {\n",
       "        text-align: right;\n",
       "    }\n",
       "</style>\n",
       "<table border=\"1\" class=\"dataframe\">\n",
       "  <thead>\n",
       "    <tr style=\"text-align: right;\">\n",
       "      <th></th>\n",
       "      <th>Time</th>\n",
       "      <th>Points:0</th>\n",
       "      <th>Points:1</th>\n",
       "      <th>Points:2</th>\n",
       "      <th>U:0</th>\n",
       "      <th>U:1</th>\n",
       "      <th>U:2</th>\n",
       "      <th>k</th>\n",
       "      <th>nut</th>\n",
       "      <th>omega</th>\n",
       "      <th>p</th>\n",
       "    </tr>\n",
       "  </thead>\n",
       "  <tbody>\n",
       "    <tr>\n",
       "      <th>0</th>\n",
       "      <td>0.002</td>\n",
       "      <td>0.024731</td>\n",
       "      <td>-0.001165</td>\n",
       "      <td>0.097489</td>\n",
       "      <td>-0.059273</td>\n",
       "      <td>0.062762</td>\n",
       "      <td>10.573</td>\n",
       "      <td>0.006028</td>\n",
       "      <td>0.000032</td>\n",
       "      <td>278.280</td>\n",
       "      <td>3517.600</td>\n",
       "    </tr>\n",
       "    <tr>\n",
       "      <th>1</th>\n",
       "      <td>0.002</td>\n",
       "      <td>0.004980</td>\n",
       "      <td>-0.016126</td>\n",
       "      <td>4.835800</td>\n",
       "      <td>-0.025099</td>\n",
       "      <td>0.018351</td>\n",
       "      <td>10.484</td>\n",
       "      <td>0.004322</td>\n",
       "      <td>0.000032</td>\n",
       "      <td>44.067</td>\n",
       "      <td>80.626</td>\n",
       "    </tr>\n",
       "    <tr>\n",
       "      <th>2</th>\n",
       "      <td>0.002</td>\n",
       "      <td>0.001506</td>\n",
       "      <td>-0.028538</td>\n",
       "      <td>4.913500</td>\n",
       "      <td>0.000000</td>\n",
       "      <td>0.000000</td>\n",
       "      <td>0.000</td>\n",
       "      <td>0.018508</td>\n",
       "      <td>0.000000</td>\n",
       "      <td>6961.300</td>\n",
       "      <td>42.379</td>\n",
       "    </tr>\n",
       "    <tr>\n",
       "      <th>3</th>\n",
       "      <td>0.002</td>\n",
       "      <td>0.026603</td>\n",
       "      <td>-0.010438</td>\n",
       "      <td>4.934800</td>\n",
       "      <td>0.000000</td>\n",
       "      <td>0.000000</td>\n",
       "      <td>0.000</td>\n",
       "      <td>0.018638</td>\n",
       "      <td>0.000000</td>\n",
       "      <td>6983.000</td>\n",
       "      <td>31.822</td>\n",
       "    </tr>\n",
       "    <tr>\n",
       "      <th>4</th>\n",
       "      <td>0.002</td>\n",
       "      <td>0.001855</td>\n",
       "      <td>0.024689</td>\n",
       "      <td>0.173850</td>\n",
       "      <td>0.040683</td>\n",
       "      <td>0.017779</td>\n",
       "      <td>10.479</td>\n",
       "      <td>0.006059</td>\n",
       "      <td>0.000025</td>\n",
       "      <td>287.620</td>\n",
       "      <td>3480.800</td>\n",
       "    </tr>\n",
       "    <tr>\n",
       "      <th>...</th>\n",
       "      <td>...</td>\n",
       "      <td>...</td>\n",
       "      <td>...</td>\n",
       "      <td>...</td>\n",
       "      <td>...</td>\n",
       "      <td>...</td>\n",
       "      <td>...</td>\n",
       "      <td>...</td>\n",
       "      <td>...</td>\n",
       "      <td>...</td>\n",
       "      <td>...</td>\n",
       "    </tr>\n",
       "    <tr>\n",
       "      <th>7577</th>\n",
       "      <td>0.002</td>\n",
       "      <td>-0.013326</td>\n",
       "      <td>0.025280</td>\n",
       "      <td>0.124640</td>\n",
       "      <td>0.000000</td>\n",
       "      <td>0.000000</td>\n",
       "      <td>0.000</td>\n",
       "      <td>0.018415</td>\n",
       "      <td>0.000000</td>\n",
       "      <td>6969.100</td>\n",
       "      <td>3504.500</td>\n",
       "    </tr>\n",
       "    <tr>\n",
       "      <th>7578</th>\n",
       "      <td>0.002</td>\n",
       "      <td>0.017788</td>\n",
       "      <td>0.021330</td>\n",
       "      <td>0.096825</td>\n",
       "      <td>-0.065950</td>\n",
       "      <td>0.078987</td>\n",
       "      <td>10.243</td>\n",
       "      <td>0.016613</td>\n",
       "      <td>0.000004</td>\n",
       "      <td>4931.500</td>\n",
       "      <td>3517.800</td>\n",
       "    </tr>\n",
       "    <tr>\n",
       "      <th>7579</th>\n",
       "      <td>0.002</td>\n",
       "      <td>0.005357</td>\n",
       "      <td>-0.015784</td>\n",
       "      <td>0.196900</td>\n",
       "      <td>0.017935</td>\n",
       "      <td>0.000499</td>\n",
       "      <td>10.545</td>\n",
       "      <td>0.004153</td>\n",
       "      <td>0.000026</td>\n",
       "      <td>24.108</td>\n",
       "      <td>3469.100</td>\n",
       "    </tr>\n",
       "    <tr>\n",
       "      <th>7580</th>\n",
       "      <td>0.002</td>\n",
       "      <td>0.024119</td>\n",
       "      <td>0.015329</td>\n",
       "      <td>0.657600</td>\n",
       "      <td>0.000000</td>\n",
       "      <td>0.000000</td>\n",
       "      <td>0.000</td>\n",
       "      <td>0.006105</td>\n",
       "      <td>0.000000</td>\n",
       "      <td>468.020</td>\n",
       "      <td>3139.400</td>\n",
       "    </tr>\n",
       "    <tr>\n",
       "      <th>7581</th>\n",
       "      <td>0.002</td>\n",
       "      <td>0.007922</td>\n",
       "      <td>-0.025925</td>\n",
       "      <td>0.221750</td>\n",
       "      <td>-0.009533</td>\n",
       "      <td>0.329060</td>\n",
       "      <td>10.762</td>\n",
       "      <td>0.010709</td>\n",
       "      <td>0.000008</td>\n",
       "      <td>1508.700</td>\n",
       "      <td>3456.700</td>\n",
       "    </tr>\n",
       "  </tbody>\n",
       "</table>\n",
       "<p>7582 rows × 11 columns</p>\n",
       "</div>"
      ],
      "text/plain": [
       "       Time  Points:0  Points:1  Points:2       U:0       U:1     U:2  \\\n",
       "0     0.002  0.024731 -0.001165  0.097489 -0.059273  0.062762  10.573   \n",
       "1     0.002  0.004980 -0.016126  4.835800 -0.025099  0.018351  10.484   \n",
       "2     0.002  0.001506 -0.028538  4.913500  0.000000  0.000000   0.000   \n",
       "3     0.002  0.026603 -0.010438  4.934800  0.000000  0.000000   0.000   \n",
       "4     0.002  0.001855  0.024689  0.173850  0.040683  0.017779  10.479   \n",
       "...     ...       ...       ...       ...       ...       ...     ...   \n",
       "7577  0.002 -0.013326  0.025280  0.124640  0.000000  0.000000   0.000   \n",
       "7578  0.002  0.017788  0.021330  0.096825 -0.065950  0.078987  10.243   \n",
       "7579  0.002  0.005357 -0.015784  0.196900  0.017935  0.000499  10.545   \n",
       "7580  0.002  0.024119  0.015329  0.657600  0.000000  0.000000   0.000   \n",
       "7581  0.002  0.007922 -0.025925  0.221750 -0.009533  0.329060  10.762   \n",
       "\n",
       "             k       nut     omega         p  \n",
       "0     0.006028  0.000032   278.280  3517.600  \n",
       "1     0.004322  0.000032    44.067    80.626  \n",
       "2     0.018508  0.000000  6961.300    42.379  \n",
       "3     0.018638  0.000000  6983.000    31.822  \n",
       "4     0.006059  0.000025   287.620  3480.800  \n",
       "...        ...       ...       ...       ...  \n",
       "7577  0.018415  0.000000  6969.100  3504.500  \n",
       "7578  0.016613  0.000004  4931.500  3517.800  \n",
       "7579  0.004153  0.000026    24.108  3469.100  \n",
       "7580  0.006105  0.000000   468.020  3139.400  \n",
       "7581  0.010709  0.000008  1508.700  3456.700  \n",
       "\n",
       "[7582 rows x 11 columns]"
      ]
     },
     "execution_count": 5,
     "metadata": {},
     "output_type": "execute_result"
    }
   ],
   "source": [
    "dfs_0 = pd.read_csv(str(data_paths[0]))\n",
    "dfs_0"
   ]
  },
  {
   "cell_type": "markdown",
   "id": "7f45c236-1ec0-4c9a-a533-b51d24013010",
   "metadata": {
    "execution": {
     "iopub.execute_input": "2022-06-04T15:29:47.274551Z",
     "iopub.status.busy": "2022-06-04T15:29:47.272665Z",
     "iopub.status.idle": "2022-06-04T15:29:47.297229Z",
     "shell.execute_reply": "2022-06-04T15:29:47.294649Z",
     "shell.execute_reply.started": "2022-06-04T15:29:47.274379Z"
    },
    "tags": []
   },
   "source": [
    "There are five values to choose from:\n",
    "\n",
    "| Terms | Meaning                                               |   \n",
    "|-------|-------------------------------------------------------|\n",
    "| u     | speed vector                                          |\n",
    "| k     | rate of dissipation from kinematic turbulence to heat |                                                                     \n",
    "| omega | omega is the kinematic turbulence energy              |                                                                 \n",
    "| nut   | kinematic turbulent viscosity                         |\n",
    "| p     | Pressure                                              |"
   ]
  },
  {
   "cell_type": "markdown",
   "id": "602ac698-27ac-4e7d-8366-926958a1c8ce",
   "metadata": {},
   "source": [
    "Matrix is a long one, has the shape of `(m=time, n=space)`\n",
    "$$\\begin{bmatrix} C_{1,1} & C_{1,2} & \\cdots & C_{1,n} \\\\ C_{2,1} & C_{2,2} & \\cdots & C_{2,n} \\\\ \\vdots & \\vdots & \\vdots & \\vdots \\\\ C_{m,1} & C_{m,2} & \\cdots & C_{m,n} \\end{bmatrix}  (1)$$"
   ]
  },
  {
   "cell_type": "code",
   "execution_count": 6,
   "id": "1cc6f1a2-3c7b-46f7-a0de-1509c782a0dc",
   "metadata": {
    "execution": {
     "iopub.execute_input": "2022-06-23T20:36:25.593555Z",
     "iopub.status.busy": "2022-06-23T20:36:25.593322Z",
     "iopub.status.idle": "2022-06-23T20:36:25.631823Z",
     "shell.execute_reply": "2022-06-23T20:36:25.630836Z",
     "shell.execute_reply.started": "2022-06-23T20:36:25.593528Z"
    },
    "tags": []
   },
   "outputs": [
    {
     "data": {
      "text/html": [
       "<div>\n",
       "<style scoped>\n",
       "    .dataframe tbody tr th:only-of-type {\n",
       "        vertical-align: middle;\n",
       "    }\n",
       "\n",
       "    .dataframe tbody tr th {\n",
       "        vertical-align: top;\n",
       "    }\n",
       "\n",
       "    .dataframe thead th {\n",
       "        text-align: right;\n",
       "    }\n",
       "</style>\n",
       "<table border=\"1\" class=\"dataframe\">\n",
       "  <thead>\n",
       "    <tr style=\"text-align: right;\">\n",
       "      <th></th>\n",
       "      <th>Time</th>\n",
       "      <th>Points:0</th>\n",
       "      <th>Points:1</th>\n",
       "      <th>Points:2</th>\n",
       "      <th>U:0</th>\n",
       "      <th>U:1</th>\n",
       "      <th>U:2</th>\n",
       "      <th>k</th>\n",
       "      <th>nut</th>\n",
       "      <th>omega</th>\n",
       "      <th>p</th>\n",
       "    </tr>\n",
       "  </thead>\n",
       "  <tbody>\n",
       "    <tr>\n",
       "      <th>0</th>\n",
       "      <td>0.004</td>\n",
       "      <td>0.024731</td>\n",
       "      <td>-0.001165</td>\n",
       "      <td>0.097489</td>\n",
       "      <td>-0.067505</td>\n",
       "      <td>0.026594</td>\n",
       "      <td>11.308</td>\n",
       "      <td>0.005933</td>\n",
       "      <td>4.079100e-05</td>\n",
       "      <td>279.510</td>\n",
       "      <td>485.5100</td>\n",
       "    </tr>\n",
       "    <tr>\n",
       "      <th>1</th>\n",
       "      <td>0.004</td>\n",
       "      <td>0.004980</td>\n",
       "      <td>-0.016126</td>\n",
       "      <td>4.835800</td>\n",
       "      <td>0.114840</td>\n",
       "      <td>0.041690</td>\n",
       "      <td>11.286</td>\n",
       "      <td>0.004493</td>\n",
       "      <td>3.888800e-05</td>\n",
       "      <td>73.945</td>\n",
       "      <td>5.6927</td>\n",
       "    </tr>\n",
       "    <tr>\n",
       "      <th>2</th>\n",
       "      <td>0.004</td>\n",
       "      <td>0.001506</td>\n",
       "      <td>-0.028538</td>\n",
       "      <td>4.913500</td>\n",
       "      <td>0.000000</td>\n",
       "      <td>0.000000</td>\n",
       "      <td>0.000</td>\n",
       "      <td>0.561540</td>\n",
       "      <td>3.605000e-07</td>\n",
       "      <td>10798.000</td>\n",
       "      <td>3.0672</td>\n",
       "    </tr>\n",
       "    <tr>\n",
       "      <th>3</th>\n",
       "      <td>0.004</td>\n",
       "      <td>0.026603</td>\n",
       "      <td>-0.010438</td>\n",
       "      <td>4.934800</td>\n",
       "      <td>0.000000</td>\n",
       "      <td>0.000000</td>\n",
       "      <td>0.000</td>\n",
       "      <td>0.552950</td>\n",
       "      <td>2.581800e-07</td>\n",
       "      <td>10772.000</td>\n",
       "      <td>2.3105</td>\n",
       "    </tr>\n",
       "    <tr>\n",
       "      <th>4</th>\n",
       "      <td>0.004</td>\n",
       "      <td>0.001855</td>\n",
       "      <td>0.024689</td>\n",
       "      <td>0.173850</td>\n",
       "      <td>-0.012177</td>\n",
       "      <td>-0.022595</td>\n",
       "      <td>11.120</td>\n",
       "      <td>0.005981</td>\n",
       "      <td>4.250800e-05</td>\n",
       "      <td>294.770</td>\n",
       "      <td>482.9800</td>\n",
       "    </tr>\n",
       "    <tr>\n",
       "      <th>...</th>\n",
       "      <td>...</td>\n",
       "      <td>...</td>\n",
       "      <td>...</td>\n",
       "      <td>...</td>\n",
       "      <td>...</td>\n",
       "      <td>...</td>\n",
       "      <td>...</td>\n",
       "      <td>...</td>\n",
       "      <td>...</td>\n",
       "      <td>...</td>\n",
       "      <td>...</td>\n",
       "    </tr>\n",
       "    <tr>\n",
       "      <th>7577</th>\n",
       "      <td>0.004</td>\n",
       "      <td>-0.013326</td>\n",
       "      <td>0.025280</td>\n",
       "      <td>0.124640</td>\n",
       "      <td>0.000000</td>\n",
       "      <td>0.000000</td>\n",
       "      <td>0.000</td>\n",
       "      <td>0.522590</td>\n",
       "      <td>3.248700e-08</td>\n",
       "      <td>10586.000</td>\n",
       "      <td>484.6300</td>\n",
       "    </tr>\n",
       "    <tr>\n",
       "      <th>7578</th>\n",
       "      <td>0.004</td>\n",
       "      <td>0.017788</td>\n",
       "      <td>0.021330</td>\n",
       "      <td>0.096825</td>\n",
       "      <td>-0.070005</td>\n",
       "      <td>0.075416</td>\n",
       "      <td>10.398</td>\n",
       "      <td>0.309730</td>\n",
       "      <td>3.451100e-05</td>\n",
       "      <td>6743.200</td>\n",
       "      <td>485.4800</td>\n",
       "    </tr>\n",
       "    <tr>\n",
       "      <th>7579</th>\n",
       "      <td>0.004</td>\n",
       "      <td>0.005357</td>\n",
       "      <td>-0.015784</td>\n",
       "      <td>0.196900</td>\n",
       "      <td>0.011529</td>\n",
       "      <td>-0.017054</td>\n",
       "      <td>11.499</td>\n",
       "      <td>0.004344</td>\n",
       "      <td>5.775900e-05</td>\n",
       "      <td>39.388</td>\n",
       "      <td>481.9700</td>\n",
       "    </tr>\n",
       "    <tr>\n",
       "      <th>7580</th>\n",
       "      <td>0.004</td>\n",
       "      <td>0.024119</td>\n",
       "      <td>0.015329</td>\n",
       "      <td>0.657600</td>\n",
       "      <td>0.000000</td>\n",
       "      <td>0.000000</td>\n",
       "      <td>0.000</td>\n",
       "      <td>0.014172</td>\n",
       "      <td>0.000000e+00</td>\n",
       "      <td>545.820</td>\n",
       "      <td>430.9400</td>\n",
       "    </tr>\n",
       "    <tr>\n",
       "      <th>7581</th>\n",
       "      <td>0.004</td>\n",
       "      <td>0.007922</td>\n",
       "      <td>-0.025925</td>\n",
       "      <td>0.221750</td>\n",
       "      <td>-0.036254</td>\n",
       "      <td>0.270560</td>\n",
       "      <td>11.226</td>\n",
       "      <td>0.109330</td>\n",
       "      <td>2.787500e-05</td>\n",
       "      <td>2287.600</td>\n",
       "      <td>481.0200</td>\n",
       "    </tr>\n",
       "  </tbody>\n",
       "</table>\n",
       "<p>7582 rows × 11 columns</p>\n",
       "</div>"
      ],
      "text/plain": [
       "       Time  Points:0  Points:1  Points:2       U:0       U:1     U:2  \\\n",
       "0     0.004  0.024731 -0.001165  0.097489 -0.067505  0.026594  11.308   \n",
       "1     0.004  0.004980 -0.016126  4.835800  0.114840  0.041690  11.286   \n",
       "2     0.004  0.001506 -0.028538  4.913500  0.000000  0.000000   0.000   \n",
       "3     0.004  0.026603 -0.010438  4.934800  0.000000  0.000000   0.000   \n",
       "4     0.004  0.001855  0.024689  0.173850 -0.012177 -0.022595  11.120   \n",
       "...     ...       ...       ...       ...       ...       ...     ...   \n",
       "7577  0.004 -0.013326  0.025280  0.124640  0.000000  0.000000   0.000   \n",
       "7578  0.004  0.017788  0.021330  0.096825 -0.070005  0.075416  10.398   \n",
       "7579  0.004  0.005357 -0.015784  0.196900  0.011529 -0.017054  11.499   \n",
       "7580  0.004  0.024119  0.015329  0.657600  0.000000  0.000000   0.000   \n",
       "7581  0.004  0.007922 -0.025925  0.221750 -0.036254  0.270560  11.226   \n",
       "\n",
       "             k           nut      omega         p  \n",
       "0     0.005933  4.079100e-05    279.510  485.5100  \n",
       "1     0.004493  3.888800e-05     73.945    5.6927  \n",
       "2     0.561540  3.605000e-07  10798.000    3.0672  \n",
       "3     0.552950  2.581800e-07  10772.000    2.3105  \n",
       "4     0.005981  4.250800e-05    294.770  482.9800  \n",
       "...        ...           ...        ...       ...  \n",
       "7577  0.522590  3.248700e-08  10586.000  484.6300  \n",
       "7578  0.309730  3.451100e-05   6743.200  485.4800  \n",
       "7579  0.004344  5.775900e-05     39.388  481.9700  \n",
       "7580  0.014172  0.000000e+00    545.820  430.9400  \n",
       "7581  0.109330  2.787500e-05   2287.600  481.0200  \n",
       "\n",
       "[7582 rows x 11 columns]"
      ]
     },
     "execution_count": 6,
     "metadata": {},
     "output_type": "execute_result"
    }
   ],
   "source": [
    "dfs_1 = pd.read_csv(str(data_paths[1]))\n",
    "dfs_1"
   ]
  },
  {
   "cell_type": "markdown",
   "id": "40dc48db-4d18-412d-98bf-f106b70d927a",
   "metadata": {},
   "source": [
    "### Start ETL"
   ]
  },
  {
   "cell_type": "code",
   "execution_count": 7,
   "id": "1ed406d9-42b1-4aa9-bf63-9d53d3c620a3",
   "metadata": {
    "execution": {
     "iopub.execute_input": "2022-06-23T20:36:25.634123Z",
     "iopub.status.busy": "2022-06-23T20:36:25.633700Z",
     "iopub.status.idle": "2022-06-23T20:42:30.267104Z",
     "shell.execute_reply": "2022-06-23T20:42:30.265251Z",
     "shell.execute_reply.started": "2022-06-23T20:36:25.634078Z"
    },
    "tags": []
   },
   "outputs": [
    {
     "name": "stdout",
     "output_type": "stream",
     "text": [
      "Working with U:0\n"
     ]
    },
    {
     "data": {
      "application/vnd.jupyter.widget-view+json": {
       "model_id": "0cacf0f0b78f4316aba0ebd6099aade9",
       "version_major": 2,
       "version_minor": 0
      },
      "text/plain": [
       "  0%|          | 0/998 [00:00<?, ?it/s]"
      ]
     },
     "metadata": {},
     "output_type": "display_data"
    },
    {
     "name": "stdout",
     "output_type": "stream",
     "text": [
      "shape of p_data (7582, 999)\n",
      "Working with U:1\n"
     ]
    },
    {
     "data": {
      "application/vnd.jupyter.widget-view+json": {
       "model_id": "23859928b64c406cb1868ce6fcfe31e3",
       "version_major": 2,
       "version_minor": 0
      },
      "text/plain": [
       "  0%|          | 0/998 [00:00<?, ?it/s]"
      ]
     },
     "metadata": {},
     "output_type": "display_data"
    },
    {
     "name": "stdout",
     "output_type": "stream",
     "text": [
      "shape of p_data (7582, 999)\n",
      "Working with U:2\n"
     ]
    },
    {
     "data": {
      "application/vnd.jupyter.widget-view+json": {
       "model_id": "f4af30cece31486ebf30723014f53961",
       "version_major": 2,
       "version_minor": 0
      },
      "text/plain": [
       "  0%|          | 0/998 [00:00<?, ?it/s]"
      ]
     },
     "metadata": {},
     "output_type": "display_data"
    },
    {
     "name": "stdout",
     "output_type": "stream",
     "text": [
      "shape of p_data (7582, 999)\n",
      "Working with k\n"
     ]
    },
    {
     "data": {
      "application/vnd.jupyter.widget-view+json": {
       "model_id": "fb125de770204a40851897de128bcaeb",
       "version_major": 2,
       "version_minor": 0
      },
      "text/plain": [
       "  0%|          | 0/998 [00:00<?, ?it/s]"
      ]
     },
     "metadata": {},
     "output_type": "display_data"
    },
    {
     "name": "stdout",
     "output_type": "stream",
     "text": [
      "shape of p_data (7582, 999)\n",
      "Working with nut\n"
     ]
    },
    {
     "data": {
      "application/vnd.jupyter.widget-view+json": {
       "model_id": "baeb048189fc46dead62b3cf7eed7dfa",
       "version_major": 2,
       "version_minor": 0
      },
      "text/plain": [
       "  0%|          | 0/998 [00:00<?, ?it/s]"
      ]
     },
     "metadata": {},
     "output_type": "display_data"
    },
    {
     "name": "stdout",
     "output_type": "stream",
     "text": [
      "shape of p_data (7582, 999)\n",
      "Working with omega\n"
     ]
    },
    {
     "data": {
      "application/vnd.jupyter.widget-view+json": {
       "model_id": "e4c3fc9c566549bbbe28718b4a4aa9cd",
       "version_major": 2,
       "version_minor": 0
      },
      "text/plain": [
       "  0%|          | 0/998 [00:00<?, ?it/s]"
      ]
     },
     "metadata": {},
     "output_type": "display_data"
    },
    {
     "name": "stdout",
     "output_type": "stream",
     "text": [
      "shape of p_data (7582, 999)\n",
      "Working with p\n"
     ]
    },
    {
     "data": {
      "application/vnd.jupyter.widget-view+json": {
       "model_id": "968b7c15c9354e078929aa417400c953",
       "version_major": 2,
       "version_minor": 0
      },
      "text/plain": [
       "  0%|          | 0/998 [00:00<?, ?it/s]"
      ]
     },
     "metadata": {},
     "output_type": "display_data"
    },
    {
     "name": "stdout",
     "output_type": "stream",
     "text": [
      "shape of p_data (7582, 999)\n"
     ]
    }
   ],
   "source": [
    "chosen_columns = ['U:0', 'U:1', 'U:2', 'k', 'nut', 'omega', 'p']\n",
    "tables = {}\n",
    "for term in chosen_columns:\n",
    "    print(f\"Working with {term}\")\n",
    "    dfs_0 = pd.read_csv(str(data_paths[0]))\n",
    "    p_data = dfs_0[term].copy()\n",
    "    for i in tqdm(range(1,NUM_FRAMES)):\n",
    "        _ = pd.read_csv(str(data_paths[i]))\n",
    "        pd.testing.assert_frame_equal(dfs_0[[\"Points:0\", \"Points:1\", \"Points:2\"]], _[[\"Points:0\", \"Points:1\", \"Points:2\"]]) # Make sure all points coordinates are the same accross time\n",
    "        p_data = pd.concat([p_data, _[term]], axis=1)\n",
    "    print(f\"shape of p_data {p_data.shape}\")\n",
    "    tables[term] = p_data"
   ]
  },
  {
   "cell_type": "markdown",
   "id": "6941563b-aec1-41ee-92c5-5d37d81bccf5",
   "metadata": {},
   "source": [
    "---"
   ]
  },
  {
   "cell_type": "code",
   "execution_count": 8,
   "id": "959ee121-837d-44c3-8cf9-1a50d40fb0b3",
   "metadata": {
    "execution": {
     "iopub.execute_input": "2022-06-23T20:42:30.270884Z",
     "iopub.status.busy": "2022-06-23T20:42:30.270331Z",
     "iopub.status.idle": "2022-06-23T20:42:30.319569Z",
     "shell.execute_reply": "2022-06-23T20:42:30.318827Z",
     "shell.execute_reply.started": "2022-06-23T20:42:30.270824Z"
    },
    "tags": []
   },
   "outputs": [
    {
     "data": {
      "text/html": [
       "<div>\n",
       "<style scoped>\n",
       "    .dataframe tbody tr th:only-of-type {\n",
       "        vertical-align: middle;\n",
       "    }\n",
       "\n",
       "    .dataframe tbody tr th {\n",
       "        vertical-align: top;\n",
       "    }\n",
       "\n",
       "    .dataframe thead th {\n",
       "        text-align: right;\n",
       "    }\n",
       "</style>\n",
       "<table border=\"1\" class=\"dataframe\">\n",
       "  <thead>\n",
       "    <tr style=\"text-align: right;\">\n",
       "      <th></th>\n",
       "      <th>p</th>\n",
       "      <th>p</th>\n",
       "      <th>p</th>\n",
       "      <th>p</th>\n",
       "      <th>p</th>\n",
       "      <th>p</th>\n",
       "      <th>p</th>\n",
       "      <th>p</th>\n",
       "      <th>p</th>\n",
       "      <th>p</th>\n",
       "      <th>...</th>\n",
       "      <th>p</th>\n",
       "      <th>p</th>\n",
       "      <th>p</th>\n",
       "      <th>p</th>\n",
       "      <th>p</th>\n",
       "      <th>p</th>\n",
       "      <th>p</th>\n",
       "      <th>p</th>\n",
       "      <th>p</th>\n",
       "      <th>p</th>\n",
       "    </tr>\n",
       "  </thead>\n",
       "  <tbody>\n",
       "    <tr>\n",
       "      <th>0</th>\n",
       "      <td>3517.600</td>\n",
       "      <td>485.5100</td>\n",
       "      <td>457.1300</td>\n",
       "      <td>455.8700</td>\n",
       "      <td>476.9800</td>\n",
       "      <td>485.2100</td>\n",
       "      <td>500.2900</td>\n",
       "      <td>531.5700</td>\n",
       "      <td>554.6400</td>\n",
       "      <td>569.9300</td>\n",
       "      <td>...</td>\n",
       "      <td>85.62100</td>\n",
       "      <td>86.23400</td>\n",
       "      <td>86.66000</td>\n",
       "      <td>87.12900</td>\n",
       "      <td>86.75400</td>\n",
       "      <td>86.61700</td>\n",
       "      <td>86.42800</td>\n",
       "      <td>86.63000</td>\n",
       "      <td>86.42600</td>\n",
       "      <td>86.78100</td>\n",
       "    </tr>\n",
       "    <tr>\n",
       "      <th>1</th>\n",
       "      <td>80.626</td>\n",
       "      <td>5.6927</td>\n",
       "      <td>5.7872</td>\n",
       "      <td>5.8207</td>\n",
       "      <td>5.7874</td>\n",
       "      <td>5.7645</td>\n",
       "      <td>5.7888</td>\n",
       "      <td>5.7675</td>\n",
       "      <td>5.7865</td>\n",
       "      <td>5.8104</td>\n",
       "      <td>...</td>\n",
       "      <td>0.38813</td>\n",
       "      <td>0.39111</td>\n",
       "      <td>0.39430</td>\n",
       "      <td>0.39584</td>\n",
       "      <td>0.39526</td>\n",
       "      <td>0.39591</td>\n",
       "      <td>0.39827</td>\n",
       "      <td>0.39869</td>\n",
       "      <td>0.39721</td>\n",
       "      <td>0.39435</td>\n",
       "    </tr>\n",
       "    <tr>\n",
       "      <th>2</th>\n",
       "      <td>42.379</td>\n",
       "      <td>3.0672</td>\n",
       "      <td>3.1071</td>\n",
       "      <td>3.1237</td>\n",
       "      <td>3.1460</td>\n",
       "      <td>3.1646</td>\n",
       "      <td>3.1779</td>\n",
       "      <td>3.1361</td>\n",
       "      <td>3.1633</td>\n",
       "      <td>3.2942</td>\n",
       "      <td>...</td>\n",
       "      <td>0.29002</td>\n",
       "      <td>0.29027</td>\n",
       "      <td>0.29124</td>\n",
       "      <td>0.29230</td>\n",
       "      <td>0.29319</td>\n",
       "      <td>0.29408</td>\n",
       "      <td>0.29438</td>\n",
       "      <td>0.29383</td>\n",
       "      <td>0.29341</td>\n",
       "      <td>0.29383</td>\n",
       "    </tr>\n",
       "    <tr>\n",
       "      <th>3</th>\n",
       "      <td>31.822</td>\n",
       "      <td>2.3105</td>\n",
       "      <td>2.3243</td>\n",
       "      <td>2.3336</td>\n",
       "      <td>2.3522</td>\n",
       "      <td>2.3649</td>\n",
       "      <td>2.3764</td>\n",
       "      <td>2.3661</td>\n",
       "      <td>2.3219</td>\n",
       "      <td>2.3982</td>\n",
       "      <td>...</td>\n",
       "      <td>0.18927</td>\n",
       "      <td>0.18889</td>\n",
       "      <td>0.18915</td>\n",
       "      <td>0.18949</td>\n",
       "      <td>0.18966</td>\n",
       "      <td>0.18997</td>\n",
       "      <td>0.18998</td>\n",
       "      <td>0.18933</td>\n",
       "      <td>0.18839</td>\n",
       "      <td>0.18780</td>\n",
       "    </tr>\n",
       "    <tr>\n",
       "      <th>4</th>\n",
       "      <td>3480.800</td>\n",
       "      <td>482.9800</td>\n",
       "      <td>454.5700</td>\n",
       "      <td>453.3100</td>\n",
       "      <td>474.4200</td>\n",
       "      <td>482.6300</td>\n",
       "      <td>497.6700</td>\n",
       "      <td>528.9000</td>\n",
       "      <td>551.9200</td>\n",
       "      <td>567.1600</td>\n",
       "      <td>...</td>\n",
       "      <td>85.48600</td>\n",
       "      <td>86.10000</td>\n",
       "      <td>86.52500</td>\n",
       "      <td>86.99500</td>\n",
       "      <td>86.62000</td>\n",
       "      <td>86.48200</td>\n",
       "      <td>86.29300</td>\n",
       "      <td>86.49600</td>\n",
       "      <td>86.29200</td>\n",
       "      <td>86.64600</td>\n",
       "    </tr>\n",
       "    <tr>\n",
       "      <th>...</th>\n",
       "      <td>...</td>\n",
       "      <td>...</td>\n",
       "      <td>...</td>\n",
       "      <td>...</td>\n",
       "      <td>...</td>\n",
       "      <td>...</td>\n",
       "      <td>...</td>\n",
       "      <td>...</td>\n",
       "      <td>...</td>\n",
       "      <td>...</td>\n",
       "      <td>...</td>\n",
       "      <td>...</td>\n",
       "      <td>...</td>\n",
       "      <td>...</td>\n",
       "      <td>...</td>\n",
       "      <td>...</td>\n",
       "      <td>...</td>\n",
       "      <td>...</td>\n",
       "      <td>...</td>\n",
       "      <td>...</td>\n",
       "      <td>...</td>\n",
       "    </tr>\n",
       "    <tr>\n",
       "      <th>7577</th>\n",
       "      <td>3504.500</td>\n",
       "      <td>484.6300</td>\n",
       "      <td>456.2500</td>\n",
       "      <td>455.0100</td>\n",
       "      <td>476.1200</td>\n",
       "      <td>484.3200</td>\n",
       "      <td>499.3900</td>\n",
       "      <td>530.6500</td>\n",
       "      <td>553.7100</td>\n",
       "      <td>568.9900</td>\n",
       "      <td>...</td>\n",
       "      <td>85.60200</td>\n",
       "      <td>86.21600</td>\n",
       "      <td>86.64100</td>\n",
       "      <td>87.11100</td>\n",
       "      <td>86.73600</td>\n",
       "      <td>86.59800</td>\n",
       "      <td>86.40900</td>\n",
       "      <td>86.61200</td>\n",
       "      <td>86.40800</td>\n",
       "      <td>86.76200</td>\n",
       "    </tr>\n",
       "    <tr>\n",
       "      <th>7578</th>\n",
       "      <td>3517.800</td>\n",
       "      <td>485.4800</td>\n",
       "      <td>457.0900</td>\n",
       "      <td>455.8200</td>\n",
       "      <td>476.9200</td>\n",
       "      <td>485.1300</td>\n",
       "      <td>500.2100</td>\n",
       "      <td>531.4900</td>\n",
       "      <td>554.5500</td>\n",
       "      <td>569.8300</td>\n",
       "      <td>...</td>\n",
       "      <td>85.57500</td>\n",
       "      <td>86.18800</td>\n",
       "      <td>86.61400</td>\n",
       "      <td>87.08300</td>\n",
       "      <td>86.70900</td>\n",
       "      <td>86.57100</td>\n",
       "      <td>86.38200</td>\n",
       "      <td>86.58400</td>\n",
       "      <td>86.38100</td>\n",
       "      <td>86.73500</td>\n",
       "    </tr>\n",
       "    <tr>\n",
       "      <th>7579</th>\n",
       "      <td>3469.100</td>\n",
       "      <td>481.9700</td>\n",
       "      <td>453.5300</td>\n",
       "      <td>452.2400</td>\n",
       "      <td>473.3200</td>\n",
       "      <td>481.5000</td>\n",
       "      <td>496.5100</td>\n",
       "      <td>527.7100</td>\n",
       "      <td>550.6800</td>\n",
       "      <td>565.8800</td>\n",
       "      <td>...</td>\n",
       "      <td>85.28300</td>\n",
       "      <td>85.89600</td>\n",
       "      <td>86.32200</td>\n",
       "      <td>86.79200</td>\n",
       "      <td>86.41700</td>\n",
       "      <td>86.27900</td>\n",
       "      <td>86.09000</td>\n",
       "      <td>86.29300</td>\n",
       "      <td>86.08900</td>\n",
       "      <td>86.44300</td>\n",
       "    </tr>\n",
       "    <tr>\n",
       "      <th>7580</th>\n",
       "      <td>3139.400</td>\n",
       "      <td>430.9400</td>\n",
       "      <td>401.9700</td>\n",
       "      <td>397.1500</td>\n",
       "      <td>415.5700</td>\n",
       "      <td>421.9300</td>\n",
       "      <td>432.2900</td>\n",
       "      <td>458.3200</td>\n",
       "      <td>476.0200</td>\n",
       "      <td>485.8400</td>\n",
       "      <td>...</td>\n",
       "      <td>69.54500</td>\n",
       "      <td>70.15700</td>\n",
       "      <td>70.58300</td>\n",
       "      <td>71.05400</td>\n",
       "      <td>70.68100</td>\n",
       "      <td>70.54500</td>\n",
       "      <td>70.35700</td>\n",
       "      <td>70.56100</td>\n",
       "      <td>70.35700</td>\n",
       "      <td>70.71100</td>\n",
       "    </tr>\n",
       "    <tr>\n",
       "      <th>7581</th>\n",
       "      <td>3456.700</td>\n",
       "      <td>481.0200</td>\n",
       "      <td>452.5500</td>\n",
       "      <td>451.2300</td>\n",
       "      <td>472.2700</td>\n",
       "      <td>480.4100</td>\n",
       "      <td>495.3900</td>\n",
       "      <td>526.5700</td>\n",
       "      <td>549.5100</td>\n",
       "      <td>564.6500</td>\n",
       "      <td>...</td>\n",
       "      <td>85.12400</td>\n",
       "      <td>85.73800</td>\n",
       "      <td>86.16300</td>\n",
       "      <td>86.63300</td>\n",
       "      <td>86.25800</td>\n",
       "      <td>86.12000</td>\n",
       "      <td>85.93200</td>\n",
       "      <td>86.13400</td>\n",
       "      <td>85.93000</td>\n",
       "      <td>86.28400</td>\n",
       "    </tr>\n",
       "  </tbody>\n",
       "</table>\n",
       "<p>7582 rows × 999 columns</p>\n",
       "</div>"
      ],
      "text/plain": [
       "             p         p         p         p         p         p         p  \\\n",
       "0     3517.600  485.5100  457.1300  455.8700  476.9800  485.2100  500.2900   \n",
       "1       80.626    5.6927    5.7872    5.8207    5.7874    5.7645    5.7888   \n",
       "2       42.379    3.0672    3.1071    3.1237    3.1460    3.1646    3.1779   \n",
       "3       31.822    2.3105    2.3243    2.3336    2.3522    2.3649    2.3764   \n",
       "4     3480.800  482.9800  454.5700  453.3100  474.4200  482.6300  497.6700   \n",
       "...        ...       ...       ...       ...       ...       ...       ...   \n",
       "7577  3504.500  484.6300  456.2500  455.0100  476.1200  484.3200  499.3900   \n",
       "7578  3517.800  485.4800  457.0900  455.8200  476.9200  485.1300  500.2100   \n",
       "7579  3469.100  481.9700  453.5300  452.2400  473.3200  481.5000  496.5100   \n",
       "7580  3139.400  430.9400  401.9700  397.1500  415.5700  421.9300  432.2900   \n",
       "7581  3456.700  481.0200  452.5500  451.2300  472.2700  480.4100  495.3900   \n",
       "\n",
       "             p         p         p  ...         p         p         p  \\\n",
       "0     531.5700  554.6400  569.9300  ...  85.62100  86.23400  86.66000   \n",
       "1       5.7675    5.7865    5.8104  ...   0.38813   0.39111   0.39430   \n",
       "2       3.1361    3.1633    3.2942  ...   0.29002   0.29027   0.29124   \n",
       "3       2.3661    2.3219    2.3982  ...   0.18927   0.18889   0.18915   \n",
       "4     528.9000  551.9200  567.1600  ...  85.48600  86.10000  86.52500   \n",
       "...        ...       ...       ...  ...       ...       ...       ...   \n",
       "7577  530.6500  553.7100  568.9900  ...  85.60200  86.21600  86.64100   \n",
       "7578  531.4900  554.5500  569.8300  ...  85.57500  86.18800  86.61400   \n",
       "7579  527.7100  550.6800  565.8800  ...  85.28300  85.89600  86.32200   \n",
       "7580  458.3200  476.0200  485.8400  ...  69.54500  70.15700  70.58300   \n",
       "7581  526.5700  549.5100  564.6500  ...  85.12400  85.73800  86.16300   \n",
       "\n",
       "             p         p         p         p         p         p         p  \n",
       "0     87.12900  86.75400  86.61700  86.42800  86.63000  86.42600  86.78100  \n",
       "1      0.39584   0.39526   0.39591   0.39827   0.39869   0.39721   0.39435  \n",
       "2      0.29230   0.29319   0.29408   0.29438   0.29383   0.29341   0.29383  \n",
       "3      0.18949   0.18966   0.18997   0.18998   0.18933   0.18839   0.18780  \n",
       "4     86.99500  86.62000  86.48200  86.29300  86.49600  86.29200  86.64600  \n",
       "...        ...       ...       ...       ...       ...       ...       ...  \n",
       "7577  87.11100  86.73600  86.59800  86.40900  86.61200  86.40800  86.76200  \n",
       "7578  87.08300  86.70900  86.57100  86.38200  86.58400  86.38100  86.73500  \n",
       "7579  86.79200  86.41700  86.27900  86.09000  86.29300  86.08900  86.44300  \n",
       "7580  71.05400  70.68100  70.54500  70.35700  70.56100  70.35700  70.71100  \n",
       "7581  86.63300  86.25800  86.12000  85.93200  86.13400  85.93000  86.28400  \n",
       "\n",
       "[7582 rows x 999 columns]"
      ]
     },
     "execution_count": 8,
     "metadata": {},
     "output_type": "execute_result"
    }
   ],
   "source": [
    "tables['p']"
   ]
  },
  {
   "cell_type": "markdown",
   "id": "50ac6ea9-c6c6-4d4c-8bf4-9640830c6572",
   "metadata": {},
   "source": [
    "To make it consistent with (1), we need to transopose"
   ]
  },
  {
   "cell_type": "code",
   "execution_count": 9,
   "id": "0d2e3c3c-e1c8-4e3a-a75a-086b07f89f0c",
   "metadata": {
    "execution": {
     "iopub.execute_input": "2022-06-23T20:42:30.325395Z",
     "iopub.status.busy": "2022-06-23T20:42:30.325136Z",
     "iopub.status.idle": "2022-06-23T20:42:30.441866Z",
     "shell.execute_reply": "2022-06-23T20:42:30.441132Z",
     "shell.execute_reply.started": "2022-06-23T20:42:30.325365Z"
    },
    "tags": []
   },
   "outputs": [
    {
     "data": {
      "text/plain": [
       "(7582, 999)"
      ]
     },
     "execution_count": 9,
     "metadata": {},
     "output_type": "execute_result"
    }
   ],
   "source": [
    "tables['p'].values.shape"
   ]
  },
  {
   "cell_type": "code",
   "execution_count": 10,
   "id": "c8ebf7ed-d020-40a7-ad49-4e22c87d173c",
   "metadata": {
    "execution": {
     "iopub.execute_input": "2022-06-23T20:42:30.444239Z",
     "iopub.status.busy": "2022-06-23T20:42:30.444011Z",
     "iopub.status.idle": "2022-06-23T20:42:31.794628Z",
     "shell.execute_reply": "2022-06-23T20:42:31.792884Z",
     "shell.execute_reply.started": "2022-06-23T20:42:30.444210Z"
    },
    "tags": []
   },
   "outputs": [],
   "source": [
    "for key in tables:\n",
    "    tables[key] = tables[key].values.T"
   ]
  },
  {
   "cell_type": "code",
   "execution_count": 11,
   "id": "d13cfd99-07b9-4add-ad23-869efd3c6a6f",
   "metadata": {
    "execution": {
     "iopub.execute_input": "2022-06-23T20:42:31.796292Z",
     "iopub.status.busy": "2022-06-23T20:42:31.795816Z",
     "iopub.status.idle": "2022-06-23T20:42:31.801277Z",
     "shell.execute_reply": "2022-06-23T20:42:31.800072Z",
     "shell.execute_reply.started": "2022-06-23T20:42:31.796254Z"
    },
    "tags": []
   },
   "outputs": [
    {
     "data": {
      "text/plain": [
       "(999, 7582)"
      ]
     },
     "execution_count": 11,
     "metadata": {},
     "output_type": "execute_result"
    }
   ],
   "source": [
    "tables['p'].shape"
   ]
  },
  {
   "cell_type": "code",
   "execution_count": 12,
   "id": "d4650d37-eb40-42bf-86bc-010efd980ad1",
   "metadata": {
    "execution": {
     "iopub.execute_input": "2022-06-23T20:42:31.803663Z",
     "iopub.status.busy": "2022-06-23T20:42:31.803275Z",
     "iopub.status.idle": "2022-06-23T20:42:31.813236Z",
     "shell.execute_reply": "2022-06-23T20:42:31.811831Z",
     "shell.execute_reply.started": "2022-06-23T20:42:31.803581Z"
    },
    "tags": []
   },
   "outputs": [
    {
     "name": "stdout",
     "output_type": "stream",
     "text": [
      "train_index: 499, val_index: 598\n"
     ]
    }
   ],
   "source": [
    "train_index = int(p_data.shape[1] * .5)\n",
    "val_index = train_index + int(p_data.shape[1] * .1)\n",
    "print(f\"train_index: {train_index}, val_index: {val_index}\")"
   ]
  },
  {
   "cell_type": "code",
   "execution_count": 13,
   "id": "77731bc8-d343-441e-ba94-dfad24693d1b",
   "metadata": {
    "execution": {
     "iopub.execute_input": "2022-06-23T20:42:31.815156Z",
     "iopub.status.busy": "2022-06-23T20:42:31.814729Z",
     "iopub.status.idle": "2022-06-23T20:42:31.819100Z",
     "shell.execute_reply": "2022-06-23T20:42:31.818116Z",
     "shell.execute_reply.started": "2022-06-23T20:42:31.815124Z"
    },
    "tags": []
   },
   "outputs": [],
   "source": [
    "assert(tables['p'].shape[0] < tables['p'].shape[1])   # Time is smaller than number of cells in mesh"
   ]
  },
  {
   "cell_type": "markdown",
   "id": "58848c7d-9551-439d-bfe8-73378c3d5e12",
   "metadata": {},
   "source": [
    "### Splitting to train val test"
   ]
  },
  {
   "cell_type": "code",
   "execution_count": 14,
   "id": "d5e71377-f8cf-49eb-b812-7c67b4796aa4",
   "metadata": {
    "execution": {
     "iopub.execute_input": "2022-06-23T20:42:31.821822Z",
     "iopub.status.busy": "2022-06-23T20:42:31.821290Z",
     "iopub.status.idle": "2022-06-23T20:42:31.827594Z",
     "shell.execute_reply": "2022-06-23T20:42:31.826397Z",
     "shell.execute_reply.started": "2022-06-23T20:42:31.821764Z"
    },
    "tags": []
   },
   "outputs": [
    {
     "name": "stdout",
     "output_type": "stream",
     "text": [
      "(499, 7582) (99, 7582) (401, 7582)\n"
     ]
    }
   ],
   "source": [
    "train_data = tables['p'][:train_index, :]\n",
    "val_data = tables['p'][train_index:val_index, :]\n",
    "test_data = tables['p'][val_index:, :]\n",
    "print(train_data.shape, val_data.shape, test_data.shape)"
   ]
  },
  {
   "cell_type": "code",
   "execution_count": 15,
   "id": "a58c19ed-dd96-496a-a8b4-6ae6dd16ae05",
   "metadata": {
    "execution": {
     "iopub.execute_input": "2022-06-23T20:42:31.829968Z",
     "iopub.status.busy": "2022-06-23T20:42:31.829484Z",
     "iopub.status.idle": "2022-06-23T20:42:32.423564Z",
     "shell.execute_reply": "2022-06-23T20:42:32.422057Z",
     "shell.execute_reply.started": "2022-06-23T20:42:31.829931Z"
    },
    "tags": []
   },
   "outputs": [
    {
     "name": "stdout",
     "output_type": "stream",
     "text": [
      "(499, 7582) (99, 7582) (401, 7582)\n",
      "(499, 7582) (99, 7582) (401, 7582)\n",
      "(499, 7582) (99, 7582) (401, 7582)\n",
      "(499, 7582) (99, 7582) (401, 7582)\n",
      "(499, 7582) (99, 7582) (401, 7582)\n",
      "(499, 7582) (99, 7582) (401, 7582)\n",
      "(499, 7582) (99, 7582) (401, 7582)\n"
     ]
    }
   ],
   "source": [
    "for key in tables:\n",
    "    train_data = tables[key][:train_index, :]\n",
    "    val_data = tables[key][train_index:val_index, :]\n",
    "    test_data = tables[key][val_index:, :]\n",
    "    print(train_data.shape, val_data.shape, test_data.shape)\n",
    "    with open(f'train_{key}.pkl', 'wb') as f:\n",
    "        pickle.dump(train_data, f)\n",
    "    with open(f'val_{key}.pkl', 'wb') as f:\n",
    "        pickle.dump(val_data, f)\n",
    "    with open(f'test_{key}.pkl', 'wb') as f:\n",
    "        pickle.dump(test_data, f)"
   ]
  }
 ],
 "metadata": {
  "kernelspec": {
   "display_name": "Python 3",
   "language": "python",
   "name": "python3"
  },
  "language_info": {
   "codemirror_mode": {
    "name": "ipython",
    "version": 3
   },
   "file_extension": ".py",
   "mimetype": "text/x-python",
   "name": "python",
   "nbconvert_exporter": "python",
   "pygments_lexer": "ipython3",
   "version": "3.7.9"
  }
 },
 "nbformat": 4,
 "nbformat_minor": 5
}
