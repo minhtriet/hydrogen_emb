{
 "cells": [
  {
   "cell_type": "markdown",
   "id": "e94bb81a-1c46-4545-bea3-2fe6b6032b75",
   "metadata": {},
   "source": [
    "This notebook with transform the output of Paraview into something feedable to ML"
   ]
  },
  {
   "cell_type": "code",
   "execution_count": 50,
   "id": "08a16d58-85e1-40bc-ae5e-bd735e10c6d4",
   "metadata": {
    "execution": {
     "iopub.execute_input": "2022-06-04T23:54:04.359912Z",
     "iopub.status.busy": "2022-06-04T23:54:04.358374Z",
     "iopub.status.idle": "2022-06-04T23:54:04.372649Z",
     "shell.execute_reply": "2022-06-04T23:54:04.371207Z",
     "shell.execute_reply.started": "2022-06-04T23:54:04.359810Z"
    },
    "tags": []
   },
   "outputs": [],
   "source": [
    "import pickle\n",
    "\n",
    "import pandas as pd\n",
    "\n",
    "import numpy as np\n",
    "\n",
    "from tqdm.notebook import tqdm"
   ]
  },
  {
   "cell_type": "code",
   "execution_count": 51,
   "id": "6fb23918-5f12-4db7-922c-59c0f977c968",
   "metadata": {
    "execution": {
     "iopub.execute_input": "2022-06-04T23:54:04.376312Z",
     "iopub.status.busy": "2022-06-04T23:54:04.375955Z",
     "iopub.status.idle": "2022-06-04T23:54:04.381708Z",
     "shell.execute_reply": "2022-06-04T23:54:04.380603Z",
     "shell.execute_reply.started": "2022-06-04T23:54:04.376261Z"
    },
    "tags": []
   },
   "outputs": [],
   "source": [
    "from pathlib import PurePath"
   ]
  },
  {
   "cell_type": "code",
   "execution_count": 52,
   "id": "c106c356-6072-4252-8a22-ce640070f0ad",
   "metadata": {
    "execution": {
     "iopub.execute_input": "2022-06-04T23:54:04.385192Z",
     "iopub.status.busy": "2022-06-04T23:54:04.384844Z",
     "iopub.status.idle": "2022-06-04T23:54:04.390071Z",
     "shell.execute_reply": "2022-06-04T23:54:04.388521Z",
     "shell.execute_reply.started": "2022-06-04T23:54:04.385147Z"
    },
    "tags": []
   },
   "outputs": [],
   "source": [
    "NUM_FRAMES = 999   # number of timestep. Before was 9! 344!"
   ]
  },
  {
   "cell_type": "markdown",
   "id": "3c4d9873-2166-44f4-a351-04598731ae6d",
   "metadata": {},
   "source": [
    "Our simulation managed to create `NUM_FRAMES` in csv forms"
   ]
  },
  {
   "cell_type": "code",
   "execution_count": 55,
   "id": "4840ba9f-559d-4568-bd8f-717dd579f18e",
   "metadata": {
    "execution": {
     "iopub.execute_input": "2022-06-04T23:54:11.313688Z",
     "iopub.status.busy": "2022-06-04T23:54:11.313337Z",
     "iopub.status.idle": "2022-06-04T23:54:11.327486Z",
     "shell.execute_reply": "2022-06-04T23:54:11.326259Z",
     "shell.execute_reply.started": "2022-06-04T23:54:11.313647Z"
    },
    "tags": []
   },
   "outputs": [],
   "source": [
    "data_paths = [PurePath(\"new_data\", f\"data_{i}.csv\") for i in range(0,NUM_FRAMES)]"
   ]
  },
  {
   "cell_type": "code",
   "execution_count": 56,
   "id": "9fbd1e92-7626-4f88-a334-e38526d7b56a",
   "metadata": {
    "execution": {
     "iopub.execute_input": "2022-06-04T23:54:13.004270Z",
     "iopub.status.busy": "2022-06-04T23:54:13.004010Z",
     "iopub.status.idle": "2022-06-04T23:54:13.063377Z",
     "shell.execute_reply": "2022-06-04T23:54:13.062487Z",
     "shell.execute_reply.started": "2022-06-04T23:54:13.004243Z"
    },
    "tags": []
   },
   "outputs": [
    {
     "data": {
      "text/html": [
       "<div>\n",
       "<style scoped>\n",
       "    .dataframe tbody tr th:only-of-type {\n",
       "        vertical-align: middle;\n",
       "    }\n",
       "\n",
       "    .dataframe tbody tr th {\n",
       "        vertical-align: top;\n",
       "    }\n",
       "\n",
       "    .dataframe thead th {\n",
       "        text-align: right;\n",
       "    }\n",
       "</style>\n",
       "<table border=\"1\" class=\"dataframe\">\n",
       "  <thead>\n",
       "    <tr style=\"text-align: right;\">\n",
       "      <th></th>\n",
       "      <th>Points:0</th>\n",
       "      <th>Points:1</th>\n",
       "      <th>Points:2</th>\n",
       "      <th>U:0</th>\n",
       "      <th>U:1</th>\n",
       "      <th>U:2</th>\n",
       "      <th>k</th>\n",
       "      <th>nut</th>\n",
       "      <th>omega</th>\n",
       "      <th>p</th>\n",
       "    </tr>\n",
       "  </thead>\n",
       "  <tbody>\n",
       "    <tr>\n",
       "      <th>0</th>\n",
       "      <td>-0.013184</td>\n",
       "      <td>0.000209</td>\n",
       "      <td>0.001576</td>\n",
       "      <td>-0.071583</td>\n",
       "      <td>-0.039038</td>\n",
       "      <td>10.6240</td>\n",
       "      <td>0.026240</td>\n",
       "      <td>8.245900e-08</td>\n",
       "      <td>339940.0</td>\n",
       "      <td>35136.000</td>\n",
       "    </tr>\n",
       "    <tr>\n",
       "      <th>1</th>\n",
       "      <td>0.028577</td>\n",
       "      <td>0.000500</td>\n",
       "      <td>4.113900</td>\n",
       "      <td>0.000000</td>\n",
       "      <td>0.000000</td>\n",
       "      <td>0.0000</td>\n",
       "      <td>0.006365</td>\n",
       "      <td>1.227600e-07</td>\n",
       "      <td>10095.0</td>\n",
       "      <td>6403.800</td>\n",
       "    </tr>\n",
       "    <tr>\n",
       "      <th>2</th>\n",
       "      <td>0.004193</td>\n",
       "      <td>0.000439</td>\n",
       "      <td>0.002325</td>\n",
       "      <td>-0.064530</td>\n",
       "      <td>0.025779</td>\n",
       "      <td>9.2245</td>\n",
       "      <td>0.032725</td>\n",
       "      <td>3.664300e-08</td>\n",
       "      <td>923350.0</td>\n",
       "      <td>35120.000</td>\n",
       "    </tr>\n",
       "    <tr>\n",
       "      <th>3</th>\n",
       "      <td>0.002439</td>\n",
       "      <td>-0.000347</td>\n",
       "      <td>4.999400</td>\n",
       "      <td>0.040195</td>\n",
       "      <td>0.033054</td>\n",
       "      <td>10.0090</td>\n",
       "      <td>0.031677</td>\n",
       "      <td>4.682800e-08</td>\n",
       "      <td>705440.0</td>\n",
       "      <td>13.258</td>\n",
       "    </tr>\n",
       "    <tr>\n",
       "      <th>4</th>\n",
       "      <td>-0.007843</td>\n",
       "      <td>0.000186</td>\n",
       "      <td>0.002879</td>\n",
       "      <td>-0.148430</td>\n",
       "      <td>-0.263730</td>\n",
       "      <td>10.8810</td>\n",
       "      <td>0.027487</td>\n",
       "      <td>7.934700e-08</td>\n",
       "      <td>358030.0</td>\n",
       "      <td>35101.000</td>\n",
       "    </tr>\n",
       "    <tr>\n",
       "      <th>...</th>\n",
       "      <td>...</td>\n",
       "      <td>...</td>\n",
       "      <td>...</td>\n",
       "      <td>...</td>\n",
       "      <td>...</td>\n",
       "      <td>...</td>\n",
       "      <td>...</td>\n",
       "      <td>...</td>\n",
       "      <td>...</td>\n",
       "      <td>...</td>\n",
       "    </tr>\n",
       "    <tr>\n",
       "      <th>17178</th>\n",
       "      <td>0.016414</td>\n",
       "      <td>-0.000500</td>\n",
       "      <td>0.075661</td>\n",
       "      <td>0.000000</td>\n",
       "      <td>0.000000</td>\n",
       "      <td>0.0000</td>\n",
       "      <td>0.007894</td>\n",
       "      <td>0.000000e+00</td>\n",
       "      <td>17570.0</td>\n",
       "      <td>34392.000</td>\n",
       "    </tr>\n",
       "    <tr>\n",
       "      <th>17179</th>\n",
       "      <td>0.016387</td>\n",
       "      <td>-0.000500</td>\n",
       "      <td>0.000997</td>\n",
       "      <td>0.000000</td>\n",
       "      <td>0.000000</td>\n",
       "      <td>0.0000</td>\n",
       "      <td>0.032178</td>\n",
       "      <td>0.000000e+00</td>\n",
       "      <td>1171000.0</td>\n",
       "      <td>35155.000</td>\n",
       "    </tr>\n",
       "    <tr>\n",
       "      <th>17180</th>\n",
       "      <td>-0.017435</td>\n",
       "      <td>-0.000500</td>\n",
       "      <td>0.004380</td>\n",
       "      <td>0.000000</td>\n",
       "      <td>0.000000</td>\n",
       "      <td>0.0000</td>\n",
       "      <td>0.030933</td>\n",
       "      <td>0.000000e+00</td>\n",
       "      <td>633070.0</td>\n",
       "      <td>35084.000</td>\n",
       "    </tr>\n",
       "    <tr>\n",
       "      <th>17181</th>\n",
       "      <td>0.017914</td>\n",
       "      <td>-0.000439</td>\n",
       "      <td>5.000000</td>\n",
       "      <td>-0.040359</td>\n",
       "      <td>-0.038938</td>\n",
       "      <td>9.3870</td>\n",
       "      <td>0.033076</td>\n",
       "      <td>3.329900e-08</td>\n",
       "      <td>1015600.0</td>\n",
       "      <td>0.000</td>\n",
       "    </tr>\n",
       "    <tr>\n",
       "      <th>17182</th>\n",
       "      <td>0.025997</td>\n",
       "      <td>-0.000211</td>\n",
       "      <td>4.999000</td>\n",
       "      <td>0.036883</td>\n",
       "      <td>-0.060042</td>\n",
       "      <td>10.6440</td>\n",
       "      <td>0.028900</td>\n",
       "      <td>7.370800e-08</td>\n",
       "      <td>411870.0</td>\n",
       "      <td>15.702</td>\n",
       "    </tr>\n",
       "  </tbody>\n",
       "</table>\n",
       "<p>17183 rows × 10 columns</p>\n",
       "</div>"
      ],
      "text/plain": [
       "       Points:0  Points:1  Points:2       U:0       U:1      U:2         k  \\\n",
       "0     -0.013184  0.000209  0.001576 -0.071583 -0.039038  10.6240  0.026240   \n",
       "1      0.028577  0.000500  4.113900  0.000000  0.000000   0.0000  0.006365   \n",
       "2      0.004193  0.000439  0.002325 -0.064530  0.025779   9.2245  0.032725   \n",
       "3      0.002439 -0.000347  4.999400  0.040195  0.033054  10.0090  0.031677   \n",
       "4     -0.007843  0.000186  0.002879 -0.148430 -0.263730  10.8810  0.027487   \n",
       "...         ...       ...       ...       ...       ...      ...       ...   \n",
       "17178  0.016414 -0.000500  0.075661  0.000000  0.000000   0.0000  0.007894   \n",
       "17179  0.016387 -0.000500  0.000997  0.000000  0.000000   0.0000  0.032178   \n",
       "17180 -0.017435 -0.000500  0.004380  0.000000  0.000000   0.0000  0.030933   \n",
       "17181  0.017914 -0.000439  5.000000 -0.040359 -0.038938   9.3870  0.033076   \n",
       "17182  0.025997 -0.000211  4.999000  0.036883 -0.060042  10.6440  0.028900   \n",
       "\n",
       "                nut      omega          p  \n",
       "0      8.245900e-08   339940.0  35136.000  \n",
       "1      1.227600e-07    10095.0   6403.800  \n",
       "2      3.664300e-08   923350.0  35120.000  \n",
       "3      4.682800e-08   705440.0     13.258  \n",
       "4      7.934700e-08   358030.0  35101.000  \n",
       "...             ...        ...        ...  \n",
       "17178  0.000000e+00    17570.0  34392.000  \n",
       "17179  0.000000e+00  1171000.0  35155.000  \n",
       "17180  0.000000e+00   633070.0  35084.000  \n",
       "17181  3.329900e-08  1015600.0      0.000  \n",
       "17182  7.370800e-08   411870.0     15.702  \n",
       "\n",
       "[17183 rows x 10 columns]"
      ]
     },
     "execution_count": 56,
     "metadata": {},
     "output_type": "execute_result"
    }
   ],
   "source": [
    "dfs_0 = pd.read_csv(str(data_paths[0]))\n",
    "dfs_0"
   ]
  },
  {
   "cell_type": "markdown",
   "id": "7f45c236-1ec0-4c9a-a533-b51d24013010",
   "metadata": {
    "execution": {
     "iopub.execute_input": "2022-06-04T15:29:47.274551Z",
     "iopub.status.busy": "2022-06-04T15:29:47.272665Z",
     "iopub.status.idle": "2022-06-04T15:29:47.297229Z",
     "shell.execute_reply": "2022-06-04T15:29:47.294649Z",
     "shell.execute_reply.started": "2022-06-04T15:29:47.274379Z"
    },
    "tags": []
   },
   "source": [
    "There are five values to choose from:\n",
    "\n",
    "| Terms | Meaning                                               |   \n",
    "|-------|-------------------------------------------------------|\n",
    "| u     | speed vector                                          |\n",
    "| k     | rate of dissipation from kinematic turbulence to heat |                                                                     \n",
    "| omega | omega is the kinematic turbulence energy              |                                                                 \n",
    "| nut   | kinematic turbulent viscosity                         |\n",
    "| p     | Pressure                                              |"
   ]
  },
  {
   "cell_type": "markdown",
   "id": "602ac698-27ac-4e7d-8366-926958a1c8ce",
   "metadata": {},
   "source": [
    "Matrix is a long one, has the shape of `(m=time, n=space)`\n",
    "$$\\begin{bmatrix} C_{1,1} & C_{1,2} & \\cdots & C_{1,n} \\\\ C_{2,1} & C_{2,2} & \\cdots & C_{2,n} \\\\ \\vdots & \\vdots & \\vdots & \\vdots \\\\ C_{m,1} & C_{m,2} & \\cdots & C_{m,n} \\end{bmatrix}  (1)$$"
   ]
  },
  {
   "cell_type": "code",
   "execution_count": 19,
   "id": "1cc6f1a2-3c7b-46f7-a0de-1509c782a0dc",
   "metadata": {
    "execution": {
     "iopub.execute_input": "2022-06-04T15:38:21.932546Z",
     "iopub.status.busy": "2022-06-04T15:38:21.932196Z",
     "iopub.status.idle": "2022-06-04T15:38:21.991311Z",
     "shell.execute_reply": "2022-06-04T15:38:21.990642Z",
     "shell.execute_reply.started": "2022-06-04T15:38:21.932504Z"
    },
    "tags": []
   },
   "outputs": [
    {
     "data": {
      "text/html": [
       "<div>\n",
       "<style scoped>\n",
       "    .dataframe tbody tr th:only-of-type {\n",
       "        vertical-align: middle;\n",
       "    }\n",
       "\n",
       "    .dataframe tbody tr th {\n",
       "        vertical-align: top;\n",
       "    }\n",
       "\n",
       "    .dataframe thead th {\n",
       "        text-align: right;\n",
       "    }\n",
       "</style>\n",
       "<table border=\"1\" class=\"dataframe\">\n",
       "  <thead>\n",
       "    <tr style=\"text-align: right;\">\n",
       "      <th></th>\n",
       "      <th>Points:0</th>\n",
       "      <th>Points:1</th>\n",
       "      <th>Points:2</th>\n",
       "      <th>k</th>\n",
       "      <th>nut</th>\n",
       "      <th>omega</th>\n",
       "      <th>p</th>\n",
       "    </tr>\n",
       "  </thead>\n",
       "  <tbody>\n",
       "    <tr>\n",
       "      <th>0</th>\n",
       "      <td>-0.013184</td>\n",
       "      <td>0.000209</td>\n",
       "      <td>0.001576</td>\n",
       "      <td>0.013179</td>\n",
       "      <td>1.647500e-07</td>\n",
       "      <td>80294.0</td>\n",
       "      <td>12834.00000</td>\n",
       "    </tr>\n",
       "    <tr>\n",
       "      <th>1</th>\n",
       "      <td>0.028577</td>\n",
       "      <td>0.000500</td>\n",
       "      <td>4.113900</td>\n",
       "      <td>0.010939</td>\n",
       "      <td>8.956200e-07</td>\n",
       "      <td>10116.0</td>\n",
       "      <td>2245.60000</td>\n",
       "    </tr>\n",
       "    <tr>\n",
       "      <th>2</th>\n",
       "      <td>0.004193</td>\n",
       "      <td>0.000439</td>\n",
       "      <td>0.002325</td>\n",
       "      <td>0.110610</td>\n",
       "      <td>2.003100e-07</td>\n",
       "      <td>600240.0</td>\n",
       "      <td>12833.00000</td>\n",
       "    </tr>\n",
       "    <tr>\n",
       "      <th>3</th>\n",
       "      <td>0.002439</td>\n",
       "      <td>-0.000347</td>\n",
       "      <td>4.999400</td>\n",
       "      <td>0.023297</td>\n",
       "      <td>1.932800e-07</td>\n",
       "      <td>118310.0</td>\n",
       "      <td>0.38197</td>\n",
       "    </tr>\n",
       "    <tr>\n",
       "      <th>4</th>\n",
       "      <td>-0.007843</td>\n",
       "      <td>0.000186</td>\n",
       "      <td>0.002879</td>\n",
       "      <td>0.015415</td>\n",
       "      <td>1.704000e-07</td>\n",
       "      <td>90478.0</td>\n",
       "      <td>12832.00000</td>\n",
       "    </tr>\n",
       "    <tr>\n",
       "      <th>...</th>\n",
       "      <td>...</td>\n",
       "      <td>...</td>\n",
       "      <td>...</td>\n",
       "      <td>...</td>\n",
       "      <td>...</td>\n",
       "      <td>...</td>\n",
       "      <td>...</td>\n",
       "    </tr>\n",
       "    <tr>\n",
       "      <th>17178</th>\n",
       "      <td>0.016414</td>\n",
       "      <td>-0.000500</td>\n",
       "      <td>0.075661</td>\n",
       "      <td>0.016093</td>\n",
       "      <td>0.000000e+00</td>\n",
       "      <td>17607.0</td>\n",
       "      <td>12775.00000</td>\n",
       "    </tr>\n",
       "    <tr>\n",
       "      <th>17179</th>\n",
       "      <td>0.016387</td>\n",
       "      <td>-0.000500</td>\n",
       "      <td>0.000997</td>\n",
       "      <td>0.211070</td>\n",
       "      <td>0.000000e+00</td>\n",
       "      <td>1171200.0</td>\n",
       "      <td>12835.00000</td>\n",
       "    </tr>\n",
       "    <tr>\n",
       "      <th>17180</th>\n",
       "      <td>-0.017435</td>\n",
       "      <td>-0.000500</td>\n",
       "      <td>0.004380</td>\n",
       "      <td>0.204520</td>\n",
       "      <td>0.000000e+00</td>\n",
       "      <td>633320.0</td>\n",
       "      <td>12831.00000</td>\n",
       "    </tr>\n",
       "    <tr>\n",
       "      <th>17181</th>\n",
       "      <td>0.017914</td>\n",
       "      <td>-0.000439</td>\n",
       "      <td>5.000000</td>\n",
       "      <td>0.110350</td>\n",
       "      <td>1.890200e-07</td>\n",
       "      <td>654590.0</td>\n",
       "      <td>0.00000</td>\n",
       "    </tr>\n",
       "    <tr>\n",
       "      <th>17182</th>\n",
       "      <td>0.025997</td>\n",
       "      <td>-0.000211</td>\n",
       "      <td>4.999000</td>\n",
       "      <td>0.015924</td>\n",
       "      <td>1.723400e-07</td>\n",
       "      <td>92384.0</td>\n",
       "      <td>0.48228</td>\n",
       "    </tr>\n",
       "  </tbody>\n",
       "</table>\n",
       "<p>17183 rows × 7 columns</p>\n",
       "</div>"
      ],
      "text/plain": [
       "       Points:0  Points:1  Points:2         k           nut      omega  \\\n",
       "0     -0.013184  0.000209  0.001576  0.013179  1.647500e-07    80294.0   \n",
       "1      0.028577  0.000500  4.113900  0.010939  8.956200e-07    10116.0   \n",
       "2      0.004193  0.000439  0.002325  0.110610  2.003100e-07   600240.0   \n",
       "3      0.002439 -0.000347  4.999400  0.023297  1.932800e-07   118310.0   \n",
       "4     -0.007843  0.000186  0.002879  0.015415  1.704000e-07    90478.0   \n",
       "...         ...       ...       ...       ...           ...        ...   \n",
       "17178  0.016414 -0.000500  0.075661  0.016093  0.000000e+00    17607.0   \n",
       "17179  0.016387 -0.000500  0.000997  0.211070  0.000000e+00  1171200.0   \n",
       "17180 -0.017435 -0.000500  0.004380  0.204520  0.000000e+00   633320.0   \n",
       "17181  0.017914 -0.000439  5.000000  0.110350  1.890200e-07   654590.0   \n",
       "17182  0.025997 -0.000211  4.999000  0.015924  1.723400e-07    92384.0   \n",
       "\n",
       "                 p  \n",
       "0      12834.00000  \n",
       "1       2245.60000  \n",
       "2      12833.00000  \n",
       "3          0.38197  \n",
       "4      12832.00000  \n",
       "...            ...  \n",
       "17178  12775.00000  \n",
       "17179  12835.00000  \n",
       "17180  12831.00000  \n",
       "17181      0.00000  \n",
       "17182      0.48228  \n",
       "\n",
       "[17183 rows x 7 columns]"
      ]
     },
     "execution_count": 19,
     "metadata": {},
     "output_type": "execute_result"
    }
   ],
   "source": [
    "dfs_1 = pd.read_csv(str(data_paths[1]))\n",
    "dfs_1"
   ]
  },
  {
   "cell_type": "markdown",
   "id": "40dc48db-4d18-412d-98bf-f106b70d927a",
   "metadata": {},
   "source": [
    "### Start ETL"
   ]
  },
  {
   "cell_type": "code",
   "execution_count": 57,
   "id": "1ed406d9-42b1-4aa9-bf63-9d53d3c620a3",
   "metadata": {
    "execution": {
     "iopub.execute_input": "2022-06-04T23:56:00.932336Z",
     "iopub.status.busy": "2022-06-04T23:56:00.932019Z",
     "iopub.status.idle": "2022-06-05T00:05:20.244791Z",
     "shell.execute_reply": "2022-06-05T00:05:20.243936Z",
     "shell.execute_reply.started": "2022-06-04T23:56:00.932301Z"
    },
    "tags": []
   },
   "outputs": [
    {
     "name": "stdout",
     "output_type": "stream",
     "text": [
      "Working with U:0\n"
     ]
    },
    {
     "data": {
      "application/vnd.jupyter.widget-view+json": {
       "model_id": "798222ec3fa34fbaa5a486a04c47030f",
       "version_major": 2,
       "version_minor": 0
      },
      "text/plain": [
       "  0%|          | 0/998 [00:00<?, ?it/s]"
      ]
     },
     "metadata": {},
     "output_type": "display_data"
    },
    {
     "name": "stdout",
     "output_type": "stream",
     "text": [
      "shape of p_data (17183, 999)\n",
      "Working with U:1\n"
     ]
    },
    {
     "data": {
      "application/vnd.jupyter.widget-view+json": {
       "model_id": "b2339b972fac40cc84a24bb518d43e69",
       "version_major": 2,
       "version_minor": 0
      },
      "text/plain": [
       "  0%|          | 0/998 [00:00<?, ?it/s]"
      ]
     },
     "metadata": {},
     "output_type": "display_data"
    },
    {
     "name": "stdout",
     "output_type": "stream",
     "text": [
      "shape of p_data (17183, 999)\n",
      "Working with U:2\n"
     ]
    },
    {
     "data": {
      "application/vnd.jupyter.widget-view+json": {
       "model_id": "ac1d93c2bdf24b85b37fce97620ca459",
       "version_major": 2,
       "version_minor": 0
      },
      "text/plain": [
       "  0%|          | 0/998 [00:00<?, ?it/s]"
      ]
     },
     "metadata": {},
     "output_type": "display_data"
    },
    {
     "name": "stdout",
     "output_type": "stream",
     "text": [
      "shape of p_data (17183, 999)\n",
      "Working with k\n"
     ]
    },
    {
     "data": {
      "application/vnd.jupyter.widget-view+json": {
       "model_id": "1e934161fba94996aa3382ac1594d74b",
       "version_major": 2,
       "version_minor": 0
      },
      "text/plain": [
       "  0%|          | 0/998 [00:00<?, ?it/s]"
      ]
     },
     "metadata": {},
     "output_type": "display_data"
    },
    {
     "name": "stdout",
     "output_type": "stream",
     "text": [
      "shape of p_data (17183, 999)\n",
      "Working with nut\n"
     ]
    },
    {
     "data": {
      "application/vnd.jupyter.widget-view+json": {
       "model_id": "16f8334cee964f6f903c5dcc780dcd53",
       "version_major": 2,
       "version_minor": 0
      },
      "text/plain": [
       "  0%|          | 0/998 [00:00<?, ?it/s]"
      ]
     },
     "metadata": {},
     "output_type": "display_data"
    },
    {
     "name": "stdout",
     "output_type": "stream",
     "text": [
      "shape of p_data (17183, 999)\n",
      "Working with omega\n"
     ]
    },
    {
     "data": {
      "application/vnd.jupyter.widget-view+json": {
       "model_id": "c51e626c1cdc43498a061a195aefcca7",
       "version_major": 2,
       "version_minor": 0
      },
      "text/plain": [
       "  0%|          | 0/998 [00:00<?, ?it/s]"
      ]
     },
     "metadata": {},
     "output_type": "display_data"
    },
    {
     "name": "stdout",
     "output_type": "stream",
     "text": [
      "shape of p_data (17183, 999)\n",
      "Working with p\n"
     ]
    },
    {
     "data": {
      "application/vnd.jupyter.widget-view+json": {
       "model_id": "8368c10c49c6412abd1e709dc4dc6689",
       "version_major": 2,
       "version_minor": 0
      },
      "text/plain": [
       "  0%|          | 0/998 [00:00<?, ?it/s]"
      ]
     },
     "metadata": {},
     "output_type": "display_data"
    },
    {
     "name": "stdout",
     "output_type": "stream",
     "text": [
      "shape of p_data (17183, 999)\n"
     ]
    }
   ],
   "source": [
    "chosen_columns = ['U:0', 'U:1', 'U:2', 'k', 'nut', 'omega', 'p']\n",
    "tables = {}\n",
    "for term in chosen_columns:\n",
    "    print(f\"Working with {term}\")\n",
    "    dfs_0 = pd.read_csv(str(data_paths[0]))\n",
    "    p_data = dfs_0[term].copy()\n",
    "    for i in tqdm(range(1,NUM_FRAMES)):\n",
    "        _ = pd.read_csv(str(data_paths[i]))\n",
    "        pd.testing.assert_frame_equal(dfs_0[[\"Points:0\", \"Points:1\", \"Points:2\"]], _[[\"Points:0\", \"Points:1\", \"Points:2\"]]) # Make sure all points coordinates are the same accross time\n",
    "        p_data = pd.concat([p_data, _[term]], axis=1)\n",
    "    print(f\"shape of p_data {p_data.shape}\")\n",
    "    tables[term] = p_data"
   ]
  },
  {
   "cell_type": "markdown",
   "id": "6941563b-aec1-41ee-92c5-5d37d81bccf5",
   "metadata": {},
   "source": [
    "---"
   ]
  },
  {
   "cell_type": "code",
   "execution_count": 58,
   "id": "959ee121-837d-44c3-8cf9-1a50d40fb0b3",
   "metadata": {
    "execution": {
     "iopub.execute_input": "2022-06-05T00:05:20.246488Z",
     "iopub.status.busy": "2022-06-05T00:05:20.246198Z",
     "iopub.status.idle": "2022-06-05T00:05:20.286677Z",
     "shell.execute_reply": "2022-06-05T00:05:20.285492Z",
     "shell.execute_reply.started": "2022-06-05T00:05:20.246458Z"
    },
    "tags": []
   },
   "outputs": [
    {
     "data": {
      "text/html": [
       "<div>\n",
       "<style scoped>\n",
       "    .dataframe tbody tr th:only-of-type {\n",
       "        vertical-align: middle;\n",
       "    }\n",
       "\n",
       "    .dataframe tbody tr th {\n",
       "        vertical-align: top;\n",
       "    }\n",
       "\n",
       "    .dataframe thead th {\n",
       "        text-align: right;\n",
       "    }\n",
       "</style>\n",
       "<table border=\"1\" class=\"dataframe\">\n",
       "  <thead>\n",
       "    <tr style=\"text-align: right;\">\n",
       "      <th></th>\n",
       "      <th>p</th>\n",
       "      <th>p</th>\n",
       "      <th>p</th>\n",
       "      <th>p</th>\n",
       "      <th>p</th>\n",
       "      <th>p</th>\n",
       "      <th>p</th>\n",
       "      <th>p</th>\n",
       "      <th>p</th>\n",
       "      <th>p</th>\n",
       "      <th>...</th>\n",
       "      <th>p</th>\n",
       "      <th>p</th>\n",
       "      <th>p</th>\n",
       "      <th>p</th>\n",
       "      <th>p</th>\n",
       "      <th>p</th>\n",
       "      <th>p</th>\n",
       "      <th>p</th>\n",
       "      <th>p</th>\n",
       "      <th>p</th>\n",
       "    </tr>\n",
       "  </thead>\n",
       "  <tbody>\n",
       "    <tr>\n",
       "      <th>0</th>\n",
       "      <td>35136.000</td>\n",
       "      <td>12834.00000</td>\n",
       "      <td>5356.20000</td>\n",
       "      <td>2366.90000</td>\n",
       "      <td>1557.20000</td>\n",
       "      <td>1428.60000</td>\n",
       "      <td>1469.30000</td>\n",
       "      <td>1540.80000</td>\n",
       "      <td>1608.70000</td>\n",
       "      <td>1664.70000</td>\n",
       "      <td>...</td>\n",
       "      <td>509.03000</td>\n",
       "      <td>509.15000</td>\n",
       "      <td>509.16000</td>\n",
       "      <td>509.20000</td>\n",
       "      <td>509.17000</td>\n",
       "      <td>509.33000</td>\n",
       "      <td>509.38000</td>\n",
       "      <td>509.40000</td>\n",
       "      <td>509.16000</td>\n",
       "      <td>509.00000</td>\n",
       "    </tr>\n",
       "    <tr>\n",
       "      <th>1</th>\n",
       "      <td>6403.800</td>\n",
       "      <td>2245.60000</td>\n",
       "      <td>950.28000</td>\n",
       "      <td>408.05000</td>\n",
       "      <td>268.57000</td>\n",
       "      <td>251.02000</td>\n",
       "      <td>259.52000</td>\n",
       "      <td>274.47000</td>\n",
       "      <td>287.76000</td>\n",
       "      <td>300.22000</td>\n",
       "      <td>...</td>\n",
       "      <td>93.87500</td>\n",
       "      <td>93.91200</td>\n",
       "      <td>93.92100</td>\n",
       "      <td>93.93100</td>\n",
       "      <td>93.91400</td>\n",
       "      <td>93.91600</td>\n",
       "      <td>93.91300</td>\n",
       "      <td>93.93200</td>\n",
       "      <td>93.91400</td>\n",
       "      <td>93.88600</td>\n",
       "    </tr>\n",
       "    <tr>\n",
       "      <th>2</th>\n",
       "      <td>35120.000</td>\n",
       "      <td>12833.00000</td>\n",
       "      <td>5355.80000</td>\n",
       "      <td>2366.30000</td>\n",
       "      <td>1556.50000</td>\n",
       "      <td>1427.80000</td>\n",
       "      <td>1468.40000</td>\n",
       "      <td>1539.90000</td>\n",
       "      <td>1607.80000</td>\n",
       "      <td>1663.80000</td>\n",
       "      <td>...</td>\n",
       "      <td>508.48000</td>\n",
       "      <td>508.60000</td>\n",
       "      <td>508.61000</td>\n",
       "      <td>508.65000</td>\n",
       "      <td>508.62000</td>\n",
       "      <td>508.78000</td>\n",
       "      <td>508.83000</td>\n",
       "      <td>508.85000</td>\n",
       "      <td>508.61000</td>\n",
       "      <td>508.45000</td>\n",
       "    </tr>\n",
       "    <tr>\n",
       "      <th>3</th>\n",
       "      <td>13.258</td>\n",
       "      <td>0.38197</td>\n",
       "      <td>0.39249</td>\n",
       "      <td>0.33601</td>\n",
       "      <td>0.30548</td>\n",
       "      <td>0.30886</td>\n",
       "      <td>0.31336</td>\n",
       "      <td>0.30765</td>\n",
       "      <td>0.31152</td>\n",
       "      <td>0.31213</td>\n",
       "      <td>...</td>\n",
       "      <td>0.14933</td>\n",
       "      <td>0.14932</td>\n",
       "      <td>0.14927</td>\n",
       "      <td>0.14922</td>\n",
       "      <td>0.14916</td>\n",
       "      <td>0.14915</td>\n",
       "      <td>0.14914</td>\n",
       "      <td>0.14917</td>\n",
       "      <td>0.14916</td>\n",
       "      <td>0.14917</td>\n",
       "    </tr>\n",
       "    <tr>\n",
       "      <th>4</th>\n",
       "      <td>35101.000</td>\n",
       "      <td>12832.00000</td>\n",
       "      <td>5355.40000</td>\n",
       "      <td>2366.00000</td>\n",
       "      <td>1556.30000</td>\n",
       "      <td>1427.60000</td>\n",
       "      <td>1468.20000</td>\n",
       "      <td>1539.70000</td>\n",
       "      <td>1607.50000</td>\n",
       "      <td>1663.50000</td>\n",
       "      <td>...</td>\n",
       "      <td>508.36000</td>\n",
       "      <td>508.48000</td>\n",
       "      <td>508.49000</td>\n",
       "      <td>508.53000</td>\n",
       "      <td>508.50000</td>\n",
       "      <td>508.66000</td>\n",
       "      <td>508.71000</td>\n",
       "      <td>508.73000</td>\n",
       "      <td>508.49000</td>\n",
       "      <td>508.33000</td>\n",
       "    </tr>\n",
       "    <tr>\n",
       "      <th>...</th>\n",
       "      <td>...</td>\n",
       "      <td>...</td>\n",
       "      <td>...</td>\n",
       "      <td>...</td>\n",
       "      <td>...</td>\n",
       "      <td>...</td>\n",
       "      <td>...</td>\n",
       "      <td>...</td>\n",
       "      <td>...</td>\n",
       "      <td>...</td>\n",
       "      <td>...</td>\n",
       "      <td>...</td>\n",
       "      <td>...</td>\n",
       "      <td>...</td>\n",
       "      <td>...</td>\n",
       "      <td>...</td>\n",
       "      <td>...</td>\n",
       "      <td>...</td>\n",
       "      <td>...</td>\n",
       "      <td>...</td>\n",
       "      <td>...</td>\n",
       "    </tr>\n",
       "    <tr>\n",
       "      <th>17178</th>\n",
       "      <td>34392.000</td>\n",
       "      <td>12775.00000</td>\n",
       "      <td>5322.00000</td>\n",
       "      <td>2337.70000</td>\n",
       "      <td>1529.30000</td>\n",
       "      <td>1401.30000</td>\n",
       "      <td>1442.50000</td>\n",
       "      <td>1514.20000</td>\n",
       "      <td>1582.10000</td>\n",
       "      <td>1638.00000</td>\n",
       "      <td>...</td>\n",
       "      <td>498.27000</td>\n",
       "      <td>498.39000</td>\n",
       "      <td>498.40000</td>\n",
       "      <td>498.44000</td>\n",
       "      <td>498.41000</td>\n",
       "      <td>498.57000</td>\n",
       "      <td>498.62000</td>\n",
       "      <td>498.64000</td>\n",
       "      <td>498.40000</td>\n",
       "      <td>498.24000</td>\n",
       "    </tr>\n",
       "    <tr>\n",
       "      <th>17179</th>\n",
       "      <td>35155.000</td>\n",
       "      <td>12835.00000</td>\n",
       "      <td>5357.20000</td>\n",
       "      <td>2367.60000</td>\n",
       "      <td>1557.80000</td>\n",
       "      <td>1429.10000</td>\n",
       "      <td>1469.80000</td>\n",
       "      <td>1541.30000</td>\n",
       "      <td>1609.20000</td>\n",
       "      <td>1665.30000</td>\n",
       "      <td>...</td>\n",
       "      <td>509.36000</td>\n",
       "      <td>509.47000</td>\n",
       "      <td>509.48000</td>\n",
       "      <td>509.52000</td>\n",
       "      <td>509.49000</td>\n",
       "      <td>509.65000</td>\n",
       "      <td>509.70000</td>\n",
       "      <td>509.72000</td>\n",
       "      <td>509.48000</td>\n",
       "      <td>509.32000</td>\n",
       "    </tr>\n",
       "    <tr>\n",
       "      <th>17180</th>\n",
       "      <td>35084.000</td>\n",
       "      <td>12831.00000</td>\n",
       "      <td>5354.60000</td>\n",
       "      <td>2365.30000</td>\n",
       "      <td>1555.60000</td>\n",
       "      <td>1427.00000</td>\n",
       "      <td>1467.60000</td>\n",
       "      <td>1539.10000</td>\n",
       "      <td>1606.90000</td>\n",
       "      <td>1662.90000</td>\n",
       "      <td>...</td>\n",
       "      <td>508.09000</td>\n",
       "      <td>508.20000</td>\n",
       "      <td>508.22000</td>\n",
       "      <td>508.25000</td>\n",
       "      <td>508.22000</td>\n",
       "      <td>508.38000</td>\n",
       "      <td>508.43000</td>\n",
       "      <td>508.45000</td>\n",
       "      <td>508.21000</td>\n",
       "      <td>508.05000</td>\n",
       "    </tr>\n",
       "    <tr>\n",
       "      <th>17181</th>\n",
       "      <td>0.000</td>\n",
       "      <td>0.00000</td>\n",
       "      <td>0.00000</td>\n",
       "      <td>0.00000</td>\n",
       "      <td>0.00000</td>\n",
       "      <td>0.00000</td>\n",
       "      <td>0.00000</td>\n",
       "      <td>0.00000</td>\n",
       "      <td>0.00000</td>\n",
       "      <td>0.00000</td>\n",
       "      <td>...</td>\n",
       "      <td>0.00000</td>\n",
       "      <td>0.00000</td>\n",
       "      <td>0.00000</td>\n",
       "      <td>0.00000</td>\n",
       "      <td>0.00000</td>\n",
       "      <td>0.00000</td>\n",
       "      <td>0.00000</td>\n",
       "      <td>0.00000</td>\n",
       "      <td>0.00000</td>\n",
       "      <td>0.00000</td>\n",
       "    </tr>\n",
       "    <tr>\n",
       "      <th>17182</th>\n",
       "      <td>15.702</td>\n",
       "      <td>0.48228</td>\n",
       "      <td>0.62243</td>\n",
       "      <td>0.55377</td>\n",
       "      <td>0.51251</td>\n",
       "      <td>0.52061</td>\n",
       "      <td>0.53203</td>\n",
       "      <td>0.53508</td>\n",
       "      <td>0.55101</td>\n",
       "      <td>0.56158</td>\n",
       "      <td>...</td>\n",
       "      <td>0.27525</td>\n",
       "      <td>0.27514</td>\n",
       "      <td>0.27531</td>\n",
       "      <td>0.27516</td>\n",
       "      <td>0.27526</td>\n",
       "      <td>0.27525</td>\n",
       "      <td>0.27541</td>\n",
       "      <td>0.27539</td>\n",
       "      <td>0.27544</td>\n",
       "      <td>0.27542</td>\n",
       "    </tr>\n",
       "  </tbody>\n",
       "</table>\n",
       "<p>17183 rows × 999 columns</p>\n",
       "</div>"
      ],
      "text/plain": [
       "               p            p           p           p           p           p  \\\n",
       "0      35136.000  12834.00000  5356.20000  2366.90000  1557.20000  1428.60000   \n",
       "1       6403.800   2245.60000   950.28000   408.05000   268.57000   251.02000   \n",
       "2      35120.000  12833.00000  5355.80000  2366.30000  1556.50000  1427.80000   \n",
       "3         13.258      0.38197     0.39249     0.33601     0.30548     0.30886   \n",
       "4      35101.000  12832.00000  5355.40000  2366.00000  1556.30000  1427.60000   \n",
       "...          ...          ...         ...         ...         ...         ...   \n",
       "17178  34392.000  12775.00000  5322.00000  2337.70000  1529.30000  1401.30000   \n",
       "17179  35155.000  12835.00000  5357.20000  2367.60000  1557.80000  1429.10000   \n",
       "17180  35084.000  12831.00000  5354.60000  2365.30000  1555.60000  1427.00000   \n",
       "17181      0.000      0.00000     0.00000     0.00000     0.00000     0.00000   \n",
       "17182     15.702      0.48228     0.62243     0.55377     0.51251     0.52061   \n",
       "\n",
       "                p           p           p           p  ...          p  \\\n",
       "0      1469.30000  1540.80000  1608.70000  1664.70000  ...  509.03000   \n",
       "1       259.52000   274.47000   287.76000   300.22000  ...   93.87500   \n",
       "2      1468.40000  1539.90000  1607.80000  1663.80000  ...  508.48000   \n",
       "3         0.31336     0.30765     0.31152     0.31213  ...    0.14933   \n",
       "4      1468.20000  1539.70000  1607.50000  1663.50000  ...  508.36000   \n",
       "...           ...         ...         ...         ...  ...        ...   \n",
       "17178  1442.50000  1514.20000  1582.10000  1638.00000  ...  498.27000   \n",
       "17179  1469.80000  1541.30000  1609.20000  1665.30000  ...  509.36000   \n",
       "17180  1467.60000  1539.10000  1606.90000  1662.90000  ...  508.09000   \n",
       "17181     0.00000     0.00000     0.00000     0.00000  ...    0.00000   \n",
       "17182     0.53203     0.53508     0.55101     0.56158  ...    0.27525   \n",
       "\n",
       "               p          p          p          p          p          p  \\\n",
       "0      509.15000  509.16000  509.20000  509.17000  509.33000  509.38000   \n",
       "1       93.91200   93.92100   93.93100   93.91400   93.91600   93.91300   \n",
       "2      508.60000  508.61000  508.65000  508.62000  508.78000  508.83000   \n",
       "3        0.14932    0.14927    0.14922    0.14916    0.14915    0.14914   \n",
       "4      508.48000  508.49000  508.53000  508.50000  508.66000  508.71000   \n",
       "...          ...        ...        ...        ...        ...        ...   \n",
       "17178  498.39000  498.40000  498.44000  498.41000  498.57000  498.62000   \n",
       "17179  509.47000  509.48000  509.52000  509.49000  509.65000  509.70000   \n",
       "17180  508.20000  508.22000  508.25000  508.22000  508.38000  508.43000   \n",
       "17181    0.00000    0.00000    0.00000    0.00000    0.00000    0.00000   \n",
       "17182    0.27514    0.27531    0.27516    0.27526    0.27525    0.27541   \n",
       "\n",
       "               p          p          p  \n",
       "0      509.40000  509.16000  509.00000  \n",
       "1       93.93200   93.91400   93.88600  \n",
       "2      508.85000  508.61000  508.45000  \n",
       "3        0.14917    0.14916    0.14917  \n",
       "4      508.73000  508.49000  508.33000  \n",
       "...          ...        ...        ...  \n",
       "17178  498.64000  498.40000  498.24000  \n",
       "17179  509.72000  509.48000  509.32000  \n",
       "17180  508.45000  508.21000  508.05000  \n",
       "17181    0.00000    0.00000    0.00000  \n",
       "17182    0.27539    0.27544    0.27542  \n",
       "\n",
       "[17183 rows x 999 columns]"
      ]
     },
     "execution_count": 58,
     "metadata": {},
     "output_type": "execute_result"
    }
   ],
   "source": [
    "tables['p']"
   ]
  },
  {
   "cell_type": "markdown",
   "id": "50ac6ea9-c6c6-4d4c-8bf4-9640830c6572",
   "metadata": {},
   "source": [
    "To make it consistent with (1), we need to transopose"
   ]
  },
  {
   "cell_type": "code",
   "execution_count": 59,
   "id": "0d2e3c3c-e1c8-4e3a-a75a-086b07f89f0c",
   "metadata": {
    "execution": {
     "iopub.execute_input": "2022-06-05T00:05:20.289299Z",
     "iopub.status.busy": "2022-06-05T00:05:20.288991Z",
     "iopub.status.idle": "2022-06-05T00:05:20.507207Z",
     "shell.execute_reply": "2022-06-05T00:05:20.506506Z",
     "shell.execute_reply.started": "2022-06-05T00:05:20.289265Z"
    },
    "tags": []
   },
   "outputs": [
    {
     "data": {
      "text/plain": [
       "(17183, 999)"
      ]
     },
     "execution_count": 59,
     "metadata": {},
     "output_type": "execute_result"
    }
   ],
   "source": [
    "tables['p'].values.shape"
   ]
  },
  {
   "cell_type": "code",
   "execution_count": 60,
   "id": "c8ebf7ed-d020-40a7-ad49-4e22c87d173c",
   "metadata": {
    "execution": {
     "iopub.execute_input": "2022-06-05T00:05:20.509411Z",
     "iopub.status.busy": "2022-06-05T00:05:20.509115Z",
     "iopub.status.idle": "2022-06-05T00:05:21.675688Z",
     "shell.execute_reply": "2022-06-05T00:05:21.674739Z",
     "shell.execute_reply.started": "2022-06-05T00:05:20.509383Z"
    },
    "tags": []
   },
   "outputs": [],
   "source": [
    "for key in tables:\n",
    "    tables[key] = tables[key].values.T"
   ]
  },
  {
   "cell_type": "code",
   "execution_count": 61,
   "id": "d13cfd99-07b9-4add-ad23-869efd3c6a6f",
   "metadata": {
    "execution": {
     "iopub.execute_input": "2022-06-05T00:05:21.677505Z",
     "iopub.status.busy": "2022-06-05T00:05:21.677102Z",
     "iopub.status.idle": "2022-06-05T00:05:21.682741Z",
     "shell.execute_reply": "2022-06-05T00:05:21.681650Z",
     "shell.execute_reply.started": "2022-06-05T00:05:21.677448Z"
    },
    "tags": []
   },
   "outputs": [
    {
     "data": {
      "text/plain": [
       "(999, 17183)"
      ]
     },
     "execution_count": 61,
     "metadata": {},
     "output_type": "execute_result"
    }
   ],
   "source": [
    "tables['p'].shape"
   ]
  },
  {
   "cell_type": "code",
   "execution_count": 62,
   "id": "d4650d37-eb40-42bf-86bc-010efd980ad1",
   "metadata": {
    "execution": {
     "iopub.execute_input": "2022-06-05T00:05:21.684420Z",
     "iopub.status.busy": "2022-06-05T00:05:21.684135Z",
     "iopub.status.idle": "2022-06-05T00:05:21.688846Z",
     "shell.execute_reply": "2022-06-05T00:05:21.687743Z",
     "shell.execute_reply.started": "2022-06-05T00:05:21.684390Z"
    },
    "tags": []
   },
   "outputs": [
    {
     "name": "stdout",
     "output_type": "stream",
     "text": [
      "train_index: 499, val_index: 598\n"
     ]
    }
   ],
   "source": [
    "train_index = int(p_data.shape[1] * .5)\n",
    "val_index = train_index + int(p_data.shape[1] * .1)\n",
    "print(f\"train_index: {train_index}, val_index: {val_index}\")"
   ]
  },
  {
   "cell_type": "code",
   "execution_count": 63,
   "id": "77731bc8-d343-441e-ba94-dfad24693d1b",
   "metadata": {
    "execution": {
     "iopub.execute_input": "2022-06-05T00:05:21.690417Z",
     "iopub.status.busy": "2022-06-05T00:05:21.690176Z",
     "iopub.status.idle": "2022-06-05T00:05:21.694431Z",
     "shell.execute_reply": "2022-06-05T00:05:21.693444Z",
     "shell.execute_reply.started": "2022-06-05T00:05:21.690388Z"
    },
    "tags": []
   },
   "outputs": [],
   "source": [
    "assert(tables['p'].shape[0] < tables['p'].shape[1])   # Time is smaller than number of cells in mesh"
   ]
  },
  {
   "cell_type": "markdown",
   "id": "58848c7d-9551-439d-bfe8-73378c3d5e12",
   "metadata": {},
   "source": [
    "### Splitting to train val test"
   ]
  },
  {
   "cell_type": "code",
   "execution_count": 64,
   "id": "d5e71377-f8cf-49eb-b812-7c67b4796aa4",
   "metadata": {
    "execution": {
     "iopub.execute_input": "2022-06-05T00:05:21.697476Z",
     "iopub.status.busy": "2022-06-05T00:05:21.697254Z",
     "iopub.status.idle": "2022-06-05T00:05:21.702192Z",
     "shell.execute_reply": "2022-06-05T00:05:21.701171Z",
     "shell.execute_reply.started": "2022-06-05T00:05:21.697449Z"
    },
    "tags": []
   },
   "outputs": [
    {
     "name": "stdout",
     "output_type": "stream",
     "text": [
      "(499, 17183) (99, 17183) (401, 17183)\n"
     ]
    }
   ],
   "source": [
    "train_data = tables['p'][:train_index, :]\n",
    "val_data = tables['p'][train_index:val_index, :]\n",
    "test_data = tables['p'][val_index:, :]\n",
    "print(train_data.shape, val_data.shape, test_data.shape)"
   ]
  },
  {
   "cell_type": "code",
   "execution_count": 65,
   "id": "a58c19ed-dd96-496a-a8b4-6ae6dd16ae05",
   "metadata": {
    "execution": {
     "iopub.execute_input": "2022-06-05T00:05:21.704501Z",
     "iopub.status.busy": "2022-06-05T00:05:21.704094Z",
     "iopub.status.idle": "2022-06-05T00:05:22.571688Z",
     "shell.execute_reply": "2022-06-05T00:05:22.570948Z",
     "shell.execute_reply.started": "2022-06-05T00:05:21.704461Z"
    },
    "tags": []
   },
   "outputs": [
    {
     "name": "stdout",
     "output_type": "stream",
     "text": [
      "(499, 17183) (99, 17183) (401, 17183)\n",
      "(499, 17183) (99, 17183) (401, 17183)\n",
      "(499, 17183) (99, 17183) (401, 17183)\n",
      "(499, 17183) (99, 17183) (401, 17183)\n",
      "(499, 17183) (99, 17183) (401, 17183)\n",
      "(499, 17183) (99, 17183) (401, 17183)\n",
      "(499, 17183) (99, 17183) (401, 17183)\n"
     ]
    }
   ],
   "source": [
    "for key in tables:\n",
    "    train_data = tables[key][:train_index, :]\n",
    "    val_data = tables[key][train_index:val_index, :]\n",
    "    test_data = tables[key][val_index:, :]\n",
    "    print(train_data.shape, val_data.shape, test_data.shape)\n",
    "    with open(f'train_{key}.pkl', 'wb') as f:\n",
    "        pickle.dump(train_data, f)\n",
    "    with open(f'val_{key}.pkl', 'wb') as f:\n",
    "        pickle.dump(val_data, f)\n",
    "    with open(f'test_{key}.pkl', 'wb') as f:\n",
    "        pickle.dump(test_data, f)"
   ]
  }
 ],
 "metadata": {
  "kernelspec": {
   "display_name": "Python 3",
   "language": "python",
   "name": "python3"
  },
  "language_info": {
   "codemirror_mode": {
    "name": "ipython",
    "version": 3
   },
   "file_extension": ".py",
   "mimetype": "text/x-python",
   "name": "python",
   "nbconvert_exporter": "python",
   "pygments_lexer": "ipython3",
   "version": "3.7.9"
  }
 },
 "nbformat": 4,
 "nbformat_minor": 5
}
