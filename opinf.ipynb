{
 "cells": [
  {
   "cell_type": "code",
   "execution_count": 392,
   "metadata": {
    "application/vnd.databricks.v1+cell": {
     "inputWidgets": {},
     "nuid": "c1e38b1c-3fbb-4db4-bc3a-5348d4e684cc",
     "showTitle": false,
     "title": ""
    },
    "execution": {
     "iopub.execute_input": "2022-06-10T14:01:10.574392Z",
     "iopub.status.busy": "2022-06-10T14:01:10.573729Z",
     "iopub.status.idle": "2022-06-10T14:01:10.579916Z",
     "shell.execute_reply": "2022-06-10T14:01:10.578773Z",
     "shell.execute_reply.started": "2022-06-10T14:01:10.574349Z"
    },
    "id": "wtgDW9vBzoF2",
    "tags": []
   },
   "outputs": [],
   "source": [
    "import rom_operator_inference as opinf\n",
    "\n",
    "import pickle\n",
    "import pandas as pd\n",
    "from sklearn.metrics import mean_squared_error as mse\n",
    "from matplotlib import cm\n",
    "import matplotlib.pyplot as plt\n",
    "import numpy as np\n",
    "\n",
    "import itertools"
   ]
  },
  {
   "cell_type": "code",
   "execution_count": 393,
   "metadata": {
    "execution": {
     "iopub.execute_input": "2022-06-10T14:01:10.582615Z",
     "iopub.status.busy": "2022-06-10T14:01:10.582182Z",
     "iopub.status.idle": "2022-06-10T14:01:10.587282Z",
     "shell.execute_reply": "2022-06-10T14:01:10.586022Z",
     "shell.execute_reply.started": "2022-06-10T14:01:10.582563Z"
    },
    "tags": []
   },
   "outputs": [],
   "source": [
    "# !pip install git+https://github.com/Willcox-Research-Group/rom-operator-inference-Python3.git"
   ]
  },
  {
   "cell_type": "code",
   "execution_count": 394,
   "metadata": {
    "application/vnd.databricks.v1+cell": {
     "inputWidgets": {},
     "nuid": "61f1cd74-00b6-4809-86cf-2a64ea1b28a5",
     "showTitle": false,
     "title": ""
    },
    "execution": {
     "iopub.execute_input": "2022-06-10T14:01:10.591342Z",
     "iopub.status.busy": "2022-06-10T14:01:10.591075Z",
     "iopub.status.idle": "2022-06-10T14:01:10.596566Z",
     "shell.execute_reply": "2022-06-10T14:01:10.595362Z",
     "shell.execute_reply.started": "2022-06-10T14:01:10.591306Z"
    },
    "id": "eTwmmPTdzoF6",
    "tags": []
   },
   "outputs": [],
   "source": [
    "chosen_columns = ['p', 'U:2']\n",
    "sets = ['train', 'val', 'test']\n",
    "\n",
    "input_files = [(dataset, column) for dataset in sets for column in chosen_columns]"
   ]
  },
  {
   "cell_type": "code",
   "execution_count": 395,
   "metadata": {
    "execution": {
     "iopub.execute_input": "2022-06-10T14:01:10.599721Z",
     "iopub.status.busy": "2022-06-10T14:01:10.599235Z",
     "iopub.status.idle": "2022-06-10T14:01:10.608588Z",
     "shell.execute_reply": "2022-06-10T14:01:10.607723Z",
     "shell.execute_reply.started": "2022-06-10T14:01:10.599671Z"
    },
    "tags": []
   },
   "outputs": [
    {
     "data": {
      "text/plain": [
       "[('train', 'p'),\n",
       " ('train', 'U:2'),\n",
       " ('val', 'p'),\n",
       " ('val', 'U:2'),\n",
       " ('test', 'p'),\n",
       " ('test', 'U:2')]"
      ]
     },
     "execution_count": 395,
     "metadata": {},
     "output_type": "execute_result"
    }
   ],
   "source": [
    "input_files"
   ]
  },
  {
   "cell_type": "code",
   "execution_count": 396,
   "metadata": {
    "execution": {
     "iopub.execute_input": "2022-06-10T14:01:10.610312Z",
     "iopub.status.busy": "2022-06-10T14:01:10.609888Z",
     "iopub.status.idle": "2022-06-10T14:01:10.983877Z",
     "shell.execute_reply": "2022-06-10T14:01:10.982518Z",
     "shell.execute_reply.started": "2022-06-10T14:01:10.610276Z"
    },
    "tags": []
   },
   "outputs": [],
   "source": [
    "tables = {}\n",
    "for i in input_files:\n",
    "    with open(f'{i[0]}_{i[1]}.pkl', 'rb') as f:        \n",
    "        tables[f'{i[0]}_{i[1]}'] = pickle.load(f)"
   ]
  },
  {
   "cell_type": "markdown",
   "metadata": {},
   "source": [
    "## Plotting the mean pressure and speed"
   ]
  },
  {
   "cell_type": "code",
   "execution_count": 397,
   "metadata": {
    "execution": {
     "iopub.execute_input": "2022-06-10T14:01:10.985284Z",
     "iopub.status.busy": "2022-06-10T14:01:10.985008Z",
     "iopub.status.idle": "2022-06-10T14:01:10.992655Z",
     "shell.execute_reply": "2022-06-10T14:01:10.991860Z",
     "shell.execute_reply.started": "2022-06-10T14:01:10.985253Z"
    },
    "tags": []
   },
   "outputs": [],
   "source": [
    "import pandas as pd\n",
    "v_inlet_bc = pd.read_csv(\"v_inlet_bc.csv\")"
   ]
  },
  {
   "cell_type": "code",
   "execution_count": 398,
   "metadata": {
    "execution": {
     "iopub.execute_input": "2022-06-10T14:01:10.995907Z",
     "iopub.status.busy": "2022-06-10T14:01:10.995606Z",
     "iopub.status.idle": "2022-06-10T14:01:11.004212Z",
     "shell.execute_reply": "2022-06-10T14:01:11.003115Z",
     "shell.execute_reply.started": "2022-06-10T14:01:10.995863Z"
    },
    "tags": []
   },
   "outputs": [
    {
     "data": {
      "text/plain": [
       "array([[3.5136e+04, 6.4038e+03, 3.5120e+04, ..., 3.5084e+04, 0.0000e+00,\n",
       "        1.5702e+01],\n",
       "       [1.2834e+04, 2.2456e+03, 1.2833e+04, ..., 1.2831e+04, 0.0000e+00,\n",
       "        4.8228e-01],\n",
       "       [5.3562e+03, 9.5028e+02, 5.3558e+03, ..., 5.3546e+03, 0.0000e+00,\n",
       "        6.2243e-01],\n",
       "       ...,\n",
       "       [1.6029e+03, 2.8929e+02, 1.6018e+03, ..., 1.6009e+03, 0.0000e+00,\n",
       "        6.2291e-01],\n",
       "       [1.6191e+03, 2.9222e+02, 1.6180e+03, ..., 1.6170e+03, 0.0000e+00,\n",
       "        6.3177e-01],\n",
       "       [1.6352e+03, 2.9532e+02, 1.6341e+03, ..., 1.6331e+03, 0.0000e+00,\n",
       "        6.4122e-01]])"
      ]
     },
     "execution_count": 398,
     "metadata": {},
     "output_type": "execute_result"
    }
   ],
   "source": [
    "tables['train_p']"
   ]
  },
  {
   "cell_type": "code",
   "execution_count": 401,
   "metadata": {
    "application/vnd.databricks.v1+cell": {
     "inputWidgets": {},
     "nuid": "8de2a38d-e8ec-448a-964d-a899d348eeb9",
     "showTitle": false,
     "title": ""
    },
    "execution": {
     "iopub.execute_input": "2022-06-10T14:01:11.025713Z",
     "iopub.status.busy": "2022-06-10T14:01:11.025196Z",
     "iopub.status.idle": "2022-06-10T14:01:11.032389Z",
     "shell.execute_reply": "2022-06-10T14:01:11.030327Z",
     "shell.execute_reply.started": "2022-06-10T14:01:11.025652Z"
    },
    "id": "76GIqaExzoF7",
    "tags": []
   },
   "outputs": [],
   "source": [
    "# pure copy\n",
    "N_COMPONENTS = 12\n",
    "DELTA_T = 1e-4 # step of a time"
   ]
  },
  {
   "cell_type": "markdown",
   "metadata": {},
   "source": [
    "According to the https://github.com/Willcox-Research-Group/rom-operator-inference-Python3/blob/main/docs/content/tutorials/basics.ipynb, the matrix must be `space` $\\times$ `time`"
   ]
  },
  {
   "cell_type": "code",
   "execution_count": 402,
   "metadata": {
    "colab": {
     "base_uri": "https://localhost:8080/"
    },
    "execution": {
     "iopub.execute_input": "2022-06-10T14:01:11.036151Z",
     "iopub.status.busy": "2022-06-10T14:01:11.035528Z",
     "iopub.status.idle": "2022-06-10T14:01:11.043097Z",
     "shell.execute_reply": "2022-06-10T14:01:11.041564Z",
     "shell.execute_reply.started": "2022-06-10T14:01:11.036095Z"
    },
    "id": "PmU2LWLzXZi7",
    "outputId": "8b6972be-6816-40b8-8b7a-7f9327c3cb02",
    "tags": []
   },
   "outputs": [],
   "source": [
    "for t in tables:\n",
    "    tables[t] = tables[t].T"
   ]
  },
  {
   "cell_type": "code",
   "execution_count": 403,
   "metadata": {
    "execution": {
     "iopub.execute_input": "2022-06-10T14:01:11.046507Z",
     "iopub.status.busy": "2022-06-10T14:01:11.045791Z",
     "iopub.status.idle": "2022-06-10T14:01:11.052782Z",
     "shell.execute_reply": "2022-06-10T14:01:11.051218Z",
     "shell.execute_reply.started": "2022-06-10T14:01:11.046459Z"
    },
    "tags": []
   },
   "outputs": [],
   "source": [
    "assert tables['train_p'].shape[0] > tables['train_p'].shape[1]   # space is larger than time"
   ]
  },
  {
   "cell_type": "code",
   "execution_count": 404,
   "metadata": {
    "execution": {
     "iopub.execute_input": "2022-06-10T14:01:11.055014Z",
     "iopub.status.busy": "2022-06-10T14:01:11.054598Z",
     "iopub.status.idle": "2022-06-10T14:01:11.190227Z",
     "shell.execute_reply": "2022-06-10T14:01:11.188851Z",
     "shell.execute_reply.started": "2022-06-10T14:01:11.054971Z"
    },
    "tags": []
   },
   "outputs": [
    {
     "data": {
      "text/plain": [
       "(17183, 999)"
      ]
     },
     "execution_count": 404,
     "metadata": {},
     "output_type": "execute_result"
    }
   ],
   "source": [
    "all_pressures = np.concatenate([tables['train_p'], tables['val_p'], tables['test_p']],axis=1)\n",
    "all_pressures.shape"
   ]
  },
  {
   "cell_type": "code",
   "execution_count": 405,
   "metadata": {
    "execution": {
     "iopub.execute_input": "2022-06-10T14:01:11.191796Z",
     "iopub.status.busy": "2022-06-10T14:01:11.191480Z",
     "iopub.status.idle": "2022-06-10T14:01:11.218967Z",
     "shell.execute_reply": "2022-06-10T14:01:11.218096Z",
     "shell.execute_reply.started": "2022-06-10T14:01:11.191765Z"
    },
    "tags": []
   },
   "outputs": [],
   "source": [
    "all_pressures_mean = all_pressures.mean(0)"
   ]
  },
  {
   "cell_type": "code",
   "execution_count": 406,
   "metadata": {
    "execution": {
     "iopub.execute_input": "2022-06-10T14:01:11.224274Z",
     "iopub.status.busy": "2022-06-10T14:01:11.224044Z",
     "iopub.status.idle": "2022-06-10T14:01:11.523814Z",
     "shell.execute_reply": "2022-06-10T14:01:11.522898Z",
     "shell.execute_reply.started": "2022-06-10T14:01:11.224249Z"
    },
    "tags": []
   },
   "outputs": [
    {
     "data": {
      "image/png": "[encoded data removed]",
      "text/plain": [
       "<Figure size 432x288 with 2 Axes>"
      ]
     },
     "metadata": {
      "needs_background": "light"
     },
     "output_type": "display_data"
    }
   ],
   "source": [
    "fig, ax1 = plt.subplots()\n",
    "\n",
    "color = 'tab:red'\n",
    "ax1.set_xlabel('time')\n",
    "ax1.set_ylabel('velocity (m/s)', color=color)\n",
    "ax1.plot(v_inlet_bc['t'], v_inlet_bc['Uz'], color=color)\n",
    "ax1.tick_params(axis='y', labelcolor=color)\n",
    "\n",
    "ax2 = ax1.twinx()\n",
    "\n",
    "color = 'tab:blue'\n",
    "ax2.set_ylabel('mean pressure (pascal? psi? mmHg?)', color=color)  # we already handled the x-label with ax1\n",
    "ax2.plot(np.arange(0,0.0999,1e-4), all_pressures_mean)\n",
    "ax2.tick_params(axis='y', labelcolor=color)\n",
    "\n",
    "fig.tight_layout()  # otherwise the right y-label is slightly clipped\n",
    "plt.show()"
   ]
  },
  {
   "cell_type": "code",
   "execution_count": 407,
   "metadata": {
    "execution": {
     "iopub.execute_input": "2022-06-10T14:01:11.527926Z",
     "iopub.status.busy": "2022-06-10T14:01:11.527501Z",
     "iopub.status.idle": "2022-06-10T14:01:11.545422Z",
     "shell.execute_reply": "2022-06-10T14:01:11.543803Z",
     "shell.execute_reply.started": "2022-06-10T14:01:11.527878Z"
    },
    "tags": []
   },
   "outputs": [
    {
     "data": {
      "text/plain": [
       "(399, -243.3009990142757, 35232.0)"
      ]
     },
     "execution_count": 407,
     "metadata": {},
     "output_type": "execute_result"
    }
   ],
   "source": [
    "all_pressures_mean.argmin(), all_pressures_mean.min(), all_pressures.max()"
   ]
  },
  {
   "cell_type": "code",
   "execution_count": 408,
   "metadata": {
    "execution": {
     "iopub.execute_input": "2022-06-10T14:01:11.548054Z",
     "iopub.status.busy": "2022-06-10T14:01:11.547532Z",
     "iopub.status.idle": "2022-06-10T14:01:11.552095Z",
     "shell.execute_reply": "2022-06-10T14:01:11.550847Z",
     "shell.execute_reply.started": "2022-06-10T14:01:11.548006Z"
    }
   },
   "outputs": [],
   "source": [
    "# todo negative pressure?"
   ]
  },
  {
   "cell_type": "markdown",
   "metadata": {},
   "source": [
    "## Scale and stack data\n",
    "\n",
    "Scale separately for each feature, s.t they have 0 mean, 1 std. Then stacking `[rho_0, v_0, rho_1, v_1, … , rho_n, v_n]` to a `train_data`. The shape would be (`space` $\\times$ `num_ft`, `time`)\n",
    "\n",
    "$$\\begin{bmatrix} k_{1,1} & k_{1,2} & \\cdots & k_{1,n} \\\\ nut_{1,1} & k_{1,2} & \\cdots & nut_{1,n} \\\\ \\omega_{1,1} & \\omega_{1,2} & \\cdots & \\omega_{1,n} \\\\  p_{1,1} & p_{1,2} & \\cdots & p_{1,n} \\\\  U:0_{1,1} & U:0_{1,2} & \\cdots & U:0_{1,n} \\\\  U:1_{1,1} & U:1_{1,2} & \\cdots & U:1_{1,n} \\\\  U:2_{1,1} & U:2_{1,2} & \\cdots & U:2_{1,n} \\\\ \\vdots & \\vdots & \\vdots & \\vdots \\\\ U:2_{m,1} & U:2_{m,2} & \\cdots & U:2_{m,n} \\end{bmatrix}  (1)\n",
    "$$\n",
    "with $m$ is space and $n$ is time"
   ]
  },
  {
   "cell_type": "code",
   "execution_count": 409,
   "metadata": {
    "execution": {
     "iopub.execute_input": "2022-06-10T14:01:11.554220Z",
     "iopub.status.busy": "2022-06-10T14:01:11.553634Z",
     "iopub.status.idle": "2022-06-10T14:01:11.560002Z",
     "shell.execute_reply": "2022-06-10T14:01:11.558922Z",
     "shell.execute_reply.started": "2022-06-10T14:01:11.554170Z"
    },
    "tags": []
   },
   "outputs": [],
   "source": [
    "def normalize(timeframes):\n",
    "    '''\n",
    "    At t=0, get the mean and std through spacial dimension\n",
    "    '''\n",
    "    mean = timeframes[:, 0].mean()\n",
    "    std = timeframes[:, 0].std()\n",
    "    print(mean, std)\n",
    "    return (timeframes - mean) / std, mean, std"
   ]
  },
  {
   "cell_type": "code",
   "execution_count": 410,
   "metadata": {
    "execution": {
     "iopub.execute_input": "2022-06-10T14:01:11.562986Z",
     "iopub.status.busy": "2022-06-10T14:01:11.562229Z",
     "iopub.status.idle": "2022-06-10T14:01:11.676511Z",
     "shell.execute_reply": "2022-06-10T14:01:11.673176Z",
     "shell.execute_reply.started": "2022-06-10T14:01:11.562885Z"
    },
    "tags": []
   },
   "outputs": [
    {
     "name": "stdout",
     "output_type": "stream",
     "text": [
      "17777.209433501135 16138.829614021564\n",
      "5.320928173194436 4.906512359408766\n"
     ]
    }
   ],
   "source": [
    "normed_data, means, stds = {}, {}, {}\n",
    "for key in tables:\n",
    "    if key.startswith('train'):\n",
    "        normed_data[key], means[key], stds[key] = normalize(tables[key])"
   ]
  },
  {
   "cell_type": "code",
   "execution_count": 411,
   "metadata": {
    "execution": {
     "iopub.execute_input": "2022-06-10T14:01:11.681784Z",
     "iopub.status.busy": "2022-06-10T14:01:11.681244Z",
     "iopub.status.idle": "2022-06-10T14:01:11.700786Z",
     "shell.execute_reply": "2022-06-10T14:01:11.699388Z",
     "shell.execute_reply.started": "2022-06-10T14:01:11.681735Z"
    },
    "tags": []
   },
   "outputs": [],
   "source": [
    "def stack_data(tables_to_stack, set_name):\n",
    "    if set_name not in('train', 'val', 'test'):\n",
    "        raise ValueError\n",
    "    data = []\n",
    "    for row in range(tables_to_stack[f'{set_name}_p'].shape[0]):\n",
    "        for i in tables_to_stack:\n",
    "            if i.startswith(set_name):\n",
    "                data.append(tables_to_stack[i][row])\n",
    "    data = np.array(data)\n",
    "    print(\"After stacking shape: \", data.shape)\n",
    "    assert len(data) == sum([len(tables_to_stack[t]) for t in tables_to_stack if t.startswith(set_name)])  # train_data long as concat of all tables\n",
    "    return data"
   ]
  },
  {
   "cell_type": "code",
   "execution_count": 412,
   "metadata": {
    "execution": {
     "iopub.execute_input": "2022-06-10T14:01:11.703031Z",
     "iopub.status.busy": "2022-06-10T14:01:11.702548Z",
     "iopub.status.idle": "2022-06-10T14:01:11.710826Z",
     "shell.execute_reply": "2022-06-10T14:01:11.709503Z",
     "shell.execute_reply.started": "2022-06-10T14:01:11.702982Z"
    },
    "tags": []
   },
   "outputs": [],
   "source": [
    "def unstack_data(array, ft, list_of_fts):\n",
    "    # find the order $o$ of `ft` in `list_of_fts`\n",
    "    # then extract every $o$th row, starting from the first $o$th row, not 0\n",
    "    assert len(array.shape) == 2\n",
    "    index = list_of_fts.index(ft)\n",
    "    return array[np.arange(index, array.shape[0], len(list_of_fts)),:]"
   ]
  },
  {
   "cell_type": "code",
   "execution_count": 413,
   "metadata": {
    "execution": {
     "iopub.execute_input": "2022-06-10T14:01:11.713349Z",
     "iopub.status.busy": "2022-06-10T14:01:11.712943Z",
     "iopub.status.idle": "2022-06-10T14:01:11.721758Z",
     "shell.execute_reply": "2022-06-10T14:01:11.720208Z",
     "shell.execute_reply.started": "2022-06-10T14:01:11.713312Z"
    },
    "tags": []
   },
   "outputs": [],
   "source": [
    "test_arr = np.array([[1, 99, 99], [2, 99, 99], [3, 99, 99], [1, 99, 99], [2, 99, 99], [3, 99, 99]])\n",
    "assert (unstack_data(test_arr, 'a', ['a', 'b', 'c']) == np.array([[1, 99, 99], [1, 99, 99]])).all()  # a: 1st element, sample every 1\n",
    "assert (unstack_data(test_arr, 'b', ['a', 'b', 'c']) == np.array([[2, 99, 99], [2, 99, 99]])).all()  # b: 2nd element, sample every 2\n",
    "assert (unstack_data(test_arr, 'c', ['a', 'b', 'c']) == np.array([[3, 99, 99], [3, 99, 99]])).all()  # c: 3rd element, sample every 3"
   ]
  },
  {
   "cell_type": "code",
   "execution_count": 414,
   "metadata": {
    "execution": {
     "iopub.execute_input": "2022-06-10T14:01:11.723950Z",
     "iopub.status.busy": "2022-06-10T14:01:11.723477Z",
     "iopub.status.idle": "2022-06-10T14:01:11.921963Z",
     "shell.execute_reply": "2022-06-10T14:01:11.921018Z",
     "shell.execute_reply.started": "2022-06-10T14:01:11.723917Z"
    },
    "tags": []
   },
   "outputs": [
    {
     "name": "stdout",
     "output_type": "stream",
     "text": [
      "After stacking shape:  (34366, 499)\n"
     ]
    }
   ],
   "source": [
    "train_data = stack_data(normed_data, 'train')"
   ]
  },
  {
   "cell_type": "code",
   "execution_count": 415,
   "metadata": {
    "execution": {
     "iopub.execute_input": "2022-06-10T14:01:11.923868Z",
     "iopub.status.busy": "2022-06-10T14:01:11.923580Z",
     "iopub.status.idle": "2022-06-10T14:01:11.928494Z",
     "shell.execute_reply": "2022-06-10T14:01:11.927553Z",
     "shell.execute_reply.started": "2022-06-10T14:01:11.923836Z"
    },
    "tags": []
   },
   "outputs": [],
   "source": [
    "for i, column in enumerate(chosen_columns):\n",
    "    assert (train_data[i] == normed_data[f'train_{column}'][0]).all()"
   ]
  },
  {
   "cell_type": "code",
   "execution_count": 416,
   "metadata": {
    "execution": {
     "iopub.execute_input": "2022-06-10T14:01:11.931266Z",
     "iopub.status.busy": "2022-06-10T14:01:11.930811Z",
     "iopub.status.idle": "2022-06-10T14:01:11.937611Z",
     "shell.execute_reply": "2022-06-10T14:01:11.936412Z",
     "shell.execute_reply.started": "2022-06-10T14:01:11.931220Z"
    },
    "tags": []
   },
   "outputs": [],
   "source": [
    "def prepare_data_and_train(data_to_train, r, regularizer=1e-2):\n",
    "    train_data_derivative = opinf.pre.ddt(data_to_train, DELTA_T, order=6)        # Calculate the time derivative matrix.\n",
    "    Vr, _ = opinf.pre.pod_basis(data_to_train, r=r)    \n",
    "    rom = opinf.ContinuousOpInfROM(modelform=\"cA\")   # todo https://github.com/Willcox-Research-Group/rom-operator-inference-Python3/blob/dad3b6588708c2a4d600491ebd936165a76968ca/src/rom_operator_inference/core/nonparametric/_public.py#L217\n",
    "    rom.fit(Vr, data_to_train, train_data_derivative, regularizer=regularizer)\n",
    "    return rom"
   ]
  },
  {
   "cell_type": "code",
   "execution_count": 417,
   "metadata": {
    "execution": {
     "iopub.execute_input": "2022-06-10T14:01:11.939412Z",
     "iopub.status.busy": "2022-06-10T14:01:11.939058Z",
     "iopub.status.idle": "2022-06-10T14:01:12.039572Z",
     "shell.execute_reply": "2022-06-10T14:01:12.038682Z",
     "shell.execute_reply.started": "2022-06-10T14:01:11.939367Z"
    },
    "tags": []
   },
   "outputs": [
    {
     "data": {
      "text/plain": [
       "(34366, 99)"
      ]
     },
     "execution_count": 417,
     "metadata": {},
     "output_type": "execute_result"
    }
   ],
   "source": [
    "rom.predict(train_data[:,-1], np.arange(0.0499, 0.0597, 1e-4)).shape"
   ]
  },
  {
   "cell_type": "code",
   "execution_count": 418,
   "metadata": {
    "execution": {
     "iopub.execute_input": "2022-06-10T14:01:12.044718Z",
     "iopub.status.busy": "2022-06-10T14:01:12.044131Z",
     "iopub.status.idle": "2022-06-10T14:01:12.052853Z",
     "shell.execute_reply": "2022-06-10T14:01:12.051596Z",
     "shell.execute_reply.started": "2022-06-10T14:01:12.044566Z"
    },
    "tags": []
   },
   "outputs": [
    {
     "data": {
      "text/plain": [
       "(34366, 401)"
      ]
     },
     "execution_count": 418,
     "metadata": {},
     "output_type": "execute_result"
    }
   ],
   "source": [
    "prediction.shape"
   ]
  },
  {
   "cell_type": "code",
   "execution_count": 419,
   "metadata": {
    "execution": {
     "iopub.execute_input": "2022-06-10T14:01:12.055390Z",
     "iopub.status.busy": "2022-06-10T14:01:12.054867Z",
     "iopub.status.idle": "2022-06-10T14:01:12.063552Z",
     "shell.execute_reply": "2022-06-10T14:01:12.062152Z",
     "shell.execute_reply.started": "2022-06-10T14:01:12.055343Z"
    },
    "tags": []
   },
   "outputs": [
    {
     "data": {
      "text/plain": [
       "(34366, 99)"
      ]
     },
     "execution_count": 419,
     "metadata": {},
     "output_type": "execute_result"
    }
   ],
   "source": [
    "val_data.shape"
   ]
  },
  {
   "cell_type": "code",
   "execution_count": 420,
   "metadata": {
    "execution": {
     "iopub.execute_input": "2022-06-10T14:01:12.066650Z",
     "iopub.status.busy": "2022-06-10T14:01:12.066229Z",
     "iopub.status.idle": "2022-06-10T14:01:12.600527Z",
     "shell.execute_reply": "2022-06-10T14:01:12.599482Z",
     "shell.execute_reply.started": "2022-06-10T14:01:12.066604Z"
    },
    "tags": []
   },
   "outputs": [
    {
     "data": {
      "text/plain": [
       "(17183, 401)"
      ]
     },
     "execution_count": 420,
     "metadata": {},
     "output_type": "execute_result"
    }
   ],
   "source": [
    "unstack_data(prediction, 'p', chosen_columns).shape"
   ]
  },
  {
   "cell_type": "code",
   "execution_count": 421,
   "metadata": {
    "execution": {
     "iopub.execute_input": "2022-06-10T14:01:12.602769Z",
     "iopub.status.busy": "2022-06-10T14:01:12.602105Z",
     "iopub.status.idle": "2022-06-10T14:01:12.608752Z",
     "shell.execute_reply": "2022-06-10T14:01:12.607708Z",
     "shell.execute_reply.started": "2022-06-10T14:01:12.602715Z"
    },
    "tags": []
   },
   "outputs": [
    {
     "data": {
      "text/plain": [
       "{'train_p': 16138.829614021564, 'train_U:2': 4.906512359408766}"
      ]
     },
     "execution_count": 421,
     "metadata": {},
     "output_type": "execute_result"
    }
   ],
   "source": [
    "stds"
   ]
  },
  {
   "cell_type": "code",
   "execution_count": 422,
   "metadata": {
    "execution": {
     "iopub.execute_input": "2022-06-10T14:01:12.611218Z",
     "iopub.status.busy": "2022-06-10T14:01:12.610904Z",
     "iopub.status.idle": "2022-06-10T14:01:12.616603Z",
     "shell.execute_reply": "2022-06-10T14:01:12.615380Z",
     "shell.execute_reply.started": "2022-06-10T14:01:12.611177Z"
    },
    "tags": []
   },
   "outputs": [],
   "source": [
    "def post_process(prediction, mean, std):\n",
    "    scaled_predicted_p = unstack_data(prediction, 'p', chosen_columns)\n",
    "    predicted_p = (scaled_predicted_p * std) + mean\n",
    "    return predicted_p"
   ]
  },
  {
   "cell_type": "code",
   "execution_count": 423,
   "metadata": {
    "colab": {
     "base_uri": "https://localhost:8080/",
     "height": 164
    },
    "execution": {
     "iopub.execute_input": "2022-06-10T14:01:12.618711Z",
     "iopub.status.busy": "2022-06-10T14:01:12.618175Z",
     "iopub.status.idle": "2022-06-10T14:04:43.973842Z",
     "shell.execute_reply": "2022-06-10T14:04:43.971750Z",
     "shell.execute_reply.started": "2022-06-10T14:01:12.618677Z"
    },
    "id": "tCU7wVsYA65g",
    "outputId": "b95d3c10-291a-400a-eebd-0eb66bf34974",
    "tags": []
   },
   "outputs": [
    {
     "data": {
      "application/vnd.jupyter.widget-view+json": {
       "model_id": "d2785a176ae84508ab070fa73161c2a7",
       "version_major": 2,
       "version_minor": 0
      },
      "text/plain": [
       "  0%|          | 0/13 [00:00<?, ?it/s]"
      ]
     },
     "metadata": {},
     "output_type": "display_data"
    }
   ],
   "source": [
    "from tqdm.notebook import tqdm\n",
    "import warnings\n",
    "from scipy.integrate import IntegrationWarning\n",
    "\n",
    "best_basis, best_basis_val, best_reg = 0, float('inf'), 0\n",
    "for r in tqdm(range(3,16)):      # optimizing for the number of pod_basis\n",
    "    for regularizer in [1e-3, 1e-2, 1e-1, 1, 10, 100, 1000]:\n",
    "        rom = prepare_data_and_train(train_data, r, regularizer)\n",
    "        with warnings.catch_warnings():\n",
    "            warnings.filterwarnings('error')\n",
    "            try:\n",
    "                prediction = rom.predict(train_data[:,-1], np.arange(0.0499, 0.0597, 1e-4))   # predict from the last column of train data        \n",
    "            except IntegrationWarning:\n",
    "                print(f'With r={r}, integration error happens')\n",
    "                break  # do not look at other regularizer value\n",
    "        # prediction is for multiple variable in chosen_colums. We only care about `p`. \n",
    "        # Therefore we are going to extract p from it\n",
    "        predicted_p = post_process(prediction, means['train_p'], stds['train_p'])\n",
    "        tmp = mse(predicted_p , tables['val_p'], squared=False)        \n",
    "        if tmp < best_basis_val:\n",
    "            best_basis_val = tmp\n",
    "            best_basis = r\n",
    "            best_reg = regularizer"
   ]
  },
  {
   "cell_type": "code",
   "execution_count": 424,
   "metadata": {
    "execution": {
     "iopub.execute_input": "2022-06-10T14:04:43.978571Z",
     "iopub.status.busy": "2022-06-10T14:04:43.978172Z",
     "iopub.status.idle": "2022-06-10T14:04:43.988283Z",
     "shell.execute_reply": "2022-06-10T14:04:43.986926Z",
     "shell.execute_reply.started": "2022-06-10T14:04:43.978506Z"
    },
    "tags": []
   },
   "outputs": [
    {
     "name": "stdout",
     "output_type": "stream",
     "text": [
      "With r=8, regularizer=0.1 we have best result, which is 123.31395318335338\n"
     ]
    }
   ],
   "source": [
    "print(f\"With r={best_basis}, regularizer={best_reg} we have best result, which is {best_basis_val}\")\n",
    "# r=12, 202.04679851561505   123.31395318335338"
   ]
  },
  {
   "cell_type": "markdown",
   "metadata": {
    "execution": {
     "iopub.execute_input": "2022-06-10T09:24:09.999745Z",
     "iopub.status.busy": "2022-06-10T09:24:09.994022Z",
     "iopub.status.idle": "2022-06-10T09:24:10.047580Z",
     "shell.execute_reply": "2022-06-10T09:24:10.043851Z",
     "shell.execute_reply.started": "2022-06-10T09:24:09.999562Z"
    },
    "tags": []
   },
   "source": [
    "Sanity check: Recreation of training set"
   ]
  },
  {
   "cell_type": "code",
   "execution_count": 425,
   "metadata": {
    "execution": {
     "iopub.execute_input": "2022-06-10T14:04:43.990764Z",
     "iopub.status.busy": "2022-06-10T14:04:43.990454Z",
     "iopub.status.idle": "2022-06-10T14:04:44.339495Z",
     "shell.execute_reply": "2022-06-10T14:04:44.338527Z",
     "shell.execute_reply.started": "2022-06-10T14:04:43.990721Z"
    },
    "tags": []
   },
   "outputs": [
    {
     "data": {
      "text/plain": [
       "2342.9799869126987"
      ]
     },
     "execution_count": 425,
     "metadata": {},
     "output_type": "execute_result"
    }
   ],
   "source": [
    "sanity_check = rom.predict(train_data[:,0], np.arange(0, 0.0499, 1e-4)) \n",
    "sanity_check = post_process(sanity_check, means['train_p'], stds['train_p'])\n",
    "mse(sanity_check , tables['train_p'], squared=False)"
   ]
  },
  {
   "cell_type": "code",
   "execution_count": 426,
   "metadata": {
    "execution": {
     "iopub.execute_input": "2022-06-10T14:04:44.341655Z",
     "iopub.status.busy": "2022-06-10T14:04:44.341307Z",
     "iopub.status.idle": "2022-06-10T14:04:44.349388Z",
     "shell.execute_reply": "2022-06-10T14:04:44.348274Z",
     "shell.execute_reply.started": "2022-06-10T14:04:44.341612Z"
    },
    "tags": []
   },
   "outputs": [],
   "source": [
    "def plot_pred(groundtruth, prediction):\n",
    "    plt.plot(range(groundtruth.shape[1]), groundtruth.mean(0))\n",
    "    plt.plot(range(groundtruth.shape[1]), prediction.mean(0), alpha=0.5)\n",
    "    plt.legend([\"groundtruth\", \"prediction\"])"
   ]
  },
  {
   "cell_type": "code",
   "execution_count": 427,
   "metadata": {
    "execution": {
     "iopub.execute_input": "2022-06-10T14:04:44.351790Z",
     "iopub.status.busy": "2022-06-10T14:04:44.351352Z",
     "iopub.status.idle": "2022-06-10T14:04:44.622231Z",
     "shell.execute_reply": "2022-06-10T14:04:44.621304Z",
     "shell.execute_reply.started": "2022-06-10T14:04:44.351702Z"
    },
    "tags": []
   },
   "outputs": [
    {
     "data": {
      "image/png": "[encoded data removed]",
      "text/plain": [
       "<Figure size 432x288 with 1 Axes>"
      ]
     },
     "metadata": {
      "needs_background": "light"
     },
     "output_type": "display_data"
    }
   ],
   "source": [
    "plot_pred(tables['train_p'], sanity_check)"
   ]
  },
  {
   "cell_type": "markdown",
   "metadata": {
    "tags": []
   },
   "source": [
    "## Train on train, val, and predict test"
   ]
  },
  {
   "cell_type": "code",
   "execution_count": 428,
   "metadata": {
    "execution": {
     "iopub.execute_input": "2022-06-10T14:04:44.624449Z",
     "iopub.status.busy": "2022-06-10T14:04:44.624058Z",
     "iopub.status.idle": "2022-06-10T14:04:44.854793Z",
     "shell.execute_reply": "2022-06-10T14:04:44.853683Z",
     "shell.execute_reply.started": "2022-06-10T14:04:44.624402Z"
    },
    "tags": []
   },
   "outputs": [],
   "source": [
    "# Stack train, val and normalize\n",
    "# concat train set with val set\n",
    "train_data_dict = {}\n",
    "for column in chosen_columns:\n",
    "    train_data_dict[f'train_{column}'] = np.concatenate((tables[f'train_{column}'], tables[f'val_{column}']), axis=1)"
   ]
  },
  {
   "cell_type": "code",
   "execution_count": 429,
   "metadata": {
    "execution": {
     "iopub.execute_input": "2022-06-10T14:04:44.856430Z",
     "iopub.status.busy": "2022-06-10T14:04:44.855935Z",
     "iopub.status.idle": "2022-06-10T14:04:44.973390Z",
     "shell.execute_reply": "2022-06-10T14:04:44.971974Z",
     "shell.execute_reply.started": "2022-06-10T14:04:44.856390Z"
    },
    "tags": []
   },
   "outputs": [
    {
     "name": "stdout",
     "output_type": "stream",
     "text": [
      "17777.209433501135 16138.829614021564\n",
      "5.320928173194436 4.906512359408766\n"
     ]
    }
   ],
   "source": [
    "# normalize each features \n",
    "normed_data, means, stds = {}, {}, {}\n",
    "for key in train_data_dict:\n",
    "    if key.startswith('train'):\n",
    "        normed_data[key], means[key], stds[key] = normalize(train_data_dict[key])"
   ]
  },
  {
   "cell_type": "code",
   "execution_count": 430,
   "metadata": {
    "execution": {
     "iopub.execute_input": "2022-06-10T14:04:44.984743Z",
     "iopub.status.busy": "2022-06-10T14:04:44.984290Z",
     "iopub.status.idle": "2022-06-10T14:04:44.991280Z",
     "shell.execute_reply": "2022-06-10T14:04:44.990124Z",
     "shell.execute_reply.started": "2022-06-10T14:04:44.984703Z"
    },
    "tags": []
   },
   "outputs": [
    {
     "data": {
      "text/plain": [
       "dict_keys(['train_p', 'train_U:2'])"
      ]
     },
     "execution_count": 430,
     "metadata": {},
     "output_type": "execute_result"
    }
   ],
   "source": [
    "normed_data.keys()"
   ]
  },
  {
   "cell_type": "code",
   "execution_count": 431,
   "metadata": {
    "execution": {
     "iopub.execute_input": "2022-06-10T14:04:44.995238Z",
     "iopub.status.busy": "2022-06-10T14:04:44.994662Z",
     "iopub.status.idle": "2022-06-10T14:04:45.002392Z",
     "shell.execute_reply": "2022-06-10T14:04:45.000977Z",
     "shell.execute_reply.started": "2022-06-10T14:04:44.995185Z"
    },
    "tags": []
   },
   "outputs": [
    {
     "data": {
      "text/plain": [
       "(17183, 598)"
      ]
     },
     "execution_count": 431,
     "metadata": {},
     "output_type": "execute_result"
    }
   ],
   "source": [
    "normed_data['train_p'].shape"
   ]
  },
  {
   "cell_type": "code",
   "execution_count": 432,
   "metadata": {
    "execution": {
     "iopub.execute_input": "2022-06-10T14:04:45.005050Z",
     "iopub.status.busy": "2022-06-10T14:04:45.004616Z",
     "iopub.status.idle": "2022-06-10T14:04:45.207106Z",
     "shell.execute_reply": "2022-06-10T14:04:45.205955Z",
     "shell.execute_reply.started": "2022-06-10T14:04:45.005005Z"
    },
    "tags": []
   },
   "outputs": [
    {
     "name": "stdout",
     "output_type": "stream",
     "text": [
      "After stacking shape:  (34366, 598)\n"
     ]
    }
   ],
   "source": [
    "# stack data\n",
    "train_data = stack_data(normed_data, 'train')"
   ]
  },
  {
   "cell_type": "code",
   "execution_count": 433,
   "metadata": {
    "execution": {
     "iopub.execute_input": "2022-06-10T14:04:45.209051Z",
     "iopub.status.busy": "2022-06-10T14:04:45.208659Z",
     "iopub.status.idle": "2022-06-10T14:04:45.216103Z",
     "shell.execute_reply": "2022-06-10T14:04:45.214461Z",
     "shell.execute_reply.started": "2022-06-10T14:04:45.209008Z"
    },
    "tags": []
   },
   "outputs": [
    {
     "data": {
      "text/plain": [
       "(34366, 598)"
      ]
     },
     "execution_count": 433,
     "metadata": {},
     "output_type": "execute_result"
    }
   ],
   "source": [
    "train_data.shape"
   ]
  },
  {
   "cell_type": "code",
   "execution_count": 434,
   "metadata": {
    "execution": {
     "iopub.execute_input": "2022-06-10T14:04:45.218154Z",
     "iopub.status.busy": "2022-06-10T14:04:45.217786Z",
     "iopub.status.idle": "2022-06-10T14:04:45.226165Z",
     "shell.execute_reply": "2022-06-10T14:04:45.224865Z",
     "shell.execute_reply.started": "2022-06-10T14:04:45.218112Z"
    },
    "tags": []
   },
   "outputs": [
    {
     "data": {
      "text/plain": [
       "array([[-1.00025245, -1.00551721, -1.01063926, ..., -1.17882576,\n",
       "        -1.17916449, -1.17949294],\n",
       "       [ 1.99439926,  1.99611934,  1.99781237, ...,  2.09595114,\n",
       "         2.09669293,  2.09743208],\n",
       "       [-1.0832889 , -1.08425139, -1.08518744, ..., -1.11514366,\n",
       "        -1.11519369, -1.11524182],\n",
       "       ...,\n",
       "       [ 0.38518723,  0.38408321,  0.38299314, ...,  0.31064005,\n",
       "         0.31000341,  0.30936756],\n",
       "       [-1.10146647, -1.10147095, -1.10147524, ..., -1.10143704,\n",
       "        -1.10143462, -1.10143219],\n",
       "       [ 2.06906104,  2.07064713,  2.07220049, ...,  2.14349027,\n",
       "         2.14386875,  2.1442437 ]])"
      ]
     },
     "execution_count": 434,
     "metadata": {},
     "output_type": "execute_result"
    }
   ],
   "source": [
    "prediction"
   ]
  },
  {
   "cell_type": "code",
   "execution_count": 435,
   "metadata": {
    "execution": {
     "iopub.execute_input": "2022-06-10T14:04:45.230082Z",
     "iopub.status.busy": "2022-06-10T14:04:45.229494Z",
     "iopub.status.idle": "2022-06-10T14:04:45.235693Z",
     "shell.execute_reply": "2022-06-10T14:04:45.234258Z",
     "shell.execute_reply.started": "2022-06-10T14:04:45.229977Z"
    },
    "tags": []
   },
   "outputs": [
    {
     "data": {
      "text/plain": [
       "(17183, 401)"
      ]
     },
     "execution_count": 435,
     "metadata": {},
     "output_type": "execute_result"
    }
   ],
   "source": [
    "scaled_predicted_p.shape"
   ]
  },
  {
   "cell_type": "code",
   "execution_count": 436,
   "metadata": {
    "execution": {
     "iopub.execute_input": "2022-06-10T14:04:45.239119Z",
     "iopub.status.busy": "2022-06-10T14:04:45.238541Z",
     "iopub.status.idle": "2022-06-10T14:04:45.246411Z",
     "shell.execute_reply": "2022-06-10T14:04:45.244724Z",
     "shell.execute_reply.started": "2022-06-10T14:04:45.239070Z"
    },
    "tags": []
   },
   "outputs": [
    {
     "data": {
      "text/plain": [
       "(17183, 401)"
      ]
     },
     "execution_count": 436,
     "metadata": {},
     "output_type": "execute_result"
    }
   ],
   "source": [
    "tables['test_p'].shape"
   ]
  },
  {
   "cell_type": "code",
   "execution_count": 437,
   "metadata": {
    "execution": {
     "iopub.execute_input": "2022-06-10T14:04:45.248904Z",
     "iopub.status.busy": "2022-06-10T14:04:45.248444Z",
     "iopub.status.idle": "2022-06-10T14:04:45.257109Z",
     "shell.execute_reply": "2022-06-10T14:04:45.255490Z",
     "shell.execute_reply.started": "2022-06-10T14:04:45.248859Z"
    },
    "tags": []
   },
   "outputs": [
    {
     "data": {
      "text/plain": [
       "(17183, 99)"
      ]
     },
     "execution_count": 437,
     "metadata": {},
     "output_type": "execute_result"
    }
   ],
   "source": [
    "predicted_p.shape"
   ]
  },
  {
   "cell_type": "code",
   "execution_count": 438,
   "metadata": {
    "execution": {
     "iopub.execute_input": "2022-06-10T14:04:45.259079Z",
     "iopub.status.busy": "2022-06-10T14:04:45.258791Z",
     "iopub.status.idle": "2022-06-10T14:04:48.247297Z",
     "shell.execute_reply": "2022-06-10T14:04:48.246561Z",
     "shell.execute_reply.started": "2022-06-10T14:04:45.259049Z"
    },
    "tags": []
   },
   "outputs": [],
   "source": [
    "# train \n",
    "rom = prepare_data_and_train(train_data, best_basis, best_reg)\n",
    "\n",
    "# predict\n",
    "prediction = rom.predict(train_data[:,-1], np.arange(0.0598, 0.0999, 1e-4))   # predict from the last column of val data\n",
    "predicted_p = post_process(prediction, means['train_p'], stds['train_p'])\n",
    "\n",
    "tmp = mse(predicted_p, tables['test_p'], squared=False)"
   ]
  },
  {
   "cell_type": "code",
   "execution_count": 439,
   "metadata": {
    "execution": {
     "iopub.execute_input": "2022-06-10T14:04:48.249154Z",
     "iopub.status.busy": "2022-06-10T14:04:48.248758Z",
     "iopub.status.idle": "2022-06-10T14:04:48.254555Z",
     "shell.execute_reply": "2022-06-10T14:04:48.253349Z",
     "shell.execute_reply.started": "2022-06-10T14:04:48.249110Z"
    },
    "tags": []
   },
   "outputs": [
    {
     "data": {
      "text/plain": [
       "483.8987597939727"
      ]
     },
     "execution_count": 439,
     "metadata": {},
     "output_type": "execute_result"
    }
   ],
   "source": [
    "tmp  # 455.61986895953567   478.81477974255034"
   ]
  },
  {
   "cell_type": "code",
   "execution_count": 440,
   "metadata": {
    "execution": {
     "iopub.execute_input": "2022-06-10T14:04:48.256674Z",
     "iopub.status.busy": "2022-06-10T14:04:48.256392Z",
     "iopub.status.idle": "2022-06-10T14:04:48.450587Z",
     "shell.execute_reply": "2022-06-10T14:04:48.449405Z",
     "shell.execute_reply.started": "2022-06-10T14:04:48.256636Z"
    },
    "tags": []
   },
   "outputs": [
    {
     "data": {
      "image/png": "[encoded data removed]",
      "text/plain": [
       "<Figure size 432x288 with 1 Axes>"
      ]
     },
     "metadata": {
      "needs_background": "light"
     },
     "output_type": "display_data"
    }
   ],
   "source": [
    "plot_pred(tables['test_p'], predicted_p)"
   ]
  }
 ],
 "metadata": {
  "colab": {
   "collapsed_sections": [],
   "name": "opinf",
   "provenance": []
  },
  "kernelspec": {
   "display_name": "Python 3",
   "language": "python",
   "name": "python3"
  },
  "language_info": {
   "codemirror_mode": {
    "name": "ipython",
    "version": 3
   },
   "file_extension": ".py",
   "mimetype": "text/x-python",
   "name": "python",
   "nbconvert_exporter": "python",
   "pygments_lexer": "ipython3",
   "version": "3.7.9"
  }
 },
 "nbformat": 4,
 "nbformat_minor": 4
}
