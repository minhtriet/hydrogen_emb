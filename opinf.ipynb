{
 "cells": [
  {
   "cell_type": "code",
   "execution_count": 1,
   "metadata": {
    "colab": {
     "base_uri": "https://localhost:8080/"
    },
    "execution": {
     "iopub.execute_input": "2022-05-30T18:59:26.582886Z",
     "iopub.status.busy": "2022-05-30T18:59:26.582516Z",
     "iopub.status.idle": "2022-05-30T18:59:26.586957Z",
     "shell.execute_reply": "2022-05-30T18:59:26.586008Z",
     "shell.execute_reply.started": "2022-05-30T18:59:26.582793Z"
    },
    "id": "O4YeBP-Z0pQb",
    "outputId": "8ef80f12-b9b4-40e6-867d-1178d4f672c4"
   },
   "outputs": [],
   "source": [
    "# import os, sys\n",
    "# from google.colab import drive\n",
    "# drive.mount('/content/mnt', force_remount=True)\n",
    "# nb_path = '/content/notebooks'\n",
    "# os.symlink('/content/mnt/My Drive/Colab Notebooks', nb_path)\n",
    "# sys.path.insert(0, nb_path)  # or append(nb_path)"
   ]
  },
  {
   "cell_type": "code",
   "execution_count": 2,
   "metadata": {
    "application/vnd.databricks.v1+cell": {
     "inputWidgets": {},
     "nuid": "c1e38b1c-3fbb-4db4-bc3a-5348d4e684cc",
     "showTitle": false,
     "title": ""
    },
    "execution": {
     "iopub.execute_input": "2022-05-30T18:59:26.589351Z",
     "iopub.status.busy": "2022-05-30T18:59:26.588875Z",
     "iopub.status.idle": "2022-05-30T18:59:36.759041Z",
     "shell.execute_reply": "2022-05-30T18:59:36.758207Z",
     "shell.execute_reply.started": "2022-05-30T18:59:26.589313Z"
    },
    "id": "wtgDW9vBzoF2",
    "tags": []
   },
   "outputs": [],
   "source": [
    "import rom_operator_inference as opinf\n",
    "\n",
    "import pickle\n",
    "import pandas as pd\n",
    "from sklearn.decomposition import PCA\n",
    "from sklearn.metrics import mean_squared_error as mse\n",
    "from torch.utils.data import DataLoader\n",
    "from matplotlib import cm\n",
    "import matplotlib.pyplot as plt\n",
    "import numpy as np\n",
    "\n",
    "\n",
    "PREFIX = \".\""
   ]
  },
  {
   "cell_type": "code",
   "execution_count": 3,
   "metadata": {
    "execution": {
     "iopub.execute_input": "2022-05-30T18:59:36.761581Z",
     "iopub.status.busy": "2022-05-30T18:59:36.761217Z",
     "iopub.status.idle": "2022-05-30T18:59:36.764869Z",
     "shell.execute_reply": "2022-05-30T18:59:36.763835Z",
     "shell.execute_reply.started": "2022-05-30T18:59:36.761543Z"
    },
    "tags": []
   },
   "outputs": [],
   "source": [
    "# !pip install git+https://github.com/Willcox-Research-Group/rom-operator-inference-Python3.git"
   ]
  },
  {
   "cell_type": "markdown",
   "metadata": {
    "id": "NE-od33SH92e"
   },
   "source": [
    "according to the https://github.com/Willcox-Research-Group/rom-operator-inference-Python3/blob/main/docs/content/tutorials/basics.ipynb, the matrix must be $space \\times time$"
   ]
  },
  {
   "cell_type": "code",
   "execution_count": 4,
   "metadata": {
    "application/vnd.databricks.v1+cell": {
     "inputWidgets": {},
     "nuid": "61f1cd74-00b6-4809-86cf-2a64ea1b28a5",
     "showTitle": false,
     "title": ""
    },
    "execution": {
     "iopub.execute_input": "2022-05-30T18:59:36.767675Z",
     "iopub.status.busy": "2022-05-30T18:59:36.767276Z",
     "iopub.status.idle": "2022-05-30T18:59:36.966679Z",
     "shell.execute_reply": "2022-05-30T18:59:36.965521Z",
     "shell.execute_reply.started": "2022-05-30T18:59:36.767641Z"
    },
    "id": "eTwmmPTdzoF6",
    "tags": []
   },
   "outputs": [],
   "source": [
    "with open(f'{PREFIX}/train_data.pkl', 'rb') as f:\n",
    "    train_data = pickle.load(f)\n",
    "\n",
    "with open(f'{PREFIX}/val_data.pkl', 'rb') as f:\n",
    "    val_data = pickle.load(f)\n",
    "\n",
    "with open(f'{PREFIX}/test_data.pkl', 'rb') as f:\n",
    "    test_data = pickle.load(f)"
   ]
  },
  {
   "cell_type": "code",
   "execution_count": 5,
   "metadata": {
    "application/vnd.databricks.v1+cell": {
     "inputWidgets": {},
     "nuid": "8de2a38d-e8ec-448a-964d-a899d348eeb9",
     "showTitle": false,
     "title": ""
    },
    "execution": {
     "iopub.execute_input": "2022-05-30T18:59:36.968365Z",
     "iopub.status.busy": "2022-05-30T18:59:36.968039Z",
     "iopub.status.idle": "2022-05-30T18:59:36.971761Z",
     "shell.execute_reply": "2022-05-30T18:59:36.970889Z",
     "shell.execute_reply.started": "2022-05-30T18:59:36.968314Z"
    },
    "id": "76GIqaExzoF7",
    "tags": []
   },
   "outputs": [],
   "source": [
    "# pure copy\n",
    "N_COMPONENTS = 12\n",
    "INPUT_STEP = 10\n",
    "OUTPUT_STEP = 1\n",
    "BATCH_SIZE = 8\n",
    "DELTA_T = 1e-4 # step of a time"
   ]
  },
  {
   "cell_type": "code",
   "execution_count": 6,
   "metadata": {
    "colab": {
     "base_uri": "https://localhost:8080/"
    },
    "execution": {
     "iopub.execute_input": "2022-05-30T18:59:36.973844Z",
     "iopub.status.busy": "2022-05-30T18:59:36.973484Z",
     "iopub.status.idle": "2022-05-30T18:59:36.977876Z",
     "shell.execute_reply": "2022-05-30T18:59:36.977061Z",
     "shell.execute_reply.started": "2022-05-30T18:59:36.973805Z"
    },
    "id": "PmU2LWLzXZi7",
    "outputId": "8b6972be-6816-40b8-8b7a-7f9327c3cb02",
    "tags": []
   },
   "outputs": [],
   "source": [
    "train_data = train_data.T\n",
    "val_data = val_data.T\n",
    "test_data = test_data.T"
   ]
  },
  {
   "cell_type": "code",
   "execution_count": 7,
   "metadata": {
    "execution": {
     "iopub.execute_input": "2022-05-30T18:59:36.979630Z",
     "iopub.status.busy": "2022-05-30T18:59:36.979329Z",
     "iopub.status.idle": "2022-05-30T18:59:36.983956Z",
     "shell.execute_reply": "2022-05-30T18:59:36.983047Z",
     "shell.execute_reply.started": "2022-05-30T18:59:36.979602Z"
    },
    "tags": []
   },
   "outputs": [],
   "source": [
    "assert train_data.shape[0] > train_data.shape[1]   # space is larger than time"
   ]
  },
  {
   "cell_type": "code",
   "execution_count": 154,
   "metadata": {
    "execution": {
     "iopub.execute_input": "2022-05-31T21:49:59.901435Z",
     "iopub.status.busy": "2022-05-31T21:49:59.901193Z",
     "iopub.status.idle": "2022-05-31T21:49:59.911041Z",
     "shell.execute_reply": "2022-05-31T21:49:59.910190Z",
     "shell.execute_reply.started": "2022-05-31T21:49:59.901408Z"
    },
    "tags": []
   },
   "outputs": [],
   "source": [
    "def prepare_data_and_train(data_to_train, r):\n",
    "    train_data_derivative = opinf.pre.ddt(data_to_train, DELTA_T, order=6)        # Calculate the time derivative matrix.\n",
    "    Vr, _ = opinf.pre.pod_basis(data_to_train, r=r)    \n",
    "    rom = opinf.ContinuousOpInfROM(modelform=\"cA\")\n",
    "    rom.fit(Vr, data_to_train, train_data_derivative)\n",
    "    return rom"
   ]
  },
  {
   "cell_type": "code",
   "execution_count": 155,
   "metadata": {
    "colab": {
     "base_uri": "https://localhost:8080/",
     "height": 164
    },
    "execution": {
     "iopub.execute_input": "2022-05-31T21:50:00.469992Z",
     "iopub.status.busy": "2022-05-31T21:50:00.469734Z",
     "iopub.status.idle": "2022-05-31T21:50:25.256346Z",
     "shell.execute_reply": "2022-05-31T21:50:25.255564Z",
     "shell.execute_reply.started": "2022-05-31T21:50:00.469966Z"
    },
    "id": "tCU7wVsYA65g",
    "outputId": "b95d3c10-291a-400a-eebd-0eb66bf34974",
    "tags": []
   },
   "outputs": [
    {
     "data": {
      "application/vnd.jupyter.widget-view+json": {
       "model_id": "c71d9d7720154de7be40be3b69e9a522",
       "version_major": 2,
       "version_minor": 0
      },
      "text/plain": [
       "  0%|          | 0/31 [00:00<?, ?it/s]"
      ]
     },
     "metadata": {},
     "output_type": "display_data"
    }
   ],
   "source": [
    "from tqdm.notebook import tqdm\n",
    "\n",
    "best_basis, best_basis_val = 0, float('inf')\n",
    "for r in tqdm(range(1,32)):\n",
    "    rom = prepare_data_and_train(train_data, r)\n",
    "    prediction = rom.predict(train_data[:,-1], np.arange(0.0499, 0.0597, 1e-4))   # predict from the last column of train data\n",
    "    tmp = mse(prediction, val_data, squared=False)   \n",
    "    if tmp < best_basis_val:\n",
    "        best_basis_val = tmp\n",
    "        best_basis = r"
   ]
  },
  {
   "cell_type": "code",
   "execution_count": 156,
   "metadata": {
    "execution": {
     "iopub.execute_input": "2022-05-31T21:50:25.258867Z",
     "iopub.status.busy": "2022-05-31T21:50:25.258421Z",
     "iopub.status.idle": "2022-05-31T21:50:25.264434Z",
     "shell.execute_reply": "2022-05-31T21:50:25.263328Z",
     "shell.execute_reply.started": "2022-05-31T21:50:25.258813Z"
    },
    "tags": []
   },
   "outputs": [
    {
     "name": "stdout",
     "output_type": "stream",
     "text": [
      "With r=12, we have best result, which is 16559.189606957672\n"
     ]
    }
   ],
   "source": [
    "print(f\"With r={best_basis}, we have best result, which is {best_basis_val}\")"
   ]
  },
  {
   "cell_type": "markdown",
   "metadata": {
    "tags": []
   },
   "source": [
    "## Train on train, val, and predict test"
   ]
  },
  {
   "cell_type": "code",
   "execution_count": 159,
   "metadata": {
    "execution": {
     "iopub.execute_input": "2022-05-31T21:50:59.288932Z",
     "iopub.status.busy": "2022-05-31T21:50:59.288668Z",
     "iopub.status.idle": "2022-05-31T21:51:00.388147Z",
     "shell.execute_reply": "2022-05-31T21:51:00.387282Z",
     "shell.execute_reply.started": "2022-05-31T21:50:59.288902Z"
    },
    "tags": []
   },
   "outputs": [],
   "source": [
    "to_train = np.concatenate((train_data, val_data), axis=1)\n",
    "rom = prepare_data_and_train(to_train, best_basis)"
   ]
  },
  {
   "cell_type": "code",
   "execution_count": 166,
   "metadata": {
    "execution": {
     "iopub.execute_input": "2022-06-02T20:49:18.895681Z",
     "iopub.status.busy": "2022-06-02T20:49:18.892994Z",
     "iopub.status.idle": "2022-06-02T20:49:19.493686Z",
     "shell.execute_reply": "2022-06-02T20:49:19.492778Z",
     "shell.execute_reply.started": "2022-06-02T20:49:18.894887Z"
    },
    "tags": []
   },
   "outputs": [],
   "source": [
    "prediction = rom.predict(val_data[:,-1], np.arange(0.0598, 0.0999, 1e-4))   # predict from the last column of val data\n",
    "tmp = mse(prediction, test_data, squared=False)"
   ]
  },
  {
   "cell_type": "code",
   "execution_count": 168,
   "metadata": {
    "execution": {
     "iopub.execute_input": "2022-06-02T20:50:41.633328Z",
     "iopub.status.busy": "2022-06-02T20:50:41.633109Z",
     "iopub.status.idle": "2022-06-02T20:50:41.638883Z",
     "shell.execute_reply": "2022-06-02T20:50:41.637697Z",
     "shell.execute_reply.started": "2022-06-02T20:50:41.633305Z"
    },
    "tags": []
   },
   "outputs": [
    {
     "data": {
      "text/plain": [
       "530.5494631954839"
      ]
     },
     "execution_count": 168,
     "metadata": {},
     "output_type": "execute_result"
    }
   ],
   "source": [
    "tmp"
   ]
  }
 ],
 "metadata": {
  "colab": {
   "collapsed_sections": [],
   "name": "opinf",
   "provenance": []
  },
  "kernelspec": {
   "display_name": "Python 3",
   "language": "python",
   "name": "python3"
  },
  "language_info": {
   "codemirror_mode": {
    "name": "ipython",
    "version": 3
   },
   "file_extension": ".py",
   "mimetype": "text/x-python",
   "name": "python",
   "nbconvert_exporter": "python",
   "pygments_lexer": "ipython3",
   "version": "3.7.9"
  }
 },
 "nbformat": 4,
 "nbformat_minor": 4
}
