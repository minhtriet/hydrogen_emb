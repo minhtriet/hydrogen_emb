{
 "cells": [
  {
   "cell_type": "code",
   "execution_count": null,
   "metadata": {
    "application/vnd.databricks.v1+cell": {
     "inputWidgets": {},
     "nuid": "a5c29b7b-cc54-42cb-8158-6d031f28a6cb",
     "showTitle": false,
     "title": ""
    },
    "colab": {
     "base_uri": "https://localhost:8080/"
    },
    "id": "j5fI_Y8MzoF1",
    "outputId": "2f3a2a1d-709c-4981-e0bd-d844ef7fabe0",
    "tags": []
   },
   "outputs": [],
   "source": [
    "import darts"
   ]
  },
  {
   "cell_type": "code",
   "execution_count": null,
   "metadata": {
    "application/vnd.databricks.v1+cell": {
     "inputWidgets": {},
     "nuid": "c1e38b1c-3fbb-4db4-bc3a-5348d4e684cc",
     "showTitle": false,
     "title": ""
    },
    "id": "wtgDW9vBzoF2",
    "tags": []
   },
   "outputs": [],
   "source": [
    "import pickle\n",
    "import pandas as pd\n",
    "from sklearn.decomposition import PCA\n",
    "from sklearn.preprocessing import MinMaxScaler\n",
    "from sklearn.metrics import mean_squared_error as mse\n",
    "import numpy as np\n",
    "\n",
    "import torch\n",
    "import torch.nn as nn\n",
    "import torch.nn.functional as F\n",
    "import torch.optim as optim\n",
    "from torch.utils.data import Dataset\n",
    "from darts.dataprocessing.transformers import Scaler\n",
    "\n",
    "from darts import TimeSeries, concatenate\n",
    "from darts.metrics import rmse\n",
    "\n",
    "torch.manual_seed(3407)\n",
    "device = torch.device(\"cuda\" if torch.cuda.is_available() else \"cpu\")\n",
    "import matplotlib.pyplot as plt\n",
    "\n",
    "PREFIX = \".\""
   ]
  },
  {
   "cell_type": "code",
   "execution_count": null,
   "metadata": {
    "application/vnd.databricks.v1+cell": {
     "inputWidgets": {},
     "nuid": "8de2a38d-e8ec-448a-964d-a899d348eeb9",
     "showTitle": false,
     "title": ""
    },
    "id": "76GIqaExzoF7",
    "tags": []
   },
   "outputs": [],
   "source": [
    "# pure copy\n",
    "N_COMPONENTS = 30\n",
    "BATCH_SIZE = 8"
   ]
  },
  {
   "cell_type": "code",
   "execution_count": null,
   "metadata": {
    "tags": []
   },
   "outputs": [],
   "source": [
    "# Matplotlib customizations.\n",
    "plt.rc(\"figure\", dpi=300, figsize=(9,3))\n",
    "plt.rc(\"font\", family=\"serif\", size=6)\n",
    "plt.rc(\"legend\", edgecolor='none')"
   ]
  },
  {
   "cell_type": "code",
   "execution_count": null,
   "metadata": {
    "application/vnd.databricks.v1+cell": {
     "inputWidgets": {},
     "nuid": "3a859f66-3eed-4577-bfca-aca8cca10f58",
     "showTitle": false,
     "title": ""
    },
    "id": "1pTN-TEqzoF3",
    "tags": []
   },
   "outputs": [],
   "source": [
    "from darts.models import TransformerModel "
   ]
  },
  {
   "cell_type": "code",
   "execution_count": null,
   "metadata": {
    "tags": []
   },
   "outputs": [],
   "source": [
    "chosen_columns = ['U:0', 'U:1', 'U:2', 'k',]  # check absolute value other U:0, U:1 (done in 01_data_transform.ipynb)\n",
    "sets = ['train', 'val', 'test']\n",
    "TRAIN = 499\n",
    "VAL = 99\n",
    "TEST = 999 - TRAIN - VAL"
   ]
  },
  {
   "cell_type": "code",
   "execution_count": null,
   "metadata": {
    "tags": []
   },
   "outputs": [],
   "source": [
    "def scale_data(data):\n",
    "    scaler = MinMaxScaler(feature_range=(0, 1))    \n",
    "    scaled_data = scaler.fit_transform(data)\n",
    "    pca = PCA(n_components=N_COMPONENTS)\n",
    "    reduced_data=pca.fit_transform(scaled_data)\n",
    "    assert reduced_data.shape[1] == N_COMPONENTS    \n",
    "    timeseries_data = TimeSeries.from_values(data)\n",
    "    return scaler, pca, reduced_data"
   ]
  },
  {
   "cell_type": "code",
   "execution_count": null,
   "metadata": {
    "tags": []
   },
   "outputs": [],
   "source": [
    "tables = {}\n",
    "for column in chosen_columns:\n",
    "    for dataset in sets:\n",
    "        with open(f'{dataset}_{column}.pkl', 'rb') as f:\n",
    "            print(f'{dataset}_{column}.pkl')\n",
    "            if column in tables.keys():\n",
    "                tables[column] = np.concatenate([tables[column], pickle.load(f)], axis=0)\n",
    "            else:\n",
    "                # first time read:\n",
    "                tables[column] = pickle.load(f)\n",
    "\n",
    "# discard the first data point for train, details in opinf.ipynb\n",
    "for i in chosen_columns:    \n",
    "    tables[i] = tables[i][:,1:]"
   ]
  },
  {
   "cell_type": "code",
   "execution_count": null,
   "metadata": {
    "application/vnd.databricks.v1+cell": {
     "inputWidgets": {},
     "nuid": "61f1cd74-00b6-4809-86cf-2a64ea1b28a5",
     "showTitle": false,
     "title": ""
    },
    "id": "eTwmmPTdzoF6",
    "tags": []
   },
   "outputs": [],
   "source": [
    "with open(f'{PREFIX}/train_p.pkl', 'rb') as f:\n",
    "    train_data = pickle.load(f)\n",
    "\n",
    "with open(f'{PREFIX}/val_p.pkl', 'rb') as f:\n",
    "    val_data = pickle.load(f)\n",
    "\n",
    "with open(f'{PREFIX}/test_p.pkl', 'rb') as f:\n",
    "    test_data = pickle.load(f)"
   ]
  },
  {
   "cell_type": "code",
   "execution_count": null,
   "metadata": {
    "tags": []
   },
   "outputs": [],
   "source": [
    "scalers, pca, reduced_data = {}, {}, {}\n",
    "for column in chosen_columns:\n",
    "    print(column)\n",
    "    scalers[column], pca[column], reduced_data[column] = scale_data(tables['U:0'])"
   ]
  },
  {
   "cell_type": "code",
   "execution_count": null,
   "metadata": {
    "tags": []
   },
   "outputs": [],
   "source": [
    "covariates = concatenate([TimeSeries.from_values(reduced_data[i]) for i in chosen_columns if i != 'p'], axis=1)"
   ]
  },
  {
   "cell_type": "code",
   "execution_count": null,
   "metadata": {
    "tags": []
   },
   "outputs": [],
   "source": [
    "covariates"
   ]
  },
  {
   "cell_type": "code",
   "execution_count": null,
   "metadata": {
    "colab": {
     "base_uri": "https://localhost:8080/"
    },
    "id": "PmU2LWLzXZi7",
    "outputId": "ed20359b-a197-40ef-fdcc-b0b0fe6bfd63",
    "tags": []
   },
   "outputs": [],
   "source": [
    "test_data[:, 1]"
   ]
  },
  {
   "cell_type": "code",
   "execution_count": null,
   "metadata": {
    "colab": {
     "base_uri": "https://localhost:8080/"
    },
    "id": "h6LyVQ1RXViP",
    "outputId": "ec0b793e-44c4-4f10-f027-63ca82cd3a13",
    "tags": []
   },
   "outputs": [],
   "source": [
    "val_data[:, 1]"
   ]
  },
  {
   "cell_type": "code",
   "execution_count": null,
   "metadata": {
    "colab": {
     "base_uri": "https://localhost:8080/"
    },
    "id": "ehwIwOjdXIrc",
    "outputId": "394c5cbc-0e21-48b6-b61f-f7fa7183f826",
    "tags": []
   },
   "outputs": [],
   "source": [
    "train_data[:, 1]"
   ]
  },
  {
   "cell_type": "code",
   "execution_count": null,
   "metadata": {
    "application/vnd.databricks.v1+cell": {
     "inputWidgets": {},
     "nuid": "0fccf950-c6d4-47ad-a466-32af86a22833",
     "showTitle": false,
     "title": ""
    },
    "colab": {
     "base_uri": "https://localhost:8080/"
    },
    "id": "MW3MP1HrzoF8",
    "outputId": "997835b5-bc79-4131-cb8d-5d1076a71b9e",
    "tags": []
   },
   "outputs": [],
   "source": [
    "train_dataset = HEDataset(train_data, train=True)"
   ]
  },
  {
   "cell_type": "code",
   "execution_count": null,
   "metadata": {
    "id": "bXyYdEzVKqL4",
    "tags": []
   },
   "outputs": [],
   "source": [
    "val_dataset = HEDataset(val_data, pca=train_dataset.pca, mean=train_dataset.mean, std=train_dataset.std)\n",
    "test_dataset = HEDataset(test_data, pca=train_dataset.pca, mean=train_dataset.mean, std=train_dataset.std)"
   ]
  },
  {
   "cell_type": "code",
   "execution_count": null,
   "metadata": {
    "id": "mEFMPEnkdhE6",
    "tags": []
   },
   "outputs": [],
   "source": [
    "parameters = {\n",
    "    \"num_encoder_layers\": [2, 4, 8],\n",
    "    \"num_decoder_layers\": [2, 4, 8],\n",
    "    \"dropout\": [0.1, 0.3, 0.5],    \n",
    "    \"input_chunk_length\": [INPUT_STEP],\n",
    "    \"output_chunk_length\": [OUTPUT_STEP],\n",
    "    \"batch_size\": [16],\n",
    "    \"n_epochs\": [4],\n",
    "    \"d_model\": [N_COMPONENTS],\n",
    "}\n",
    "\n",
    "big_time_series = TimeSeries.from_values(np.concatenate((train_dataset.normalized_data,\n",
    "                                                         val_dataset.normalized_data,\n",
    "                                                         test_dataset.normalized_data),\n",
    "                                                        axis=0))"
   ]
  },
  {
   "cell_type": "code",
   "execution_count": null,
   "metadata": {
    "colab": {
     "base_uri": "https://localhost:8080/"
    },
    "id": "x1cvWHXrtp6m",
    "outputId": "53396837-e100-4574-de52-17e7bda9bbf8",
    "tags": []
   },
   "outputs": [],
   "source": [
    "parameters = {\n",
    "    \"num_encoder_layers\": [2, 4, 8],\n",
    "    \"num_decoder_layers\": [2, 4, 8],\n",
    "    \"dropout\": [0.1, 0.3, 0.5],    \n",
    "    \"input_chunk_length\": [INPUT_STEP],\n",
    "    \"output_chunk_length\": [OUTPUT_STEP],\n",
    "    \"batch_size\": [16],\n",
    "    \"n_epochs\": [4],\n",
    "    \"d_model\": [N_COMPONENTS],\n",
    "}\n",
    "\n",
    "best_model, _, _ = TransformerModel.gridsearch(\n",
    "    parameters = parameters,\n",
    "    series =big_time_series[:len(train_dataset.normalized_data)],\n",
    "    val_series = big_time_series[len(train_dataset.normalized_data):len(train_dataset.normalized_data) + len(val_dataset.normalized_data)],\n",
    "    metric = rmse,\n",
    "    n_jobs=16,\n",
    ")\n",
    "# nhead=N_COMPONENTS,\n",
    "#     num_encoder_layers=2,\n",
    "#     num_decoder_layers=2,\n",
    "#     dim_feedforward=128,\n",
    "#     dropout=0.1,\n",
    "#     activation=\"relu\",\n",
    "#     random_state=3407,\n",
    "#     save_checkpoints=True,\n",
    "#     force_reset=True,\n",
    "#     pl_trainer_kwargs={'enable_progress_bar': True}"
   ]
  },
  {
   "cell_type": "code",
   "execution_count": null,
   "metadata": {
    "colab": {
     "base_uri": "https://localhost:8080/"
    },
    "id": "4Pa0on_AGCpU",
    "outputId": "69b15486-b88d-4532-f67f-eee4eb0d0043",
    "tags": []
   },
   "outputs": [],
   "source": [
    "best_model.model_params"
   ]
  },
  {
   "cell_type": "code",
   "execution_count": null,
   "metadata": {
    "application/vnd.databricks.v1+cell": {
     "inputWidgets": {},
     "nuid": "73ddf32a-ea38-4719-869c-911a3b68bdf9",
     "showTitle": false,
     "title": ""
    },
    "colab": {
     "base_uri": "https://localhost:8080/",
     "height": 627,
     "referenced_widgets": [
      "9859ffd2b7b64f82854aede748f94821",
      "5a5da93839a24aca97ae8b31fc178a51",
      "f329baa825404e9390f02e7117c3f2ab",
      "b68896e3a9ad478a9cbaa5e78bf01001",
      "bd640de46a78467a9ec585794e20fbe9",
      "d5afcb867ba14826b702facf9ea9b8cc",
      "c659c038c6eb4dc09e4160fd32f9a72f",
      "783aa8f216c447acab03e53d28789883",
      "38356f0c488c4af681a16d6b92ab3a39",
      "8582fdf45ec041608a1aefc47ffbb02a",
      "be65359da7bd42629bc03d8f7058fff1"
     ]
    },
    "id": "_xNqyyDozoGA",
    "outputId": "e180e695-3f9c-4b82-f5cc-57af650c2399",
    "tags": []
   },
   "outputs": [],
   "source": [
    "best_model.fit(big_time_series[:len(train_dataset.normalized_data) + len(val_dataset.normalized_data)])"
   ]
  },
  {
   "cell_type": "code",
   "execution_count": null,
   "metadata": {
    "colab": {
     "base_uri": "https://localhost:8080/",
     "height": 66,
     "referenced_widgets": [
      "30207725ca604581b32809e94cfcd705",
      "1682a0701c5d4991b7d250f0105400cf",
      "d8d5c6df6e8e48e6b24d7bbd7c31ac4e",
      "b400c77af5ea4d119dbaa6c21dbd92b3",
      "e08c4af79e2943519fdad3a95c987f4d",
      "9d7850b4cf134869ba84efd4a3f00365",
      "59418b6a4ddd4341bb2516263761a813",
      "0f22b436b6b04be69bb59eb7993b5021",
      "5d93c0c08de741fc8ac2b1f1ee9ed73e",
      "f0f0f9c0e44c40a0869c7e82b1177b5f",
      "5ba0ac7e429841719d5368522a34368f"
     ]
    },
    "id": "6WxuK7S44c9d",
    "outputId": "e66d77b8-3af8-46de-b073-c9e7c149b7e2",
    "tags": []
   },
   "outputs": [],
   "source": [
    "prediction = best_model.predict(len(big_time_series) - (len(train_dataset.normalized_data) + len(val_dataset.normalized_data)))\n",
    "predict_original = train_dataset.pca.inverse_transform(prediction.values())\n",
    "mse(predict_original, test_data, squared=False)"
   ]
  },
  {
   "cell_type": "markdown",
   "metadata": {},
   "source": [
    "A table for input to choose\n",
    "\n",
    "| Feature | Test loss          |\n",
    "|---------|--------------------|\n",
    "| p       | 110.71740903403541 |\n",
    "|         |                    |\n",
    "|         |                    |\n"
   ]
  },
  {
   "cell_type": "code",
   "execution_count": null,
   "metadata": {
    "colab": {
     "base_uri": "https://localhost:8080/"
    },
    "id": "psfFt90gKjQ7",
    "outputId": "24b5ebbc-5b81-4e44-f937-5acf05b7a142",
    "tags": []
   },
   "outputs": [],
   "source": [
    "predict_original.shape"
   ]
  },
  {
   "cell_type": "code",
   "execution_count": null,
   "metadata": {
    "colab": {
     "base_uri": "https://localhost:8080/"
    },
    "id": "L50wZfjuKpEM",
    "outputId": "e22fc979-37d0-40b9-ac9e-33b3ddc3a434",
    "tags": []
   },
   "outputs": [],
   "source": [
    "test_data.shape"
   ]
  },
  {
   "cell_type": "code",
   "execution_count": null,
   "metadata": {
    "tags": []
   },
   "outputs": [],
   "source": [
    "def plot_pred(groundtruth, prediction):\n",
    "    plt.plot(range(groundtruth.shape[0]), groundtruth.mean(1))\n",
    "    plt.plot(range(groundtruth.shape[0]), prediction.mean(1), alpha=0.5)\n",
    "    plt.legend([\"groundtruth\", \"prediction\"])\n",
    "plot_pred(test_data, predict_original)"
   ]
  }
 ],
 "metadata": {
  "application/vnd.databricks.v1+notebook": {
   "dashboards": [],
   "language": "python",
   "notebookMetadata": {
    "pythonIndentUnit": 2
   },
   "notebookName": "he_tft",
   "notebookOrigID": 681847260201257,
   "widgets": {}
  },
  "colab": {
   "collapsed_sections": [],
   "name": "he_tft.ipynb",
   "provenance": []
  },
  "kernelspec": {
   "display_name": "Python 3",
   "language": "python",
   "name": "python3"
  },
  "language_info": {
   "codemirror_mode": {
    "name": "ipython",
    "version": 3
   },
   "file_extension": ".py",
   "mimetype": "text/x-python",
   "name": "python",
   "nbconvert_exporter": "python",
   "pygments_lexer": "ipython3",
   "version": "3.7.9"
  },
  "widgets": {
   "application/vnd.jupyter.widget-state+json": {
    "0f22b436b6b04be69bb59eb7993b5021": {
     "model_module": "@jupyter-widgets/base",
     "model_module_version": "1.2.0",
     "model_name": "LayoutModel",
     "state": {
      "_model_module": "@jupyter-widgets/base",
      "_model_module_version": "1.2.0",
      "_model_name": "LayoutModel",
      "_view_count": null,
      "_view_module": "@jupyter-widgets/base",
      "_view_module_version": "1.2.0",
      "_view_name": "LayoutView",
      "align_content": null,
      "align_items": null,
      "align_self": null,
      "border": null,
      "bottom": null,
      "display": null,
      "flex": "2",
      "flex_flow": null,
      "grid_area": null,
      "grid_auto_columns": null,
      "grid_auto_flow": null,
      "grid_auto_rows": null,
      "grid_column": null,
      "grid_gap": null,
      "grid_row": null,
      "grid_template_areas": null,
      "grid_template_columns": null,
      "grid_template_rows": null,
      "height": null,
      "justify_content": null,
      "justify_items": null,
      "left": null,
      "margin": null,
      "max_height": null,
      "max_width": null,
      "min_height": null,
      "min_width": null,
      "object_fit": null,
      "object_position": null,
      "order": null,
      "overflow": null,
      "overflow_x": null,
      "overflow_y": null,
      "padding": null,
      "right": null,
      "top": null,
      "visibility": null,
      "width": null
     }
    },
    "1682a0701c5d4991b7d250f0105400cf": {
     "model_module": "@jupyter-widgets/controls",
     "model_module_version": "1.5.0",
     "model_name": "HTMLModel",
     "state": {
      "_dom_classes": [],
      "_model_module": "@jupyter-widgets/controls",
      "_model_module_version": "1.5.0",
      "_model_name": "HTMLModel",
      "_view_count": null,
      "_view_module": "@jupyter-widgets/controls",
      "_view_module_version": "1.5.0",
      "_view_name": "HTMLView",
      "description": "",
      "description_tooltip": null,
      "layout": "IPY_MODEL_9d7850b4cf134869ba84efd4a3f00365",
      "placeholder": "​",
      "style": "IPY_MODEL_59418b6a4ddd4341bb2516263761a813",
      "value": "Predicting DataLoader 0: 100%"
     }
    },
    "30207725ca604581b32809e94cfcd705": {
     "model_module": "@jupyter-widgets/controls",
     "model_module_version": "1.5.0",
     "model_name": "HBoxModel",
     "state": {
      "_dom_classes": [],
      "_model_module": "@jupyter-widgets/controls",
      "_model_module_version": "1.5.0",
      "_model_name": "HBoxModel",
      "_view_count": null,
      "_view_module": "@jupyter-widgets/controls",
      "_view_module_version": "1.5.0",
      "_view_name": "HBoxView",
      "box_style": "",
      "children": [
       "IPY_MODEL_1682a0701c5d4991b7d250f0105400cf",
       "IPY_MODEL_d8d5c6df6e8e48e6b24d7bbd7c31ac4e",
       "IPY_MODEL_b400c77af5ea4d119dbaa6c21dbd92b3"
      ],
      "layout": "IPY_MODEL_e08c4af79e2943519fdad3a95c987f4d"
     }
    },
    "38356f0c488c4af681a16d6b92ab3a39": {
     "model_module": "@jupyter-widgets/controls",
     "model_module_version": "1.5.0",
     "model_name": "ProgressStyleModel",
     "state": {
      "_model_module": "@jupyter-widgets/controls",
      "_model_module_version": "1.5.0",
      "_model_name": "ProgressStyleModel",
      "_view_count": null,
      "_view_module": "@jupyter-widgets/base",
      "_view_module_version": "1.2.0",
      "_view_name": "StyleView",
      "bar_color": null,
      "description_width": ""
     }
    },
    "59418b6a4ddd4341bb2516263761a813": {
     "model_module": "@jupyter-widgets/controls",
     "model_module_version": "1.5.0",
     "model_name": "DescriptionStyleModel",
     "state": {
      "_model_module": "@jupyter-widgets/controls",
      "_model_module_version": "1.5.0",
      "_model_name": "DescriptionStyleModel",
      "_view_count": null,
      "_view_module": "@jupyter-widgets/base",
      "_view_module_version": "1.2.0",
      "_view_name": "StyleView",
      "description_width": ""
     }
    },
    "5a5da93839a24aca97ae8b31fc178a51": {
     "model_module": "@jupyter-widgets/controls",
     "model_module_version": "1.5.0",
     "model_name": "HTMLModel",
     "state": {
      "_dom_classes": [],
      "_model_module": "@jupyter-widgets/controls",
      "_model_module_version": "1.5.0",
      "_model_name": "HTMLModel",
      "_view_count": null,
      "_view_module": "@jupyter-widgets/controls",
      "_view_module_version": "1.5.0",
      "_view_name": "HTMLView",
      "description": "",
      "description_tooltip": null,
      "layout": "IPY_MODEL_d5afcb867ba14826b702facf9ea9b8cc",
      "placeholder": "​",
      "style": "IPY_MODEL_c659c038c6eb4dc09e4160fd32f9a72f",
      "value": "Epoch 3: 100%"
     }
    },
    "5ba0ac7e429841719d5368522a34368f": {
     "model_module": "@jupyter-widgets/controls",
     "model_module_version": "1.5.0",
     "model_name": "DescriptionStyleModel",
     "state": {
      "_model_module": "@jupyter-widgets/controls",
      "_model_module_version": "1.5.0",
      "_model_name": "DescriptionStyleModel",
      "_view_count": null,
      "_view_module": "@jupyter-widgets/base",
      "_view_module_version": "1.2.0",
      "_view_name": "StyleView",
      "description_width": ""
     }
    },
    "5d93c0c08de741fc8ac2b1f1ee9ed73e": {
     "model_module": "@jupyter-widgets/controls",
     "model_module_version": "1.5.0",
     "model_name": "ProgressStyleModel",
     "state": {
      "_model_module": "@jupyter-widgets/controls",
      "_model_module_version": "1.5.0",
      "_model_name": "ProgressStyleModel",
      "_view_count": null,
      "_view_module": "@jupyter-widgets/base",
      "_view_module_version": "1.2.0",
      "_view_name": "StyleView",
      "bar_color": null,
      "description_width": ""
     }
    },
    "783aa8f216c447acab03e53d28789883": {
     "model_module": "@jupyter-widgets/base",
     "model_module_version": "1.2.0",
     "model_name": "LayoutModel",
     "state": {
      "_model_module": "@jupyter-widgets/base",
      "_model_module_version": "1.2.0",
      "_model_name": "LayoutModel",
      "_view_count": null,
      "_view_module": "@jupyter-widgets/base",
      "_view_module_version": "1.2.0",
      "_view_name": "LayoutView",
      "align_content": null,
      "align_items": null,
      "align_self": null,
      "border": null,
      "bottom": null,
      "display": null,
      "flex": "2",
      "flex_flow": null,
      "grid_area": null,
      "grid_auto_columns": null,
      "grid_auto_flow": null,
      "grid_auto_rows": null,
      "grid_column": null,
      "grid_gap": null,
      "grid_row": null,
      "grid_template_areas": null,
      "grid_template_columns": null,
      "grid_template_rows": null,
      "height": null,
      "justify_content": null,
      "justify_items": null,
      "left": null,
      "margin": null,
      "max_height": null,
      "max_width": null,
      "min_height": null,
      "min_width": null,
      "object_fit": null,
      "object_position": null,
      "order": null,
      "overflow": null,
      "overflow_x": null,
      "overflow_y": null,
      "padding": null,
      "right": null,
      "top": null,
      "visibility": null,
      "width": null
     }
    },
    "8582fdf45ec041608a1aefc47ffbb02a": {
     "model_module": "@jupyter-widgets/base",
     "model_module_version": "1.2.0",
     "model_name": "LayoutModel",
     "state": {
      "_model_module": "@jupyter-widgets/base",
      "_model_module_version": "1.2.0",
      "_model_name": "LayoutModel",
      "_view_count": null,
      "_view_module": "@jupyter-widgets/base",
      "_view_module_version": "1.2.0",
      "_view_name": "LayoutView",
      "align_content": null,
      "align_items": null,
      "align_self": null,
      "border": null,
      "bottom": null,
      "display": null,
      "flex": null,
      "flex_flow": null,
      "grid_area": null,
      "grid_auto_columns": null,
      "grid_auto_flow": null,
      "grid_auto_rows": null,
      "grid_column": null,
      "grid_gap": null,
      "grid_row": null,
      "grid_template_areas": null,
      "grid_template_columns": null,
      "grid_template_rows": null,
      "height": null,
      "justify_content": null,
      "justify_items": null,
      "left": null,
      "margin": null,
      "max_height": null,
      "max_width": null,
      "min_height": null,
      "min_width": null,
      "object_fit": null,
      "object_position": null,
      "order": null,
      "overflow": null,
      "overflow_x": null,
      "overflow_y": null,
      "padding": null,
      "right": null,
      "top": null,
      "visibility": null,
      "width": null
     }
    },
    "9859ffd2b7b64f82854aede748f94821": {
     "model_module": "@jupyter-widgets/controls",
     "model_module_version": "1.5.0",
     "model_name": "HBoxModel",
     "state": {
      "_dom_classes": [],
      "_model_module": "@jupyter-widgets/controls",
      "_model_module_version": "1.5.0",
      "_model_name": "HBoxModel",
      "_view_count": null,
      "_view_module": "@jupyter-widgets/controls",
      "_view_module_version": "1.5.0",
      "_view_name": "HBoxView",
      "box_style": "",
      "children": [
       "IPY_MODEL_5a5da93839a24aca97ae8b31fc178a51",
       "IPY_MODEL_f329baa825404e9390f02e7117c3f2ab",
       "IPY_MODEL_b68896e3a9ad478a9cbaa5e78bf01001"
      ],
      "layout": "IPY_MODEL_bd640de46a78467a9ec585794e20fbe9"
     }
    },
    "9d7850b4cf134869ba84efd4a3f00365": {
     "model_module": "@jupyter-widgets/base",
     "model_module_version": "1.2.0",
     "model_name": "LayoutModel",
     "state": {
      "_model_module": "@jupyter-widgets/base",
      "_model_module_version": "1.2.0",
      "_model_name": "LayoutModel",
      "_view_count": null,
      "_view_module": "@jupyter-widgets/base",
      "_view_module_version": "1.2.0",
      "_view_name": "LayoutView",
      "align_content": null,
      "align_items": null,
      "align_self": null,
      "border": null,
      "bottom": null,
      "display": null,
      "flex": null,
      "flex_flow": null,
      "grid_area": null,
      "grid_auto_columns": null,
      "grid_auto_flow": null,
      "grid_auto_rows": null,
      "grid_column": null,
      "grid_gap": null,
      "grid_row": null,
      "grid_template_areas": null,
      "grid_template_columns": null,
      "grid_template_rows": null,
      "height": null,
      "justify_content": null,
      "justify_items": null,
      "left": null,
      "margin": null,
      "max_height": null,
      "max_width": null,
      "min_height": null,
      "min_width": null,
      "object_fit": null,
      "object_position": null,
      "order": null,
      "overflow": null,
      "overflow_x": null,
      "overflow_y": null,
      "padding": null,
      "right": null,
      "top": null,
      "visibility": null,
      "width": null
     }
    },
    "b400c77af5ea4d119dbaa6c21dbd92b3": {
     "model_module": "@jupyter-widgets/controls",
     "model_module_version": "1.5.0",
     "model_name": "HTMLModel",
     "state": {
      "_dom_classes": [],
      "_model_module": "@jupyter-widgets/controls",
      "_model_module_version": "1.5.0",
      "_model_name": "HTMLModel",
      "_view_count": null,
      "_view_module": "@jupyter-widgets/controls",
      "_view_module_version": "1.5.0",
      "_view_name": "HTMLView",
      "description": "",
      "description_tooltip": null,
      "layout": "IPY_MODEL_f0f0f9c0e44c40a0869c7e82b1177b5f",
      "placeholder": "​",
      "style": "IPY_MODEL_5ba0ac7e429841719d5368522a34368f",
      "value": " 1/1 [00:02&lt;00:00, -16.11it/s]"
     }
    },
    "b68896e3a9ad478a9cbaa5e78bf01001": {
     "model_module": "@jupyter-widgets/controls",
     "model_module_version": "1.5.0",
     "model_name": "HTMLModel",
     "state": {
      "_dom_classes": [],
      "_model_module": "@jupyter-widgets/controls",
      "_model_module_version": "1.5.0",
      "_model_name": "HTMLModel",
      "_view_count": null,
      "_view_module": "@jupyter-widgets/controls",
      "_view_module_version": "1.5.0",
      "_view_name": "HTMLView",
      "description": "",
      "description_tooltip": null,
      "layout": "IPY_MODEL_8582fdf45ec041608a1aefc47ffbb02a",
      "placeholder": "​",
      "style": "IPY_MODEL_be65359da7bd42629bc03d8f7058fff1",
      "value": " 37/37 [00:01&lt;00:00, 29.64it/s, loss=0.41, train_loss=0.313]"
     }
    },
    "bd640de46a78467a9ec585794e20fbe9": {
     "model_module": "@jupyter-widgets/base",
     "model_module_version": "1.2.0",
     "model_name": "LayoutModel",
     "state": {
      "_model_module": "@jupyter-widgets/base",
      "_model_module_version": "1.2.0",
      "_model_name": "LayoutModel",
      "_view_count": null,
      "_view_module": "@jupyter-widgets/base",
      "_view_module_version": "1.2.0",
      "_view_name": "LayoutView",
      "align_content": null,
      "align_items": null,
      "align_self": null,
      "border": null,
      "bottom": null,
      "display": "inline-flex",
      "flex": null,
      "flex_flow": "row wrap",
      "grid_area": null,
      "grid_auto_columns": null,
      "grid_auto_flow": null,
      "grid_auto_rows": null,
      "grid_column": null,
      "grid_gap": null,
      "grid_row": null,
      "grid_template_areas": null,
      "grid_template_columns": null,
      "grid_template_rows": null,
      "height": null,
      "justify_content": null,
      "justify_items": null,
      "left": null,
      "margin": null,
      "max_height": null,
      "max_width": null,
      "min_height": null,
      "min_width": null,
      "object_fit": null,
      "object_position": null,
      "order": null,
      "overflow": null,
      "overflow_x": null,
      "overflow_y": null,
      "padding": null,
      "right": null,
      "top": null,
      "visibility": null,
      "width": "100%"
     }
    },
    "be65359da7bd42629bc03d8f7058fff1": {
     "model_module": "@jupyter-widgets/controls",
     "model_module_version": "1.5.0",
     "model_name": "DescriptionStyleModel",
     "state": {
      "_model_module": "@jupyter-widgets/controls",
      "_model_module_version": "1.5.0",
      "_model_name": "DescriptionStyleModel",
      "_view_count": null,
      "_view_module": "@jupyter-widgets/base",
      "_view_module_version": "1.2.0",
      "_view_name": "StyleView",
      "description_width": ""
     }
    },
    "c659c038c6eb4dc09e4160fd32f9a72f": {
     "model_module": "@jupyter-widgets/controls",
     "model_module_version": "1.5.0",
     "model_name": "DescriptionStyleModel",
     "state": {
      "_model_module": "@jupyter-widgets/controls",
      "_model_module_version": "1.5.0",
      "_model_name": "DescriptionStyleModel",
      "_view_count": null,
      "_view_module": "@jupyter-widgets/base",
      "_view_module_version": "1.2.0",
      "_view_name": "StyleView",
      "description_width": ""
     }
    },
    "d5afcb867ba14826b702facf9ea9b8cc": {
     "model_module": "@jupyter-widgets/base",
     "model_module_version": "1.2.0",
     "model_name": "LayoutModel",
     "state": {
      "_model_module": "@jupyter-widgets/base",
      "_model_module_version": "1.2.0",
      "_model_name": "LayoutModel",
      "_view_count": null,
      "_view_module": "@jupyter-widgets/base",
      "_view_module_version": "1.2.0",
      "_view_name": "LayoutView",
      "align_content": null,
      "align_items": null,
      "align_self": null,
      "border": null,
      "bottom": null,
      "display": null,
      "flex": null,
      "flex_flow": null,
      "grid_area": null,
      "grid_auto_columns": null,
      "grid_auto_flow": null,
      "grid_auto_rows": null,
      "grid_column": null,
      "grid_gap": null,
      "grid_row": null,
      "grid_template_areas": null,
      "grid_template_columns": null,
      "grid_template_rows": null,
      "height": null,
      "justify_content": null,
      "justify_items": null,
      "left": null,
      "margin": null,
      "max_height": null,
      "max_width": null,
      "min_height": null,
      "min_width": null,
      "object_fit": null,
      "object_position": null,
      "order": null,
      "overflow": null,
      "overflow_x": null,
      "overflow_y": null,
      "padding": null,
      "right": null,
      "top": null,
      "visibility": null,
      "width": null
     }
    },
    "d8d5c6df6e8e48e6b24d7bbd7c31ac4e": {
     "model_module": "@jupyter-widgets/controls",
     "model_module_version": "1.5.0",
     "model_name": "FloatProgressModel",
     "state": {
      "_dom_classes": [],
      "_model_module": "@jupyter-widgets/controls",
      "_model_module_version": "1.5.0",
      "_model_name": "FloatProgressModel",
      "_view_count": null,
      "_view_module": "@jupyter-widgets/controls",
      "_view_module_version": "1.5.0",
      "_view_name": "ProgressView",
      "bar_style": "success",
      "description": "",
      "description_tooltip": null,
      "layout": "IPY_MODEL_0f22b436b6b04be69bb59eb7993b5021",
      "max": 1,
      "min": 0,
      "orientation": "horizontal",
      "style": "IPY_MODEL_5d93c0c08de741fc8ac2b1f1ee9ed73e",
      "value": 1
     }
    },
    "e08c4af79e2943519fdad3a95c987f4d": {
     "model_module": "@jupyter-widgets/base",
     "model_module_version": "1.2.0",
     "model_name": "LayoutModel",
     "state": {
      "_model_module": "@jupyter-widgets/base",
      "_model_module_version": "1.2.0",
      "_model_name": "LayoutModel",
      "_view_count": null,
      "_view_module": "@jupyter-widgets/base",
      "_view_module_version": "1.2.0",
      "_view_name": "LayoutView",
      "align_content": null,
      "align_items": null,
      "align_self": null,
      "border": null,
      "bottom": null,
      "display": "inline-flex",
      "flex": null,
      "flex_flow": "row wrap",
      "grid_area": null,
      "grid_auto_columns": null,
      "grid_auto_flow": null,
      "grid_auto_rows": null,
      "grid_column": null,
      "grid_gap": null,
      "grid_row": null,
      "grid_template_areas": null,
      "grid_template_columns": null,
      "grid_template_rows": null,
      "height": null,
      "justify_content": null,
      "justify_items": null,
      "left": null,
      "margin": null,
      "max_height": null,
      "max_width": null,
      "min_height": null,
      "min_width": null,
      "object_fit": null,
      "object_position": null,
      "order": null,
      "overflow": null,
      "overflow_x": null,
      "overflow_y": null,
      "padding": null,
      "right": null,
      "top": null,
      "visibility": null,
      "width": "100%"
     }
    },
    "f0f0f9c0e44c40a0869c7e82b1177b5f": {
     "model_module": "@jupyter-widgets/base",
     "model_module_version": "1.2.0",
     "model_name": "LayoutModel",
     "state": {
      "_model_module": "@jupyter-widgets/base",
      "_model_module_version": "1.2.0",
      "_model_name": "LayoutModel",
      "_view_count": null,
      "_view_module": "@jupyter-widgets/base",
      "_view_module_version": "1.2.0",
      "_view_name": "LayoutView",
      "align_content": null,
      "align_items": null,
      "align_self": null,
      "border": null,
      "bottom": null,
      "display": null,
      "flex": null,
      "flex_flow": null,
      "grid_area": null,
      "grid_auto_columns": null,
      "grid_auto_flow": null,
      "grid_auto_rows": null,
      "grid_column": null,
      "grid_gap": null,
      "grid_row": null,
      "grid_template_areas": null,
      "grid_template_columns": null,
      "grid_template_rows": null,
      "height": null,
      "justify_content": null,
      "justify_items": null,
      "left": null,
      "margin": null,
      "max_height": null,
      "max_width": null,
      "min_height": null,
      "min_width": null,
      "object_fit": null,
      "object_position": null,
      "order": null,
      "overflow": null,
      "overflow_x": null,
      "overflow_y": null,
      "padding": null,
      "right": null,
      "top": null,
      "visibility": null,
      "width": null
     }
    },
    "f329baa825404e9390f02e7117c3f2ab": {
     "model_module": "@jupyter-widgets/controls",
     "model_module_version": "1.5.0",
     "model_name": "FloatProgressModel",
     "state": {
      "_dom_classes": [],
      "_model_module": "@jupyter-widgets/controls",
      "_model_module_version": "1.5.0",
      "_model_name": "FloatProgressModel",
      "_view_count": null,
      "_view_module": "@jupyter-widgets/controls",
      "_view_module_version": "1.5.0",
      "_view_name": "ProgressView",
      "bar_style": "success",
      "description": "",
      "description_tooltip": null,
      "layout": "IPY_MODEL_783aa8f216c447acab03e53d28789883",
      "max": 37,
      "min": 0,
      "orientation": "horizontal",
      "style": "IPY_MODEL_38356f0c488c4af681a16d6b92ab3a39",
      "value": 37
     }
    }
   }
  }
 },
 "nbformat": 4,
 "nbformat_minor": 4
}
