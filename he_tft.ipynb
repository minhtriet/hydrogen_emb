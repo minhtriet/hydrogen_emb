{
 "cells": [
  {
   "cell_type": "code",
   "execution_count": 308,
   "metadata": {
    "application/vnd.databricks.v1+cell": {
     "inputWidgets": {},
     "nuid": "c1e38b1c-3fbb-4db4-bc3a-5348d4e684cc",
     "showTitle": false,
     "title": ""
    },
    "execution": {
     "iopub.execute_input": "2022-07-20T21:12:03.490632Z",
     "iopub.status.busy": "2022-07-20T21:12:03.484484Z",
     "iopub.status.idle": "2022-07-20T21:12:03.672217Z",
     "shell.execute_reply": "2022-07-20T21:12:03.669710Z",
     "shell.execute_reply.started": "2022-07-20T21:12:03.490451Z"
    },
    "id": "wtgDW9vBzoF2",
    "tags": []
   },
   "outputs": [],
   "source": [
    "import pickle\n",
    "import pandas as pd\n",
    "from sklearn.decomposition import PCA\n",
    "from sklearn.preprocessing import MinMaxScaler\n",
    "from sklearn.metrics import mean_squared_error as mse\n",
    "import numpy as np\n",
    "\n",
    "import torch\n",
    "import torch.nn as nn\n",
    "import torch.nn.functional as F\n",
    "import torch.optim as optim\n",
    "from torch.utils.data import Dataset\n",
    "from darts.dataprocessing.transformers import Scaler\n",
    "\n",
    "from darts import TimeSeries, concatenate\n",
    "from darts.metrics import rmse\n",
    "\n",
    "torch.manual_seed(3407)\n",
    "device = torch.device(\"cuda\" if torch.cuda.is_available() else \"cpu\")\n",
    "import matplotlib.pyplot as plt\n",
    "\n",
    "PREFIX = \".\""
   ]
  },
  {
   "cell_type": "code",
   "execution_count": 309,
   "metadata": {
    "application/vnd.databricks.v1+cell": {
     "inputWidgets": {},
     "nuid": "8de2a38d-e8ec-448a-964d-a899d348eeb9",
     "showTitle": false,
     "title": ""
    },
    "execution": {
     "iopub.execute_input": "2022-07-20T21:12:03.679064Z",
     "iopub.status.busy": "2022-07-20T21:12:03.677166Z",
     "iopub.status.idle": "2022-07-20T21:12:03.705664Z",
     "shell.execute_reply": "2022-07-20T21:12:03.704629Z",
     "shell.execute_reply.started": "2022-07-20T21:12:03.679009Z"
    },
    "id": "76GIqaExzoF7",
    "tags": []
   },
   "outputs": [],
   "source": [
    "# pure copy\n",
    "N_COMPONENTS = 30\n",
    "BATCH_SIZE = 8"
   ]
  },
  {
   "cell_type": "code",
   "execution_count": 310,
   "metadata": {
    "execution": {
     "iopub.execute_input": "2022-07-20T21:12:03.709565Z",
     "iopub.status.busy": "2022-07-20T21:12:03.709343Z",
     "iopub.status.idle": "2022-07-20T21:12:03.737165Z",
     "shell.execute_reply": "2022-07-20T21:12:03.735761Z",
     "shell.execute_reply.started": "2022-07-20T21:12:03.709541Z"
    },
    "tags": []
   },
   "outputs": [],
   "source": [
    "# Matplotlib customizations.\n",
    "plt.rc(\"figure\", dpi=300, figsize=(9,3))\n",
    "plt.rc(\"font\", family=\"serif\", size=6)\n",
    "plt.rc(\"legend\", edgecolor='none')"
   ]
  },
  {
   "cell_type": "code",
   "execution_count": 311,
   "metadata": {
    "application/vnd.databricks.v1+cell": {
     "inputWidgets": {},
     "nuid": "3a859f66-3eed-4577-bfca-aca8cca10f58",
     "showTitle": false,
     "title": ""
    },
    "execution": {
     "iopub.execute_input": "2022-07-20T21:12:03.742138Z",
     "iopub.status.busy": "2022-07-20T21:12:03.741124Z",
     "iopub.status.idle": "2022-07-20T21:12:03.750167Z",
     "shell.execute_reply": "2022-07-20T21:12:03.749452Z",
     "shell.execute_reply.started": "2022-07-20T21:12:03.742099Z"
    },
    "id": "1pTN-TEqzoF3",
    "tags": []
   },
   "outputs": [],
   "source": [
    "from darts.models import TFTModel "
   ]
  },
  {
   "cell_type": "code",
   "execution_count": 312,
   "metadata": {
    "execution": {
     "iopub.execute_input": "2022-07-20T21:12:03.754341Z",
     "iopub.status.busy": "2022-07-20T21:12:03.753021Z",
     "iopub.status.idle": "2022-07-20T21:12:03.764563Z",
     "shell.execute_reply": "2022-07-20T21:12:03.762677Z",
     "shell.execute_reply.started": "2022-07-20T21:12:03.754291Z"
    },
    "tags": []
   },
   "outputs": [],
   "source": [
    "chosen_columns = ['p', 'U:2']  # check absolute value other U:0, U:1 (done in 01_data_transform.ipynb)\n",
    "sets = ['train', 'val', 'test']\n",
    "TRAIN = 499\n",
    "VAL = 99\n",
    "TEST = 999 - TRAIN - VAL"
   ]
  },
  {
   "cell_type": "code",
   "execution_count": 313,
   "metadata": {
    "execution": {
     "iopub.execute_input": "2022-07-20T21:12:03.768138Z",
     "iopub.status.busy": "2022-07-20T21:12:03.767099Z",
     "iopub.status.idle": "2022-07-20T21:12:03.787993Z",
     "shell.execute_reply": "2022-07-20T21:12:03.786823Z",
     "shell.execute_reply.started": "2022-07-20T21:12:03.768076Z"
    },
    "tags": []
   },
   "outputs": [],
   "source": [
    "def scale_data(data):\n",
    "    scaler = MinMaxScaler(feature_range=(0, 1))    \n",
    "    scaled_data = scaler.fit_transform(data)\n",
    "    pca = PCA(n_components=N_COMPONENTS)\n",
    "    reduced_data=pca.fit_transform(scaled_data)\n",
    "    assert reduced_data.shape[1] == N_COMPONENTS    \n",
    "    timeseries_data = TimeSeries.from_values(data)\n",
    "    return scaler, pca, reduced_data"
   ]
  },
  {
   "cell_type": "code",
   "execution_count": 314,
   "metadata": {
    "execution": {
     "iopub.execute_input": "2022-07-20T21:12:03.791083Z",
     "iopub.status.busy": "2022-07-20T21:12:03.790694Z",
     "iopub.status.idle": "2022-07-20T21:12:04.145812Z",
     "shell.execute_reply": "2022-07-20T21:12:04.144971Z",
     "shell.execute_reply.started": "2022-07-20T21:12:03.790949Z"
    },
    "tags": []
   },
   "outputs": [
    {
     "name": "stdout",
     "output_type": "stream",
     "text": [
      "train_p.pkl\n",
      "val_p.pkl\n",
      "test_p.pkl\n",
      "train_U:2.pkl\n",
      "val_U:2.pkl\n",
      "test_U:2.pkl\n"
     ]
    }
   ],
   "source": [
    "tables = {}\n",
    "for column in chosen_columns:\n",
    "    for dataset in sets:\n",
    "        with open(f'{dataset}_{column}.pkl', 'rb') as f:\n",
    "            print(f'{dataset}_{column}.pkl')\n",
    "            if column in tables.keys():\n",
    "                tables[column] = np.concatenate([tables[column], pickle.load(f)], axis=0)\n",
    "            else:\n",
    "                # first time read:\n",
    "                tables[column] = pickle.load(f)\n",
    "\n",
    "# discard the first data point for train, details in opinf.ipynb\n",
    "for i in chosen_columns:    \n",
    "    tables[i] = tables[i][:,1:]"
   ]
  },
  {
   "cell_type": "code",
   "execution_count": 315,
   "metadata": {
    "execution": {
     "iopub.execute_input": "2022-07-20T21:12:04.147922Z",
     "iopub.status.busy": "2022-07-20T21:12:04.147675Z",
     "iopub.status.idle": "2022-07-20T21:12:05.333196Z",
     "shell.execute_reply": "2022-07-20T21:12:05.332379Z",
     "shell.execute_reply.started": "2022-07-20T21:12:04.147894Z"
    },
    "tags": []
   },
   "outputs": [
    {
     "name": "stdout",
     "output_type": "stream",
     "text": [
      "p\n",
      "U:2\n"
     ]
    }
   ],
   "source": [
    "scalers, pca, reduced_data = {}, {}, {}\n",
    "for column in chosen_columns:\n",
    "    print(column)\n",
    "    scalers[column], pca[column], reduced_data[column] = scale_data(tables[column])"
   ]
  },
  {
   "cell_type": "code",
   "execution_count": 316,
   "metadata": {
    "execution": {
     "iopub.execute_input": "2022-07-20T21:12:05.339183Z",
     "iopub.status.busy": "2022-07-20T21:12:05.338862Z",
     "iopub.status.idle": "2022-07-20T21:12:05.357268Z",
     "shell.execute_reply": "2022-07-20T21:12:05.356534Z",
     "shell.execute_reply.started": "2022-07-20T21:12:05.339143Z"
    },
    "tags": []
   },
   "outputs": [],
   "source": [
    "covariates = concatenate([TimeSeries.from_values(reduced_data[i]) for i in chosen_columns if i != 'p'], axis=1)"
   ]
  },
  {
   "cell_type": "code",
   "execution_count": 317,
   "metadata": {
    "execution": {
     "iopub.execute_input": "2022-07-20T21:12:05.360239Z",
     "iopub.status.busy": "2022-07-20T21:12:05.359801Z",
     "iopub.status.idle": "2022-07-20T21:12:05.431794Z",
     "shell.execute_reply": "2022-07-20T21:12:05.430284Z",
     "shell.execute_reply.started": "2022-07-20T21:12:05.360173Z"
    },
    "tags": []
   },
   "outputs": [
    {
     "data": {
      "text/html": [
       "<div><svg style=\"position: absolute; width: 0; height: 0; overflow: hidden\">\n",
       "<defs>\n",
       "<symbol id=\"icon-database\" viewBox=\"0 0 32 32\">\n",
       "<path d=\"M16 0c-8.837 0-16 2.239-16 5v4c0 2.761 7.163 5 16 5s16-2.239 16-5v-4c0-2.761-7.163-5-16-5z\"></path>\n",
       "<path d=\"M16 17c-8.837 0-16-2.239-16-5v6c0 2.761 7.163 5 16 5s16-2.239 16-5v-6c0 2.761-7.163 5-16 5z\"></path>\n",
       "<path d=\"M16 26c-8.837 0-16-2.239-16-5v6c0 2.761 7.163 5 16 5s16-2.239 16-5v-6c0 2.761-7.163 5-16 5z\"></path>\n",
       "</symbol>\n",
       "<symbol id=\"icon-file-text2\" viewBox=\"0 0 32 32\">\n",
       "<path d=\"M28.681 7.159c-0.694-0.947-1.662-2.053-2.724-3.116s-2.169-2.030-3.116-2.724c-1.612-1.182-2.393-1.319-2.841-1.319h-15.5c-1.378 0-2.5 1.121-2.5 2.5v27c0 1.378 1.122 2.5 2.5 2.5h23c1.378 0 2.5-1.122 2.5-2.5v-19.5c0-0.448-0.137-1.23-1.319-2.841zM24.543 5.457c0.959 0.959 1.712 1.825 2.268 2.543h-4.811v-4.811c0.718 0.556 1.584 1.309 2.543 2.268zM28 29.5c0 0.271-0.229 0.5-0.5 0.5h-23c-0.271 0-0.5-0.229-0.5-0.5v-27c0-0.271 0.229-0.5 0.5-0.5 0 0 15.499-0 15.5 0v7c0 0.552 0.448 1 1 1h7v19.5z\"></path>\n",
       "<path d=\"M23 26h-14c-0.552 0-1-0.448-1-1s0.448-1 1-1h14c0.552 0 1 0.448 1 1s-0.448 1-1 1z\"></path>\n",
       "<path d=\"M23 22h-14c-0.552 0-1-0.448-1-1s0.448-1 1-1h14c0.552 0 1 0.448 1 1s-0.448 1-1 1z\"></path>\n",
       "<path d=\"M23 18h-14c-0.552 0-1-0.448-1-1s0.448-1 1-1h14c0.552 0 1 0.448 1 1s-0.448 1-1 1z\"></path>\n",
       "</symbol>\n",
       "</defs>\n",
       "</svg>\n",
       "<style>/* CSS stylesheet for displaying xarray objects in jupyterlab.\n",
       " *\n",
       " */\n",
       "\n",
       ":root {\n",
       "  --xr-font-color0: var(--jp-content-font-color0, rgba(0, 0, 0, 1));\n",
       "  --xr-font-color2: var(--jp-content-font-color2, rgba(0, 0, 0, 0.54));\n",
       "  --xr-font-color3: var(--jp-content-font-color3, rgba(0, 0, 0, 0.38));\n",
       "  --xr-border-color: var(--jp-border-color2, #e0e0e0);\n",
       "  --xr-disabled-color: var(--jp-layout-color3, #bdbdbd);\n",
       "  --xr-background-color: var(--jp-layout-color0, white);\n",
       "  --xr-background-color-row-even: var(--jp-layout-color1, white);\n",
       "  --xr-background-color-row-odd: var(--jp-layout-color2, #eeeeee);\n",
       "}\n",
       "\n",
       "html[theme=dark],\n",
       "body.vscode-dark {\n",
       "  --xr-font-color0: rgba(255, 255, 255, 1);\n",
       "  --xr-font-color2: rgba(255, 255, 255, 0.54);\n",
       "  --xr-font-color3: rgba(255, 255, 255, 0.38);\n",
       "  --xr-border-color: #1F1F1F;\n",
       "  --xr-disabled-color: #515151;\n",
       "  --xr-background-color: #111111;\n",
       "  --xr-background-color-row-even: #111111;\n",
       "  --xr-background-color-row-odd: #313131;\n",
       "}\n",
       "\n",
       ".xr-wrap {\n",
       "  display: block !important;\n",
       "  min-width: 300px;\n",
       "  max-width: 700px;\n",
       "}\n",
       "\n",
       ".xr-text-repr-fallback {\n",
       "  /* fallback to plain text repr when CSS is not injected (untrusted notebook) */\n",
       "  display: none;\n",
       "}\n",
       "\n",
       ".xr-header {\n",
       "  padding-top: 6px;\n",
       "  padding-bottom: 6px;\n",
       "  margin-bottom: 4px;\n",
       "  border-bottom: solid 1px var(--xr-border-color);\n",
       "}\n",
       "\n",
       ".xr-header > div,\n",
       ".xr-header > ul {\n",
       "  display: inline;\n",
       "  margin-top: 0;\n",
       "  margin-bottom: 0;\n",
       "}\n",
       "\n",
       ".xr-obj-type,\n",
       ".xr-array-name {\n",
       "  margin-left: 2px;\n",
       "  margin-right: 10px;\n",
       "}\n",
       "\n",
       ".xr-obj-type {\n",
       "  color: var(--xr-font-color2);\n",
       "}\n",
       "\n",
       ".xr-sections {\n",
       "  padding-left: 0 !important;\n",
       "  display: grid;\n",
       "  grid-template-columns: 150px auto auto 1fr 20px 20px;\n",
       "}\n",
       "\n",
       ".xr-section-item {\n",
       "  display: contents;\n",
       "}\n",
       "\n",
       ".xr-section-item input {\n",
       "  display: none;\n",
       "}\n",
       "\n",
       ".xr-section-item input + label {\n",
       "  color: var(--xr-disabled-color);\n",
       "}\n",
       "\n",
       ".xr-section-item input:enabled + label {\n",
       "  cursor: pointer;\n",
       "  color: var(--xr-font-color2);\n",
       "}\n",
       "\n",
       ".xr-section-item input:enabled + label:hover {\n",
       "  color: var(--xr-font-color0);\n",
       "}\n",
       "\n",
       ".xr-section-summary {\n",
       "  grid-column: 1;\n",
       "  color: var(--xr-font-color2);\n",
       "  font-weight: 500;\n",
       "}\n",
       "\n",
       ".xr-section-summary > span {\n",
       "  display: inline-block;\n",
       "  padding-left: 0.5em;\n",
       "}\n",
       "\n",
       ".xr-section-summary-in:disabled + label {\n",
       "  color: var(--xr-font-color2);\n",
       "}\n",
       "\n",
       ".xr-section-summary-in + label:before {\n",
       "  display: inline-block;\n",
       "  content: '►';\n",
       "  font-size: 11px;\n",
       "  width: 15px;\n",
       "  text-align: center;\n",
       "}\n",
       "\n",
       ".xr-section-summary-in:disabled + label:before {\n",
       "  color: var(--xr-disabled-color);\n",
       "}\n",
       "\n",
       ".xr-section-summary-in:checked + label:before {\n",
       "  content: '▼';\n",
       "}\n",
       "\n",
       ".xr-section-summary-in:checked + label > span {\n",
       "  display: none;\n",
       "}\n",
       "\n",
       ".xr-section-summary,\n",
       ".xr-section-inline-details {\n",
       "  padding-top: 4px;\n",
       "  padding-bottom: 4px;\n",
       "}\n",
       "\n",
       ".xr-section-inline-details {\n",
       "  grid-column: 2 / -1;\n",
       "}\n",
       "\n",
       ".xr-section-details {\n",
       "  display: none;\n",
       "  grid-column: 1 / -1;\n",
       "  margin-bottom: 5px;\n",
       "}\n",
       "\n",
       ".xr-section-summary-in:checked ~ .xr-section-details {\n",
       "  display: contents;\n",
       "}\n",
       "\n",
       ".xr-array-wrap {\n",
       "  grid-column: 1 / -1;\n",
       "  display: grid;\n",
       "  grid-template-columns: 20px auto;\n",
       "}\n",
       "\n",
       ".xr-array-wrap > label {\n",
       "  grid-column: 1;\n",
       "  vertical-align: top;\n",
       "}\n",
       "\n",
       ".xr-preview {\n",
       "  color: var(--xr-font-color3);\n",
       "}\n",
       "\n",
       ".xr-array-preview,\n",
       ".xr-array-data {\n",
       "  padding: 0 5px !important;\n",
       "  grid-column: 2;\n",
       "}\n",
       "\n",
       ".xr-array-data,\n",
       ".xr-array-in:checked ~ .xr-array-preview {\n",
       "  display: none;\n",
       "}\n",
       "\n",
       ".xr-array-in:checked ~ .xr-array-data,\n",
       ".xr-array-preview {\n",
       "  display: inline-block;\n",
       "}\n",
       "\n",
       ".xr-dim-list {\n",
       "  display: inline-block !important;\n",
       "  list-style: none;\n",
       "  padding: 0 !important;\n",
       "  margin: 0;\n",
       "}\n",
       "\n",
       ".xr-dim-list li {\n",
       "  display: inline-block;\n",
       "  padding: 0;\n",
       "  margin: 0;\n",
       "}\n",
       "\n",
       ".xr-dim-list:before {\n",
       "  content: '(';\n",
       "}\n",
       "\n",
       ".xr-dim-list:after {\n",
       "  content: ')';\n",
       "}\n",
       "\n",
       ".xr-dim-list li:not(:last-child):after {\n",
       "  content: ',';\n",
       "  padding-right: 5px;\n",
       "}\n",
       "\n",
       ".xr-has-index {\n",
       "  font-weight: bold;\n",
       "}\n",
       "\n",
       ".xr-var-list,\n",
       ".xr-var-item {\n",
       "  display: contents;\n",
       "}\n",
       "\n",
       ".xr-var-item > div,\n",
       ".xr-var-item label,\n",
       ".xr-var-item > .xr-var-name span {\n",
       "  background-color: var(--xr-background-color-row-even);\n",
       "  margin-bottom: 0;\n",
       "}\n",
       "\n",
       ".xr-var-item > .xr-var-name:hover span {\n",
       "  padding-right: 5px;\n",
       "}\n",
       "\n",
       ".xr-var-list > li:nth-child(odd) > div,\n",
       ".xr-var-list > li:nth-child(odd) > label,\n",
       ".xr-var-list > li:nth-child(odd) > .xr-var-name span {\n",
       "  background-color: var(--xr-background-color-row-odd);\n",
       "}\n",
       "\n",
       ".xr-var-name {\n",
       "  grid-column: 1;\n",
       "}\n",
       "\n",
       ".xr-var-dims {\n",
       "  grid-column: 2;\n",
       "}\n",
       "\n",
       ".xr-var-dtype {\n",
       "  grid-column: 3;\n",
       "  text-align: right;\n",
       "  color: var(--xr-font-color2);\n",
       "}\n",
       "\n",
       ".xr-var-preview {\n",
       "  grid-column: 4;\n",
       "}\n",
       "\n",
       ".xr-var-name,\n",
       ".xr-var-dims,\n",
       ".xr-var-dtype,\n",
       ".xr-preview,\n",
       ".xr-attrs dt {\n",
       "  white-space: nowrap;\n",
       "  overflow: hidden;\n",
       "  text-overflow: ellipsis;\n",
       "  padding-right: 10px;\n",
       "}\n",
       "\n",
       ".xr-var-name:hover,\n",
       ".xr-var-dims:hover,\n",
       ".xr-var-dtype:hover,\n",
       ".xr-attrs dt:hover {\n",
       "  overflow: visible;\n",
       "  width: auto;\n",
       "  z-index: 1;\n",
       "}\n",
       "\n",
       ".xr-var-attrs,\n",
       ".xr-var-data {\n",
       "  display: none;\n",
       "  background-color: var(--xr-background-color) !important;\n",
       "  padding-bottom: 5px !important;\n",
       "}\n",
       "\n",
       ".xr-var-attrs-in:checked ~ .xr-var-attrs,\n",
       ".xr-var-data-in:checked ~ .xr-var-data {\n",
       "  display: block;\n",
       "}\n",
       "\n",
       ".xr-var-data > table {\n",
       "  float: right;\n",
       "}\n",
       "\n",
       ".xr-var-name span,\n",
       ".xr-var-data,\n",
       ".xr-attrs {\n",
       "  padding-left: 25px !important;\n",
       "}\n",
       "\n",
       ".xr-attrs,\n",
       ".xr-var-attrs,\n",
       ".xr-var-data {\n",
       "  grid-column: 1 / -1;\n",
       "}\n",
       "\n",
       "dl.xr-attrs {\n",
       "  padding: 0;\n",
       "  margin: 0;\n",
       "  display: grid;\n",
       "  grid-template-columns: 125px auto;\n",
       "}\n",
       "\n",
       ".xr-attrs dt,\n",
       ".xr-attrs dd {\n",
       "  padding: 0;\n",
       "  margin: 0;\n",
       "  float: left;\n",
       "  padding-right: 10px;\n",
       "  width: auto;\n",
       "}\n",
       "\n",
       ".xr-attrs dt {\n",
       "  font-weight: normal;\n",
       "  grid-column: 1;\n",
       "}\n",
       "\n",
       ".xr-attrs dt:hover span {\n",
       "  display: inline-block;\n",
       "  background: var(--xr-background-color);\n",
       "  padding-right: 10px;\n",
       "}\n",
       "\n",
       ".xr-attrs dd {\n",
       "  grid-column: 2;\n",
       "  white-space: pre-wrap;\n",
       "  word-break: break-all;\n",
       "}\n",
       "\n",
       ".xr-icon-database,\n",
       ".xr-icon-file-text2 {\n",
       "  display: inline-block;\n",
       "  vertical-align: middle;\n",
       "  width: 1em;\n",
       "  height: 1.5em !important;\n",
       "  stroke-width: 0;\n",
       "  stroke: currentColor;\n",
       "  fill: currentColor;\n",
       "}\n",
       "</style><pre class='xr-text-repr-fallback'>&lt;TimeSeries (DataArray) (time: 999, component: 30, sample: 1)&gt;\n",
       "array([[[ 38.31082436],\n",
       "        [ -0.69680253],\n",
       "        [  2.50763051],\n",
       "        ...,\n",
       "        [  0.20379597],\n",
       "        [  0.13165077],\n",
       "        [  0.08842487]],\n",
       "\n",
       "       [[ 38.22232286],\n",
       "        [ -0.73700265],\n",
       "        [  2.38652702],\n",
       "        ...,\n",
       "        [  0.18182536],\n",
       "        [  0.10749742],\n",
       "        [  0.07819102]],\n",
       "\n",
       "       [[ 38.21944182],\n",
       "        [ -0.7735635 ],\n",
       "        [  2.290034  ],\n",
       "        ...,\n",
       "...\n",
       "        ...,\n",
       "        [  0.05047901],\n",
       "        [  0.19401441],\n",
       "        [  0.11250094]],\n",
       "\n",
       "       [[ -9.9715525 ],\n",
       "        [  3.21486897],\n",
       "        [ -0.85029977],\n",
       "        ...,\n",
       "        [  0.06121137],\n",
       "        [  0.21354836],\n",
       "        [  0.09332596]],\n",
       "\n",
       "       [[ -9.15407193],\n",
       "        [  3.22224332],\n",
       "        [ -0.84100151],\n",
       "        ...,\n",
       "        [  0.08128549],\n",
       "        [  0.2066152 ],\n",
       "        [  0.10477206]]])\n",
       "Coordinates:\n",
       "  * time       (time) int64 0 1 2 3 4 5 6 7 ... 991 992 993 994 995 996 997 998\n",
       "  * component  (component) object &#x27;0&#x27; &#x27;1&#x27; &#x27;2&#x27; &#x27;3&#x27; &#x27;4&#x27; ... &#x27;26&#x27; &#x27;27&#x27; &#x27;28&#x27; &#x27;29&#x27;\n",
       "Dimensions without coordinates: sample</pre><div class='xr-wrap' style='display:none'><div class='xr-header'><div class='xr-obj-type'>TimeSeries (DataArray)</div><div class='xr-array-name'></div><ul class='xr-dim-list'><li><span class='xr-has-index'>time</span>: 999</li><li><span class='xr-has-index'>component</span>: 30</li><li><span>sample</span>: 1</li></ul></div><ul class='xr-sections'><li class='xr-section-item'><div class='xr-array-wrap'><input id='section-c0e3ef89-ae97-423c-b6a7-e057735ca0d1' class='xr-array-in' type='checkbox' checked><label for='section-c0e3ef89-ae97-423c-b6a7-e057735ca0d1' title='Show/hide data repr'><svg class='icon xr-icon-database'><use xlink:href='#icon-database'></use></svg></label><div class='xr-array-preview xr-preview'><span>38.31 -0.6968 2.508 -1.2 -0.1937 ... -0.1479 0.08129 0.2066 0.1048</span></div><div class='xr-array-data'><pre>array([[[ 38.31082436],\n",
       "        [ -0.69680253],\n",
       "        [  2.50763051],\n",
       "        ...,\n",
       "        [  0.20379597],\n",
       "        [  0.13165077],\n",
       "        [  0.08842487]],\n",
       "\n",
       "       [[ 38.22232286],\n",
       "        [ -0.73700265],\n",
       "        [  2.38652702],\n",
       "        ...,\n",
       "        [  0.18182536],\n",
       "        [  0.10749742],\n",
       "        [  0.07819102]],\n",
       "\n",
       "       [[ 38.21944182],\n",
       "        [ -0.7735635 ],\n",
       "        [  2.290034  ],\n",
       "        ...,\n",
       "...\n",
       "        ...,\n",
       "        [  0.05047901],\n",
       "        [  0.19401441],\n",
       "        [  0.11250094]],\n",
       "\n",
       "       [[ -9.9715525 ],\n",
       "        [  3.21486897],\n",
       "        [ -0.85029977],\n",
       "        ...,\n",
       "        [  0.06121137],\n",
       "        [  0.21354836],\n",
       "        [  0.09332596]],\n",
       "\n",
       "       [[ -9.15407193],\n",
       "        [  3.22224332],\n",
       "        [ -0.84100151],\n",
       "        ...,\n",
       "        [  0.08128549],\n",
       "        [  0.2066152 ],\n",
       "        [  0.10477206]]])</pre></div></div></li><li class='xr-section-item'><input id='section-71831e05-5130-49f8-a64f-13007e48846f' class='xr-section-summary-in' type='checkbox'  checked><label for='section-71831e05-5130-49f8-a64f-13007e48846f' class='xr-section-summary' >Coordinates: <span>(2)</span></label><div class='xr-section-inline-details'></div><div class='xr-section-details'><ul class='xr-var-list'><li class='xr-var-item'><div class='xr-var-name'><span class='xr-has-index'>time</span></div><div class='xr-var-dims'>(time)</div><div class='xr-var-dtype'>int64</div><div class='xr-var-preview xr-preview'>0 1 2 3 4 5 ... 994 995 996 997 998</div><input id='attrs-185c53c1-03a1-493d-9156-3dfbab2d26a3' class='xr-var-attrs-in' type='checkbox' disabled><label for='attrs-185c53c1-03a1-493d-9156-3dfbab2d26a3' title='Show/Hide attributes'><svg class='icon xr-icon-file-text2'><use xlink:href='#icon-file-text2'></use></svg></label><input id='data-d60d6652-3b7e-4ce5-bd96-3807c65f2e6f' class='xr-var-data-in' type='checkbox'><label for='data-d60d6652-3b7e-4ce5-bd96-3807c65f2e6f' title='Show/Hide data repr'><svg class='icon xr-icon-database'><use xlink:href='#icon-database'></use></svg></label><div class='xr-var-attrs'><dl class='xr-attrs'></dl></div><div class='xr-var-data'><pre>array([  0,   1,   2, ..., 996, 997, 998])</pre></div></li><li class='xr-var-item'><div class='xr-var-name'><span class='xr-has-index'>component</span></div><div class='xr-var-dims'>(component)</div><div class='xr-var-dtype'>object</div><div class='xr-var-preview xr-preview'>&#x27;0&#x27; &#x27;1&#x27; &#x27;2&#x27; &#x27;3&#x27; ... &#x27;27&#x27; &#x27;28&#x27; &#x27;29&#x27;</div><input id='attrs-3c4c03b1-46b6-4831-b486-ce22b35d6f15' class='xr-var-attrs-in' type='checkbox' disabled><label for='attrs-3c4c03b1-46b6-4831-b486-ce22b35d6f15' title='Show/Hide attributes'><svg class='icon xr-icon-file-text2'><use xlink:href='#icon-file-text2'></use></svg></label><input id='data-0a66d7b4-28cc-4265-84f5-fdc15a1e5160' class='xr-var-data-in' type='checkbox'><label for='data-0a66d7b4-28cc-4265-84f5-fdc15a1e5160' title='Show/Hide data repr'><svg class='icon xr-icon-database'><use xlink:href='#icon-database'></use></svg></label><div class='xr-var-attrs'><dl class='xr-attrs'></dl></div><div class='xr-var-data'><pre>array([&#x27;0&#x27;, &#x27;1&#x27;, &#x27;2&#x27;, &#x27;3&#x27;, &#x27;4&#x27;, &#x27;5&#x27;, &#x27;6&#x27;, &#x27;7&#x27;, &#x27;8&#x27;, &#x27;9&#x27;, &#x27;10&#x27;, &#x27;11&#x27;, &#x27;12&#x27;,\n",
       "       &#x27;13&#x27;, &#x27;14&#x27;, &#x27;15&#x27;, &#x27;16&#x27;, &#x27;17&#x27;, &#x27;18&#x27;, &#x27;19&#x27;, &#x27;20&#x27;, &#x27;21&#x27;, &#x27;22&#x27;, &#x27;23&#x27;, &#x27;24&#x27;,\n",
       "       &#x27;25&#x27;, &#x27;26&#x27;, &#x27;27&#x27;, &#x27;28&#x27;, &#x27;29&#x27;], dtype=object)</pre></div></li></ul></div></li><li class='xr-section-item'><input id='section-ff96b27e-bc85-4e7d-9b08-1da7d4a60082' class='xr-section-summary-in' type='checkbox' disabled ><label for='section-ff96b27e-bc85-4e7d-9b08-1da7d4a60082' class='xr-section-summary'  title='Expand/collapse section'>Attributes: <span>(0)</span></label><div class='xr-section-inline-details'></div><div class='xr-section-details'><dl class='xr-attrs'></dl></div></li></ul></div></div>"
      ],
      "text/plain": [
       "<TimeSeries (DataArray) (time: 999, component: 30, sample: 1)>\n",
       "array([[[ 38.31082436],\n",
       "        [ -0.69680253],\n",
       "        [  2.50763051],\n",
       "        ...,\n",
       "        [  0.20379597],\n",
       "        [  0.13165077],\n",
       "        [  0.08842487]],\n",
       "\n",
       "       [[ 38.22232286],\n",
       "        [ -0.73700265],\n",
       "        [  2.38652702],\n",
       "        ...,\n",
       "        [  0.18182536],\n",
       "        [  0.10749742],\n",
       "        [  0.07819102]],\n",
       "\n",
       "       [[ 38.21944182],\n",
       "        [ -0.7735635 ],\n",
       "        [  2.290034  ],\n",
       "        ...,\n",
       "...\n",
       "        ...,\n",
       "        [  0.05047901],\n",
       "        [  0.19401441],\n",
       "        [  0.11250094]],\n",
       "\n",
       "       [[ -9.9715525 ],\n",
       "        [  3.21486897],\n",
       "        [ -0.85029977],\n",
       "        ...,\n",
       "        [  0.06121137],\n",
       "        [  0.21354836],\n",
       "        [  0.09332596]],\n",
       "\n",
       "       [[ -9.15407193],\n",
       "        [  3.22224332],\n",
       "        [ -0.84100151],\n",
       "        ...,\n",
       "        [  0.08128549],\n",
       "        [  0.2066152 ],\n",
       "        [  0.10477206]]])\n",
       "Coordinates:\n",
       "  * time       (time) int64 0 1 2 3 4 5 6 7 ... 991 992 993 994 995 996 997 998\n",
       "  * component  (component) object '0' '1' '2' '3' '4' ... '26' '27' '28' '29'\n",
       "Dimensions without coordinates: sample"
      ]
     },
     "execution_count": 317,
     "metadata": {},
     "output_type": "execute_result"
    }
   ],
   "source": [
    "covariates"
   ]
  },
  {
   "cell_type": "code",
   "execution_count": 318,
   "metadata": {
    "execution": {
     "iopub.execute_input": "2022-07-20T21:12:05.434153Z",
     "iopub.status.busy": "2022-07-20T21:12:05.433907Z",
     "iopub.status.idle": "2022-07-20T21:12:05.446932Z",
     "shell.execute_reply": "2022-07-20T21:12:05.445676Z",
     "shell.execute_reply.started": "2022-07-20T21:12:05.434120Z"
    },
    "tags": []
   },
   "outputs": [
    {
     "data": {
      "text/plain": [
       "{'p': array([[ 7.05087467e+01,  3.25756565e+01,  3.29124473e+00, ...,\n",
       "         -2.73595998e-02,  4.82466033e-04,  2.29776590e-02],\n",
       "        [-4.92021790e+00,  1.20525784e+00, -2.51563490e-01, ...,\n",
       "         -1.72003230e-02,  3.04828134e-02, -1.13718468e-02],\n",
       "        [-5.51934770e+00,  1.29975338e+00, -6.09916049e-02, ...,\n",
       "         -8.48961154e-03,  2.53526821e-02, -7.91592146e-03],\n",
       "        ...,\n",
       "        [-2.80885562e+00, -1.89357526e+00,  6.29774956e-02, ...,\n",
       "         -6.69853841e-03, -1.56633560e-02,  2.86545341e-03],\n",
       "        [-3.04781208e+00, -1.83396585e+00,  6.96741067e-02, ...,\n",
       "         -9.53160816e-04, -2.69996575e-02,  3.14924068e-03],\n",
       "        [-3.37260708e+00, -1.83736304e+00,  1.27849604e-01, ...,\n",
       "          4.08231896e-03, -3.50938567e-02, -1.94561224e-03]]),\n",
       " 'U:2': array([[ 38.31082436,  -0.69680253,   2.50763051, ...,   0.20379597,\n",
       "           0.13165077,   0.08842487],\n",
       "        [ 38.22232286,  -0.73700265,   2.38652702, ...,   0.18182536,\n",
       "           0.10749742,   0.07819102],\n",
       "        [ 38.21944182,  -0.7735635 ,   2.290034  , ...,   0.16636529,\n",
       "           0.08383513,   0.06504118],\n",
       "        ...,\n",
       "        [-10.79568578,   3.18640073,  -0.8500058 , ...,   0.05047901,\n",
       "           0.19401441,   0.11250094],\n",
       "        [ -9.9715525 ,   3.21486897,  -0.85029977, ...,   0.06121137,\n",
       "           0.21354836,   0.09332596],\n",
       "        [ -9.15407193,   3.22224332,  -0.84100151, ...,   0.08128549,\n",
       "           0.2066152 ,   0.10477206]])}"
      ]
     },
     "execution_count": 318,
     "metadata": {},
     "output_type": "execute_result"
    }
   ],
   "source": [
    "reduced_data"
   ]
  },
  {
   "cell_type": "code",
   "execution_count": 319,
   "metadata": {
    "execution": {
     "iopub.execute_input": "2022-07-20T21:12:05.448430Z",
     "iopub.status.busy": "2022-07-20T21:12:05.448171Z",
     "iopub.status.idle": "2022-07-20T21:12:05.470267Z",
     "shell.execute_reply": "2022-07-20T21:12:05.469474Z",
     "shell.execute_reply.started": "2022-07-20T21:12:05.448392Z"
    },
    "tags": []
   },
   "outputs": [],
   "source": [
    "time_series_list = {}\n",
    "for c in chosen_columns:\n",
    "    time_series_list[c] = TimeSeries.from_values(reduced_data[c])"
   ]
  },
  {
   "cell_type": "code",
   "execution_count": 320,
   "metadata": {
    "colab": {
     "base_uri": "https://localhost:8080/"
    },
    "execution": {
     "iopub.execute_input": "2022-07-20T21:12:05.471473Z",
     "iopub.status.busy": "2022-07-20T21:12:05.471292Z",
     "iopub.status.idle": "2022-07-20T22:39:00.819660Z",
     "shell.execute_reply": "2022-07-20T22:39:00.814628Z",
     "shell.execute_reply.started": "2022-07-20T21:12:05.471449Z"
    },
    "id": "x1cvWHXrtp6m",
    "outputId": "53396837-e100-4574-de52-17e7bda9bbf8",
    "tags": []
   },
   "outputs": [
    {
     "data": {
      "application/vnd.jupyter.widget-view+json": {
       "model_id": "71bf70a6e2f946f6a8a31cc5109c9b98",
       "version_major": 2,
       "version_minor": 0
      },
      "text/plain": [
       "  0%|          | 0/81 [00:00<?, ?it/s]"
      ]
     },
     "metadata": {},
     "output_type": "display_data"
    },
    {
     "name": "stderr",
     "output_type": "stream",
     "text": [
      "[2022-07-20 23:39:00,561] INFO | darts.models.forecasting.forecasting_model | Chosen parameters: {'hidden_continuous_size': 4, 'lstm_layers': 4, 'dropout': 0.1, 'input_chunk_length': 99, 'output_chunk_length': 99, 'batch_size': 16, 'n_epochs': 24, 'num_attention_heads': 15, 'add_relative_index': True}\n",
      "[2022-07-20 23:39:00,561] INFO | darts.models.forecasting.forecasting_model | Chosen parameters: {'hidden_continuous_size': 4, 'lstm_layers': 4, 'dropout': 0.1, 'input_chunk_length': 99, 'output_chunk_length': 99, 'batch_size': 16, 'n_epochs': 24, 'num_attention_heads': 15, 'add_relative_index': True}\n",
      "2022-07-20 23:39:00 darts.models.forecasting.forecasting_model INFO: Chosen parameters: {'hidden_continuous_size': 4, 'lstm_layers': 4, 'dropout': 0.1, 'input_chunk_length': 99, 'output_chunk_length': 99, 'batch_size': 16, 'n_epochs': 24, 'num_attention_heads': 15, 'add_relative_index': True}\n"
     ]
    }
   ],
   "source": [
    "INPUT_STEP = VAL   # use TEST| steps as input ....\n",
    "OUTPUT_STEP = VAL  # to predict |TEST| steps as output\n",
    "\n",
    "parameters = {\n",
    "    \"hidden_continuous_size\": [2, 4, 8],\n",
    "    \"lstm_layers\": [1, 2, 4],\n",
    "    \"dropout\": [0.1, 0.3, 0.5],    \n",
    "    \"input_chunk_length\": [INPUT_STEP],\n",
    "    \"output_chunk_length\": [OUTPUT_STEP],\n",
    "    \"batch_size\": [16],\n",
    "    \"n_epochs\": [24],\n",
    "    \"num_attention_heads\": [5, 6, 15],   # divisible by N_COMPONENTS (number of basis)\n",
    "    \"hidden_continuous_size\": [4, 8, 16],\n",
    "    \"add_relative_index\": [True]\n",
    "}\n",
    "\n",
    "best_model, _, _ = TFTModel.gridsearch(\n",
    "    parameters = parameters,\n",
    "    series = time_series_list['p'][:TRAIN],\n",
    "    val_series = time_series_list['p'][TRAIN:TRAIN+VAL],\n",
    "    past_covariates = covariates[:TRAIN],\n",
    "    metric = rmse,\n",
    "    n_jobs=16,\n",
    "    verbose=True)\n"
   ]
  },
  {
   "cell_type": "code",
   "execution_count": 321,
   "metadata": {
    "execution": {
     "iopub.execute_input": "2022-07-20T22:39:00.830364Z",
     "iopub.status.busy": "2022-07-20T22:39:00.830046Z",
     "iopub.status.idle": "2022-07-20T22:39:00.861615Z",
     "shell.execute_reply": "2022-07-20T22:39:00.859953Z",
     "shell.execute_reply.started": "2022-07-20T22:39:00.830327Z"
    },
    "tags": []
   },
   "outputs": [],
   "source": [
    "def inverse_result(timeseries: darts.TimeSeries, key):\n",
    "    full_timeseries_np_array = pca[key].inverse_transform(timeseries.values())\n",
    "    full_timeseries_np_array = scalers[key].inverse_transform(full_timeseries_np_array)\n",
    "    return full_timeseries_np_array"
   ]
  },
  {
   "cell_type": "code",
   "execution_count": 322,
   "metadata": {
    "execution": {
     "iopub.execute_input": "2022-07-20T22:39:00.865127Z",
     "iopub.status.busy": "2022-07-20T22:39:00.864060Z",
     "iopub.status.idle": "2022-07-20T22:39:00.969414Z",
     "shell.execute_reply": "2022-07-20T22:39:00.967529Z",
     "shell.execute_reply.started": "2022-07-20T22:39:00.865090Z"
    },
    "tags": []
   },
   "outputs": [],
   "source": [
    "def plot_pred(groundtruth, prediction):\n",
    "    plt.plot(range(groundtruth.shape[0]), groundtruth.mean(1))\n",
    "    plt.plot(range(groundtruth.shape[0]), prediction.mean(1), alpha=0.5)\n",
    "    plt.legend([\"groundtruth\", \"prediction\"])"
   ]
  },
  {
   "cell_type": "markdown",
   "metadata": {},
   "source": [
    "## Train on train, valid on val"
   ]
  },
  {
   "cell_type": "code",
   "execution_count": 323,
   "metadata": {
    "colab": {
     "base_uri": "https://localhost:8080/"
    },
    "execution": {
     "iopub.execute_input": "2022-07-20T22:39:00.977890Z",
     "iopub.status.busy": "2022-07-20T22:39:00.977383Z",
     "iopub.status.idle": "2022-07-20T22:39:00.988086Z",
     "shell.execute_reply": "2022-07-20T22:39:00.986735Z",
     "shell.execute_reply.started": "2022-07-20T22:39:00.977828Z"
    },
    "id": "4Pa0on_AGCpU",
    "outputId": "69b15486-b88d-4532-f67f-eee4eb0d0043",
    "tags": []
   },
   "outputs": [],
   "source": [
    "best_params = best_model.model_params\n",
    "OUTPUT_STEP = TEST\n",
    "INPUT_STEP = TRAIN+VAL-TEST # maximum inplut length so that the test set can be predict in one step\n",
    "\n",
    "best_params['input_chunk_length'] = INPUT_STEP\n",
    "best_params['output_chunk_length'] = OUTPUT_STEP"
   ]
  },
  {
   "cell_type": "code",
   "execution_count": 324,
   "metadata": {
    "execution": {
     "iopub.execute_input": "2022-07-20T22:39:00.991914Z",
     "iopub.status.busy": "2022-07-20T22:39:00.989959Z",
     "iopub.status.idle": "2022-07-20T22:39:01.027115Z",
     "shell.execute_reply": "2022-07-20T22:39:01.025695Z",
     "shell.execute_reply.started": "2022-07-20T22:39:00.991859Z"
    },
    "tags": []
   },
   "outputs": [
    {
     "data": {
      "text/plain": [
       "OrderedDict([('hidden_size', 16),\n",
       "             ('lstm_layers', 4),\n",
       "             ('num_attention_heads', 15),\n",
       "             ('full_attention', False),\n",
       "             ('dropout', 0.1),\n",
       "             ('hidden_continuous_size', 4),\n",
       "             ('add_relative_index', True),\n",
       "             ('loss_fn', None),\n",
       "             ('likelihood', None),\n",
       "             ('input_chunk_length', 197),\n",
       "             ('output_chunk_length', 401),\n",
       "             ('batch_size', 16),\n",
       "             ('n_epochs', 24)])"
      ]
     },
     "execution_count": 324,
     "metadata": {},
     "output_type": "execute_result"
    }
   ],
   "source": [
    "best_params"
   ]
  },
  {
   "cell_type": "code",
   "execution_count": 325,
   "metadata": {
    "execution": {
     "iopub.execute_input": "2022-07-20T22:39:01.032494Z",
     "iopub.status.busy": "2022-07-20T22:39:01.032009Z",
     "iopub.status.idle": "2022-07-20T22:39:01.088797Z",
     "shell.execute_reply": "2022-07-20T22:39:01.087890Z",
     "shell.execute_reply.started": "2022-07-20T22:39:01.032451Z"
    },
    "tags": []
   },
   "outputs": [],
   "source": [
    "best_model = TFTModel(**best_params)  # reset the model to retrain"
   ]
  },
  {
   "cell_type": "code",
   "execution_count": 326,
   "metadata": {
    "execution": {
     "iopub.execute_input": "2022-07-20T22:39:01.091215Z",
     "iopub.status.busy": "2022-07-20T22:39:01.090867Z",
     "iopub.status.idle": "2022-07-20T22:39:15.490309Z",
     "shell.execute_reply": "2022-07-20T22:39:15.489648Z",
     "shell.execute_reply.started": "2022-07-20T22:39:01.091180Z"
    },
    "tags": []
   },
   "outputs": [
    {
     "name": "stderr",
     "output_type": "stream",
     "text": [
      "[2022-07-20 23:39:01,135] INFO | darts.models.forecasting.torch_forecasting_model | Train dataset contains 1 samples.\n",
      "[2022-07-20 23:39:01,135] INFO | darts.models.forecasting.torch_forecasting_model | Train dataset contains 1 samples.\n",
      "2022-07-20 23:39:01 darts.models.forecasting.torch_forecasting_model INFO: Train dataset contains 1 samples.\n",
      "[2022-07-20 23:39:01,548] INFO | darts.models.forecasting.torch_forecasting_model | Time series values are 64-bits; casting model to float64.\n",
      "[2022-07-20 23:39:01,548] INFO | darts.models.forecasting.torch_forecasting_model | Time series values are 64-bits; casting model to float64.\n",
      "2022-07-20 23:39:01 darts.models.forecasting.torch_forecasting_model INFO: Time series values are 64-bits; casting model to float64.\n",
      "2022-07-20 23:39:01 pytorch_lightning.utilities.distributed INFO: GPU available: False, used: False\n",
      "2022-07-20 23:39:01 pytorch_lightning.utilities.distributed INFO: TPU available: False, using: 0 TPU cores\n",
      "2022-07-20 23:39:01 pytorch_lightning.utilities.distributed INFO: IPU available: False, using: 0 IPUs\n",
      "2022-07-20 23:39:01 pytorch_lightning.callbacks.model_summary INFO: \n",
      "   | Name                              | Type                             | Params\n",
      "----------------------------------------------------------------------------------------\n",
      "0  | static_covariates_vsn             | _VariableSelectionNetwork        | 0     \n",
      "1  | encoder_vsn                       | _VariableSelectionNetwork        | 24.4 K\n",
      "2  | decoder_vsn                       | _VariableSelectionNetwork        | 288   \n",
      "3  | static_context_grn                | _GatedResidualNetwork            | 1.1 K \n",
      "4  | static_context_hidden_encoder_grn | _GatedResidualNetwork            | 1.1 K \n",
      "5  | static_context_cell_encoder_grn   | _GatedResidualNetwork            | 1.1 K \n",
      "6  | static_context_enrichment         | _GatedResidualNetwork            | 1.1 K \n",
      "7  | lstm_encoder                      | LSTM                             | 8.7 K \n",
      "8  | lstm_decoder                      | LSTM                             | 8.7 K \n",
      "9  | post_lstm_gan                     | _GateAddNorm                     | 576   \n",
      "10 | static_enrichment_grn             | _GatedResidualNetwork            | 1.4 K \n",
      "11 | multihead_attn                    | _InterpretableMultiHeadAttention | 543   \n",
      "12 | post_attn_gan                     | _GateAddNorm                     | 576   \n",
      "13 | positionwise_feedforward_grn      | _GatedResidualNetwork            | 1.1 K \n",
      "14 | pre_output_gan                    | _GateAddNorm                     | 576   \n",
      "15 | output_layer                      | Linear                           | 8.7 K \n",
      "----------------------------------------------------------------------------------------\n",
      "60.0 K    Trainable params\n",
      "0         Non-trainable params\n",
      "60.0 K    Total params\n",
      "0.480     Total estimated model params size (MB)\n"
     ]
    },
    {
     "data": {
      "application/vnd.jupyter.widget-view+json": {
       "model_id": "2e6efd81b6b24062bf29abe3b997394e",
       "version_major": 2,
       "version_minor": 0
      },
      "text/plain": [
       "Training: 0it [00:00, ?it/s]"
      ]
     },
     "metadata": {},
     "output_type": "display_data"
    },
    {
     "data": {
      "text/plain": [
       "<darts.models.forecasting.tft_model.TFTModel at 0x7fc18218bfd0>"
      ]
     },
     "execution_count": 326,
     "metadata": {},
     "output_type": "execute_result"
    }
   ],
   "source": [
    "best_model.fit(time_series_list['p'][:TRAIN+VAL], past_covariates=covariates[:TRAIN+VAL])"
   ]
  },
  {
   "cell_type": "code",
   "execution_count": 327,
   "metadata": {
    "execution": {
     "iopub.execute_input": "2022-07-20T22:39:15.495886Z",
     "iopub.status.busy": "2022-07-20T22:39:15.495643Z",
     "iopub.status.idle": "2022-07-20T22:39:15.911112Z",
     "shell.execute_reply": "2022-07-20T22:39:15.910370Z",
     "shell.execute_reply.started": "2022-07-20T22:39:15.495861Z"
    },
    "tags": []
   },
   "outputs": [
    {
     "data": {
      "application/vnd.jupyter.widget-view+json": {
       "model_id": "deacb069b121465fae6710d8ccc3f3ed",
       "version_major": 2,
       "version_minor": 0
      },
      "text/plain": [
       "Predicting: 1it [00:00, ?it/s]"
      ]
     },
     "metadata": {},
     "output_type": "display_data"
    }
   ],
   "source": [
    "prediction = best_model.predict(n=TEST, past_covariates=covariates[:TRAIN+VAL])\n",
    "reconstructed_p = inverse_result(prediction, 'p')"
   ]
  },
  {
   "cell_type": "code",
   "execution_count": 328,
   "metadata": {
    "execution": {
     "iopub.execute_input": "2022-07-20T22:39:15.912495Z",
     "iopub.status.busy": "2022-07-20T22:39:15.912277Z",
     "iopub.status.idle": "2022-07-20T22:39:16.055970Z",
     "shell.execute_reply": "2022-07-20T22:39:16.054947Z",
     "shell.execute_reply.started": "2022-07-20T22:39:15.912468Z"
    },
    "tags": []
   },
   "outputs": [
    {
     "data": {
      "text/plain": [
       "58.89088008417089"
      ]
     },
     "execution_count": 328,
     "metadata": {},
     "output_type": "execute_result"
    }
   ],
   "source": [
    "mse(reconstructed_p, tables['p'][TRAIN+VAL:], squared=False)"
   ]
  },
  {
   "cell_type": "code",
   "execution_count": 329,
   "metadata": {
    "colab": {
     "base_uri": "https://localhost:8080/",
     "height": 66,
     "referenced_widgets": [
      "30207725ca604581b32809e94cfcd705",
      "1682a0701c5d4991b7d250f0105400cf",
      "d8d5c6df6e8e48e6b24d7bbd7c31ac4e",
      "b400c77af5ea4d119dbaa6c21dbd92b3",
      "e08c4af79e2943519fdad3a95c987f4d",
      "9d7850b4cf134869ba84efd4a3f00365",
      "59418b6a4ddd4341bb2516263761a813",
      "0f22b436b6b04be69bb59eb7993b5021",
      "5d93c0c08de741fc8ac2b1f1ee9ed73e",
      "f0f0f9c0e44c40a0869c7e82b1177b5f",
      "5ba0ac7e429841719d5368522a34368f"
     ]
    },
    "execution": {
     "iopub.execute_input": "2022-07-20T22:39:16.058321Z",
     "iopub.status.busy": "2022-07-20T22:39:16.058096Z",
     "iopub.status.idle": "2022-07-20T22:39:16.639188Z",
     "shell.execute_reply": "2022-07-20T22:39:16.636123Z",
     "shell.execute_reply.started": "2022-07-20T22:39:16.058294Z"
    },
    "id": "6WxuK7S44c9d",
    "outputId": "e66d77b8-3af8-46de-b073-c9e7c149b7e2",
    "tags": []
   },
   "outputs": [
    {
     "data": {
      "image/png": "[encoded data removed]",
      "text/plain": [
       "<Figure size 2700x900 with 1 Axes>"
      ]
     },
     "metadata": {
      "needs_background": "light"
     },
     "output_type": "display_data"
    }
   ],
   "source": [
    "plot_pred(reconstructed_p, tables['p'][TRAIN+VAL:])"
   ]
  },
  {
   "cell_type": "code",
   "execution_count": 330,
   "metadata": {
    "execution": {
     "iopub.execute_input": "2022-07-20T22:39:16.642623Z",
     "iopub.status.busy": "2022-07-20T22:39:16.642132Z",
     "iopub.status.idle": "2022-07-20T22:39:16.648607Z",
     "shell.execute_reply": "2022-07-20T22:39:16.646886Z",
     "shell.execute_reply.started": "2022-07-20T22:39:16.642559Z"
    },
    "tags": []
   },
   "outputs": [
    {
     "data": {
      "text/plain": [
       "['p', 'U:2']"
      ]
     },
     "execution_count": 330,
     "metadata": {},
     "output_type": "execute_result"
    }
   ],
   "source": [
    "chosen_columns"
   ]
  },
  {
   "cell_type": "markdown",
   "metadata": {},
   "source": [
    "A table for input to choose\n",
    "\n",
    "| Feature | Test loss          |\n",
    "|---------|--------------------|\n",
    "| p       |  59.10807345879883 |\n",
    "| p, U:2  | 58.301315879803184 |\n",
    "| 'U:0', 'U:1', 'U:2',  'p'   |  59.19386363413517                 |\n",
    "| 'U:0', 'U:1', 'U:2',  'p', k     |    58.90435539223949                |\n",
    "| 'U:0', 'U:1', 'U:2',  'p', k, omega     |  58.852671427768875                  |\n",
    "| 'U:0', 'U:1', 'U:2',  'p', k, omega, nut     |     59.24103036511967               |"
   ]
  }
 ],
 "metadata": {
  "application/vnd.databricks.v1+notebook": {
   "dashboards": [],
   "language": "python",
   "notebookMetadata": {
    "pythonIndentUnit": 2
   },
   "notebookName": "he_tft",
   "notebookOrigID": 681847260201257,
   "widgets": {}
  },
  "colab": {
   "collapsed_sections": [],
   "name": "he_tft.ipynb",
   "provenance": []
  },
  "kernelspec": {
   "display_name": "Python 3",
   "language": "python",
   "name": "python3"
  },
  "language_info": {
   "codemirror_mode": {
    "name": "ipython",
    "version": 3
   },
   "file_extension": ".py",
   "mimetype": "text/x-python",
   "name": "python",
   "nbconvert_exporter": "python",
   "pygments_lexer": "ipython3",
   "version": "3.7.9"
  },
  "widgets": {
   "application/vnd.jupyter.widget-state+json": {
    "0f22b436b6b04be69bb59eb7993b5021": {
     "model_module": "@jupyter-widgets/base",
     "model_module_version": "1.2.0",
     "model_name": "LayoutModel",
     "state": {
      "_model_module": "@jupyter-widgets/base",
      "_model_module_version": "1.2.0",
      "_model_name": "LayoutModel",
      "_view_count": null,
      "_view_module": "@jupyter-widgets/base",
      "_view_module_version": "1.2.0",
      "_view_name": "LayoutView",
      "align_content": null,
      "align_items": null,
      "align_self": null,
      "border": null,
      "bottom": null,
      "display": null,
      "flex": "2",
      "flex_flow": null,
      "grid_area": null,
      "grid_auto_columns": null,
      "grid_auto_flow": null,
      "grid_auto_rows": null,
      "grid_column": null,
      "grid_gap": null,
      "grid_row": null,
      "grid_template_areas": null,
      "grid_template_columns": null,
      "grid_template_rows": null,
      "height": null,
      "justify_content": null,
      "justify_items": null,
      "left": null,
      "margin": null,
      "max_height": null,
      "max_width": null,
      "min_height": null,
      "min_width": null,
      "object_fit": null,
      "object_position": null,
      "order": null,
      "overflow": null,
      "overflow_x": null,
      "overflow_y": null,
      "padding": null,
      "right": null,
      "top": null,
      "visibility": null,
      "width": null
     }
    },
    "1682a0701c5d4991b7d250f0105400cf": {
     "model_module": "@jupyter-widgets/controls",
     "model_module_version": "1.5.0",
     "model_name": "HTMLModel",
     "state": {
      "_dom_classes": [],
      "_model_module": "@jupyter-widgets/controls",
      "_model_module_version": "1.5.0",
      "_model_name": "HTMLModel",
      "_view_count": null,
      "_view_module": "@jupyter-widgets/controls",
      "_view_module_version": "1.5.0",
      "_view_name": "HTMLView",
      "description": "",
      "description_tooltip": null,
      "layout": "IPY_MODEL_9d7850b4cf134869ba84efd4a3f00365",
      "placeholder": "​",
      "style": "IPY_MODEL_59418b6a4ddd4341bb2516263761a813",
      "value": "Predicting DataLoader 0: 100%"
     }
    },
    "30207725ca604581b32809e94cfcd705": {
     "model_module": "@jupyter-widgets/controls",
     "model_module_version": "1.5.0",
     "model_name": "HBoxModel",
     "state": {
      "_dom_classes": [],
      "_model_module": "@jupyter-widgets/controls",
      "_model_module_version": "1.5.0",
      "_model_name": "HBoxModel",
      "_view_count": null,
      "_view_module": "@jupyter-widgets/controls",
      "_view_module_version": "1.5.0",
      "_view_name": "HBoxView",
      "box_style": "",
      "children": [
       "IPY_MODEL_1682a0701c5d4991b7d250f0105400cf",
       "IPY_MODEL_d8d5c6df6e8e48e6b24d7bbd7c31ac4e",
       "IPY_MODEL_b400c77af5ea4d119dbaa6c21dbd92b3"
      ],
      "layout": "IPY_MODEL_e08c4af79e2943519fdad3a95c987f4d"
     }
    },
    "38356f0c488c4af681a16d6b92ab3a39": {
     "model_module": "@jupyter-widgets/controls",
     "model_module_version": "1.5.0",
     "model_name": "ProgressStyleModel",
     "state": {
      "_model_module": "@jupyter-widgets/controls",
      "_model_module_version": "1.5.0",
      "_model_name": "ProgressStyleModel",
      "_view_count": null,
      "_view_module": "@jupyter-widgets/base",
      "_view_module_version": "1.2.0",
      "_view_name": "StyleView",
      "bar_color": null,
      "description_width": ""
     }
    },
    "59418b6a4ddd4341bb2516263761a813": {
     "model_module": "@jupyter-widgets/controls",
     "model_module_version": "1.5.0",
     "model_name": "DescriptionStyleModel",
     "state": {
      "_model_module": "@jupyter-widgets/controls",
      "_model_module_version": "1.5.0",
      "_model_name": "DescriptionStyleModel",
      "_view_count": null,
      "_view_module": "@jupyter-widgets/base",
      "_view_module_version": "1.2.0",
      "_view_name": "StyleView",
      "description_width": ""
     }
    },
    "5a5da93839a24aca97ae8b31fc178a51": {
     "model_module": "@jupyter-widgets/controls",
     "model_module_version": "1.5.0",
     "model_name": "HTMLModel",
     "state": {
      "_dom_classes": [],
      "_model_module": "@jupyter-widgets/controls",
      "_model_module_version": "1.5.0",
      "_model_name": "HTMLModel",
      "_view_count": null,
      "_view_module": "@jupyter-widgets/controls",
      "_view_module_version": "1.5.0",
      "_view_name": "HTMLView",
      "description": "",
      "description_tooltip": null,
      "layout": "IPY_MODEL_d5afcb867ba14826b702facf9ea9b8cc",
      "placeholder": "​",
      "style": "IPY_MODEL_c659c038c6eb4dc09e4160fd32f9a72f",
      "value": "Epoch 3: 100%"
     }
    },
    "5ba0ac7e429841719d5368522a34368f": {
     "model_module": "@jupyter-widgets/controls",
     "model_module_version": "1.5.0",
     "model_name": "DescriptionStyleModel",
     "state": {
      "_model_module": "@jupyter-widgets/controls",
      "_model_module_version": "1.5.0",
      "_model_name": "DescriptionStyleModel",
      "_view_count": null,
      "_view_module": "@jupyter-widgets/base",
      "_view_module_version": "1.2.0",
      "_view_name": "StyleView",
      "description_width": ""
     }
    },
    "5d93c0c08de741fc8ac2b1f1ee9ed73e": {
     "model_module": "@jupyter-widgets/controls",
     "model_module_version": "1.5.0",
     "model_name": "ProgressStyleModel",
     "state": {
      "_model_module": "@jupyter-widgets/controls",
      "_model_module_version": "1.5.0",
      "_model_name": "ProgressStyleModel",
      "_view_count": null,
      "_view_module": "@jupyter-widgets/base",
      "_view_module_version": "1.2.0",
      "_view_name": "StyleView",
      "bar_color": null,
      "description_width": ""
     }
    },
    "783aa8f216c447acab03e53d28789883": {
     "model_module": "@jupyter-widgets/base",
     "model_module_version": "1.2.0",
     "model_name": "LayoutModel",
     "state": {
      "_model_module": "@jupyter-widgets/base",
      "_model_module_version": "1.2.0",
      "_model_name": "LayoutModel",
      "_view_count": null,
      "_view_module": "@jupyter-widgets/base",
      "_view_module_version": "1.2.0",
      "_view_name": "LayoutView",
      "align_content": null,
      "align_items": null,
      "align_self": null,
      "border": null,
      "bottom": null,
      "display": null,
      "flex": "2",
      "flex_flow": null,
      "grid_area": null,
      "grid_auto_columns": null,
      "grid_auto_flow": null,
      "grid_auto_rows": null,
      "grid_column": null,
      "grid_gap": null,
      "grid_row": null,
      "grid_template_areas": null,
      "grid_template_columns": null,
      "grid_template_rows": null,
      "height": null,
      "justify_content": null,
      "justify_items": null,
      "left": null,
      "margin": null,
      "max_height": null,
      "max_width": null,
      "min_height": null,
      "min_width": null,
      "object_fit": null,
      "object_position": null,
      "order": null,
      "overflow": null,
      "overflow_x": null,
      "overflow_y": null,
      "padding": null,
      "right": null,
      "top": null,
      "visibility": null,
      "width": null
     }
    },
    "8582fdf45ec041608a1aefc47ffbb02a": {
     "model_module": "@jupyter-widgets/base",
     "model_module_version": "1.2.0",
     "model_name": "LayoutModel",
     "state": {
      "_model_module": "@jupyter-widgets/base",
      "_model_module_version": "1.2.0",
      "_model_name": "LayoutModel",
      "_view_count": null,
      "_view_module": "@jupyter-widgets/base",
      "_view_module_version": "1.2.0",
      "_view_name": "LayoutView",
      "align_content": null,
      "align_items": null,
      "align_self": null,
      "border": null,
      "bottom": null,
      "display": null,
      "flex": null,
      "flex_flow": null,
      "grid_area": null,
      "grid_auto_columns": null,
      "grid_auto_flow": null,
      "grid_auto_rows": null,
      "grid_column": null,
      "grid_gap": null,
      "grid_row": null,
      "grid_template_areas": null,
      "grid_template_columns": null,
      "grid_template_rows": null,
      "height": null,
      "justify_content": null,
      "justify_items": null,
      "left": null,
      "margin": null,
      "max_height": null,
      "max_width": null,
      "min_height": null,
      "min_width": null,
      "object_fit": null,
      "object_position": null,
      "order": null,
      "overflow": null,
      "overflow_x": null,
      "overflow_y": null,
      "padding": null,
      "right": null,
      "top": null,
      "visibility": null,
      "width": null
     }
    },
    "9859ffd2b7b64f82854aede748f94821": {
     "model_module": "@jupyter-widgets/controls",
     "model_module_version": "1.5.0",
     "model_name": "HBoxModel",
     "state": {
      "_dom_classes": [],
      "_model_module": "@jupyter-widgets/controls",
      "_model_module_version": "1.5.0",
      "_model_name": "HBoxModel",
      "_view_count": null,
      "_view_module": "@jupyter-widgets/controls",
      "_view_module_version": "1.5.0",
      "_view_name": "HBoxView",
      "box_style": "",
      "children": [
       "IPY_MODEL_5a5da93839a24aca97ae8b31fc178a51",
       "IPY_MODEL_f329baa825404e9390f02e7117c3f2ab",
       "IPY_MODEL_b68896e3a9ad478a9cbaa5e78bf01001"
      ],
      "layout": "IPY_MODEL_bd640de46a78467a9ec585794e20fbe9"
     }
    },
    "9d7850b4cf134869ba84efd4a3f00365": {
     "model_module": "@jupyter-widgets/base",
     "model_module_version": "1.2.0",
     "model_name": "LayoutModel",
     "state": {
      "_model_module": "@jupyter-widgets/base",
      "_model_module_version": "1.2.0",
      "_model_name": "LayoutModel",
      "_view_count": null,
      "_view_module": "@jupyter-widgets/base",
      "_view_module_version": "1.2.0",
      "_view_name": "LayoutView",
      "align_content": null,
      "align_items": null,
      "align_self": null,
      "border": null,
      "bottom": null,
      "display": null,
      "flex": null,
      "flex_flow": null,
      "grid_area": null,
      "grid_auto_columns": null,
      "grid_auto_flow": null,
      "grid_auto_rows": null,
      "grid_column": null,
      "grid_gap": null,
      "grid_row": null,
      "grid_template_areas": null,
      "grid_template_columns": null,
      "grid_template_rows": null,
      "height": null,
      "justify_content": null,
      "justify_items": null,
      "left": null,
      "margin": null,
      "max_height": null,
      "max_width": null,
      "min_height": null,
      "min_width": null,
      "object_fit": null,
      "object_position": null,
      "order": null,
      "overflow": null,
      "overflow_x": null,
      "overflow_y": null,
      "padding": null,
      "right": null,
      "top": null,
      "visibility": null,
      "width": null
     }
    },
    "b400c77af5ea4d119dbaa6c21dbd92b3": {
     "model_module": "@jupyter-widgets/controls",
     "model_module_version": "1.5.0",
     "model_name": "HTMLModel",
     "state": {
      "_dom_classes": [],
      "_model_module": "@jupyter-widgets/controls",
      "_model_module_version": "1.5.0",
      "_model_name": "HTMLModel",
      "_view_count": null,
      "_view_module": "@jupyter-widgets/controls",
      "_view_module_version": "1.5.0",
      "_view_name": "HTMLView",
      "description": "",
      "description_tooltip": null,
      "layout": "IPY_MODEL_f0f0f9c0e44c40a0869c7e82b1177b5f",
      "placeholder": "​",
      "style": "IPY_MODEL_5ba0ac7e429841719d5368522a34368f",
      "value": " 1/1 [00:02&lt;00:00, -16.11it/s]"
     }
    },
    "b68896e3a9ad478a9cbaa5e78bf01001": {
     "model_module": "@jupyter-widgets/controls",
     "model_module_version": "1.5.0",
     "model_name": "HTMLModel",
     "state": {
      "_dom_classes": [],
      "_model_module": "@jupyter-widgets/controls",
      "_model_module_version": "1.5.0",
      "_model_name": "HTMLModel",
      "_view_count": null,
      "_view_module": "@jupyter-widgets/controls",
      "_view_module_version": "1.5.0",
      "_view_name": "HTMLView",
      "description": "",
      "description_tooltip": null,
      "layout": "IPY_MODEL_8582fdf45ec041608a1aefc47ffbb02a",
      "placeholder": "​",
      "style": "IPY_MODEL_be65359da7bd42629bc03d8f7058fff1",
      "value": " 37/37 [00:01&lt;00:00, 29.64it/s, loss=0.41, train_loss=0.313]"
     }
    },
    "bd640de46a78467a9ec585794e20fbe9": {
     "model_module": "@jupyter-widgets/base",
     "model_module_version": "1.2.0",
     "model_name": "LayoutModel",
     "state": {
      "_model_module": "@jupyter-widgets/base",
      "_model_module_version": "1.2.0",
      "_model_name": "LayoutModel",
      "_view_count": null,
      "_view_module": "@jupyter-widgets/base",
      "_view_module_version": "1.2.0",
      "_view_name": "LayoutView",
      "align_content": null,
      "align_items": null,
      "align_self": null,
      "border": null,
      "bottom": null,
      "display": "inline-flex",
      "flex": null,
      "flex_flow": "row wrap",
      "grid_area": null,
      "grid_auto_columns": null,
      "grid_auto_flow": null,
      "grid_auto_rows": null,
      "grid_column": null,
      "grid_gap": null,
      "grid_row": null,
      "grid_template_areas": null,
      "grid_template_columns": null,
      "grid_template_rows": null,
      "height": null,
      "justify_content": null,
      "justify_items": null,
      "left": null,
      "margin": null,
      "max_height": null,
      "max_width": null,
      "min_height": null,
      "min_width": null,
      "object_fit": null,
      "object_position": null,
      "order": null,
      "overflow": null,
      "overflow_x": null,
      "overflow_y": null,
      "padding": null,
      "right": null,
      "top": null,
      "visibility": null,
      "width": "100%"
     }
    },
    "be65359da7bd42629bc03d8f7058fff1": {
     "model_module": "@jupyter-widgets/controls",
     "model_module_version": "1.5.0",
     "model_name": "DescriptionStyleModel",
     "state": {
      "_model_module": "@jupyter-widgets/controls",
      "_model_module_version": "1.5.0",
      "_model_name": "DescriptionStyleModel",
      "_view_count": null,
      "_view_module": "@jupyter-widgets/base",
      "_view_module_version": "1.2.0",
      "_view_name": "StyleView",
      "description_width": ""
     }
    },
    "c659c038c6eb4dc09e4160fd32f9a72f": {
     "model_module": "@jupyter-widgets/controls",
     "model_module_version": "1.5.0",
     "model_name": "DescriptionStyleModel",
     "state": {
      "_model_module": "@jupyter-widgets/controls",
      "_model_module_version": "1.5.0",
      "_model_name": "DescriptionStyleModel",
      "_view_count": null,
      "_view_module": "@jupyter-widgets/base",
      "_view_module_version": "1.2.0",
      "_view_name": "StyleView",
      "description_width": ""
     }
    },
    "d5afcb867ba14826b702facf9ea9b8cc": {
     "model_module": "@jupyter-widgets/base",
     "model_module_version": "1.2.0",
     "model_name": "LayoutModel",
     "state": {
      "_model_module": "@jupyter-widgets/base",
      "_model_module_version": "1.2.0",
      "_model_name": "LayoutModel",
      "_view_count": null,
      "_view_module": "@jupyter-widgets/base",
      "_view_module_version": "1.2.0",
      "_view_name": "LayoutView",
      "align_content": null,
      "align_items": null,
      "align_self": null,
      "border": null,
      "bottom": null,
      "display": null,
      "flex": null,
      "flex_flow": null,
      "grid_area": null,
      "grid_auto_columns": null,
      "grid_auto_flow": null,
      "grid_auto_rows": null,
      "grid_column": null,
      "grid_gap": null,
      "grid_row": null,
      "grid_template_areas": null,
      "grid_template_columns": null,
      "grid_template_rows": null,
      "height": null,
      "justify_content": null,
      "justify_items": null,
      "left": null,
      "margin": null,
      "max_height": null,
      "max_width": null,
      "min_height": null,
      "min_width": null,
      "object_fit": null,
      "object_position": null,
      "order": null,
      "overflow": null,
      "overflow_x": null,
      "overflow_y": null,
      "padding": null,
      "right": null,
      "top": null,
      "visibility": null,
      "width": null
     }
    },
    "d8d5c6df6e8e48e6b24d7bbd7c31ac4e": {
     "model_module": "@jupyter-widgets/controls",
     "model_module_version": "1.5.0",
     "model_name": "FloatProgressModel",
     "state": {
      "_dom_classes": [],
      "_model_module": "@jupyter-widgets/controls",
      "_model_module_version": "1.5.0",
      "_model_name": "FloatProgressModel",
      "_view_count": null,
      "_view_module": "@jupyter-widgets/controls",
      "_view_module_version": "1.5.0",
      "_view_name": "ProgressView",
      "bar_style": "success",
      "description": "",
      "description_tooltip": null,
      "layout": "IPY_MODEL_0f22b436b6b04be69bb59eb7993b5021",
      "max": 1,
      "min": 0,
      "orientation": "horizontal",
      "style": "IPY_MODEL_5d93c0c08de741fc8ac2b1f1ee9ed73e",
      "value": 1
     }
    },
    "e08c4af79e2943519fdad3a95c987f4d": {
     "model_module": "@jupyter-widgets/base",
     "model_module_version": "1.2.0",
     "model_name": "LayoutModel",
     "state": {
      "_model_module": "@jupyter-widgets/base",
      "_model_module_version": "1.2.0",
      "_model_name": "LayoutModel",
      "_view_count": null,
      "_view_module": "@jupyter-widgets/base",
      "_view_module_version": "1.2.0",
      "_view_name": "LayoutView",
      "align_content": null,
      "align_items": null,
      "align_self": null,
      "border": null,
      "bottom": null,
      "display": "inline-flex",
      "flex": null,
      "flex_flow": "row wrap",
      "grid_area": null,
      "grid_auto_columns": null,
      "grid_auto_flow": null,
      "grid_auto_rows": null,
      "grid_column": null,
      "grid_gap": null,
      "grid_row": null,
      "grid_template_areas": null,
      "grid_template_columns": null,
      "grid_template_rows": null,
      "height": null,
      "justify_content": null,
      "justify_items": null,
      "left": null,
      "margin": null,
      "max_height": null,
      "max_width": null,
      "min_height": null,
      "min_width": null,
      "object_fit": null,
      "object_position": null,
      "order": null,
      "overflow": null,
      "overflow_x": null,
      "overflow_y": null,
      "padding": null,
      "right": null,
      "top": null,
      "visibility": null,
      "width": "100%"
     }
    },
    "f0f0f9c0e44c40a0869c7e82b1177b5f": {
     "model_module": "@jupyter-widgets/base",
     "model_module_version": "1.2.0",
     "model_name": "LayoutModel",
     "state": {
      "_model_module": "@jupyter-widgets/base",
      "_model_module_version": "1.2.0",
      "_model_name": "LayoutModel",
      "_view_count": null,
      "_view_module": "@jupyter-widgets/base",
      "_view_module_version": "1.2.0",
      "_view_name": "LayoutView",
      "align_content": null,
      "align_items": null,
      "align_self": null,
      "border": null,
      "bottom": null,
      "display": null,
      "flex": null,
      "flex_flow": null,
      "grid_area": null,
      "grid_auto_columns": null,
      "grid_auto_flow": null,
      "grid_auto_rows": null,
      "grid_column": null,
      "grid_gap": null,
      "grid_row": null,
      "grid_template_areas": null,
      "grid_template_columns": null,
      "grid_template_rows": null,
      "height": null,
      "justify_content": null,
      "justify_items": null,
      "left": null,
      "margin": null,
      "max_height": null,
      "max_width": null,
      "min_height": null,
      "min_width": null,
      "object_fit": null,
      "object_position": null,
      "order": null,
      "overflow": null,
      "overflow_x": null,
      "overflow_y": null,
      "padding": null,
      "right": null,
      "top": null,
      "visibility": null,
      "width": null
     }
    },
    "f329baa825404e9390f02e7117c3f2ab": {
     "model_module": "@jupyter-widgets/controls",
     "model_module_version": "1.5.0",
     "model_name": "FloatProgressModel",
     "state": {
      "_dom_classes": [],
      "_model_module": "@jupyter-widgets/controls",
      "_model_module_version": "1.5.0",
      "_model_name": "FloatProgressModel",
      "_view_count": null,
      "_view_module": "@jupyter-widgets/controls",
      "_view_module_version": "1.5.0",
      "_view_name": "ProgressView",
      "bar_style": "success",
      "description": "",
      "description_tooltip": null,
      "layout": "IPY_MODEL_783aa8f216c447acab03e53d28789883",
      "max": 37,
      "min": 0,
      "orientation": "horizontal",
      "style": "IPY_MODEL_38356f0c488c4af681a16d6b92ab3a39",
      "value": 37
     }
    }
   }
  }
 },
 "nbformat": 4,
 "nbformat_minor": 4
}
