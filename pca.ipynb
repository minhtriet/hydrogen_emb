{
 "cells": [
  {
   "cell_type": "code",
   "execution_count": 1,
   "id": "08a16d58-85e1-40bc-ae5e-bd735e10c6d4",
   "metadata": {
    "execution": {
     "iopub.execute_input": "2022-02-27T10:32:45.788165Z",
     "iopub.status.busy": "2022-02-27T10:32:45.787891Z",
     "iopub.status.idle": "2022-02-27T10:32:46.863648Z",
     "shell.execute_reply": "2022-02-27T10:32:46.862631Z",
     "shell.execute_reply.started": "2022-02-27T10:32:45.788088Z"
    },
    "tags": []
   },
   "outputs": [],
   "source": [
    "%matplotlib inline\n",
    "\n",
    "import pandas as pd\n",
    "from sklearn.decomposition import PCA\n",
    "from sklearn.metrics import mean_squared_error as mse\n",
    "\n",
    "from matplotlib import cm\n",
    "import matplotlib.pyplot as plt\n",
    "import numpy as np"
   ]
  },
  {
   "cell_type": "code",
   "execution_count": 2,
   "id": "6fb23918-5f12-4db7-922c-59c0f977c968",
   "metadata": {
    "execution": {
     "iopub.execute_input": "2022-02-27T10:32:46.866264Z",
     "iopub.status.busy": "2022-02-27T10:32:46.865828Z",
     "iopub.status.idle": "2022-02-27T10:32:46.869920Z",
     "shell.execute_reply": "2022-02-27T10:32:46.869032Z",
     "shell.execute_reply.started": "2022-02-27T10:32:46.866233Z"
    },
    "tags": []
   },
   "outputs": [],
   "source": [
    "from pathlib import PurePath"
   ]
  },
  {
   "cell_type": "code",
   "execution_count": 3,
   "id": "e4200c34-285a-41d7-8f52-0a5abc09bf7c",
   "metadata": {
    "execution": {
     "iopub.execute_input": "2022-02-27T10:32:46.871731Z",
     "iopub.status.busy": "2022-02-27T10:32:46.871335Z",
     "iopub.status.idle": "2022-02-27T10:32:47.341034Z",
     "shell.execute_reply": "2022-02-27T10:32:47.340099Z",
     "shell.execute_reply.started": "2022-02-27T10:32:46.871688Z"
    },
    "tags": []
   },
   "outputs": [],
   "source": [
    "import torch\n",
    "import torch.nn as nn\n",
    "import torch.optim as optim"
   ]
  },
  {
   "cell_type": "code",
   "execution_count": 4,
   "id": "c106c356-6072-4252-8a22-ce640070f0ad",
   "metadata": {
    "execution": {
     "iopub.execute_input": "2022-02-27T10:32:47.342454Z",
     "iopub.status.busy": "2022-02-27T10:32:47.342221Z",
     "iopub.status.idle": "2022-02-27T10:32:47.350325Z",
     "shell.execute_reply": "2022-02-27T10:32:47.349651Z",
     "shell.execute_reply.started": "2022-02-27T10:32:47.342431Z"
    },
    "tags": []
   },
   "outputs": [
    {
     "data": {
      "text/plain": [
       "<torch._C.Generator at 0x7fbcd0cc3cf0>"
      ]
     },
     "execution_count": 4,
     "metadata": {},
     "output_type": "execute_result"
    }
   ],
   "source": [
    "NUM_FRAMES = 9   # number of timestep\n",
    "NUM_COMPONENTS = 3\n",
    "INPUT_STEP = 3\n",
    "OUTPUT_STEP = 1\n",
    "\n",
    "torch.manual_seed(0)"
   ]
  },
  {
   "cell_type": "markdown",
   "id": "3c4d9873-2166-44f4-a351-04598731ae6d",
   "metadata": {},
   "source": [
    "Our simulation managed to create `NUM_FRAMES` in csv forms"
   ]
  },
  {
   "cell_type": "code",
   "execution_count": 5,
   "id": "eb5842c1-c44b-4d3e-9043-1cc02ac57a46",
   "metadata": {
    "execution": {
     "iopub.execute_input": "2022-02-27T10:32:47.351824Z",
     "iopub.status.busy": "2022-02-27T10:32:47.351545Z",
     "iopub.status.idle": "2022-02-27T10:32:49.756725Z",
     "shell.execute_reply": "2022-02-27T10:32:49.755530Z",
     "shell.execute_reply.started": "2022-02-27T10:32:47.351793Z"
    },
    "tags": []
   },
   "outputs": [],
   "source": [
    "data_path = [0]*NUM_FRAMES\n",
    "dfs = [0]*NUM_FRAMES\n",
    "for i in range(0,NUM_FRAMES):\n",
    "    data_path[i] = PurePath(\"data\", f\"data_{i}.csv\")\n",
    "    dfs[i]=pd.read_csv(str(data_path[i]))"
   ]
  },
  {
   "cell_type": "markdown",
   "id": "2d895eac-31a2-4d88-9c85-58f09a7a203f",
   "metadata": {},
   "source": [
    "For each frame, we have a DF that looks like bellow"
   ]
  },
  {
   "cell_type": "code",
   "execution_count": 6,
   "id": "9fbd1e92-7626-4f88-a334-e38526d7b56a",
   "metadata": {
    "execution": {
     "iopub.execute_input": "2022-02-27T10:32:49.758199Z",
     "iopub.status.busy": "2022-02-27T10:32:49.757825Z",
     "iopub.status.idle": "2022-02-27T10:32:49.777967Z",
     "shell.execute_reply": "2022-02-27T10:32:49.777281Z",
     "shell.execute_reply.started": "2022-02-27T10:32:49.758173Z"
    },
    "tags": []
   },
   "outputs": [
    {
     "data": {
      "text/html": [
       "<div>\n",
       "<style scoped>\n",
       "    .dataframe tbody tr th:only-of-type {\n",
       "        vertical-align: middle;\n",
       "    }\n",
       "\n",
       "    .dataframe tbody tr th {\n",
       "        vertical-align: top;\n",
       "    }\n",
       "\n",
       "    .dataframe thead th {\n",
       "        text-align: right;\n",
       "    }\n",
       "</style>\n",
       "<table border=\"1\" class=\"dataframe\">\n",
       "  <thead>\n",
       "    <tr style=\"text-align: right;\">\n",
       "      <th></th>\n",
       "      <th>Time</th>\n",
       "      <th>Points:0</th>\n",
       "      <th>Points:1</th>\n",
       "      <th>Points:2</th>\n",
       "      <th>U:0</th>\n",
       "      <th>U:1</th>\n",
       "      <th>U:2</th>\n",
       "      <th>k</th>\n",
       "      <th>nut</th>\n",
       "      <th>omega</th>\n",
       "      <th>p</th>\n",
       "    </tr>\n",
       "  </thead>\n",
       "  <tbody>\n",
       "    <tr>\n",
       "      <th>0</th>\n",
       "      <td>0.002</td>\n",
       "      <td>0.001548</td>\n",
       "      <td>-0.028337</td>\n",
       "      <td>0.216410</td>\n",
       "      <td>-0.059335</td>\n",
       "      <td>0.000652</td>\n",
       "      <td>14.887</td>\n",
       "      <td>2.080500</td>\n",
       "      <td>0.000021</td>\n",
       "      <td>88954.0000</td>\n",
       "      <td>1.13810</td>\n",
       "    </tr>\n",
       "    <tr>\n",
       "      <th>1</th>\n",
       "      <td>0.002</td>\n",
       "      <td>0.027196</td>\n",
       "      <td>-0.008778</td>\n",
       "      <td>0.151550</td>\n",
       "      <td>0.000000</td>\n",
       "      <td>0.000000</td>\n",
       "      <td>0.000</td>\n",
       "      <td>2.912600</td>\n",
       "      <td>0.000000</td>\n",
       "      <td>135740.0000</td>\n",
       "      <td>1.34340</td>\n",
       "    </tr>\n",
       "    <tr>\n",
       "      <th>2</th>\n",
       "      <td>0.002</td>\n",
       "      <td>-0.011953</td>\n",
       "      <td>-0.003984</td>\n",
       "      <td>0.190230</td>\n",
       "      <td>0.001542</td>\n",
       "      <td>-0.000173</td>\n",
       "      <td>20.182</td>\n",
       "      <td>0.003749</td>\n",
       "      <td>0.001111</td>\n",
       "      <td>3.3743</td>\n",
       "      <td>1.18980</td>\n",
       "    </tr>\n",
       "    <tr>\n",
       "      <th>3</th>\n",
       "      <td>0.002</td>\n",
       "      <td>-0.011953</td>\n",
       "      <td>0.000000</td>\n",
       "      <td>0.202190</td>\n",
       "      <td>0.002667</td>\n",
       "      <td>-0.000360</td>\n",
       "      <td>20.182</td>\n",
       "      <td>0.003750</td>\n",
       "      <td>0.001082</td>\n",
       "      <td>3.3745</td>\n",
       "      <td>1.14850</td>\n",
       "    </tr>\n",
       "    <tr>\n",
       "      <th>4</th>\n",
       "      <td>0.002</td>\n",
       "      <td>-0.011953</td>\n",
       "      <td>0.013945</td>\n",
       "      <td>0.010937</td>\n",
       "      <td>0.031155</td>\n",
       "      <td>-0.039295</td>\n",
       "      <td>20.069</td>\n",
       "      <td>0.003756</td>\n",
       "      <td>0.000076</td>\n",
       "      <td>3.4181</td>\n",
       "      <td>1.90970</td>\n",
       "    </tr>\n",
       "    <tr>\n",
       "      <th>...</th>\n",
       "      <td>...</td>\n",
       "      <td>...</td>\n",
       "      <td>...</td>\n",
       "      <td>...</td>\n",
       "      <td>...</td>\n",
       "      <td>...</td>\n",
       "      <td>...</td>\n",
       "      <td>...</td>\n",
       "      <td>...</td>\n",
       "      <td>...</td>\n",
       "      <td>...</td>\n",
       "    </tr>\n",
       "    <tr>\n",
       "      <th>272546</th>\n",
       "      <td>0.002</td>\n",
       "      <td>-0.013945</td>\n",
       "      <td>-0.007969</td>\n",
       "      <td>0.042813</td>\n",
       "      <td>0.007941</td>\n",
       "      <td>-0.003066</td>\n",
       "      <td>20.137</td>\n",
       "      <td>0.003767</td>\n",
       "      <td>0.000130</td>\n",
       "      <td>3.6325</td>\n",
       "      <td>1.70750</td>\n",
       "    </tr>\n",
       "    <tr>\n",
       "      <th>272547</th>\n",
       "      <td>0.002</td>\n",
       "      <td>-0.001992</td>\n",
       "      <td>-0.019922</td>\n",
       "      <td>0.172300</td>\n",
       "      <td>0.001229</td>\n",
       "      <td>-0.002522</td>\n",
       "      <td>20.176</td>\n",
       "      <td>0.003761</td>\n",
       "      <td>0.000280</td>\n",
       "      <td>3.4517</td>\n",
       "      <td>1.25660</td>\n",
       "    </tr>\n",
       "    <tr>\n",
       "      <th>272548</th>\n",
       "      <td>0.002</td>\n",
       "      <td>0.000896</td>\n",
       "      <td>0.027621</td>\n",
       "      <td>0.378840</td>\n",
       "      <td>-0.019208</td>\n",
       "      <td>-0.060298</td>\n",
       "      <td>20.168</td>\n",
       "      <td>0.089455</td>\n",
       "      <td>0.000021</td>\n",
       "      <td>4539.8000</td>\n",
       "      <td>0.53586</td>\n",
       "    </tr>\n",
       "    <tr>\n",
       "      <th>272549</th>\n",
       "      <td>0.002</td>\n",
       "      <td>0.021583</td>\n",
       "      <td>0.017966</td>\n",
       "      <td>0.459840</td>\n",
       "      <td>-0.007281</td>\n",
       "      <td>-0.004641</td>\n",
       "      <td>19.464</td>\n",
       "      <td>0.643610</td>\n",
       "      <td>0.000023</td>\n",
       "      <td>26273.0000</td>\n",
       "      <td>0.22404</td>\n",
       "    </tr>\n",
       "    <tr>\n",
       "      <th>272550</th>\n",
       "      <td>0.002</td>\n",
       "      <td>-0.015937</td>\n",
       "      <td>-0.009961</td>\n",
       "      <td>0.042813</td>\n",
       "      <td>0.018102</td>\n",
       "      <td>-0.000457</td>\n",
       "      <td>20.183</td>\n",
       "      <td>0.003769</td>\n",
       "      <td>0.000072</td>\n",
       "      <td>3.7395</td>\n",
       "      <td>1.70790</td>\n",
       "    </tr>\n",
       "  </tbody>\n",
       "</table>\n",
       "<p>272551 rows × 11 columns</p>\n",
       "</div>"
      ],
      "text/plain": [
       "         Time  Points:0  Points:1  Points:2       U:0       U:1     U:2  \\\n",
       "0       0.002  0.001548 -0.028337  0.216410 -0.059335  0.000652  14.887   \n",
       "1       0.002  0.027196 -0.008778  0.151550  0.000000  0.000000   0.000   \n",
       "2       0.002 -0.011953 -0.003984  0.190230  0.001542 -0.000173  20.182   \n",
       "3       0.002 -0.011953  0.000000  0.202190  0.002667 -0.000360  20.182   \n",
       "4       0.002 -0.011953  0.013945  0.010937  0.031155 -0.039295  20.069   \n",
       "...       ...       ...       ...       ...       ...       ...     ...   \n",
       "272546  0.002 -0.013945 -0.007969  0.042813  0.007941 -0.003066  20.137   \n",
       "272547  0.002 -0.001992 -0.019922  0.172300  0.001229 -0.002522  20.176   \n",
       "272548  0.002  0.000896  0.027621  0.378840 -0.019208 -0.060298  20.168   \n",
       "272549  0.002  0.021583  0.017966  0.459840 -0.007281 -0.004641  19.464   \n",
       "272550  0.002 -0.015937 -0.009961  0.042813  0.018102 -0.000457  20.183   \n",
       "\n",
       "               k       nut        omega        p  \n",
       "0       2.080500  0.000021   88954.0000  1.13810  \n",
       "1       2.912600  0.000000  135740.0000  1.34340  \n",
       "2       0.003749  0.001111       3.3743  1.18980  \n",
       "3       0.003750  0.001082       3.3745  1.14850  \n",
       "4       0.003756  0.000076       3.4181  1.90970  \n",
       "...          ...       ...          ...      ...  \n",
       "272546  0.003767  0.000130       3.6325  1.70750  \n",
       "272547  0.003761  0.000280       3.4517  1.25660  \n",
       "272548  0.089455  0.000021    4539.8000  0.53586  \n",
       "272549  0.643610  0.000023   26273.0000  0.22404  \n",
       "272550  0.003769  0.000072       3.7395  1.70790  \n",
       "\n",
       "[272551 rows x 11 columns]"
      ]
     },
     "execution_count": 6,
     "metadata": {},
     "output_type": "execute_result"
    }
   ],
   "source": [
    "dfs[0]"
   ]
  },
  {
   "cell_type": "markdown",
   "id": "602ac698-27ac-4e7d-8366-926958a1c8ce",
   "metadata": {},
   "source": [
    "We concat every `p` of the first 5 frames and try to predict the rest of the frames. Matrix is a long one, has the shape of `(m=5, n=272k)`\n",
    "$$\\begin{bmatrix} C_{1,1} & C_{1,2} & \\cdots & C_{1,n} \\\\ C_{2,1} & C_{2,2} & \\cdots & C_{2,n} \\\\ \\vdots & \\vdots & \\vdots & \\vdots \\\\ C_{m,1} & C_{m,2} & \\cdots & C_{m,n} \\end{bmatrix}$$"
   ]
  },
  {
   "cell_type": "code",
   "execution_count": 7,
   "id": "f79d93d0-1f70-4c7b-b5b5-9694ab2ba41a",
   "metadata": {
    "execution": {
     "iopub.execute_input": "2022-02-27T10:32:49.781683Z",
     "iopub.status.busy": "2022-02-27T10:32:49.781389Z",
     "iopub.status.idle": "2022-02-27T10:32:49.850530Z",
     "shell.execute_reply": "2022-02-27T10:32:49.849682Z",
     "shell.execute_reply.started": "2022-02-27T10:32:49.781652Z"
    },
    "tags": []
   },
   "outputs": [],
   "source": [
    "# the same poinst appear in the same order in all frames\n",
    "for i in range(2,NUM_FRAMES):\n",
    "    pd.testing.assert_frame_equal(dfs[1][[\"Points:0\", \"Points:1\", \"Points:2\"]], dfs[i][[\"Points:0\", \"Points:1\", \"Points:2\"]])"
   ]
  },
  {
   "cell_type": "markdown",
   "id": "1489d9e7-ff95-48b9-b150-119128904482",
   "metadata": {},
   "source": [
    "All points coordinates are the same accross time"
   ]
  },
  {
   "cell_type": "code",
   "execution_count": 8,
   "id": "3726af88-3431-48ae-af6a-0763b37699e4",
   "metadata": {
    "execution": {
     "iopub.execute_input": "2022-02-27T10:32:49.853363Z",
     "iopub.status.busy": "2022-02-27T10:32:49.853102Z",
     "iopub.status.idle": "2022-02-27T10:32:49.898186Z",
     "shell.execute_reply": "2022-02-27T10:32:49.897554Z",
     "shell.execute_reply.started": "2022-02-27T10:32:49.853330Z"
    },
    "tags": []
   },
   "outputs": [
    {
     "data": {
      "text/html": [
       "<div>\n",
       "<style scoped>\n",
       "    .dataframe tbody tr th:only-of-type {\n",
       "        vertical-align: middle;\n",
       "    }\n",
       "\n",
       "    .dataframe tbody tr th {\n",
       "        vertical-align: top;\n",
       "    }\n",
       "\n",
       "    .dataframe thead th {\n",
       "        text-align: right;\n",
       "    }\n",
       "</style>\n",
       "<table border=\"1\" class=\"dataframe\">\n",
       "  <thead>\n",
       "    <tr style=\"text-align: right;\">\n",
       "      <th></th>\n",
       "      <th>p</th>\n",
       "      <th>p</th>\n",
       "      <th>p</th>\n",
       "      <th>p</th>\n",
       "      <th>p</th>\n",
       "      <th>p</th>\n",
       "      <th>p</th>\n",
       "      <th>p</th>\n",
       "    </tr>\n",
       "  </thead>\n",
       "  <tbody>\n",
       "    <tr>\n",
       "      <th>0</th>\n",
       "      <td>0.84425</td>\n",
       "      <td>0.79001</td>\n",
       "      <td>0.78038</td>\n",
       "      <td>0.77933</td>\n",
       "      <td>0.78145</td>\n",
       "      <td>0.78515</td>\n",
       "      <td>0.79059</td>\n",
       "      <td>0.79253</td>\n",
       "    </tr>\n",
       "    <tr>\n",
       "      <th>1</th>\n",
       "      <td>0.97069</td>\n",
       "      <td>0.90072</td>\n",
       "      <td>0.88918</td>\n",
       "      <td>0.88847</td>\n",
       "      <td>0.89309</td>\n",
       "      <td>0.89922</td>\n",
       "      <td>0.90522</td>\n",
       "      <td>0.90721</td>\n",
       "    </tr>\n",
       "    <tr>\n",
       "      <th>2</th>\n",
       "      <td>0.85257</td>\n",
       "      <td>0.79214</td>\n",
       "      <td>0.78047</td>\n",
       "      <td>0.78039</td>\n",
       "      <td>0.78258</td>\n",
       "      <td>0.78757</td>\n",
       "      <td>0.79337</td>\n",
       "      <td>0.79534</td>\n",
       "    </tr>\n",
       "    <tr>\n",
       "      <th>3</th>\n",
       "      <td>0.82532</td>\n",
       "      <td>0.76763</td>\n",
       "      <td>0.75646</td>\n",
       "      <td>0.75621</td>\n",
       "      <td>0.75816</td>\n",
       "      <td>0.76259</td>\n",
       "      <td>0.76819</td>\n",
       "      <td>0.77015</td>\n",
       "    </tr>\n",
       "    <tr>\n",
       "      <th>4</th>\n",
       "      <td>1.42280</td>\n",
       "      <td>1.35280</td>\n",
       "      <td>1.34860</td>\n",
       "      <td>1.35360</td>\n",
       "      <td>1.35940</td>\n",
       "      <td>1.36570</td>\n",
       "      <td>1.37170</td>\n",
       "      <td>1.37360</td>\n",
       "    </tr>\n",
       "    <tr>\n",
       "      <th>...</th>\n",
       "      <td>...</td>\n",
       "      <td>...</td>\n",
       "      <td>...</td>\n",
       "      <td>...</td>\n",
       "      <td>...</td>\n",
       "      <td>...</td>\n",
       "      <td>...</td>\n",
       "      <td>...</td>\n",
       "    </tr>\n",
       "    <tr>\n",
       "      <th>272546</th>\n",
       "      <td>1.20400</td>\n",
       "      <td>1.13310</td>\n",
       "      <td>1.12880</td>\n",
       "      <td>1.13380</td>\n",
       "      <td>1.13970</td>\n",
       "      <td>1.14590</td>\n",
       "      <td>1.15190</td>\n",
       "      <td>1.15390</td>\n",
       "    </tr>\n",
       "    <tr>\n",
       "      <th>272547</th>\n",
       "      <td>0.89954</td>\n",
       "      <td>0.83523</td>\n",
       "      <td>0.82372</td>\n",
       "      <td>0.82312</td>\n",
       "      <td>0.82642</td>\n",
       "      <td>0.83216</td>\n",
       "      <td>0.83812</td>\n",
       "      <td>0.84011</td>\n",
       "    </tr>\n",
       "    <tr>\n",
       "      <th>272548</th>\n",
       "      <td>0.41946</td>\n",
       "      <td>0.40175</td>\n",
       "      <td>0.40012</td>\n",
       "      <td>0.40177</td>\n",
       "      <td>0.40273</td>\n",
       "      <td>0.40351</td>\n",
       "      <td>0.40362</td>\n",
       "      <td>0.40375</td>\n",
       "    </tr>\n",
       "    <tr>\n",
       "      <th>272549</th>\n",
       "      <td>0.20627</td>\n",
       "      <td>0.20666</td>\n",
       "      <td>0.20909</td>\n",
       "      <td>0.21142</td>\n",
       "      <td>0.21322</td>\n",
       "      <td>0.21445</td>\n",
       "      <td>0.21562</td>\n",
       "      <td>0.21586</td>\n",
       "    </tr>\n",
       "    <tr>\n",
       "      <th>272550</th>\n",
       "      <td>1.20200</td>\n",
       "      <td>1.13120</td>\n",
       "      <td>1.12700</td>\n",
       "      <td>1.13200</td>\n",
       "      <td>1.13780</td>\n",
       "      <td>1.14400</td>\n",
       "      <td>1.15000</td>\n",
       "      <td>1.15200</td>\n",
       "    </tr>\n",
       "  </tbody>\n",
       "</table>\n",
       "<p>272551 rows × 8 columns</p>\n",
       "</div>"
      ],
      "text/plain": [
       "              p        p        p        p        p        p        p        p\n",
       "0       0.84425  0.79001  0.78038  0.77933  0.78145  0.78515  0.79059  0.79253\n",
       "1       0.97069  0.90072  0.88918  0.88847  0.89309  0.89922  0.90522  0.90721\n",
       "2       0.85257  0.79214  0.78047  0.78039  0.78258  0.78757  0.79337  0.79534\n",
       "3       0.82532  0.76763  0.75646  0.75621  0.75816  0.76259  0.76819  0.77015\n",
       "4       1.42280  1.35280  1.34860  1.35360  1.35940  1.36570  1.37170  1.37360\n",
       "...         ...      ...      ...      ...      ...      ...      ...      ...\n",
       "272546  1.20400  1.13310  1.12880  1.13380  1.13970  1.14590  1.15190  1.15390\n",
       "272547  0.89954  0.83523  0.82372  0.82312  0.82642  0.83216  0.83812  0.84011\n",
       "272548  0.41946  0.40175  0.40012  0.40177  0.40273  0.40351  0.40362  0.40375\n",
       "272549  0.20627  0.20666  0.20909  0.21142  0.21322  0.21445  0.21562  0.21586\n",
       "272550  1.20200  1.13120  1.12700  1.13200  1.13780  1.14400  1.15000  1.15200\n",
       "\n",
       "[272551 rows x 8 columns]"
      ]
     },
     "execution_count": 8,
     "metadata": {},
     "output_type": "execute_result"
    }
   ],
   "source": [
    "p_data = dfs[1]['p']\n",
    "for i in range(2,NUM_FRAMES):\n",
    "    p_data = pd.concat([p_data, dfs[i]['p']], axis=1)\n",
    "p_data"
   ]
  },
  {
   "cell_type": "code",
   "execution_count": 9,
   "id": "b9a0d046-55bb-4a41-9737-ea949a2a24df",
   "metadata": {
    "execution": {
     "iopub.execute_input": "2022-02-27T10:32:49.900025Z",
     "iopub.status.busy": "2022-02-27T10:32:49.899646Z",
     "iopub.status.idle": "2022-02-27T10:32:49.929964Z",
     "shell.execute_reply": "2022-02-27T10:32:49.929346Z",
     "shell.execute_reply.started": "2022-02-27T10:32:49.899969Z"
    },
    "tags": []
   },
   "outputs": [],
   "source": [
    "p_learn = p_data.values[:,:5]"
   ]
  },
  {
   "cell_type": "code",
   "execution_count": 10,
   "id": "454f5411-749f-4425-82f3-0378e6f29bf0",
   "metadata": {
    "execution": {
     "iopub.execute_input": "2022-02-27T10:32:49.931171Z",
     "iopub.status.busy": "2022-02-27T10:32:49.930970Z",
     "iopub.status.idle": "2022-02-27T10:32:49.936598Z",
     "shell.execute_reply": "2022-02-27T10:32:49.935708Z",
     "shell.execute_reply.started": "2022-02-27T10:32:49.931146Z"
    },
    "tags": []
   },
   "outputs": [
    {
     "data": {
      "text/plain": [
       "array([[0.84425, 0.79001, 0.78038, 0.77933, 0.78145],\n",
       "       [0.97069, 0.90072, 0.88918, 0.88847, 0.89309],\n",
       "       [0.85257, 0.79214, 0.78047, 0.78039, 0.78258],\n",
       "       ...,\n",
       "       [0.41946, 0.40175, 0.40012, 0.40177, 0.40273],\n",
       "       [0.20627, 0.20666, 0.20909, 0.21142, 0.21322],\n",
       "       [1.202  , 1.1312 , 1.127  , 1.132  , 1.1378 ]])"
      ]
     },
     "execution_count": 10,
     "metadata": {},
     "output_type": "execute_result"
    }
   ],
   "source": [
    "p_learn"
   ]
  },
  {
   "cell_type": "code",
   "execution_count": 11,
   "id": "dd3bfdbf-2c7a-4fb3-9d74-56c6256478b6",
   "metadata": {
    "execution": {
     "iopub.execute_input": "2022-02-27T10:32:49.938385Z",
     "iopub.status.busy": "2022-02-27T10:32:49.938034Z",
     "iopub.status.idle": "2022-02-27T10:32:49.942916Z",
     "shell.execute_reply": "2022-02-27T10:32:49.941940Z",
     "shell.execute_reply.started": "2022-02-27T10:32:49.938341Z"
    },
    "tags": []
   },
   "outputs": [],
   "source": [
    "p_learn = p_learn.T"
   ]
  },
  {
   "cell_type": "code",
   "execution_count": 12,
   "id": "ba74296c-5431-4bda-9339-c5f033e87faf",
   "metadata": {
    "execution": {
     "iopub.execute_input": "2022-02-27T10:32:49.944857Z",
     "iopub.status.busy": "2022-02-27T10:32:49.944563Z",
     "iopub.status.idle": "2022-02-27T10:32:49.951315Z",
     "shell.execute_reply": "2022-02-27T10:32:49.950411Z",
     "shell.execute_reply.started": "2022-02-27T10:32:49.944817Z"
    },
    "tags": []
   },
   "outputs": [
    {
     "data": {
      "text/plain": [
       "(5, 272551)"
      ]
     },
     "execution_count": 12,
     "metadata": {},
     "output_type": "execute_result"
    }
   ],
   "source": [
    "p_learn.shape"
   ]
  },
  {
   "cell_type": "markdown",
   "id": "811ae0af-0df4-43c0-a07a-825ac99c71f2",
   "metadata": {},
   "source": [
    "## PCA"
   ]
  },
  {
   "cell_type": "code",
   "execution_count": 13,
   "id": "02273417-eb18-4202-bc33-6cdbe383de1d",
   "metadata": {
    "execution": {
     "iopub.execute_input": "2022-02-27T10:32:49.952907Z",
     "iopub.status.busy": "2022-02-27T10:32:49.952524Z",
     "iopub.status.idle": "2022-02-27T10:32:53.166415Z",
     "shell.execute_reply": "2022-02-27T10:32:53.165774Z",
     "shell.execute_reply.started": "2022-02-27T10:32:49.952874Z"
    },
    "tags": []
   },
   "outputs": [
    {
     "data": {
      "image/png": "[encoded data removed]",
      "text/plain": [
       "<Figure size 720x720 with 2 Axes>"
      ]
     },
     "metadata": {
      "needs_background": "light"
     },
     "output_type": "display_data"
    }
   ],
   "source": [
    "# creating figures\n",
    "fig = plt.figure(figsize=(10, 10))\n",
    "ax = fig.add_subplot(111, projection='3d')\n",
    "img = ax.scatter(dfs[0][\"Points:0\"], dfs[0][\"Points:1\"], dfs[0][\"Points:2\"], c=dfs[0]['p'], cmap=cm.coolwarm)\n",
    "color_map = cm.ScalarMappable(cmap=cm.coolwarm)\n",
    "color_map.set_array(dfs[0]['p'])\n",
    "plt.colorbar(color_map)\n",
    "plt.show()"
   ]
  },
  {
   "cell_type": "markdown",
   "id": "482ff20e-ac9f-4a6f-84bd-bf4343af70f6",
   "metadata": {},
   "source": [
    "### Try with multiple frame"
   ]
  },
  {
   "cell_type": "code",
   "execution_count": 14,
   "id": "d6ff92ac-50ce-408f-b160-831aea7f7efb",
   "metadata": {
    "execution": {
     "iopub.execute_input": "2022-02-27T10:32:53.167603Z",
     "iopub.status.busy": "2022-02-27T10:32:53.167452Z",
     "iopub.status.idle": "2022-02-27T10:32:53.170758Z",
     "shell.execute_reply": "2022-02-27T10:32:53.169776Z",
     "shell.execute_reply.started": "2022-02-27T10:32:53.167584Z"
    },
    "tags": []
   },
   "outputs": [],
   "source": [
    "pca = PCA(n_components=3)"
   ]
  },
  {
   "cell_type": "code",
   "execution_count": 15,
   "id": "1ce21861-dd88-43d1-a114-04b889f11791",
   "metadata": {
    "execution": {
     "iopub.execute_input": "2022-02-27T10:32:53.173000Z",
     "iopub.status.busy": "2022-02-27T10:32:53.172721Z",
     "iopub.status.idle": "2022-02-27T10:32:53.388488Z",
     "shell.execute_reply": "2022-02-27T10:32:53.387680Z",
     "shell.execute_reply.started": "2022-02-27T10:32:53.172974Z"
    },
    "tags": []
   },
   "outputs": [
    {
     "data": {
      "text/plain": [
       "PCA(n_components=3)"
      ]
     },
     "execution_count": 15,
     "metadata": {},
     "output_type": "execute_result"
    }
   ],
   "source": [
    "pca.fit(p_learn)"
   ]
  },
  {
   "cell_type": "code",
   "execution_count": 16,
   "id": "d692c254-6389-494e-a0a6-f542864b7ad7",
   "metadata": {
    "execution": {
     "iopub.execute_input": "2022-02-27T10:32:53.390075Z",
     "iopub.status.busy": "2022-02-27T10:32:53.389751Z",
     "iopub.status.idle": "2022-02-27T10:32:53.395922Z",
     "shell.execute_reply": "2022-02-27T10:32:53.394801Z",
     "shell.execute_reply.started": "2022-02-27T10:32:53.390036Z"
    },
    "tags": []
   },
   "outputs": [
    {
     "data": {
      "text/plain": [
       "array([[ 2.19398877e-03,  2.77901978e-03,  2.45378759e-03, ...,\n",
       "         6.35163739e-04, -1.39058476e-04,  2.48527255e-03],\n",
       "       [ 2.17404963e-03,  1.82253094e-03,  2.33458903e-03, ...,\n",
       "        -5.55165030e-04, -2.04781625e-03, -2.80287045e-03],\n",
       "       [ 5.12082377e-04, -9.63115329e-04, -6.59563771e-04, ...,\n",
       "         6.52604431e-05, -1.22277009e-03,  1.03331934e-03]])"
      ]
     },
     "execution_count": 16,
     "metadata": {},
     "output_type": "execute_result"
    }
   ],
   "source": [
    "pca.components_"
   ]
  },
  {
   "cell_type": "code",
   "execution_count": 17,
   "id": "967108d0-5282-48b7-b1df-026de083ee90",
   "metadata": {
    "execution": {
     "iopub.execute_input": "2022-02-27T10:32:53.397698Z",
     "iopub.status.busy": "2022-02-27T10:32:53.397411Z",
     "iopub.status.idle": "2022-02-27T10:32:53.403264Z",
     "shell.execute_reply": "2022-02-27T10:32:53.402154Z",
     "shell.execute_reply.started": "2022-02-27T10:32:53.397664Z"
    },
    "tags": []
   },
   "outputs": [
    {
     "data": {
      "text/plain": [
       "array([1.59279798e+02, 1.39469696e+00, 5.49242552e-02])"
      ]
     },
     "execution_count": 17,
     "metadata": {},
     "output_type": "execute_result"
    }
   ],
   "source": [
    "pca.explained_variance_"
   ]
  },
  {
   "cell_type": "markdown",
   "id": "ed98f473-e52a-408b-908b-fedf8c21f6a0",
   "metadata": {},
   "source": [
    "**Q:** Aren't the eigenvectors here of the space variance, not time? We are interested in time variant though."
   ]
  },
  {
   "cell_type": "markdown",
   "id": "5d9cba83-567b-4a42-9b29-18b5bb954e1e",
   "metadata": {
    "execution": {
     "iopub.execute_input": "2022-02-13T16:00:53.051072Z",
     "iopub.status.busy": "2022-02-13T16:00:53.049904Z",
     "iopub.status.idle": "2022-02-13T16:00:53.055498Z",
     "shell.execute_reply": "2022-02-13T16:00:53.054439Z",
     "shell.execute_reply.started": "2022-02-13T16:00:53.051028Z"
    },
    "tags": []
   },
   "source": [
    "## Reconstructing the original data\n",
    "Since we have the eigenvalues and eigenvectors of the covariance matrix of the pressure data (PCA), we can reconstruct the original data. We first tries the provided version of `sklearn`, and then reimplement our own"
   ]
  },
  {
   "cell_type": "code",
   "execution_count": 18,
   "id": "b8757290-8ce3-4187-8907-dc4eba861c36",
   "metadata": {
    "execution": {
     "iopub.execute_input": "2022-02-27T10:32:53.405206Z",
     "iopub.status.busy": "2022-02-27T10:32:53.404850Z",
     "iopub.status.idle": "2022-02-27T10:32:53.418330Z",
     "shell.execute_reply": "2022-02-27T10:32:53.417553Z",
     "shell.execute_reply.started": "2022-02-27T10:32:53.405164Z"
    },
    "tags": []
   },
   "outputs": [],
   "source": [
    "transformed_data = pca.transform(p_learn)"
   ]
  },
  {
   "cell_type": "code",
   "execution_count": 20,
   "id": "e54dcbb5-b1f8-4295-aa26-2b57987bf8f3",
   "metadata": {
    "execution": {
     "iopub.execute_input": "2022-02-27T10:32:53.428289Z",
     "iopub.status.busy": "2022-02-27T10:32:53.427987Z",
     "iopub.status.idle": "2022-02-27T10:32:53.440098Z",
     "shell.execute_reply": "2022-02-27T10:32:53.438997Z",
     "shell.execute_reply.started": "2022-02-27T10:32:53.428249Z"
    },
    "tags": []
   },
   "outputs": [],
   "source": [
    "reconstructed_sklearn = pca.inverse_transform(transformed_data)"
   ]
  },
  {
   "cell_type": "code",
   "execution_count": 22,
   "id": "9c1e082d-d733-4de9-a2e4-aca3e93c70c9",
   "metadata": {
    "execution": {
     "iopub.execute_input": "2022-02-27T10:32:53.450626Z",
     "iopub.status.busy": "2022-02-27T10:32:53.450181Z",
     "iopub.status.idle": "2022-02-27T10:32:53.465597Z",
     "shell.execute_reply": "2022-02-27T10:32:53.464479Z",
     "shell.execute_reply.started": "2022-02-27T10:32:53.450582Z"
    },
    "tags": []
   },
   "outputs": [
    {
     "data": {
      "text/plain": [
       "0.00012202006519015159"
      ]
     },
     "execution_count": 22,
     "metadata": {},
     "output_type": "execute_result"
    }
   ],
   "source": [
    "mse(reconstructed_sklearn, p_learn, squared=False)"
   ]
  },
  {
   "cell_type": "code",
   "execution_count": 50,
   "id": "1af17459-568e-46fd-bd5c-1bd96a9970b4",
   "metadata": {
    "execution": {
     "iopub.execute_input": "2022-02-27T10:41:07.247977Z",
     "iopub.status.busy": "2022-02-27T10:41:07.247646Z",
     "iopub.status.idle": "2022-02-27T10:41:07.252576Z",
     "shell.execute_reply": "2022-02-27T10:41:07.251469Z",
     "shell.execute_reply.started": "2022-02-27T10:41:07.247939Z"
    },
    "tags": []
   },
   "outputs": [],
   "source": [
    "def reconstruct(data):\n",
    "    reconstructed = pca.inverse_transform(data)\n",
    "    print(mse(reconstructed[5:], p_data.T[5:], squared=False))"
   ]
  },
  {
   "cell_type": "markdown",
   "id": "a0d1e48d-ad61-4608-a7b0-4872d018d277",
   "metadata": {},
   "source": [
    "## Learning based on transformed data"
   ]
  },
  {
   "cell_type": "code",
   "execution_count": 23,
   "id": "ed122c05-41f6-45ec-9c02-650254e7394f",
   "metadata": {
    "execution": {
     "iopub.execute_input": "2022-02-27T10:32:53.467474Z",
     "iopub.status.busy": "2022-02-27T10:32:53.467017Z",
     "iopub.status.idle": "2022-02-27T10:32:53.473474Z",
     "shell.execute_reply": "2022-02-27T10:32:53.472249Z",
     "shell.execute_reply.started": "2022-02-27T10:32:53.467434Z"
    },
    "tags": []
   },
   "outputs": [
    {
     "data": {
      "text/plain": [
       "array([-6.44030644, -0.68051572,  0.11282322])"
      ]
     },
     "execution_count": 23,
     "metadata": {},
     "output_type": "execute_result"
    }
   ],
   "source": [
    "transformed_data[INPUT_STEP]"
   ]
  },
  {
   "cell_type": "code",
   "execution_count": 24,
   "id": "5c28d247-b85a-4987-be05-b7a24ebce444",
   "metadata": {
    "execution": {
     "iopub.execute_input": "2022-02-27T10:32:53.475379Z",
     "iopub.status.busy": "2022-02-27T10:32:53.474943Z",
     "iopub.status.idle": "2022-02-27T10:32:53.482087Z",
     "shell.execute_reply": "2022-02-27T10:32:53.480161Z",
     "shell.execute_reply.started": "2022-02-27T10:32:53.475324Z"
    },
    "tags": []
   },
   "outputs": [],
   "source": [
    "srcs = [transformed_data[:INPUT_STEP], transformed_data[1:INPUT_STEP+1]]\n",
    "tgts = [transformed_data[INPUT_STEP].reshape((3,1)), transformed_data[INPUT_STEP].reshape((3,1))]"
   ]
  },
  {
   "cell_type": "code",
   "execution_count": 25,
   "id": "221ceb67-3078-4705-a455-a9789562a748",
   "metadata": {
    "execution": {
     "iopub.execute_input": "2022-02-27T10:32:53.491023Z",
     "iopub.status.busy": "2022-02-27T10:32:53.490706Z",
     "iopub.status.idle": "2022-02-27T10:32:53.498593Z",
     "shell.execute_reply": "2022-02-27T10:32:53.497358Z",
     "shell.execute_reply.started": "2022-02-27T10:32:53.490988Z"
    },
    "tags": []
   },
   "outputs": [],
   "source": [
    "def train(model):\n",
    "    model.train()\n",
    "    loss = nn.MSELoss()\n",
    "    optimizer = optim.Adam(model.parameters(), lr=0.0001)\n",
    "    for epoch in range(3):  # loop over the dataset multiple times\n",
    "        for i in range(len(srcs)):\n",
    "            running_loss = 0.0\n",
    "            src = torch.unsqueeze(torch.FloatTensor(srcs[i]), dim=0)\n",
    "            tgt = torch.unsqueeze(torch.FloatTensor(tgts[i]), dim=0)\n",
    "\n",
    "            # zero the parameter gradients\n",
    "            optimizer.zero_grad()\n",
    "\n",
    "            # forward + backward + optimize\n",
    "            outputs, _ = lstm(src)\n",
    "            l = loss(outputs, tgt)\n",
    "            l.backward()\n",
    "            optimizer.step()\n",
    "\n",
    "            # print statistics\n",
    "            running_loss += l\n",
    "            print(f'[{epoch + 1}] loss: {running_loss / 2000:}')\n",
    "    return model  "
   ]
  },
  {
   "cell_type": "markdown",
   "id": "57cfa3ac-e81e-47e6-a65d-b56e4e7c8580",
   "metadata": {
    "execution": {
     "iopub.execute_input": "2022-02-26T14:27:26.010466Z",
     "iopub.status.busy": "2022-02-26T14:27:26.008818Z",
     "iopub.status.idle": "2022-02-26T14:27:26.017085Z",
     "shell.execute_reply": "2022-02-26T14:27:26.014688Z",
     "shell.execute_reply.started": "2022-02-26T14:27:26.010413Z"
    },
    "tags": []
   },
   "source": [
    "### LSTM"
   ]
  },
  {
   "cell_type": "code",
   "execution_count": 26,
   "id": "6b9e4866-715e-4e94-861f-be08092b6761",
   "metadata": {
    "execution": {
     "iopub.execute_input": "2022-02-27T10:32:53.502274Z",
     "iopub.status.busy": "2022-02-27T10:32:53.501956Z",
     "iopub.status.idle": "2022-02-27T10:32:53.526968Z",
     "shell.execute_reply": "2022-02-27T10:32:53.525781Z",
     "shell.execute_reply.started": "2022-02-27T10:32:53.502240Z"
    },
    "tags": []
   },
   "outputs": [
    {
     "name": "stdout",
     "output_type": "stream",
     "text": [
      "[1] loss: 0.006834184750914574\n",
      "[1] loss: 0.006959259510040283\n",
      "[2] loss: 0.006833771243691444\n",
      "[2] loss: 0.00695915287360549\n",
      "[3] loss: 0.006833398249000311\n",
      "[3] loss: 0.006959044840186834\n"
     ]
    }
   ],
   "source": [
    "lstm = nn.LSTM(INPUT_STEP, OUTPUT_STEP, 2)\n",
    "lstm = train(lstm)"
   ]
  },
  {
   "cell_type": "code",
   "execution_count": 27,
   "id": "ca88ccdb-fa8c-472e-863a-c03f9791c5a6",
   "metadata": {
    "execution": {
     "iopub.execute_input": "2022-02-27T10:32:53.529282Z",
     "iopub.status.busy": "2022-02-27T10:32:53.528875Z",
     "iopub.status.idle": "2022-02-27T10:32:53.541628Z",
     "shell.execute_reply": "2022-02-27T10:32:53.540694Z",
     "shell.execute_reply.started": "2022-02-27T10:32:53.529234Z"
    },
    "tags": []
   },
   "outputs": [
    {
     "name": "stdout",
     "output_type": "stream",
     "text": [
      "(5, 3)\n",
      "torch.Size([1, 3, 1])\n",
      "(6, 3)\n",
      "torch.Size([1, 3, 1])\n",
      "(7, 3)\n",
      "torch.Size([1, 3, 1])\n"
     ]
    }
   ],
   "source": [
    "lstm.eval()\n",
    "lstm_eval = transformed_data.copy()\n",
    "for i in range(4, p_data.shape[1]-1):\n",
    "    print(lstm_eval.shape)\n",
    "    predict, _ = lstm(torch.unsqueeze(torch.FloatTensor(lstm_eval[-2-INPUT_STEP:-2]), 0))                               \n",
    "    print(predict.shape)\n",
    "    lstm_eval = np.append(lstm_eval, predict.squeeze(2).detach().numpy(), axis=0)  # append prediction "
   ]
  },
  {
   "cell_type": "code",
   "execution_count": 51,
   "id": "f53e1641-e66f-4c1b-acd3-52e762189d6d",
   "metadata": {
    "execution": {
     "iopub.execute_input": "2022-02-27T10:41:24.792224Z",
     "iopub.status.busy": "2022-02-27T10:41:24.791930Z",
     "iopub.status.idle": "2022-02-27T10:41:26.243352Z",
     "shell.execute_reply": "2022-02-27T10:41:26.242552Z",
     "shell.execute_reply.started": "2022-02-27T10:41:24.792193Z"
    },
    "tags": []
   },
   "outputs": [
    {
     "name": "stdout",
     "output_type": "stream",
     "text": [
      "0.004563250385318567\n"
     ]
    }
   ],
   "source": [
    "reconstruct(lstm_eval)"
   ]
  },
  {
   "cell_type": "markdown",
   "id": "3ffe1786-a352-4711-a8c7-36b77f3abfb2",
   "metadata": {},
   "source": [
    "### Transformer"
   ]
  },
  {
   "cell_type": "code",
   "execution_count": 28,
   "id": "0cfe6d3b-01d8-4501-9771-a2f41d1c9642",
   "metadata": {
    "execution": {
     "iopub.execute_input": "2022-02-27T10:32:53.543263Z",
     "iopub.status.busy": "2022-02-27T10:32:53.542973Z",
     "iopub.status.idle": "2022-02-27T10:32:53.549735Z",
     "shell.execute_reply": "2022-02-27T10:32:53.548754Z",
     "shell.execute_reply.started": "2022-02-27T10:32:53.543222Z"
    },
    "tags": []
   },
   "outputs": [
    {
     "data": {
      "text/plain": [
       "(5, 3)"
      ]
     },
     "execution_count": 28,
     "metadata": {},
     "output_type": "execute_result"
    }
   ],
   "source": [
    "transformed_data.shape"
   ]
  },
  {
   "cell_type": "code",
   "execution_count": 29,
   "id": "cfc57607-f271-4442-b8b2-2bb37b23290f",
   "metadata": {
    "execution": {
     "iopub.execute_input": "2022-02-27T10:32:53.551633Z",
     "iopub.status.busy": "2022-02-27T10:32:53.551322Z",
     "iopub.status.idle": "2022-02-27T10:32:53.558144Z",
     "shell.execute_reply": "2022-02-27T10:32:53.556840Z",
     "shell.execute_reply.started": "2022-02-27T10:32:53.551599Z"
    },
    "tags": []
   },
   "outputs": [
    {
     "data": {
      "text/plain": [
       "array([[22.45347979, -0.05466261,  0.0423173 ],\n",
       "       [-3.93510173,  1.70516747, -0.23052152],\n",
       "       [-7.27555481,  0.44631166,  0.31081673],\n",
       "       [-6.44030644, -0.68051572,  0.11282322],\n",
       "       [-4.80251681, -1.41630081, -0.23543573]])"
      ]
     },
     "execution_count": 29,
     "metadata": {},
     "output_type": "execute_result"
    }
   ],
   "source": [
    "transformed_data"
   ]
  },
  {
   "cell_type": "markdown",
   "id": "ecb3a3c2-5d5c-43e0-ac8e-bb03d644cdb7",
   "metadata": {},
   "source": [
    "We will learn based on this transformed data"
   ]
  },
  {
   "cell_type": "code",
   "execution_count": 30,
   "id": "fbda0e0b-2ca6-4033-b577-d0ea46d126b6",
   "metadata": {
    "execution": {
     "iopub.execute_input": "2022-02-27T10:32:53.560456Z",
     "iopub.status.busy": "2022-02-27T10:32:53.560125Z",
     "iopub.status.idle": "2022-02-27T10:32:53.583012Z",
     "shell.execute_reply": "2022-02-27T10:32:53.582017Z",
     "shell.execute_reply.started": "2022-02-27T10:32:53.560411Z"
    },
    "tags": []
   },
   "outputs": [],
   "source": [
    "reconstructed_sklearn = pca.inverse_transform(np.random.random((10,3)))"
   ]
  },
  {
   "cell_type": "code",
   "execution_count": 31,
   "id": "d851742e-8ef9-4c8d-b0eb-8866774379dc",
   "metadata": {
    "execution": {
     "iopub.execute_input": "2022-02-27T10:32:53.584771Z",
     "iopub.status.busy": "2022-02-27T10:32:53.584430Z",
     "iopub.status.idle": "2022-02-27T10:32:53.590559Z",
     "shell.execute_reply": "2022-02-27T10:32:53.589452Z",
     "shell.execute_reply.started": "2022-02-27T10:32:53.584708Z"
    },
    "tags": []
   },
   "outputs": [
    {
     "data": {
      "text/plain": [
       "((10, 272551), (5, 272551))"
      ]
     },
     "execution_count": 31,
     "metadata": {},
     "output_type": "execute_result"
    }
   ],
   "source": [
    "reconstructed_sklearn.shape, p_learn.shape"
   ]
  },
  {
   "cell_type": "code",
   "execution_count": 32,
   "id": "e40cc185-0caf-4bf5-a8b2-d4d67cb589d4",
   "metadata": {
    "execution": {
     "iopub.execute_input": "2022-02-27T10:32:53.592870Z",
     "iopub.status.busy": "2022-02-27T10:32:53.592509Z",
     "iopub.status.idle": "2022-02-27T10:32:53.597741Z",
     "shell.execute_reply": "2022-02-27T10:32:53.596633Z",
     "shell.execute_reply.started": "2022-02-27T10:32:53.592831Z"
    },
    "tags": []
   },
   "outputs": [],
   "source": [
    "device = torch.device(\"cuda\" if torch.cuda.is_available() else \"cpu\")"
   ]
  },
  {
   "cell_type": "code",
   "execution_count": 33,
   "id": "22c09a08-1033-434c-8f0e-d9c3432aa098",
   "metadata": {
    "execution": {
     "iopub.execute_input": "2022-02-27T10:32:53.600190Z",
     "iopub.status.busy": "2022-02-27T10:32:53.599830Z",
     "iopub.status.idle": "2022-02-27T10:32:53.631189Z",
     "shell.execute_reply": "2022-02-27T10:32:53.630421Z",
     "shell.execute_reply.started": "2022-02-27T10:32:53.600144Z"
    },
    "tags": []
   },
   "outputs": [],
   "source": [
    "loss = nn.MSELoss()\n",
    "transformer_model = nn.Transformer(nhead=NUM_COMPONENTS, num_encoder_layers=4,   # d_model divisible by nhead\n",
    "                                   d_model=NUM_COMPONENTS, batch_first=True).to(device)\n",
    "optimizer = optim.Adam(transformer_model.parameters(), lr=0.0001)"
   ]
  },
  {
   "cell_type": "code",
   "execution_count": 34,
   "id": "12a4b117-2690-4d98-9844-14012faa10d2",
   "metadata": {
    "execution": {
     "iopub.execute_input": "2022-02-27T10:32:53.632692Z",
     "iopub.status.busy": "2022-02-27T10:32:53.632379Z",
     "iopub.status.idle": "2022-02-27T10:32:53.651020Z",
     "shell.execute_reply": "2022-02-27T10:32:53.650115Z",
     "shell.execute_reply.started": "2022-02-27T10:32:53.632666Z"
    },
    "tags": []
   },
   "outputs": [
    {
     "name": "stdout",
     "output_type": "stream",
     "text": [
      "[1] loss: 0.006833032239228487\n",
      "[1] loss: 0.006958989426493645\n",
      "[2] loss: 0.006833032239228487\n",
      "[2] loss: 0.006958989426493645\n",
      "[3] loss: 0.006833032239228487\n",
      "[3] loss: 0.006958989426493645\n"
     ]
    }
   ],
   "source": [
    "transformer_model = train(transformer_model)"
   ]
  },
  {
   "cell_type": "markdown",
   "id": "b4ba21ab-02db-40cc-a5d2-2540f2f16132",
   "metadata": {},
   "source": [
    "## Reconstruct "
   ]
  },
  {
   "cell_type": "code",
   "execution_count": 35,
   "id": "42b0bfa1-e16a-4bc4-a583-8e79421f0fe0",
   "metadata": {
    "execution": {
     "iopub.execute_input": "2022-02-27T10:32:53.652882Z",
     "iopub.status.busy": "2022-02-27T10:32:53.652589Z",
     "iopub.status.idle": "2022-02-27T10:32:53.658362Z",
     "shell.execute_reply": "2022-02-27T10:32:53.657439Z",
     "shell.execute_reply.started": "2022-02-27T10:32:53.652845Z"
    },
    "tags": []
   },
   "outputs": [
    {
     "data": {
      "text/plain": [
       "pandas.core.frame.DataFrame"
      ]
     },
     "execution_count": 35,
     "metadata": {},
     "output_type": "execute_result"
    }
   ],
   "source": [
    "type(p_data)"
   ]
  },
  {
   "cell_type": "code",
   "execution_count": 36,
   "id": "adc05977-0f6a-4862-8b14-cbc0feddc83c",
   "metadata": {
    "execution": {
     "iopub.execute_input": "2022-02-27T10:32:53.660055Z",
     "iopub.status.busy": "2022-02-27T10:32:53.659680Z",
     "iopub.status.idle": "2022-02-27T10:32:53.667575Z",
     "shell.execute_reply": "2022-02-27T10:32:53.666162Z",
     "shell.execute_reply.started": "2022-02-27T10:32:53.660017Z"
    },
    "tags": []
   },
   "outputs": [
    {
     "data": {
      "text/plain": [
       "(5, 3)"
      ]
     },
     "execution_count": 36,
     "metadata": {},
     "output_type": "execute_result"
    }
   ],
   "source": [
    "transformed_data.shape"
   ]
  },
  {
   "cell_type": "code",
   "execution_count": 37,
   "id": "7b09c1fc-ec40-4e05-b04d-966852d611ca",
   "metadata": {
    "execution": {
     "iopub.execute_input": "2022-02-27T10:32:53.669605Z",
     "iopub.status.busy": "2022-02-27T10:32:53.669197Z",
     "iopub.status.idle": "2022-02-27T10:32:53.711168Z",
     "shell.execute_reply": "2022-02-27T10:32:53.710249Z",
     "shell.execute_reply.started": "2022-02-27T10:32:53.669563Z"
    },
    "tags": []
   },
   "outputs": [
    {
     "name": "stdout",
     "output_type": "stream",
     "text": [
      "(5, 3)\n",
      "torch.Size([1, 1, 3])\n",
      "(6, 3)\n",
      "torch.Size([1, 1, 3])\n",
      "(7, 3)\n",
      "torch.Size([1, 1, 3])\n"
     ]
    }
   ],
   "source": [
    "transformer_model.eval()\n",
    "transformer_eval = transformed_data.copy()\n",
    "for i in range(4, p_data.shape[1]-1):\n",
    "    print(transformer_eval.shape)\n",
    "    predict = transformer_model(torch.unsqueeze(torch.FloatTensor(transformer_eval[-2-INPUT_STEP:-2]), 0),  # INPUT_STEP steps before\n",
    "                               torch.unsqueeze(torch.FloatTensor(transformer_eval[-1:]), 0))\n",
    "    print(predict.shape)\n",
    "    transformer_eval = np.append(transformer_eval, predict[0].detach().numpy(), axis=0)  # append prediction and "
   ]
  },
  {
   "cell_type": "code",
   "execution_count": 48,
   "id": "c71cb9e8-14b0-4bbd-b0a1-ce362f546b8c",
   "metadata": {
    "execution": {
     "iopub.execute_input": "2022-02-27T10:33:26.719193Z",
     "iopub.status.busy": "2022-02-27T10:33:26.718911Z",
     "iopub.status.idle": "2022-02-27T10:33:26.724946Z",
     "shell.execute_reply": "2022-02-27T10:33:26.723670Z",
     "shell.execute_reply.started": "2022-02-27T10:33:26.719165Z"
    },
    "tags": []
   },
   "outputs": [
    {
     "data": {
      "text/plain": [
       "(8, 3)"
      ]
     },
     "execution_count": 48,
     "metadata": {},
     "output_type": "execute_result"
    }
   ],
   "source": [
    "transformer_eval.shape"
   ]
  },
  {
   "cell_type": "code",
   "execution_count": 52,
   "id": "f7b4bfe5-3223-4a2d-b148-dc1a41ed0adb",
   "metadata": {
    "execution": {
     "iopub.execute_input": "2022-02-27T10:42:08.477846Z",
     "iopub.status.busy": "2022-02-27T10:42:08.477487Z",
     "iopub.status.idle": "2022-02-27T10:42:09.922271Z",
     "shell.execute_reply": "2022-02-27T10:42:09.921517Z",
     "shell.execute_reply.started": "2022-02-27T10:42:08.477804Z"
    },
    "tags": []
   },
   "outputs": [
    {
     "name": "stdout",
     "output_type": "stream",
     "text": [
      "0.006454510468586366\n"
     ]
    }
   ],
   "source": [
    "reconstruct(transformer_eval)"
   ]
  }
 ],
 "metadata": {
  "kernelspec": {
   "display_name": "Python 3",
   "language": "python",
   "name": "python3"
  },
  "language_info": {
   "codemirror_mode": {
    "name": "ipython",
    "version": 3
   },
   "file_extension": ".py",
   "mimetype": "text/x-python",
   "name": "python",
   "nbconvert_exporter": "python",
   "pygments_lexer": "ipython3",
   "version": "3.7.9"
  }
 },
 "nbformat": 4,
 "nbformat_minor": 5
}
