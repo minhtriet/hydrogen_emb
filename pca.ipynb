{
 "cells": [
  {
   "cell_type": "code",
   "execution_count": 14,
   "id": "08a16d58-85e1-40bc-ae5e-bd735e10c6d4",
   "metadata": {
    "execution": {
     "iopub.execute_input": "2022-04-29T10:33:07.836229Z",
     "iopub.status.busy": "2022-04-29T10:33:07.836010Z",
     "iopub.status.idle": "2022-04-29T10:33:07.841943Z",
     "shell.execute_reply": "2022-04-29T10:33:07.840884Z",
     "shell.execute_reply.started": "2022-04-29T10:33:07.836206Z"
    },
    "tags": []
   },
   "outputs": [],
   "source": [
    "%matplotlib inline\n",
    "\n",
    "import pandas as pd\n",
    "from sklearn.decomposition import PCA\n",
    "from sklearn.metrics import mean_squared_error as mse\n",
    "\n",
    "from matplotlib import cm\n",
    "import matplotlib.pyplot as plt\n",
    "import numpy as np\n",
    "\n",
    "from tqdm.notebook import tqdm"
   ]
  },
  {
   "cell_type": "code",
   "execution_count": 3,
   "id": "6fb23918-5f12-4db7-922c-59c0f977c968",
   "metadata": {
    "execution": {
     "iopub.execute_input": "2022-04-29T10:10:16.216364Z",
     "iopub.status.busy": "2022-04-29T10:10:16.216134Z",
     "iopub.status.idle": "2022-04-29T10:10:16.220465Z",
     "shell.execute_reply": "2022-04-29T10:10:16.219544Z",
     "shell.execute_reply.started": "2022-04-29T10:10:16.216335Z"
    },
    "tags": []
   },
   "outputs": [],
   "source": [
    "from pathlib import PurePath"
   ]
  },
  {
   "cell_type": "code",
   "execution_count": 6,
   "id": "e4200c34-285a-41d7-8f52-0a5abc09bf7c",
   "metadata": {
    "execution": {
     "iopub.execute_input": "2022-04-29T10:10:39.558031Z",
     "iopub.status.busy": "2022-04-29T10:10:39.557807Z",
     "iopub.status.idle": "2022-04-29T10:10:42.158309Z",
     "shell.execute_reply": "2022-04-29T10:10:42.157571Z",
     "shell.execute_reply.started": "2022-04-29T10:10:39.558008Z"
    },
    "tags": []
   },
   "outputs": [],
   "source": [
    "import torch\n",
    "import torch.nn as nn\n",
    "import torch.optim as optim"
   ]
  },
  {
   "cell_type": "code",
   "execution_count": 7,
   "id": "c106c356-6072-4252-8a22-ce640070f0ad",
   "metadata": {
    "execution": {
     "iopub.execute_input": "2022-04-29T10:10:42.160030Z",
     "iopub.status.busy": "2022-04-29T10:10:42.159820Z",
     "iopub.status.idle": "2022-04-29T10:10:42.180932Z",
     "shell.execute_reply": "2022-04-29T10:10:42.179828Z",
     "shell.execute_reply.started": "2022-04-29T10:10:42.160003Z"
    },
    "tags": []
   },
   "outputs": [
    {
     "data": {
      "text/plain": [
       "<torch._C.Generator at 0x7f91b8da97d0>"
      ]
     },
     "execution_count": 7,
     "metadata": {},
     "output_type": "execute_result"
    }
   ],
   "source": [
    "NUM_FRAMES = 344   # number of timestep. Before was 9!\n",
    "\n",
    "\n",
    "torch.manual_seed(0)"
   ]
  },
  {
   "cell_type": "markdown",
   "id": "3c4d9873-2166-44f4-a351-04598731ae6d",
   "metadata": {},
   "source": [
    "Our simulation managed to create `NUM_FRAMES` in csv forms"
   ]
  },
  {
   "cell_type": "code",
   "execution_count": 8,
   "id": "4840ba9f-559d-4568-bd8f-717dd579f18e",
   "metadata": {
    "execution": {
     "iopub.execute_input": "2022-04-29T10:10:42.975675Z",
     "iopub.status.busy": "2022-04-29T10:10:42.975434Z",
     "iopub.status.idle": "2022-04-29T10:10:42.981214Z",
     "shell.execute_reply": "2022-04-29T10:10:42.979963Z",
     "shell.execute_reply.started": "2022-04-29T10:10:42.975651Z"
    },
    "tags": []
   },
   "outputs": [],
   "source": [
    "data_paths = [PurePath(\"new_data\", f\"data_._{i}.csv\") for i in range(0,NUM_FRAMES)]\n",
    "# dfs = [0]*NUM_FRAMES\n",
    "# for i in range(0,NUM_FRAMES):\n",
    "\n",
    "#     dfs[i]=pd.read_csv(str(data_path[i]))"
   ]
  },
  {
   "cell_type": "code",
   "execution_count": 11,
   "id": "9fbd1e92-7626-4f88-a334-e38526d7b56a",
   "metadata": {
    "execution": {
     "iopub.execute_input": "2022-04-29T10:10:56.703889Z",
     "iopub.status.busy": "2022-04-29T10:10:56.703671Z",
     "iopub.status.idle": "2022-04-29T10:10:57.301160Z",
     "shell.execute_reply": "2022-04-29T10:10:57.300387Z",
     "shell.execute_reply.started": "2022-04-29T10:10:56.703865Z"
    },
    "tags": []
   },
   "outputs": [
    {
     "data": {
      "text/html": [
       "<div>\n",
       "<style scoped>\n",
       "    .dataframe tbody tr th:only-of-type {\n",
       "        vertical-align: middle;\n",
       "    }\n",
       "\n",
       "    .dataframe tbody tr th {\n",
       "        vertical-align: top;\n",
       "    }\n",
       "\n",
       "    .dataframe thead th {\n",
       "        text-align: right;\n",
       "    }\n",
       "</style>\n",
       "<table border=\"1\" class=\"dataframe\">\n",
       "  <thead>\n",
       "    <tr style=\"text-align: right;\">\n",
       "      <th></th>\n",
       "      <th>Time</th>\n",
       "      <th>Points:0</th>\n",
       "      <th>Points:1</th>\n",
       "      <th>Points:2</th>\n",
       "      <th>U:0</th>\n",
       "      <th>U:1</th>\n",
       "      <th>U:2</th>\n",
       "      <th>p</th>\n",
       "    </tr>\n",
       "  </thead>\n",
       "  <tbody>\n",
       "    <tr>\n",
       "      <th>0</th>\n",
       "      <td>0.00004</td>\n",
       "      <td>0.023410</td>\n",
       "      <td>0.000500</td>\n",
       "      <td>0.415070</td>\n",
       "      <td>0.000000</td>\n",
       "      <td>0.000000</td>\n",
       "      <td>0.000</td>\n",
       "      <td>133.810</td>\n",
       "    </tr>\n",
       "    <tr>\n",
       "      <th>1</th>\n",
       "      <td>0.00004</td>\n",
       "      <td>0.020414</td>\n",
       "      <td>-0.000500</td>\n",
       "      <td>0.255010</td>\n",
       "      <td>0.000000</td>\n",
       "      <td>0.000000</td>\n",
       "      <td>0.000</td>\n",
       "      <td>382.260</td>\n",
       "    </tr>\n",
       "    <tr>\n",
       "      <th>2</th>\n",
       "      <td>0.00004</td>\n",
       "      <td>0.024436</td>\n",
       "      <td>0.000449</td>\n",
       "      <td>0.011233</td>\n",
       "      <td>-0.022317</td>\n",
       "      <td>-0.000197</td>\n",
       "      <td>17.772</td>\n",
       "      <td>762.260</td>\n",
       "    </tr>\n",
       "    <tr>\n",
       "      <th>3</th>\n",
       "      <td>0.00004</td>\n",
       "      <td>0.014274</td>\n",
       "      <td>-0.000449</td>\n",
       "      <td>0.419120</td>\n",
       "      <td>0.001344</td>\n",
       "      <td>-0.002953</td>\n",
       "      <td>17.661</td>\n",
       "      <td>127.700</td>\n",
       "    </tr>\n",
       "    <tr>\n",
       "      <th>4</th>\n",
       "      <td>0.00004</td>\n",
       "      <td>-0.011071</td>\n",
       "      <td>-0.000371</td>\n",
       "      <td>0.121100</td>\n",
       "      <td>-0.019496</td>\n",
       "      <td>-0.002143</td>\n",
       "      <td>20.441</td>\n",
       "      <td>591.670</td>\n",
       "    </tr>\n",
       "    <tr>\n",
       "      <th>...</th>\n",
       "      <td>...</td>\n",
       "      <td>...</td>\n",
       "      <td>...</td>\n",
       "      <td>...</td>\n",
       "      <td>...</td>\n",
       "      <td>...</td>\n",
       "      <td>...</td>\n",
       "      <td>...</td>\n",
       "    </tr>\n",
       "    <tr>\n",
       "      <th>984916</th>\n",
       "      <td>0.00004</td>\n",
       "      <td>0.017537</td>\n",
       "      <td>0.000371</td>\n",
       "      <td>0.268350</td>\n",
       "      <td>0.027584</td>\n",
       "      <td>-0.002228</td>\n",
       "      <td>20.377</td>\n",
       "      <td>361.710</td>\n",
       "    </tr>\n",
       "    <tr>\n",
       "      <th>984917</th>\n",
       "      <td>0.00004</td>\n",
       "      <td>0.027954</td>\n",
       "      <td>-0.000401</td>\n",
       "      <td>0.492970</td>\n",
       "      <td>-0.113740</td>\n",
       "      <td>0.027516</td>\n",
       "      <td>19.616</td>\n",
       "      <td>12.412</td>\n",
       "    </tr>\n",
       "    <tr>\n",
       "      <th>984918</th>\n",
       "      <td>0.00004</td>\n",
       "      <td>-0.002297</td>\n",
       "      <td>-0.000371</td>\n",
       "      <td>0.310220</td>\n",
       "      <td>-0.015338</td>\n",
       "      <td>0.017929</td>\n",
       "      <td>20.431</td>\n",
       "      <td>296.030</td>\n",
       "    </tr>\n",
       "    <tr>\n",
       "      <th>984919</th>\n",
       "      <td>0.00004</td>\n",
       "      <td>-0.012110</td>\n",
       "      <td>0.000449</td>\n",
       "      <td>0.287680</td>\n",
       "      <td>-0.031089</td>\n",
       "      <td>0.005600</td>\n",
       "      <td>17.710</td>\n",
       "      <td>331.210</td>\n",
       "    </tr>\n",
       "    <tr>\n",
       "      <th>984920</th>\n",
       "      <td>0.00004</td>\n",
       "      <td>-0.008773</td>\n",
       "      <td>-0.000371</td>\n",
       "      <td>0.422760</td>\n",
       "      <td>-0.003440</td>\n",
       "      <td>-0.000815</td>\n",
       "      <td>20.416</td>\n",
       "      <td>121.580</td>\n",
       "    </tr>\n",
       "  </tbody>\n",
       "</table>\n",
       "<p>984921 rows × 8 columns</p>\n",
       "</div>"
      ],
      "text/plain": [
       "           Time  Points:0  Points:1  Points:2       U:0       U:1     U:2  \\\n",
       "0       0.00004  0.023410  0.000500  0.415070  0.000000  0.000000   0.000   \n",
       "1       0.00004  0.020414 -0.000500  0.255010  0.000000  0.000000   0.000   \n",
       "2       0.00004  0.024436  0.000449  0.011233 -0.022317 -0.000197  17.772   \n",
       "3       0.00004  0.014274 -0.000449  0.419120  0.001344 -0.002953  17.661   \n",
       "4       0.00004 -0.011071 -0.000371  0.121100 -0.019496 -0.002143  20.441   \n",
       "...         ...       ...       ...       ...       ...       ...     ...   \n",
       "984916  0.00004  0.017537  0.000371  0.268350  0.027584 -0.002228  20.377   \n",
       "984917  0.00004  0.027954 -0.000401  0.492970 -0.113740  0.027516  19.616   \n",
       "984918  0.00004 -0.002297 -0.000371  0.310220 -0.015338  0.017929  20.431   \n",
       "984919  0.00004 -0.012110  0.000449  0.287680 -0.031089  0.005600  17.710   \n",
       "984920  0.00004 -0.008773 -0.000371  0.422760 -0.003440 -0.000815  20.416   \n",
       "\n",
       "              p  \n",
       "0       133.810  \n",
       "1       382.260  \n",
       "2       762.260  \n",
       "3       127.700  \n",
       "4       591.670  \n",
       "...         ...  \n",
       "984916  361.710  \n",
       "984917   12.412  \n",
       "984918  296.030  \n",
       "984919  331.210  \n",
       "984920  121.580  \n",
       "\n",
       "[984921 rows x 8 columns]"
      ]
     },
     "execution_count": 11,
     "metadata": {},
     "output_type": "execute_result"
    }
   ],
   "source": [
    "dfs_0 = pd.read_csv(str(data_paths[0]))\n",
    "dfs_0\n",
    "# p is related to diffusion rate of H2 through metal lattice"
   ]
  },
  {
   "cell_type": "markdown",
   "id": "d5fc4643-f13d-4377-9048-089610cf640b",
   "metadata": {},
   "source": [
    "5 snapshot is for training data"
   ]
  },
  {
   "cell_type": "markdown",
   "id": "602ac698-27ac-4e7d-8366-926958a1c8ce",
   "metadata": {},
   "source": [
    "We concat every `p` of the first 5 frames and try to predict the rest of the frames. Matrix is a long one, has the shape of `(m=5, n=272k)`\n",
    "$$\\begin{bmatrix} C_{1,1} & C_{1,2} & \\cdots & C_{1,n} \\\\ C_{2,1} & C_{2,2} & \\cdots & C_{2,n} \\\\ \\vdots & \\vdots & \\vdots & \\vdots \\\\ C_{m,1} & C_{m,2} & \\cdots & C_{m,n} \\end{bmatrix}$$"
   ]
  },
  {
   "cell_type": "code",
   "execution_count": 12,
   "id": "1cc6f1a2-3c7b-46f7-a0de-1509c782a0dc",
   "metadata": {
    "execution": {
     "iopub.execute_input": "2022-04-29T10:11:10.359260Z",
     "iopub.status.busy": "2022-04-29T10:11:10.358981Z",
     "iopub.status.idle": "2022-04-29T10:11:10.968441Z",
     "shell.execute_reply": "2022-04-29T10:11:10.967456Z",
     "shell.execute_reply.started": "2022-04-29T10:11:10.359232Z"
    },
    "tags": []
   },
   "outputs": [
    {
     "data": {
      "text/html": [
       "<div>\n",
       "<style scoped>\n",
       "    .dataframe tbody tr th:only-of-type {\n",
       "        vertical-align: middle;\n",
       "    }\n",
       "\n",
       "    .dataframe tbody tr th {\n",
       "        vertical-align: top;\n",
       "    }\n",
       "\n",
       "    .dataframe thead th {\n",
       "        text-align: right;\n",
       "    }\n",
       "</style>\n",
       "<table border=\"1\" class=\"dataframe\">\n",
       "  <thead>\n",
       "    <tr style=\"text-align: right;\">\n",
       "      <th></th>\n",
       "      <th>Time</th>\n",
       "      <th>Points:0</th>\n",
       "      <th>Points:1</th>\n",
       "      <th>Points:2</th>\n",
       "      <th>U:0</th>\n",
       "      <th>U:1</th>\n",
       "      <th>U:2</th>\n",
       "      <th>p</th>\n",
       "    </tr>\n",
       "  </thead>\n",
       "  <tbody>\n",
       "    <tr>\n",
       "      <th>0</th>\n",
       "      <td>0.0001</td>\n",
       "      <td>0.023410</td>\n",
       "      <td>0.000500</td>\n",
       "      <td>0.415070</td>\n",
       "      <td>0.000000</td>\n",
       "      <td>0.000000</td>\n",
       "      <td>0.000</td>\n",
       "      <td>88.5500</td>\n",
       "    </tr>\n",
       "    <tr>\n",
       "      <th>1</th>\n",
       "      <td>0.0001</td>\n",
       "      <td>0.020414</td>\n",
       "      <td>-0.000500</td>\n",
       "      <td>0.255010</td>\n",
       "      <td>0.000000</td>\n",
       "      <td>0.000000</td>\n",
       "      <td>0.000</td>\n",
       "      <td>255.1500</td>\n",
       "    </tr>\n",
       "    <tr>\n",
       "      <th>2</th>\n",
       "      <td>0.0001</td>\n",
       "      <td>0.024436</td>\n",
       "      <td>0.000449</td>\n",
       "      <td>0.011233</td>\n",
       "      <td>0.028363</td>\n",
       "      <td>0.002333</td>\n",
       "      <td>15.109</td>\n",
       "      <td>509.4300</td>\n",
       "    </tr>\n",
       "    <tr>\n",
       "      <th>3</th>\n",
       "      <td>0.0001</td>\n",
       "      <td>0.014274</td>\n",
       "      <td>-0.000449</td>\n",
       "      <td>0.419120</td>\n",
       "      <td>0.035358</td>\n",
       "      <td>-0.002790</td>\n",
       "      <td>15.068</td>\n",
       "      <td>84.3860</td>\n",
       "    </tr>\n",
       "    <tr>\n",
       "      <th>4</th>\n",
       "      <td>0.0001</td>\n",
       "      <td>-0.011071</td>\n",
       "      <td>-0.000371</td>\n",
       "      <td>0.121100</td>\n",
       "      <td>-0.069954</td>\n",
       "      <td>0.001703</td>\n",
       "      <td>20.613</td>\n",
       "      <td>395.1300</td>\n",
       "    </tr>\n",
       "    <tr>\n",
       "      <th>...</th>\n",
       "      <td>...</td>\n",
       "      <td>...</td>\n",
       "      <td>...</td>\n",
       "      <td>...</td>\n",
       "      <td>...</td>\n",
       "      <td>...</td>\n",
       "      <td>...</td>\n",
       "      <td>...</td>\n",
       "    </tr>\n",
       "    <tr>\n",
       "      <th>984916</th>\n",
       "      <td>0.0001</td>\n",
       "      <td>0.017537</td>\n",
       "      <td>0.000371</td>\n",
       "      <td>0.268350</td>\n",
       "      <td>0.004827</td>\n",
       "      <td>-0.005425</td>\n",
       "      <td>20.518</td>\n",
       "      <td>241.3000</td>\n",
       "    </tr>\n",
       "    <tr>\n",
       "      <th>984917</th>\n",
       "      <td>0.0001</td>\n",
       "      <td>0.027954</td>\n",
       "      <td>-0.000401</td>\n",
       "      <td>0.492970</td>\n",
       "      <td>-0.094353</td>\n",
       "      <td>0.043290</td>\n",
       "      <td>19.115</td>\n",
       "      <td>7.3247</td>\n",
       "    </tr>\n",
       "    <tr>\n",
       "      <th>984918</th>\n",
       "      <td>0.0001</td>\n",
       "      <td>-0.002297</td>\n",
       "      <td>-0.000371</td>\n",
       "      <td>0.310220</td>\n",
       "      <td>0.076176</td>\n",
       "      <td>0.012086</td>\n",
       "      <td>20.582</td>\n",
       "      <td>197.6300</td>\n",
       "    </tr>\n",
       "    <tr>\n",
       "      <th>984919</th>\n",
       "      <td>0.0001</td>\n",
       "      <td>-0.012110</td>\n",
       "      <td>0.000449</td>\n",
       "      <td>0.287680</td>\n",
       "      <td>-0.027800</td>\n",
       "      <td>0.004144</td>\n",
       "      <td>15.117</td>\n",
       "      <td>221.1700</td>\n",
       "    </tr>\n",
       "    <tr>\n",
       "      <th>984920</th>\n",
       "      <td>0.0001</td>\n",
       "      <td>-0.008773</td>\n",
       "      <td>-0.000371</td>\n",
       "      <td>0.422760</td>\n",
       "      <td>0.003607</td>\n",
       "      <td>-0.002286</td>\n",
       "      <td>20.552</td>\n",
       "      <td>80.6130</td>\n",
       "    </tr>\n",
       "  </tbody>\n",
       "</table>\n",
       "<p>984921 rows × 8 columns</p>\n",
       "</div>"
      ],
      "text/plain": [
       "          Time  Points:0  Points:1  Points:2       U:0       U:1     U:2  \\\n",
       "0       0.0001  0.023410  0.000500  0.415070  0.000000  0.000000   0.000   \n",
       "1       0.0001  0.020414 -0.000500  0.255010  0.000000  0.000000   0.000   \n",
       "2       0.0001  0.024436  0.000449  0.011233  0.028363  0.002333  15.109   \n",
       "3       0.0001  0.014274 -0.000449  0.419120  0.035358 -0.002790  15.068   \n",
       "4       0.0001 -0.011071 -0.000371  0.121100 -0.069954  0.001703  20.613   \n",
       "...        ...       ...       ...       ...       ...       ...     ...   \n",
       "984916  0.0001  0.017537  0.000371  0.268350  0.004827 -0.005425  20.518   \n",
       "984917  0.0001  0.027954 -0.000401  0.492970 -0.094353  0.043290  19.115   \n",
       "984918  0.0001 -0.002297 -0.000371  0.310220  0.076176  0.012086  20.582   \n",
       "984919  0.0001 -0.012110  0.000449  0.287680 -0.027800  0.004144  15.117   \n",
       "984920  0.0001 -0.008773 -0.000371  0.422760  0.003607 -0.002286  20.552   \n",
       "\n",
       "               p  \n",
       "0        88.5500  \n",
       "1       255.1500  \n",
       "2       509.4300  \n",
       "3        84.3860  \n",
       "4       395.1300  \n",
       "...          ...  \n",
       "984916  241.3000  \n",
       "984917    7.3247  \n",
       "984918  197.6300  \n",
       "984919  221.1700  \n",
       "984920   80.6130  \n",
       "\n",
       "[984921 rows x 8 columns]"
      ]
     },
     "execution_count": 12,
     "metadata": {},
     "output_type": "execute_result"
    }
   ],
   "source": [
    "dfs_1 = pd.read_csv(str(data_paths[1]))\n",
    "dfs_1"
   ]
  },
  {
   "cell_type": "code",
   "execution_count": 15,
   "id": "f79d93d0-1f70-4c7b-b5b5-9694ab2ba41a",
   "metadata": {
    "execution": {
     "iopub.execute_input": "2022-04-29T10:33:33.160805Z",
     "iopub.status.busy": "2022-04-29T10:33:33.160517Z",
     "iopub.status.idle": "2022-04-29T10:42:52.465346Z",
     "shell.execute_reply": "2022-04-29T10:42:52.464460Z",
     "shell.execute_reply.started": "2022-04-29T10:33:33.160776Z"
    },
    "tags": []
   },
   "outputs": [
    {
     "data": {
      "application/vnd.jupyter.widget-view+json": {
       "model_id": "0b2809f278f24548a241ffca486e3459",
       "version_major": 2,
       "version_minor": 0
      },
      "text/plain": [
       "  0%|          | 0/343 [00:00<?, ?it/s]"
      ]
     },
     "metadata": {},
     "output_type": "display_data"
    }
   ],
   "source": [
    "# the points position are the same in the same order in all frames\n",
    "p_data = dfs_0['p']\n",
    "\n",
    "for i in tqdm(range(1,NUM_FRAMES)):\n",
    "    _ = pd.read_csv(str(data_paths[i]))\n",
    "    pd.testing.assert_frame_equal(dfs_0[[\"Points:0\", \"Points:1\", \"Points:2\"]], _[[\"Points:0\", \"Points:1\", \"Points:2\"]])\n",
    "    p_data = pd.concat([p_data, _['p']], axis=1)"
   ]
  },
  {
   "cell_type": "markdown",
   "id": "1489d9e7-ff95-48b9-b150-119128904482",
   "metadata": {},
   "source": [
    "All points coordinates are the same accross time"
   ]
  },
  {
   "cell_type": "code",
   "execution_count": 16,
   "id": "90735a61-ff40-49c4-9475-65e5fc2be6af",
   "metadata": {
    "execution": {
     "iopub.execute_input": "2022-04-29T20:56:10.431176Z",
     "iopub.status.busy": "2022-04-29T20:56:10.427740Z",
     "iopub.status.idle": "2022-04-29T20:56:11.997618Z",
     "shell.execute_reply": "2022-04-29T20:56:11.994496Z",
     "shell.execute_reply.started": "2022-04-29T20:56:10.431098Z"
    },
    "tags": []
   },
   "outputs": [
    {
     "data": {
      "text/html": [
       "<div>\n",
       "<style scoped>\n",
       "    .dataframe tbody tr th:only-of-type {\n",
       "        vertical-align: middle;\n",
       "    }\n",
       "\n",
       "    .dataframe tbody tr th {\n",
       "        vertical-align: top;\n",
       "    }\n",
       "\n",
       "    .dataframe thead th {\n",
       "        text-align: right;\n",
       "    }\n",
       "</style>\n",
       "<table border=\"1\" class=\"dataframe\">\n",
       "  <thead>\n",
       "    <tr style=\"text-align: right;\">\n",
       "      <th></th>\n",
       "      <th>p</th>\n",
       "      <th>p</th>\n",
       "      <th>p</th>\n",
       "      <th>p</th>\n",
       "      <th>p</th>\n",
       "      <th>p</th>\n",
       "      <th>p</th>\n",
       "      <th>p</th>\n",
       "      <th>p</th>\n",
       "      <th>p</th>\n",
       "      <th>...</th>\n",
       "      <th>p</th>\n",
       "      <th>p</th>\n",
       "      <th>p</th>\n",
       "      <th>p</th>\n",
       "      <th>p</th>\n",
       "      <th>p</th>\n",
       "      <th>p</th>\n",
       "      <th>p</th>\n",
       "      <th>p</th>\n",
       "      <th>p</th>\n",
       "    </tr>\n",
       "  </thead>\n",
       "  <tbody>\n",
       "    <tr>\n",
       "      <th>0</th>\n",
       "      <td>133.810</td>\n",
       "      <td>88.5500</td>\n",
       "      <td>61.8800</td>\n",
       "      <td>51.3900</td>\n",
       "      <td>45.9870</td>\n",
       "      <td>42.6070</td>\n",
       "      <td>40.2300</td>\n",
       "      <td>38.5460</td>\n",
       "      <td>37.5610</td>\n",
       "      <td>37.3210</td>\n",
       "      <td>...</td>\n",
       "      <td>44.4830</td>\n",
       "      <td>44.483</td>\n",
       "      <td>44.4830</td>\n",
       "      <td>44.483</td>\n",
       "      <td>44.4830</td>\n",
       "      <td>44.4830</td>\n",
       "      <td>44.4830</td>\n",
       "      <td>44.4830</td>\n",
       "      <td>3.99910</td>\n",
       "      <td>44.4830</td>\n",
       "    </tr>\n",
       "    <tr>\n",
       "      <th>1</th>\n",
       "      <td>382.260</td>\n",
       "      <td>255.1500</td>\n",
       "      <td>178.1100</td>\n",
       "      <td>147.4700</td>\n",
       "      <td>131.7100</td>\n",
       "      <td>121.9100</td>\n",
       "      <td>115.1100</td>\n",
       "      <td>110.3800</td>\n",
       "      <td>107.6000</td>\n",
       "      <td>106.9200</td>\n",
       "      <td>...</td>\n",
       "      <td>127.3700</td>\n",
       "      <td>127.370</td>\n",
       "      <td>127.3700</td>\n",
       "      <td>127.370</td>\n",
       "      <td>127.3700</td>\n",
       "      <td>127.3700</td>\n",
       "      <td>127.3700</td>\n",
       "      <td>127.3700</td>\n",
       "      <td>11.45100</td>\n",
       "      <td>127.3700</td>\n",
       "    </tr>\n",
       "    <tr>\n",
       "      <th>2</th>\n",
       "      <td>762.260</td>\n",
       "      <td>509.4300</td>\n",
       "      <td>355.4600</td>\n",
       "      <td>294.0100</td>\n",
       "      <td>262.3800</td>\n",
       "      <td>242.8000</td>\n",
       "      <td>229.3800</td>\n",
       "      <td>220.1400</td>\n",
       "      <td>214.8200</td>\n",
       "      <td>213.5800</td>\n",
       "      <td>...</td>\n",
       "      <td>252.5600</td>\n",
       "      <td>252.560</td>\n",
       "      <td>252.5600</td>\n",
       "      <td>252.560</td>\n",
       "      <td>252.5600</td>\n",
       "      <td>252.5600</td>\n",
       "      <td>252.5600</td>\n",
       "      <td>252.5600</td>\n",
       "      <td>22.70500</td>\n",
       "      <td>252.5600</td>\n",
       "    </tr>\n",
       "    <tr>\n",
       "      <th>3</th>\n",
       "      <td>127.700</td>\n",
       "      <td>84.3860</td>\n",
       "      <td>58.9740</td>\n",
       "      <td>48.9890</td>\n",
       "      <td>43.8430</td>\n",
       "      <td>40.6190</td>\n",
       "      <td>38.3530</td>\n",
       "      <td>36.7510</td>\n",
       "      <td>35.8140</td>\n",
       "      <td>35.5890</td>\n",
       "      <td>...</td>\n",
       "      <td>42.4210</td>\n",
       "      <td>42.421</td>\n",
       "      <td>42.4210</td>\n",
       "      <td>42.421</td>\n",
       "      <td>42.4210</td>\n",
       "      <td>42.4210</td>\n",
       "      <td>42.4210</td>\n",
       "      <td>42.4210</td>\n",
       "      <td>3.81370</td>\n",
       "      <td>42.4210</td>\n",
       "    </tr>\n",
       "    <tr>\n",
       "      <th>4</th>\n",
       "      <td>591.670</td>\n",
       "      <td>395.1300</td>\n",
       "      <td>275.7700</td>\n",
       "      <td>228.2100</td>\n",
       "      <td>203.7300</td>\n",
       "      <td>188.5600</td>\n",
       "      <td>178.1100</td>\n",
       "      <td>170.8800</td>\n",
       "      <td>166.7100</td>\n",
       "      <td>165.7800</td>\n",
       "      <td>...</td>\n",
       "      <td>197.9200</td>\n",
       "      <td>197.920</td>\n",
       "      <td>197.9200</td>\n",
       "      <td>197.920</td>\n",
       "      <td>197.9200</td>\n",
       "      <td>197.9200</td>\n",
       "      <td>197.9200</td>\n",
       "      <td>197.9200</td>\n",
       "      <td>17.79300</td>\n",
       "      <td>197.9200</td>\n",
       "    </tr>\n",
       "    <tr>\n",
       "      <th>...</th>\n",
       "      <td>...</td>\n",
       "      <td>...</td>\n",
       "      <td>...</td>\n",
       "      <td>...</td>\n",
       "      <td>...</td>\n",
       "      <td>...</td>\n",
       "      <td>...</td>\n",
       "      <td>...</td>\n",
       "      <td>...</td>\n",
       "      <td>...</td>\n",
       "      <td>...</td>\n",
       "      <td>...</td>\n",
       "      <td>...</td>\n",
       "      <td>...</td>\n",
       "      <td>...</td>\n",
       "      <td>...</td>\n",
       "      <td>...</td>\n",
       "      <td>...</td>\n",
       "      <td>...</td>\n",
       "      <td>...</td>\n",
       "      <td>...</td>\n",
       "    </tr>\n",
       "    <tr>\n",
       "      <th>984916</th>\n",
       "      <td>361.710</td>\n",
       "      <td>241.3000</td>\n",
       "      <td>168.4500</td>\n",
       "      <td>139.4700</td>\n",
       "      <td>124.5600</td>\n",
       "      <td>115.2800</td>\n",
       "      <td>108.8500</td>\n",
       "      <td>104.3800</td>\n",
       "      <td>101.7700</td>\n",
       "      <td>101.1300</td>\n",
       "      <td>...</td>\n",
       "      <td>120.3600</td>\n",
       "      <td>120.360</td>\n",
       "      <td>120.3600</td>\n",
       "      <td>120.360</td>\n",
       "      <td>120.3600</td>\n",
       "      <td>120.3600</td>\n",
       "      <td>120.3600</td>\n",
       "      <td>120.3600</td>\n",
       "      <td>10.82000</td>\n",
       "      <td>120.3600</td>\n",
       "    </tr>\n",
       "    <tr>\n",
       "      <th>984917</th>\n",
       "      <td>12.412</td>\n",
       "      <td>7.3247</td>\n",
       "      <td>5.2495</td>\n",
       "      <td>4.5522</td>\n",
       "      <td>4.1665</td>\n",
       "      <td>3.8946</td>\n",
       "      <td>3.6573</td>\n",
       "      <td>3.4477</td>\n",
       "      <td>3.3057</td>\n",
       "      <td>3.2698</td>\n",
       "      <td>...</td>\n",
       "      <td>4.0471</td>\n",
       "      <td>4.047</td>\n",
       "      <td>4.0471</td>\n",
       "      <td>4.047</td>\n",
       "      <td>4.0471</td>\n",
       "      <td>4.0471</td>\n",
       "      <td>4.0471</td>\n",
       "      <td>4.0472</td>\n",
       "      <td>0.36383</td>\n",
       "      <td>4.0471</td>\n",
       "    </tr>\n",
       "    <tr>\n",
       "      <th>984918</th>\n",
       "      <td>296.030</td>\n",
       "      <td>197.6300</td>\n",
       "      <td>138.0000</td>\n",
       "      <td>114.3200</td>\n",
       "      <td>102.1300</td>\n",
       "      <td>94.5450</td>\n",
       "      <td>89.2740</td>\n",
       "      <td>85.5920</td>\n",
       "      <td>83.4400</td>\n",
       "      <td>82.9110</td>\n",
       "      <td>...</td>\n",
       "      <td>98.7990</td>\n",
       "      <td>98.799</td>\n",
       "      <td>98.7990</td>\n",
       "      <td>98.799</td>\n",
       "      <td>98.7990</td>\n",
       "      <td>98.7990</td>\n",
       "      <td>98.7990</td>\n",
       "      <td>98.7990</td>\n",
       "      <td>8.88200</td>\n",
       "      <td>98.7990</td>\n",
       "    </tr>\n",
       "    <tr>\n",
       "      <th>984919</th>\n",
       "      <td>331.210</td>\n",
       "      <td>221.1700</td>\n",
       "      <td>154.4100</td>\n",
       "      <td>127.8700</td>\n",
       "      <td>114.2100</td>\n",
       "      <td>105.7100</td>\n",
       "      <td>99.8210</td>\n",
       "      <td>95.7150</td>\n",
       "      <td>93.3240</td>\n",
       "      <td>92.7450</td>\n",
       "      <td>...</td>\n",
       "      <td>110.4700</td>\n",
       "      <td>110.470</td>\n",
       "      <td>110.4700</td>\n",
       "      <td>110.470</td>\n",
       "      <td>110.4700</td>\n",
       "      <td>110.4700</td>\n",
       "      <td>110.4700</td>\n",
       "      <td>110.4700</td>\n",
       "      <td>9.93150</td>\n",
       "      <td>110.4700</td>\n",
       "    </tr>\n",
       "    <tr>\n",
       "      <th>984920</th>\n",
       "      <td>121.580</td>\n",
       "      <td>80.6130</td>\n",
       "      <td>56.3550</td>\n",
       "      <td>46.8290</td>\n",
       "      <td>41.9230</td>\n",
       "      <td>38.8460</td>\n",
       "      <td>36.6810</td>\n",
       "      <td>35.1490</td>\n",
       "      <td>34.2550</td>\n",
       "      <td>34.0450</td>\n",
       "      <td>...</td>\n",
       "      <td>40.5920</td>\n",
       "      <td>40.592</td>\n",
       "      <td>40.5920</td>\n",
       "      <td>40.592</td>\n",
       "      <td>40.5920</td>\n",
       "      <td>40.5920</td>\n",
       "      <td>40.5920</td>\n",
       "      <td>40.5920</td>\n",
       "      <td>3.64920</td>\n",
       "      <td>40.5920</td>\n",
       "    </tr>\n",
       "  </tbody>\n",
       "</table>\n",
       "<p>984921 rows × 344 columns</p>\n",
       "</div>"
      ],
      "text/plain": [
       "              p         p         p         p         p         p         p  \\\n",
       "0       133.810   88.5500   61.8800   51.3900   45.9870   42.6070   40.2300   \n",
       "1       382.260  255.1500  178.1100  147.4700  131.7100  121.9100  115.1100   \n",
       "2       762.260  509.4300  355.4600  294.0100  262.3800  242.8000  229.3800   \n",
       "3       127.700   84.3860   58.9740   48.9890   43.8430   40.6190   38.3530   \n",
       "4       591.670  395.1300  275.7700  228.2100  203.7300  188.5600  178.1100   \n",
       "...         ...       ...       ...       ...       ...       ...       ...   \n",
       "984916  361.710  241.3000  168.4500  139.4700  124.5600  115.2800  108.8500   \n",
       "984917   12.412    7.3247    5.2495    4.5522    4.1665    3.8946    3.6573   \n",
       "984918  296.030  197.6300  138.0000  114.3200  102.1300   94.5450   89.2740   \n",
       "984919  331.210  221.1700  154.4100  127.8700  114.2100  105.7100   99.8210   \n",
       "984920  121.580   80.6130   56.3550   46.8290   41.9230   38.8460   36.6810   \n",
       "\n",
       "               p         p         p  ...         p        p         p  \\\n",
       "0        38.5460   37.5610   37.3210  ...   44.4830   44.483   44.4830   \n",
       "1       110.3800  107.6000  106.9200  ...  127.3700  127.370  127.3700   \n",
       "2       220.1400  214.8200  213.5800  ...  252.5600  252.560  252.5600   \n",
       "3        36.7510   35.8140   35.5890  ...   42.4210   42.421   42.4210   \n",
       "4       170.8800  166.7100  165.7800  ...  197.9200  197.920  197.9200   \n",
       "...          ...       ...       ...  ...       ...      ...       ...   \n",
       "984916  104.3800  101.7700  101.1300  ...  120.3600  120.360  120.3600   \n",
       "984917    3.4477    3.3057    3.2698  ...    4.0471    4.047    4.0471   \n",
       "984918   85.5920   83.4400   82.9110  ...   98.7990   98.799   98.7990   \n",
       "984919   95.7150   93.3240   92.7450  ...  110.4700  110.470  110.4700   \n",
       "984920   35.1490   34.2550   34.0450  ...   40.5920   40.592   40.5920   \n",
       "\n",
       "              p         p         p         p         p         p         p  \n",
       "0        44.483   44.4830   44.4830   44.4830   44.4830   3.99910   44.4830  \n",
       "1       127.370  127.3700  127.3700  127.3700  127.3700  11.45100  127.3700  \n",
       "2       252.560  252.5600  252.5600  252.5600  252.5600  22.70500  252.5600  \n",
       "3        42.421   42.4210   42.4210   42.4210   42.4210   3.81370   42.4210  \n",
       "4       197.920  197.9200  197.9200  197.9200  197.9200  17.79300  197.9200  \n",
       "...         ...       ...       ...       ...       ...       ...       ...  \n",
       "984916  120.360  120.3600  120.3600  120.3600  120.3600  10.82000  120.3600  \n",
       "984917    4.047    4.0471    4.0471    4.0471    4.0472   0.36383    4.0471  \n",
       "984918   98.799   98.7990   98.7990   98.7990   98.7990   8.88200   98.7990  \n",
       "984919  110.470  110.4700  110.4700  110.4700  110.4700   9.93150  110.4700  \n",
       "984920   40.592   40.5920   40.5920   40.5920   40.5920   3.64920   40.5920  \n",
       "\n",
       "[984921 rows x 344 columns]"
      ]
     },
     "execution_count": 16,
     "metadata": {},
     "output_type": "execute_result"
    }
   ],
   "source": [
    "p_data"
   ]
  },
  {
   "cell_type": "code",
   "execution_count": 45,
   "id": "d4650d37-eb40-42bf-86bc-010efd980ad1",
   "metadata": {
    "execution": {
     "iopub.execute_input": "2022-04-29T21:38:02.913957Z",
     "iopub.status.busy": "2022-04-29T21:38:02.913603Z",
     "iopub.status.idle": "2022-04-29T21:38:02.924945Z",
     "shell.execute_reply": "2022-04-29T21:38:02.922711Z",
     "shell.execute_reply.started": "2022-04-29T21:38:02.913917Z"
    },
    "tags": []
   },
   "outputs": [],
   "source": [
    "train_index = int(p_data.shape[1] * .5)\n",
    "val_index = train_index + int(p_data.shape[1] * .1)"
   ]
  },
  {
   "cell_type": "code",
   "execution_count": 29,
   "id": "719828f3-2336-49e5-9a35-38c637ec41a1",
   "metadata": {
    "execution": {
     "iopub.execute_input": "2022-04-29T21:10:08.922884Z",
     "iopub.status.busy": "2022-04-29T21:10:08.922406Z",
     "iopub.status.idle": "2022-04-29T21:10:08.931093Z",
     "shell.execute_reply": "2022-04-29T21:10:08.930019Z",
     "shell.execute_reply.started": "2022-04-29T21:10:08.922820Z"
    },
    "tags": []
   },
   "outputs": [],
   "source": [
    "p_values = p_data.values"
   ]
  },
  {
   "cell_type": "code",
   "execution_count": 46,
   "id": "d5e71377-f8cf-49eb-b812-7c67b4796aa4",
   "metadata": {
    "execution": {
     "iopub.execute_input": "2022-04-29T21:38:05.234418Z",
     "iopub.status.busy": "2022-04-29T21:38:05.234029Z",
     "iopub.status.idle": "2022-04-29T21:38:05.241821Z",
     "shell.execute_reply": "2022-04-29T21:38:05.240328Z",
     "shell.execute_reply.started": "2022-04-29T21:38:05.234377Z"
    },
    "tags": []
   },
   "outputs": [],
   "source": [
    "train_data = p_values[:,:train_index]\n",
    "val_data = p_values[:,train_index:val_index]\n",
    "test_data = p_values[:,val_index:]"
   ]
  },
  {
   "cell_type": "code",
   "execution_count": 47,
   "id": "639cb453-07cd-4436-b8f6-2d17a7243f15",
   "metadata": {
    "execution": {
     "iopub.execute_input": "2022-04-29T21:38:07.182935Z",
     "iopub.status.busy": "2022-04-29T21:38:07.182467Z",
     "iopub.status.idle": "2022-04-29T21:38:07.192398Z",
     "shell.execute_reply": "2022-04-29T21:38:07.190825Z",
     "shell.execute_reply.started": "2022-04-29T21:38:07.182891Z"
    },
    "tags": []
   },
   "outputs": [
    {
     "data": {
      "text/plain": [
       "(984921, 172)"
      ]
     },
     "execution_count": 47,
     "metadata": {},
     "output_type": "execute_result"
    }
   ],
   "source": [
    "train_data.shape"
   ]
  },
  {
   "cell_type": "code",
   "execution_count": 48,
   "id": "5ccbb790-d94d-4292-a45c-581f5de26b00",
   "metadata": {
    "execution": {
     "iopub.execute_input": "2022-04-29T21:38:19.709089Z",
     "iopub.status.busy": "2022-04-29T21:38:19.707512Z",
     "iopub.status.idle": "2022-04-29T21:38:19.738015Z",
     "shell.execute_reply": "2022-04-29T21:38:19.736787Z",
     "shell.execute_reply.started": "2022-04-29T21:38:19.709033Z"
    },
    "tags": []
   },
   "outputs": [
    {
     "data": {
      "text/plain": [
       "(984921, 34)"
      ]
     },
     "execution_count": 48,
     "metadata": {},
     "output_type": "execute_result"
    }
   ],
   "source": [
    "val_data.shape"
   ]
  },
  {
   "cell_type": "code",
   "execution_count": 49,
   "id": "b9a0d046-55bb-4a41-9737-ea949a2a24df",
   "metadata": {
    "execution": {
     "iopub.execute_input": "2022-04-29T21:38:27.886674Z",
     "iopub.status.busy": "2022-04-29T21:38:27.886347Z",
     "iopub.status.idle": "2022-04-29T21:38:27.894511Z",
     "shell.execute_reply": "2022-04-29T21:38:27.892843Z",
     "shell.execute_reply.started": "2022-04-29T21:38:27.886639Z"
    },
    "tags": []
   },
   "outputs": [
    {
     "data": {
      "text/plain": [
       "(984921, 138)"
      ]
     },
     "execution_count": 49,
     "metadata": {},
     "output_type": "execute_result"
    }
   ],
   "source": [
    "test_data.shape"
   ]
  },
  {
   "cell_type": "code",
   "execution_count": 50,
   "id": "454f5411-749f-4425-82f3-0378e6f29bf0",
   "metadata": {
    "execution": {
     "iopub.execute_input": "2022-04-29T21:38:48.091891Z",
     "iopub.status.busy": "2022-04-29T21:38:48.091589Z",
     "iopub.status.idle": "2022-04-29T21:38:48.099610Z",
     "shell.execute_reply": "2022-04-29T21:38:48.098630Z",
     "shell.execute_reply.started": "2022-04-29T21:38:48.091852Z"
    },
    "tags": []
   },
   "outputs": [
    {
     "data": {
      "text/plain": [
       "array([[ 44.483 ,  44.483 ,  44.483 , ...,  44.483 ,   3.9991,  44.483 ],\n",
       "       [127.37  , 127.37  , 127.37  , ..., 127.37  ,  11.451 , 127.37  ],\n",
       "       [252.56  , 252.56  , 252.56  , ..., 252.56  ,  22.705 , 252.56  ],\n",
       "       ...,\n",
       "       [ 98.799 ,  98.799 ,  98.799 , ...,  98.799 ,   8.882 ,  98.799 ],\n",
       "       [110.47  , 110.47  , 110.47  , ..., 110.47  ,   9.9315, 110.47  ],\n",
       "       [ 40.592 ,  40.592 ,  40.592 , ...,  40.592 ,   3.6492,  40.592 ]])"
      ]
     },
     "execution_count": 50,
     "metadata": {},
     "output_type": "execute_result"
    }
   ],
   "source": [
    "test_data"
   ]
  },
  {
   "cell_type": "code",
   "execution_count": 51,
   "id": "dd3bfdbf-2c7a-4fb3-9d74-56c6256478b6",
   "metadata": {
    "execution": {
     "iopub.execute_input": "2022-04-29T21:38:58.041987Z",
     "iopub.status.busy": "2022-04-29T21:38:58.041747Z",
     "iopub.status.idle": "2022-04-29T21:38:58.049591Z",
     "shell.execute_reply": "2022-04-29T21:38:58.048589Z",
     "shell.execute_reply.started": "2022-04-29T21:38:58.041960Z"
    },
    "tags": []
   },
   "outputs": [
    {
     "data": {
      "text/plain": [
       "array([[133.81 ,  88.55 ,  61.88 , ...,  44.483,  44.483,  44.483],\n",
       "       [382.26 , 255.15 , 178.11 , ..., 127.37 , 127.37 , 127.37 ],\n",
       "       [762.26 , 509.43 , 355.46 , ..., 252.56 , 252.56 , 252.56 ],\n",
       "       ...,\n",
       "       [296.03 , 197.63 , 138.   , ...,  98.799,  98.799,  98.799],\n",
       "       [331.21 , 221.17 , 154.41 , ..., 110.47 , 110.47 , 110.47 ],\n",
       "       [121.58 ,  80.613,  56.355, ...,  40.592,  40.592,  40.592]])"
      ]
     },
     "execution_count": 51,
     "metadata": {},
     "output_type": "execute_result"
    }
   ],
   "source": [
    "train_data"
   ]
  },
  {
   "cell_type": "code",
   "execution_count": 53,
   "id": "9b9f897f-62b6-4950-b370-6b0f64787754",
   "metadata": {
    "execution": {
     "iopub.execute_input": "2022-04-29T21:40:07.309810Z",
     "iopub.status.busy": "2022-04-29T21:40:07.309580Z",
     "iopub.status.idle": "2022-04-29T21:40:13.826789Z",
     "shell.execute_reply": "2022-04-29T21:40:13.826127Z",
     "shell.execute_reply.started": "2022-04-29T21:40:07.309785Z"
    },
    "tags": []
   },
   "outputs": [],
   "source": [
    "import pickle\n",
    "\n",
    "with open('train_data.pkl', 'wb') as f:\n",
    "    pickle.dump(train_data, f)"
   ]
  },
  {
   "cell_type": "code",
   "execution_count": 54,
   "id": "7a1ec986-49a8-4150-8356-a3c1ec797ac4",
   "metadata": {
    "execution": {
     "iopub.execute_input": "2022-04-29T21:40:57.350128Z",
     "iopub.status.busy": "2022-04-29T21:40:57.349809Z",
     "iopub.status.idle": "2022-04-29T21:41:02.801754Z",
     "shell.execute_reply": "2022-04-29T21:41:02.800992Z",
     "shell.execute_reply.started": "2022-04-29T21:40:57.350092Z"
    },
    "tags": []
   },
   "outputs": [],
   "source": [
    "with open('val_data.pkl', 'wb') as f:\n",
    "    pickle.dump(val_data, f)\n",
    "with open('test_data.pkl', 'wb') as f:\n",
    "    pickle.dump(test_data, f)"
   ]
  }
 ],
 "metadata": {
  "kernelspec": {
   "display_name": "Python 3",
   "language": "python",
   "name": "python3"
  },
  "language_info": {
   "codemirror_mode": {
    "name": "ipython",
    "version": 3
   },
   "file_extension": ".py",
   "mimetype": "text/x-python",
   "name": "python",
   "nbconvert_exporter": "python",
   "pygments_lexer": "ipython3",
   "version": "3.7.9"
  }
 },
 "nbformat": 4,
 "nbformat_minor": 5
}
